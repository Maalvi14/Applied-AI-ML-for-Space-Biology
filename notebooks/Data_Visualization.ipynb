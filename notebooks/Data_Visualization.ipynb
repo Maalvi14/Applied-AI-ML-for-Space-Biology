{
  "nbformat": 4,
  "nbformat_minor": 0,
  "metadata": {
    "colab": {
      "provenance": []
    },
    "kernelspec": {
      "name": "python3",
      "display_name": "Python 3"
    },
    "language_info": {
      "name": "python"
    }
  },
  "cells": [
    {
      "cell_type": "markdown",
      "source": [
        "#  Introduction to Data Visualization with Python\n",
        "\n",
        "Welcome to the \"Introduction to Data Visualization with Python\" notebook! In this notebook, we will learn how to visualize biological data in Python to help us understand the underlying patterns in the data.\n",
        "\n",
        "> NOTE: there are many different data formats used in biological sciences. This notebook focuses on tabular or matrix data because many biological datasets are analyzed as a table of numerical values.\n",
        "\n",
        "In addition to this notebook, we recommend that you check out the [Data Visualization Platform](https://visualization.genelab.nasa.gov/data/) available through the NASA Open Science Data Repository (OSDR). This platform automates many of the visualizations that we are going to learn in this notebook, and allows users to create visualizations using one or several RNA sequencing datasets from OSDR. As a first step, try visualizing *OSD-255*, the RNA sequencing dataset we'll be visualizing in this notebook.\n",
        "\n",
        "***Before starting this notebook, make a local copy in your Google Drive by selecting File > Save a Copy in Drive.***\n"
      ],
      "metadata": {
        "id": "Zam4fs3VzddG"
      }
    },
    {
      "cell_type": "markdown",
      "source": [
        "## Data Loading and Basic Exploration\n",
        "\n",
        "Before we can visualize and analyze our biological data, we need to load it into our working environment and take a look at its basic structure. This initial step includes loading the data from a source, checking for missing values, and understanding the basic statistics of the data. This will help us to get a sense of what our data looks like and prepare it for further analysis and visualization."
      ],
      "metadata": {
        "id": "ZtxMzn0k1H_Y"
      }
    },
    {
      "cell_type": "markdown",
      "source": [
        "**Let's load a CSV file of scientific RNA sequencing data from the [NASA Open Science Data Repository (OSDR)](https://osdr.nasa.gov/bio/).** This data was collected from the retinas of mice that were flown on the [Rodent Research 9 (RR9)](https://www.nasa.gov/ames/space-biosciences/rodent-research-9-spacex-12/) mission to the International Space Station. As a reminder, the RR9 mission flew several NASA experiments to the International Space Station in order to assess the effects of microgravity on different biological systems.\n",
        "\n",
        "We will use the OSDR API to access the file programmatically. More information on the OSDR API can be found [here](https://genelab.nasa.gov/genelabAPIs)."
      ],
      "metadata": {
        "id": "YTDYzDq406Oe"
      }
    },
    {
      "cell_type": "code",
      "source": [
        "import pandas as pd\n",
        "import matplotlib.pyplot as plt\n",
        "import seaborn as sns"
      ],
      "metadata": {
        "id": "nFmmFZaXRodi"
      },
      "execution_count": null,
      "outputs": []
    },
    {
      "cell_type": "markdown",
      "source": [
        "First, let's use Pandas, a powerful library for data manipulation, to read in the data into a `dataframe` using the Pandas `read_csv()`.\n",
        "\n",
        "We can then use `df.head()` to display the first few rows of the data."
      ],
      "metadata": {
        "id": "DwnWmv17hb6e"
      }
    },
    {
      "cell_type": "code",
      "source": [
        "# Read in the RNA sequencing CSV file into a pandas DataFrame\n",
        "df = pd.read_csv('https://osdr.nasa.gov/geode-py/ws/studies/OSD-255/download?source=datamanager&file=GLDS-255_rna_seq_Normalized_Counts.csv', index_col=0)\n",
        "\n",
        "# Print the first 5 rows of the DataFrame\n",
        "df.head()"
      ],
      "metadata": {
        "colab": {
          "base_uri": "https://localhost:8080/",
          "height": 226
        },
        "id": "3t-ZHf7oz10A",
        "outputId": "7d43cfe6-ef83-4448-d56e-fc3c0d209799"
      },
      "execution_count": null,
      "outputs": [
        {
          "output_type": "execute_result",
          "data": {
            "text/plain": [
              "                    GSM3932693  GSM3932694  GSM3932695  GSM3932696  \\\n",
              "ENSMUSG00000000001  265.491507  272.529585  264.891134  245.804042   \n",
              "ENSMUSG00000000028   22.737528   36.058646   30.659868   33.307123   \n",
              "ENSMUSG00000000031    5.574720    1.925595    2.899933   21.047427   \n",
              "ENSMUSG00000000037   14.601777   17.493816   16.577920   32.447456   \n",
              "ENSMUSG00000000049    3.107115    2.176549    0.642689    4.486992   \n",
              "\n",
              "                    GSM3932697  GSM3932698  GSM3932699  GSM3932700  \\\n",
              "ENSMUSG00000000001  205.478969  244.866957  250.587443  232.249604   \n",
              "ENSMUSG00000000028   11.896920   27.231801   21.727401   30.940275   \n",
              "ENSMUSG00000000031    0.000000    3.063051    7.105655    6.710188   \n",
              "ENSMUSG00000000037   12.940934   13.678983    9.358027   15.476949   \n",
              "ENSMUSG00000000049    0.895108    3.846941    2.640744    0.000000   \n",
              "\n",
              "                    GSM3932701  GSM3932702  GSM3932703  GSM3932704  \\\n",
              "ENSMUSG00000000001  241.739792  240.866309  278.344274  266.781019   \n",
              "ENSMUSG00000000028   34.840848   36.468997   29.993641   28.377921   \n",
              "ENSMUSG00000000031    3.266199    6.700680    1.852027    1.308210   \n",
              "ENSMUSG00000000037   25.085866   13.506677   24.809501   13.731740   \n",
              "ENSMUSG00000000049    0.000000    1.243833    0.000000    0.000000   \n",
              "\n",
              "                    GSM3932705  GSM3932706  GSM3932707  GSM3932708  \n",
              "ENSMUSG00000000001  238.447580  239.632932  242.777557  257.121918  \n",
              "ENSMUSG00000000028   19.433721   18.704883   26.226110   47.521611  \n",
              "ENSMUSG00000000031    2.248341    5.816845    2.041330    1.478741  \n",
              "ENSMUSG00000000037   21.564524   17.626982   28.873796   13.556234  \n",
              "ENSMUSG00000000049    1.676701    1.345919    0.769123    0.684388  "
            ],
            "text/html": [
              "\n",
              "  <div id=\"df-a2dedf49-af89-441c-94e6-c12239387e7e\" class=\"colab-df-container\">\n",
              "    <div>\n",
              "<style scoped>\n",
              "    .dataframe tbody tr th:only-of-type {\n",
              "        vertical-align: middle;\n",
              "    }\n",
              "\n",
              "    .dataframe tbody tr th {\n",
              "        vertical-align: top;\n",
              "    }\n",
              "\n",
              "    .dataframe thead th {\n",
              "        text-align: right;\n",
              "    }\n",
              "</style>\n",
              "<table border=\"1\" class=\"dataframe\">\n",
              "  <thead>\n",
              "    <tr style=\"text-align: right;\">\n",
              "      <th></th>\n",
              "      <th>GSM3932693</th>\n",
              "      <th>GSM3932694</th>\n",
              "      <th>GSM3932695</th>\n",
              "      <th>GSM3932696</th>\n",
              "      <th>GSM3932697</th>\n",
              "      <th>GSM3932698</th>\n",
              "      <th>GSM3932699</th>\n",
              "      <th>GSM3932700</th>\n",
              "      <th>GSM3932701</th>\n",
              "      <th>GSM3932702</th>\n",
              "      <th>GSM3932703</th>\n",
              "      <th>GSM3932704</th>\n",
              "      <th>GSM3932705</th>\n",
              "      <th>GSM3932706</th>\n",
              "      <th>GSM3932707</th>\n",
              "      <th>GSM3932708</th>\n",
              "    </tr>\n",
              "  </thead>\n",
              "  <tbody>\n",
              "    <tr>\n",
              "      <th>ENSMUSG00000000001</th>\n",
              "      <td>265.491507</td>\n",
              "      <td>272.529585</td>\n",
              "      <td>264.891134</td>\n",
              "      <td>245.804042</td>\n",
              "      <td>205.478969</td>\n",
              "      <td>244.866957</td>\n",
              "      <td>250.587443</td>\n",
              "      <td>232.249604</td>\n",
              "      <td>241.739792</td>\n",
              "      <td>240.866309</td>\n",
              "      <td>278.344274</td>\n",
              "      <td>266.781019</td>\n",
              "      <td>238.447580</td>\n",
              "      <td>239.632932</td>\n",
              "      <td>242.777557</td>\n",
              "      <td>257.121918</td>\n",
              "    </tr>\n",
              "    <tr>\n",
              "      <th>ENSMUSG00000000028</th>\n",
              "      <td>22.737528</td>\n",
              "      <td>36.058646</td>\n",
              "      <td>30.659868</td>\n",
              "      <td>33.307123</td>\n",
              "      <td>11.896920</td>\n",
              "      <td>27.231801</td>\n",
              "      <td>21.727401</td>\n",
              "      <td>30.940275</td>\n",
              "      <td>34.840848</td>\n",
              "      <td>36.468997</td>\n",
              "      <td>29.993641</td>\n",
              "      <td>28.377921</td>\n",
              "      <td>19.433721</td>\n",
              "      <td>18.704883</td>\n",
              "      <td>26.226110</td>\n",
              "      <td>47.521611</td>\n",
              "    </tr>\n",
              "    <tr>\n",
              "      <th>ENSMUSG00000000031</th>\n",
              "      <td>5.574720</td>\n",
              "      <td>1.925595</td>\n",
              "      <td>2.899933</td>\n",
              "      <td>21.047427</td>\n",
              "      <td>0.000000</td>\n",
              "      <td>3.063051</td>\n",
              "      <td>7.105655</td>\n",
              "      <td>6.710188</td>\n",
              "      <td>3.266199</td>\n",
              "      <td>6.700680</td>\n",
              "      <td>1.852027</td>\n",
              "      <td>1.308210</td>\n",
              "      <td>2.248341</td>\n",
              "      <td>5.816845</td>\n",
              "      <td>2.041330</td>\n",
              "      <td>1.478741</td>\n",
              "    </tr>\n",
              "    <tr>\n",
              "      <th>ENSMUSG00000000037</th>\n",
              "      <td>14.601777</td>\n",
              "      <td>17.493816</td>\n",
              "      <td>16.577920</td>\n",
              "      <td>32.447456</td>\n",
              "      <td>12.940934</td>\n",
              "      <td>13.678983</td>\n",
              "      <td>9.358027</td>\n",
              "      <td>15.476949</td>\n",
              "      <td>25.085866</td>\n",
              "      <td>13.506677</td>\n",
              "      <td>24.809501</td>\n",
              "      <td>13.731740</td>\n",
              "      <td>21.564524</td>\n",
              "      <td>17.626982</td>\n",
              "      <td>28.873796</td>\n",
              "      <td>13.556234</td>\n",
              "    </tr>\n",
              "    <tr>\n",
              "      <th>ENSMUSG00000000049</th>\n",
              "      <td>3.107115</td>\n",
              "      <td>2.176549</td>\n",
              "      <td>0.642689</td>\n",
              "      <td>4.486992</td>\n",
              "      <td>0.895108</td>\n",
              "      <td>3.846941</td>\n",
              "      <td>2.640744</td>\n",
              "      <td>0.000000</td>\n",
              "      <td>0.000000</td>\n",
              "      <td>1.243833</td>\n",
              "      <td>0.000000</td>\n",
              "      <td>0.000000</td>\n",
              "      <td>1.676701</td>\n",
              "      <td>1.345919</td>\n",
              "      <td>0.769123</td>\n",
              "      <td>0.684388</td>\n",
              "    </tr>\n",
              "  </tbody>\n",
              "</table>\n",
              "</div>\n",
              "    <div class=\"colab-df-buttons\">\n",
              "\n",
              "  <div class=\"colab-df-container\">\n",
              "    <button class=\"colab-df-convert\" onclick=\"convertToInteractive('df-a2dedf49-af89-441c-94e6-c12239387e7e')\"\n",
              "            title=\"Convert this dataframe to an interactive table.\"\n",
              "            style=\"display:none;\">\n",
              "\n",
              "  <svg xmlns=\"http://www.w3.org/2000/svg\" height=\"24px\" viewBox=\"0 -960 960 960\">\n",
              "    <path d=\"M120-120v-720h720v720H120Zm60-500h600v-160H180v160Zm220 220h160v-160H400v160Zm0 220h160v-160H400v160ZM180-400h160v-160H180v160Zm440 0h160v-160H620v160ZM180-180h160v-160H180v160Zm440 0h160v-160H620v160Z\"/>\n",
              "  </svg>\n",
              "    </button>\n",
              "\n",
              "  <style>\n",
              "    .colab-df-container {\n",
              "      display:flex;\n",
              "      gap: 12px;\n",
              "    }\n",
              "\n",
              "    .colab-df-convert {\n",
              "      background-color: #E8F0FE;\n",
              "      border: none;\n",
              "      border-radius: 50%;\n",
              "      cursor: pointer;\n",
              "      display: none;\n",
              "      fill: #1967D2;\n",
              "      height: 32px;\n",
              "      padding: 0 0 0 0;\n",
              "      width: 32px;\n",
              "    }\n",
              "\n",
              "    .colab-df-convert:hover {\n",
              "      background-color: #E2EBFA;\n",
              "      box-shadow: 0px 1px 2px rgba(60, 64, 67, 0.3), 0px 1px 3px 1px rgba(60, 64, 67, 0.15);\n",
              "      fill: #174EA6;\n",
              "    }\n",
              "\n",
              "    .colab-df-buttons div {\n",
              "      margin-bottom: 4px;\n",
              "    }\n",
              "\n",
              "    [theme=dark] .colab-df-convert {\n",
              "      background-color: #3B4455;\n",
              "      fill: #D2E3FC;\n",
              "    }\n",
              "\n",
              "    [theme=dark] .colab-df-convert:hover {\n",
              "      background-color: #434B5C;\n",
              "      box-shadow: 0px 1px 3px 1px rgba(0, 0, 0, 0.15);\n",
              "      filter: drop-shadow(0px 1px 2px rgba(0, 0, 0, 0.3));\n",
              "      fill: #FFFFFF;\n",
              "    }\n",
              "  </style>\n",
              "\n",
              "    <script>\n",
              "      const buttonEl =\n",
              "        document.querySelector('#df-a2dedf49-af89-441c-94e6-c12239387e7e button.colab-df-convert');\n",
              "      buttonEl.style.display =\n",
              "        google.colab.kernel.accessAllowed ? 'block' : 'none';\n",
              "\n",
              "      async function convertToInteractive(key) {\n",
              "        const element = document.querySelector('#df-a2dedf49-af89-441c-94e6-c12239387e7e');\n",
              "        const dataTable =\n",
              "          await google.colab.kernel.invokeFunction('convertToInteractive',\n",
              "                                                    [key], {});\n",
              "        if (!dataTable) return;\n",
              "\n",
              "        const docLinkHtml = 'Like what you see? Visit the ' +\n",
              "          '<a target=\"_blank\" href=https://colab.research.google.com/notebooks/data_table.ipynb>data table notebook</a>'\n",
              "          + ' to learn more about interactive tables.';\n",
              "        element.innerHTML = '';\n",
              "        dataTable['output_type'] = 'display_data';\n",
              "        await google.colab.output.renderOutput(dataTable, element);\n",
              "        const docLink = document.createElement('div');\n",
              "        docLink.innerHTML = docLinkHtml;\n",
              "        element.appendChild(docLink);\n",
              "      }\n",
              "    </script>\n",
              "  </div>\n",
              "\n",
              "\n",
              "    <div id=\"df-90fddd96-3d27-48b2-a084-b1750b70fe74\">\n",
              "      <button class=\"colab-df-quickchart\" onclick=\"quickchart('df-90fddd96-3d27-48b2-a084-b1750b70fe74')\"\n",
              "                title=\"Suggest charts\"\n",
              "                style=\"display:none;\">\n",
              "\n",
              "<svg xmlns=\"http://www.w3.org/2000/svg\" height=\"24px\"viewBox=\"0 0 24 24\"\n",
              "     width=\"24px\">\n",
              "    <g>\n",
              "        <path d=\"M19 3H5c-1.1 0-2 .9-2 2v14c0 1.1.9 2 2 2h14c1.1 0 2-.9 2-2V5c0-1.1-.9-2-2-2zM9 17H7v-7h2v7zm4 0h-2V7h2v10zm4 0h-2v-4h2v4z\"/>\n",
              "    </g>\n",
              "</svg>\n",
              "      </button>\n",
              "\n",
              "<style>\n",
              "  .colab-df-quickchart {\n",
              "      --bg-color: #E8F0FE;\n",
              "      --fill-color: #1967D2;\n",
              "      --hover-bg-color: #E2EBFA;\n",
              "      --hover-fill-color: #174EA6;\n",
              "      --disabled-fill-color: #AAA;\n",
              "      --disabled-bg-color: #DDD;\n",
              "  }\n",
              "\n",
              "  [theme=dark] .colab-df-quickchart {\n",
              "      --bg-color: #3B4455;\n",
              "      --fill-color: #D2E3FC;\n",
              "      --hover-bg-color: #434B5C;\n",
              "      --hover-fill-color: #FFFFFF;\n",
              "      --disabled-bg-color: #3B4455;\n",
              "      --disabled-fill-color: #666;\n",
              "  }\n",
              "\n",
              "  .colab-df-quickchart {\n",
              "    background-color: var(--bg-color);\n",
              "    border: none;\n",
              "    border-radius: 50%;\n",
              "    cursor: pointer;\n",
              "    display: none;\n",
              "    fill: var(--fill-color);\n",
              "    height: 32px;\n",
              "    padding: 0;\n",
              "    width: 32px;\n",
              "  }\n",
              "\n",
              "  .colab-df-quickchart:hover {\n",
              "    background-color: var(--hover-bg-color);\n",
              "    box-shadow: 0 1px 2px rgba(60, 64, 67, 0.3), 0 1px 3px 1px rgba(60, 64, 67, 0.15);\n",
              "    fill: var(--button-hover-fill-color);\n",
              "  }\n",
              "\n",
              "  .colab-df-quickchart-complete:disabled,\n",
              "  .colab-df-quickchart-complete:disabled:hover {\n",
              "    background-color: var(--disabled-bg-color);\n",
              "    fill: var(--disabled-fill-color);\n",
              "    box-shadow: none;\n",
              "  }\n",
              "\n",
              "  .colab-df-spinner {\n",
              "    border: 2px solid var(--fill-color);\n",
              "    border-color: transparent;\n",
              "    border-bottom-color: var(--fill-color);\n",
              "    animation:\n",
              "      spin 1s steps(1) infinite;\n",
              "  }\n",
              "\n",
              "  @keyframes spin {\n",
              "    0% {\n",
              "      border-color: transparent;\n",
              "      border-bottom-color: var(--fill-color);\n",
              "      border-left-color: var(--fill-color);\n",
              "    }\n",
              "    20% {\n",
              "      border-color: transparent;\n",
              "      border-left-color: var(--fill-color);\n",
              "      border-top-color: var(--fill-color);\n",
              "    }\n",
              "    30% {\n",
              "      border-color: transparent;\n",
              "      border-left-color: var(--fill-color);\n",
              "      border-top-color: var(--fill-color);\n",
              "      border-right-color: var(--fill-color);\n",
              "    }\n",
              "    40% {\n",
              "      border-color: transparent;\n",
              "      border-right-color: var(--fill-color);\n",
              "      border-top-color: var(--fill-color);\n",
              "    }\n",
              "    60% {\n",
              "      border-color: transparent;\n",
              "      border-right-color: var(--fill-color);\n",
              "    }\n",
              "    80% {\n",
              "      border-color: transparent;\n",
              "      border-right-color: var(--fill-color);\n",
              "      border-bottom-color: var(--fill-color);\n",
              "    }\n",
              "    90% {\n",
              "      border-color: transparent;\n",
              "      border-bottom-color: var(--fill-color);\n",
              "    }\n",
              "  }\n",
              "</style>\n",
              "\n",
              "      <script>\n",
              "        async function quickchart(key) {\n",
              "          const quickchartButtonEl =\n",
              "            document.querySelector('#' + key + ' button');\n",
              "          quickchartButtonEl.disabled = true;  // To prevent multiple clicks.\n",
              "          quickchartButtonEl.classList.add('colab-df-spinner');\n",
              "          try {\n",
              "            const charts = await google.colab.kernel.invokeFunction(\n",
              "                'suggestCharts', [key], {});\n",
              "          } catch (error) {\n",
              "            console.error('Error during call to suggestCharts:', error);\n",
              "          }\n",
              "          quickchartButtonEl.classList.remove('colab-df-spinner');\n",
              "          quickchartButtonEl.classList.add('colab-df-quickchart-complete');\n",
              "        }\n",
              "        (() => {\n",
              "          let quickchartButtonEl =\n",
              "            document.querySelector('#df-90fddd96-3d27-48b2-a084-b1750b70fe74 button');\n",
              "          quickchartButtonEl.style.display =\n",
              "            google.colab.kernel.accessAllowed ? 'block' : 'none';\n",
              "        })();\n",
              "      </script>\n",
              "    </div>\n",
              "\n",
              "    </div>\n",
              "  </div>\n"
            ],
            "application/vnd.google.colaboratory.intrinsic+json": {
              "type": "dataframe",
              "variable_name": "df",
              "summary": "{\n  \"name\": \"df\",\n  \"rows\": 23419,\n  \"fields\": [\n    {\n      \"column\": \"GSM3932693\",\n      \"properties\": {\n        \"dtype\": \"number\",\n        \"std\": 6645.738076739561,\n        \"min\": 0.0,\n        \"max\": 635249.906785271,\n        \"num_unique_values\": 20733,\n        \"samples\": [\n          580.303854987568,\n          45.9263683845323,\n          4.70217361564134\n        ],\n        \"semantic_type\": \"\",\n        \"description\": \"\"\n      }\n    },\n    {\n      \"column\": \"GSM3932694\",\n      \"properties\": {\n        \"dtype\": \"number\",\n        \"std\": 6359.846063133464,\n        \"min\": 0.0,\n        \"max\": 599072.886766573,\n        \"num_unique_values\": 21237,\n        \"samples\": [\n          380.406475364348,\n          2171.35817112888,\n          715.198028886987\n        ],\n        \"semantic_type\": \"\",\n        \"description\": \"\"\n      }\n    },\n    {\n      \"column\": \"GSM3932695\",\n      \"properties\": {\n        \"dtype\": \"number\",\n        \"std\": 6565.152403943604,\n        \"min\": 0.0,\n        \"max\": 608190.964521732,\n        \"num_unique_values\": 21138,\n        \"samples\": [\n          2154.9583947795,\n          3.88262010169202,\n          715.436821986197\n        ],\n        \"semantic_type\": \"\",\n        \"description\": \"\"\n      }\n    },\n    {\n      \"column\": \"GSM3932696\",\n      \"properties\": {\n        \"dtype\": \"number\",\n        \"std\": 6533.558531635181,\n        \"min\": 0.0,\n        \"max\": 617755.182030219,\n        \"num_unique_values\": 21276,\n        \"samples\": [\n          5.8525372013881,\n          1469.97597090921,\n          332.221225820633\n        ],\n        \"semantic_type\": \"\",\n        \"description\": \"\"\n      }\n    },\n    {\n      \"column\": \"GSM3932697\",\n      \"properties\": {\n        \"dtype\": \"number\",\n        \"std\": 5833.7657580931345,\n        \"min\": 0.0,\n        \"max\": 524055.405689891,\n        \"num_unique_values\": 20748,\n        \"samples\": [\n          1.38371843852931,\n          0.883698342465334,\n          468.329758598155\n        ],\n        \"semantic_type\": \"\",\n        \"description\": \"\"\n      }\n    },\n    {\n      \"column\": \"GSM3932698\",\n      \"properties\": {\n        \"dtype\": \"number\",\n        \"std\": 6621.133117834383,\n        \"min\": 0.0,\n        \"max\": 635418.576947219,\n        \"num_unique_values\": 21021,\n        \"samples\": [\n          6.02130563626425,\n          11.0390460279766,\n          586.020596159671\n        ],\n        \"semantic_type\": \"\",\n        \"description\": \"\"\n      }\n    },\n    {\n      \"column\": \"GSM3932699\",\n      \"properties\": {\n        \"dtype\": \"number\",\n        \"std\": 6845.7849581557375,\n        \"min\": 0.0,\n        \"max\": 654920.576523591,\n        \"num_unique_values\": 21000,\n        \"samples\": [\n          340.98884536091,\n          3.32320844351636,\n          61.8512995141643\n        ],\n        \"semantic_type\": \"\",\n        \"description\": \"\"\n      }\n    },\n    {\n      \"column\": \"GSM3932700\",\n      \"properties\": {\n        \"dtype\": \"number\",\n        \"std\": 7015.375606027053,\n        \"min\": 0.0,\n        \"max\": 680114.742215046,\n        \"num_unique_values\": 21289,\n        \"samples\": [\n          31.0293357363968,\n          1089.70397034087,\n          9.40331364852312\n        ],\n        \"semantic_type\": \"\",\n        \"description\": \"\"\n      }\n    },\n    {\n      \"column\": \"GSM3932701\",\n      \"properties\": {\n        \"dtype\": \"number\",\n        \"std\": 6036.8366338897895,\n        \"min\": 0.0,\n        \"max\": 538243.870338091,\n        \"num_unique_values\": 21040,\n        \"samples\": [\n          4.99518495256532,\n          31.9711742575188,\n          4.99477411646019\n        ],\n        \"semantic_type\": \"\",\n        \"description\": \"\"\n      }\n    },\n    {\n      \"column\": \"GSM3932702\",\n      \"properties\": {\n        \"dtype\": \"number\",\n        \"std\": 5639.879240616008,\n        \"min\": 0.0,\n        \"max\": 499022.116455773,\n        \"num_unique_values\": 21468,\n        \"samples\": [\n          114.014730172127,\n          42068.8715879186,\n          5746.01098974651\n        ],\n        \"semantic_type\": \"\",\n        \"description\": \"\"\n      }\n    },\n    {\n      \"column\": \"GSM3932703\",\n      \"properties\": {\n        \"dtype\": \"number\",\n        \"std\": 6000.294801986294,\n        \"min\": 0.0,\n        \"max\": 545447.299604443,\n        \"num_unique_values\": 20851,\n        \"samples\": [\n          171.031404152049,\n          63.7177096306871,\n          2708.70147903747\n        ],\n        \"semantic_type\": \"\",\n        \"description\": \"\"\n      }\n    },\n    {\n      \"column\": \"GSM3932704\",\n      \"properties\": {\n        \"dtype\": \"number\",\n        \"std\": 5830.642218501707,\n        \"min\": 0.0,\n        \"max\": 526328.573489699,\n        \"num_unique_values\": 21011,\n        \"samples\": [\n          12.1766811510759,\n          78.5954469969749,\n          234.832719591102\n        ],\n        \"semantic_type\": \"\",\n        \"description\": \"\"\n      }\n    },\n    {\n      \"column\": \"GSM3932705\",\n      \"properties\": {\n        \"dtype\": \"number\",\n        \"std\": 8202.647283567874,\n        \"min\": 0.0,\n        \"max\": 817690.021356568,\n        \"num_unique_values\": 20850,\n        \"samples\": [\n          3.62569885737155,\n          7.60988021404482,\n          24.8170224886197\n        ],\n        \"semantic_type\": \"\",\n        \"description\": \"\"\n      }\n    },\n    {\n      \"column\": \"GSM3932706\",\n      \"properties\": {\n        \"dtype\": \"number\",\n        \"std\": 6538.8324731602725,\n        \"min\": 0.0,\n        \"max\": 609601.293711124,\n        \"num_unique_values\": 21203,\n        \"samples\": [\n          133.782880515419,\n          0.90008078962118,\n          2.63326398936303\n        ],\n        \"semantic_type\": \"\",\n        \"description\": \"\"\n      }\n    },\n    {\n      \"column\": \"GSM3932707\",\n      \"properties\": {\n        \"dtype\": \"number\",\n        \"std\": 5708.932273415967,\n        \"min\": 0.0,\n        \"max\": 503250.238442706,\n        \"num_unique_values\": 21141,\n        \"samples\": [\n          2.006277768135,\n          372.540626248684,\n          115.974388719683\n        ],\n        \"semantic_type\": \"\",\n        \"description\": \"\"\n      }\n    },\n    {\n      \"column\": \"GSM3932708\",\n      \"properties\": {\n        \"dtype\": \"number\",\n        \"std\": 6721.335536627012,\n        \"min\": 0.0,\n        \"max\": 580769.929409528,\n        \"num_unique_values\": 21034,\n        \"samples\": [\n          38.7276686907082,\n          1751.98387751214,\n          18.7476103725617\n        ],\n        \"semantic_type\": \"\",\n        \"description\": \"\"\n      }\n    }\n  ]\n}"
            }
          },
          "metadata": {},
          "execution_count": 2
        }
      ]
    },
    {
      "cell_type": "markdown",
      "source": [
        "> **In the table above, each row is a gene (\"ENSMUSG00000000001\") and each column is a different mouse sample (\"GSM3932693\"). The numerical values are the number of copies of that gene that was expressed in that mouse.**\n",
        "\n",
        "Now, let's use a different API to collect metadata about which samples flew in space or were used as ground control."
      ],
      "metadata": {
        "id": "H_VqNjws5vwB"
      }
    },
    {
      "cell_type": "code",
      "source": [
        "meta = pd.read_csv('https://visualization.genelab.nasa.gov/GLOpenAPI/metadata/?id=OSD-255&study.factor%20value&study.characteristics', skiprows=[0])[['sample name','spaceflight']]\n",
        "meta"
      ],
      "metadata": {
        "colab": {
          "base_uri": "https://localhost:8080/"
        },
        "id": "yigMfqvegtwp",
        "outputId": "9eeea1dc-a02a-4400-b9da-e18fe641b0e4"
      },
      "execution_count": null,
      "outputs": [
        {
          "output_type": "stream",
          "name": "stdout",
          "text": [
            "Error fetching metadata: \"None of [Index(['Sample Name', 'Factor Value: spaceflight'], dtype='object')] are in the [columns]\"\n",
            "Could not fetch metadata. Please check the API endpoint.\n"
          ]
        }
      ]
    },
    {
      "cell_type": "markdown",
      "source": [
        "**CHALLENGE QUESTION:** Looking at the table above, how many space flight samples do we have? How many ground control?"
      ],
      "metadata": {
        "id": "oehiHQTGhP-u"
      }
    },
    {
      "cell_type": "markdown",
      "source": [
        "**Double click here to enter your answer below.**\n",
        "\n",
        "Answer: 8 Ground Control Samples and 9 Flight Samples.\n"
      ],
      "metadata": {
        "id": "gLJyl2tkhVTg"
      }
    },
    {
      "cell_type": "markdown",
      "source": [
        "----\n",
        "\n",
        "Now, let's use `df.describe()` to provide summary statistics like mean, median, and range for each columns. This helps us understand the data's general properties. More information on each statistic is available on the documentation for this function: https://pandas.pydata.org/docs/reference/api/pandas.DataFrame.describe.html\n",
        "\n",
        "`df.isnull().sum()` checks for any missing data. Missing data can cause problems later, so we need to know if and where we have any gaps.\n"
      ],
      "metadata": {
        "id": "mPm4WTOfhnF2"
      }
    },
    {
      "cell_type": "code",
      "source": [
        "# Basic statistics\n",
        "df.describe()"
      ],
      "metadata": {
        "id": "gw7iRhWk04sS",
        "colab": {
          "base_uri": "https://localhost:8080/",
          "height": 300
        },
        "outputId": "f7cce3ed-a759-41e6-9a50-b591caf661e0"
      },
      "execution_count": null,
      "outputs": [
        {
          "output_type": "execute_result",
          "data": {
            "text/plain": [
              "          GSM3932693     GSM3932694     GSM3932695     GSM3932696  \\\n",
              "count   23419.000000   23419.000000   23419.000000   23419.000000   \n",
              "mean      512.726276     513.605503     512.227744     505.151464   \n",
              "std      6645.738077    6359.846063    6565.152404    6533.558532   \n",
              "min         0.000000       0.000000       0.000000       0.000000   \n",
              "25%         4.699563       5.048580       4.192133       5.254688   \n",
              "50%        53.360684      60.744720      54.518688      60.475645   \n",
              "75%       330.955645     339.404120     332.633804     336.375425   \n",
              "max    635249.906785  599072.886767  608190.964522  617755.182030   \n",
              "\n",
              "          GSM3932697     GSM3932698     GSM3932699     GSM3932700  \\\n",
              "count   23419.000000   23419.000000   23419.000000   23419.000000   \n",
              "mean      511.341816     505.354348     515.216720     507.159108   \n",
              "std      5833.765758    6621.133118    6845.784958    7015.375606   \n",
              "min         0.000000       0.000000       0.000000       0.000000   \n",
              "25%         4.670302       5.017633       4.305536       5.055508   \n",
              "50%        54.192978      55.422527      53.481923      58.573261   \n",
              "75%       330.729391     328.699611     333.251764     333.817185   \n",
              "max    524055.405690  635418.576947  654920.576524  680114.742215   \n",
              "\n",
              "          GSM3932701     GSM3932702     GSM3932703     GSM3932704  \\\n",
              "count   23419.000000   23419.000000   23419.000000   23419.000000   \n",
              "mean      502.935334     501.027174     504.417485     495.792299   \n",
              "std      6036.836634    5639.879241    6000.294802    5830.642219   \n",
              "min         0.000000       0.000000       0.000000       0.000000   \n",
              "25%         4.994721       5.645321       4.748178       5.530256   \n",
              "50%        54.943407      61.707703      56.087749      56.810383   \n",
              "75%       331.048019     330.250317     331.580264     332.084725   \n",
              "max    538243.870338  499022.116456  545447.299604  526328.573490   \n",
              "\n",
              "          GSM3932705     GSM3932706     GSM3932707     GSM3932708  \n",
              "count   23419.000000   23419.000000   23419.000000   23419.000000  \n",
              "mean      515.620253     511.034582     495.971955     530.097184  \n",
              "std      8202.647284    6538.832473    5708.932273    6721.335537  \n",
              "min         0.000000       0.000000       0.000000       0.000000  \n",
              "25%         5.345533       4.388863       5.016007       4.463735  \n",
              "50%        58.344083      55.151272      56.179740      55.408958  \n",
              "75%       327.340564     334.698276     330.558455     334.807313  \n",
              "max    817690.021357  609601.293711  503250.238443  580769.929410  "
            ],
            "text/html": [
              "\n",
              "  <div id=\"df-fc7bbc67-1ae7-4ec2-96ab-fc2111c17e47\" class=\"colab-df-container\">\n",
              "    <div>\n",
              "<style scoped>\n",
              "    .dataframe tbody tr th:only-of-type {\n",
              "        vertical-align: middle;\n",
              "    }\n",
              "\n",
              "    .dataframe tbody tr th {\n",
              "        vertical-align: top;\n",
              "    }\n",
              "\n",
              "    .dataframe thead th {\n",
              "        text-align: right;\n",
              "    }\n",
              "</style>\n",
              "<table border=\"1\" class=\"dataframe\">\n",
              "  <thead>\n",
              "    <tr style=\"text-align: right;\">\n",
              "      <th></th>\n",
              "      <th>GSM3932693</th>\n",
              "      <th>GSM3932694</th>\n",
              "      <th>GSM3932695</th>\n",
              "      <th>GSM3932696</th>\n",
              "      <th>GSM3932697</th>\n",
              "      <th>GSM3932698</th>\n",
              "      <th>GSM3932699</th>\n",
              "      <th>GSM3932700</th>\n",
              "      <th>GSM3932701</th>\n",
              "      <th>GSM3932702</th>\n",
              "      <th>GSM3932703</th>\n",
              "      <th>GSM3932704</th>\n",
              "      <th>GSM3932705</th>\n",
              "      <th>GSM3932706</th>\n",
              "      <th>GSM3932707</th>\n",
              "      <th>GSM3932708</th>\n",
              "    </tr>\n",
              "  </thead>\n",
              "  <tbody>\n",
              "    <tr>\n",
              "      <th>count</th>\n",
              "      <td>23419.000000</td>\n",
              "      <td>23419.000000</td>\n",
              "      <td>23419.000000</td>\n",
              "      <td>23419.000000</td>\n",
              "      <td>23419.000000</td>\n",
              "      <td>23419.000000</td>\n",
              "      <td>23419.000000</td>\n",
              "      <td>23419.000000</td>\n",
              "      <td>23419.000000</td>\n",
              "      <td>23419.000000</td>\n",
              "      <td>23419.000000</td>\n",
              "      <td>23419.000000</td>\n",
              "      <td>23419.000000</td>\n",
              "      <td>23419.000000</td>\n",
              "      <td>23419.000000</td>\n",
              "      <td>23419.000000</td>\n",
              "    </tr>\n",
              "    <tr>\n",
              "      <th>mean</th>\n",
              "      <td>512.726276</td>\n",
              "      <td>513.605503</td>\n",
              "      <td>512.227744</td>\n",
              "      <td>505.151464</td>\n",
              "      <td>511.341816</td>\n",
              "      <td>505.354348</td>\n",
              "      <td>515.216720</td>\n",
              "      <td>507.159108</td>\n",
              "      <td>502.935334</td>\n",
              "      <td>501.027174</td>\n",
              "      <td>504.417485</td>\n",
              "      <td>495.792299</td>\n",
              "      <td>515.620253</td>\n",
              "      <td>511.034582</td>\n",
              "      <td>495.971955</td>\n",
              "      <td>530.097184</td>\n",
              "    </tr>\n",
              "    <tr>\n",
              "      <th>std</th>\n",
              "      <td>6645.738077</td>\n",
              "      <td>6359.846063</td>\n",
              "      <td>6565.152404</td>\n",
              "      <td>6533.558532</td>\n",
              "      <td>5833.765758</td>\n",
              "      <td>6621.133118</td>\n",
              "      <td>6845.784958</td>\n",
              "      <td>7015.375606</td>\n",
              "      <td>6036.836634</td>\n",
              "      <td>5639.879241</td>\n",
              "      <td>6000.294802</td>\n",
              "      <td>5830.642219</td>\n",
              "      <td>8202.647284</td>\n",
              "      <td>6538.832473</td>\n",
              "      <td>5708.932273</td>\n",
              "      <td>6721.335537</td>\n",
              "    </tr>\n",
              "    <tr>\n",
              "      <th>min</th>\n",
              "      <td>0.000000</td>\n",
              "      <td>0.000000</td>\n",
              "      <td>0.000000</td>\n",
              "      <td>0.000000</td>\n",
              "      <td>0.000000</td>\n",
              "      <td>0.000000</td>\n",
              "      <td>0.000000</td>\n",
              "      <td>0.000000</td>\n",
              "      <td>0.000000</td>\n",
              "      <td>0.000000</td>\n",
              "      <td>0.000000</td>\n",
              "      <td>0.000000</td>\n",
              "      <td>0.000000</td>\n",
              "      <td>0.000000</td>\n",
              "      <td>0.000000</td>\n",
              "      <td>0.000000</td>\n",
              "    </tr>\n",
              "    <tr>\n",
              "      <th>25%</th>\n",
              "      <td>4.699563</td>\n",
              "      <td>5.048580</td>\n",
              "      <td>4.192133</td>\n",
              "      <td>5.254688</td>\n",
              "      <td>4.670302</td>\n",
              "      <td>5.017633</td>\n",
              "      <td>4.305536</td>\n",
              "      <td>5.055508</td>\n",
              "      <td>4.994721</td>\n",
              "      <td>5.645321</td>\n",
              "      <td>4.748178</td>\n",
              "      <td>5.530256</td>\n",
              "      <td>5.345533</td>\n",
              "      <td>4.388863</td>\n",
              "      <td>5.016007</td>\n",
              "      <td>4.463735</td>\n",
              "    </tr>\n",
              "    <tr>\n",
              "      <th>50%</th>\n",
              "      <td>53.360684</td>\n",
              "      <td>60.744720</td>\n",
              "      <td>54.518688</td>\n",
              "      <td>60.475645</td>\n",
              "      <td>54.192978</td>\n",
              "      <td>55.422527</td>\n",
              "      <td>53.481923</td>\n",
              "      <td>58.573261</td>\n",
              "      <td>54.943407</td>\n",
              "      <td>61.707703</td>\n",
              "      <td>56.087749</td>\n",
              "      <td>56.810383</td>\n",
              "      <td>58.344083</td>\n",
              "      <td>55.151272</td>\n",
              "      <td>56.179740</td>\n",
              "      <td>55.408958</td>\n",
              "    </tr>\n",
              "    <tr>\n",
              "      <th>75%</th>\n",
              "      <td>330.955645</td>\n",
              "      <td>339.404120</td>\n",
              "      <td>332.633804</td>\n",
              "      <td>336.375425</td>\n",
              "      <td>330.729391</td>\n",
              "      <td>328.699611</td>\n",
              "      <td>333.251764</td>\n",
              "      <td>333.817185</td>\n",
              "      <td>331.048019</td>\n",
              "      <td>330.250317</td>\n",
              "      <td>331.580264</td>\n",
              "      <td>332.084725</td>\n",
              "      <td>327.340564</td>\n",
              "      <td>334.698276</td>\n",
              "      <td>330.558455</td>\n",
              "      <td>334.807313</td>\n",
              "    </tr>\n",
              "    <tr>\n",
              "      <th>max</th>\n",
              "      <td>635249.906785</td>\n",
              "      <td>599072.886767</td>\n",
              "      <td>608190.964522</td>\n",
              "      <td>617755.182030</td>\n",
              "      <td>524055.405690</td>\n",
              "      <td>635418.576947</td>\n",
              "      <td>654920.576524</td>\n",
              "      <td>680114.742215</td>\n",
              "      <td>538243.870338</td>\n",
              "      <td>499022.116456</td>\n",
              "      <td>545447.299604</td>\n",
              "      <td>526328.573490</td>\n",
              "      <td>817690.021357</td>\n",
              "      <td>609601.293711</td>\n",
              "      <td>503250.238443</td>\n",
              "      <td>580769.929410</td>\n",
              "    </tr>\n",
              "  </tbody>\n",
              "</table>\n",
              "</div>\n",
              "    <div class=\"colab-df-buttons\">\n",
              "\n",
              "  <div class=\"colab-df-container\">\n",
              "    <button class=\"colab-df-convert\" onclick=\"convertToInteractive('df-fc7bbc67-1ae7-4ec2-96ab-fc2111c17e47')\"\n",
              "            title=\"Convert this dataframe to an interactive table.\"\n",
              "            style=\"display:none;\">\n",
              "\n",
              "  <svg xmlns=\"http://www.w3.org/2000/svg\" height=\"24px\" viewBox=\"0 -960 960 960\">\n",
              "    <path d=\"M120-120v-720h720v720H120Zm60-500h600v-160H180v160Zm220 220h160v-160H400v160Zm0 220h160v-160H400v160ZM180-400h160v-160H180v160Zm440 0h160v-160H620v160ZM180-180h160v-160H180v160Zm440 0h160v-160H620v160Z\"/>\n",
              "  </svg>\n",
              "    </button>\n",
              "\n",
              "  <style>\n",
              "    .colab-df-container {\n",
              "      display:flex;\n",
              "      gap: 12px;\n",
              "    }\n",
              "\n",
              "    .colab-df-convert {\n",
              "      background-color: #E8F0FE;\n",
              "      border: none;\n",
              "      border-radius: 50%;\n",
              "      cursor: pointer;\n",
              "      display: none;\n",
              "      fill: #1967D2;\n",
              "      height: 32px;\n",
              "      padding: 0 0 0 0;\n",
              "      width: 32px;\n",
              "    }\n",
              "\n",
              "    .colab-df-convert:hover {\n",
              "      background-color: #E2EBFA;\n",
              "      box-shadow: 0px 1px 2px rgba(60, 64, 67, 0.3), 0px 1px 3px 1px rgba(60, 64, 67, 0.15);\n",
              "      fill: #174EA6;\n",
              "    }\n",
              "\n",
              "    .colab-df-buttons div {\n",
              "      margin-bottom: 4px;\n",
              "    }\n",
              "\n",
              "    [theme=dark] .colab-df-convert {\n",
              "      background-color: #3B4455;\n",
              "      fill: #D2E3FC;\n",
              "    }\n",
              "\n",
              "    [theme=dark] .colab-df-convert:hover {\n",
              "      background-color: #434B5C;\n",
              "      box-shadow: 0px 1px 3px 1px rgba(0, 0, 0, 0.15);\n",
              "      filter: drop-shadow(0px 1px 2px rgba(0, 0, 0, 0.3));\n",
              "      fill: #FFFFFF;\n",
              "    }\n",
              "  </style>\n",
              "\n",
              "    <script>\n",
              "      const buttonEl =\n",
              "        document.querySelector('#df-fc7bbc67-1ae7-4ec2-96ab-fc2111c17e47 button.colab-df-convert');\n",
              "      buttonEl.style.display =\n",
              "        google.colab.kernel.accessAllowed ? 'block' : 'none';\n",
              "\n",
              "      async function convertToInteractive(key) {\n",
              "        const element = document.querySelector('#df-fc7bbc67-1ae7-4ec2-96ab-fc2111c17e47');\n",
              "        const dataTable =\n",
              "          await google.colab.kernel.invokeFunction('convertToInteractive',\n",
              "                                                    [key], {});\n",
              "        if (!dataTable) return;\n",
              "\n",
              "        const docLinkHtml = 'Like what you see? Visit the ' +\n",
              "          '<a target=\"_blank\" href=https://colab.research.google.com/notebooks/data_table.ipynb>data table notebook</a>'\n",
              "          + ' to learn more about interactive tables.';\n",
              "        element.innerHTML = '';\n",
              "        dataTable['output_type'] = 'display_data';\n",
              "        await google.colab.output.renderOutput(dataTable, element);\n",
              "        const docLink = document.createElement('div');\n",
              "        docLink.innerHTML = docLinkHtml;\n",
              "        element.appendChild(docLink);\n",
              "      }\n",
              "    </script>\n",
              "  </div>\n",
              "\n",
              "\n",
              "    <div id=\"df-fbe01581-33a6-4371-bd92-9ca16608407d\">\n",
              "      <button class=\"colab-df-quickchart\" onclick=\"quickchart('df-fbe01581-33a6-4371-bd92-9ca16608407d')\"\n",
              "                title=\"Suggest charts\"\n",
              "                style=\"display:none;\">\n",
              "\n",
              "<svg xmlns=\"http://www.w3.org/2000/svg\" height=\"24px\"viewBox=\"0 0 24 24\"\n",
              "     width=\"24px\">\n",
              "    <g>\n",
              "        <path d=\"M19 3H5c-1.1 0-2 .9-2 2v14c0 1.1.9 2 2 2h14c1.1 0 2-.9 2-2V5c0-1.1-.9-2-2-2zM9 17H7v-7h2v7zm4 0h-2V7h2v10zm4 0h-2v-4h2v4z\"/>\n",
              "    </g>\n",
              "</svg>\n",
              "      </button>\n",
              "\n",
              "<style>\n",
              "  .colab-df-quickchart {\n",
              "      --bg-color: #E8F0FE;\n",
              "      --fill-color: #1967D2;\n",
              "      --hover-bg-color: #E2EBFA;\n",
              "      --hover-fill-color: #174EA6;\n",
              "      --disabled-fill-color: #AAA;\n",
              "      --disabled-bg-color: #DDD;\n",
              "  }\n",
              "\n",
              "  [theme=dark] .colab-df-quickchart {\n",
              "      --bg-color: #3B4455;\n",
              "      --fill-color: #D2E3FC;\n",
              "      --hover-bg-color: #434B5C;\n",
              "      --hover-fill-color: #FFFFFF;\n",
              "      --disabled-bg-color: #3B4455;\n",
              "      --disabled-fill-color: #666;\n",
              "  }\n",
              "\n",
              "  .colab-df-quickchart {\n",
              "    background-color: var(--bg-color);\n",
              "    border: none;\n",
              "    border-radius: 50%;\n",
              "    cursor: pointer;\n",
              "    display: none;\n",
              "    fill: var(--fill-color);\n",
              "    height: 32px;\n",
              "    padding: 0;\n",
              "    width: 32px;\n",
              "  }\n",
              "\n",
              "  .colab-df-quickchart:hover {\n",
              "    background-color: var(--hover-bg-color);\n",
              "    box-shadow: 0 1px 2px rgba(60, 64, 67, 0.3), 0 1px 3px 1px rgba(60, 64, 67, 0.15);\n",
              "    fill: var(--button-hover-fill-color);\n",
              "  }\n",
              "\n",
              "  .colab-df-quickchart-complete:disabled,\n",
              "  .colab-df-quickchart-complete:disabled:hover {\n",
              "    background-color: var(--disabled-bg-color);\n",
              "    fill: var(--disabled-fill-color);\n",
              "    box-shadow: none;\n",
              "  }\n",
              "\n",
              "  .colab-df-spinner {\n",
              "    border: 2px solid var(--fill-color);\n",
              "    border-color: transparent;\n",
              "    border-bottom-color: var(--fill-color);\n",
              "    animation:\n",
              "      spin 1s steps(1) infinite;\n",
              "  }\n",
              "\n",
              "  @keyframes spin {\n",
              "    0% {\n",
              "      border-color: transparent;\n",
              "      border-bottom-color: var(--fill-color);\n",
              "      border-left-color: var(--fill-color);\n",
              "    }\n",
              "    20% {\n",
              "      border-color: transparent;\n",
              "      border-left-color: var(--fill-color);\n",
              "      border-top-color: var(--fill-color);\n",
              "    }\n",
              "    30% {\n",
              "      border-color: transparent;\n",
              "      border-left-color: var(--fill-color);\n",
              "      border-top-color: var(--fill-color);\n",
              "      border-right-color: var(--fill-color);\n",
              "    }\n",
              "    40% {\n",
              "      border-color: transparent;\n",
              "      border-right-color: var(--fill-color);\n",
              "      border-top-color: var(--fill-color);\n",
              "    }\n",
              "    60% {\n",
              "      border-color: transparent;\n",
              "      border-right-color: var(--fill-color);\n",
              "    }\n",
              "    80% {\n",
              "      border-color: transparent;\n",
              "      border-right-color: var(--fill-color);\n",
              "      border-bottom-color: var(--fill-color);\n",
              "    }\n",
              "    90% {\n",
              "      border-color: transparent;\n",
              "      border-bottom-color: var(--fill-color);\n",
              "    }\n",
              "  }\n",
              "</style>\n",
              "\n",
              "      <script>\n",
              "        async function quickchart(key) {\n",
              "          const quickchartButtonEl =\n",
              "            document.querySelector('#' + key + ' button');\n",
              "          quickchartButtonEl.disabled = true;  // To prevent multiple clicks.\n",
              "          quickchartButtonEl.classList.add('colab-df-spinner');\n",
              "          try {\n",
              "            const charts = await google.colab.kernel.invokeFunction(\n",
              "                'suggestCharts', [key], {});\n",
              "          } catch (error) {\n",
              "            console.error('Error during call to suggestCharts:', error);\n",
              "          }\n",
              "          quickchartButtonEl.classList.remove('colab-df-spinner');\n",
              "          quickchartButtonEl.classList.add('colab-df-quickchart-complete');\n",
              "        }\n",
              "        (() => {\n",
              "          let quickchartButtonEl =\n",
              "            document.querySelector('#df-fbe01581-33a6-4371-bd92-9ca16608407d button');\n",
              "          quickchartButtonEl.style.display =\n",
              "            google.colab.kernel.accessAllowed ? 'block' : 'none';\n",
              "        })();\n",
              "      </script>\n",
              "    </div>\n",
              "\n",
              "    </div>\n",
              "  </div>\n"
            ],
            "application/vnd.google.colaboratory.intrinsic+json": {
              "type": "dataframe",
              "summary": "{\n  \"name\": \"df\",\n  \"rows\": 8,\n  \"fields\": [\n    {\n      \"column\": \"GSM3932693\",\n      \"properties\": {\n        \"dtype\": \"number\",\n        \"std\": 223176.70784191246,\n        \"min\": 0.0,\n        \"max\": 635249.906785271,\n        \"num_unique_values\": 8,\n        \"samples\": [\n          512.7262760537441,\n          53.3606841682311,\n          23419.0\n        ],\n        \"semantic_type\": \"\",\n        \"description\": \"\"\n      }\n    },\n    {\n      \"column\": \"GSM3932694\",\n      \"properties\": {\n        \"dtype\": \"number\",\n        \"std\": 210408.18751045357,\n        \"min\": 0.0,\n        \"max\": 599072.886766573,\n        \"num_unique_values\": 8,\n        \"samples\": [\n          513.6055034864091,\n          60.7447203058988,\n          23419.0\n        ],\n        \"semantic_type\": \"\",\n        \"description\": \"\"\n      }\n    },\n    {\n      \"column\": \"GSM3932695\",\n      \"properties\": {\n        \"dtype\": \"number\",\n        \"std\": 213620.31729766543,\n        \"min\": 0.0,\n        \"max\": 608190.964521732,\n        \"num_unique_values\": 8,\n        \"samples\": [\n          512.2277438818993,\n          54.5186875483077,\n          23419.0\n        ],\n        \"semantic_type\": \"\",\n        \"description\": \"\"\n      }\n    },\n    {\n      \"column\": \"GSM3932696\",\n      \"properties\": {\n        \"dtype\": \"number\",\n        \"std\": 217000.75607701173,\n        \"min\": 0.0,\n        \"max\": 617755.182030219,\n        \"num_unique_values\": 8,\n        \"samples\": [\n          505.1514636738163,\n          60.4756446601874,\n          23419.0\n        ],\n        \"semantic_type\": \"\",\n        \"description\": \"\"\n      }\n    },\n    {\n      \"column\": \"GSM3932697\",\n      \"properties\": {\n        \"dtype\": \"number\",\n        \"std\": 183934.56048674227,\n        \"min\": 0.0,\n        \"max\": 524055.405689891,\n        \"num_unique_values\": 8,\n        \"samples\": [\n          511.3418162481431,\n          54.1929778233984,\n          23419.0\n        ],\n        \"semantic_type\": \"\",\n        \"description\": \"\"\n      }\n    },\n    {\n      \"column\": \"GSM3932698\",\n      \"properties\": {\n        \"dtype\": \"number\",\n        \"std\": 223237.8933933324,\n        \"min\": 0.0,\n        \"max\": 635418.576947219,\n        \"num_unique_values\": 8,\n        \"samples\": [\n          505.35434763951287,\n          55.4225273887044,\n          23419.0\n        ],\n        \"semantic_type\": \"\",\n        \"description\": \"\"\n      }\n    },\n    {\n      \"column\": \"GSM3932699\",\n      \"properties\": {\n        \"dtype\": \"number\",\n        \"std\": 230116.87770503183,\n        \"min\": 0.0,\n        \"max\": 654920.576523591,\n        \"num_unique_values\": 8,\n        \"samples\": [\n          515.216719581418,\n          53.4819228657318,\n          23419.0\n        ],\n        \"semantic_type\": \"\",\n        \"description\": \"\"\n      }\n    },\n    {\n      \"column\": \"GSM3932700\",\n      \"properties\": {\n        \"dtype\": \"number\",\n        \"std\": 239010.84845649215,\n        \"min\": 0.0,\n        \"max\": 680114.742215046,\n        \"num_unique_values\": 8,\n        \"samples\": [\n          507.15910835227874,\n          58.573260595401,\n          23419.0\n        ],\n        \"semantic_type\": \"\",\n        \"description\": \"\"\n      }\n    },\n    {\n      \"column\": \"GSM3932701\",\n      \"properties\": {\n        \"dtype\": \"number\",\n        \"std\": 188936.6421411137,\n        \"min\": 0.0,\n        \"max\": 538243.870338091,\n        \"num_unique_values\": 8,\n        \"samples\": [\n          502.93533362342515,\n          54.9434070597761,\n          23419.0\n        ],\n        \"semantic_type\": \"\",\n        \"description\": \"\"\n      }\n    },\n    {\n      \"column\": \"GSM3932702\",\n      \"properties\": {\n        \"dtype\": \"number\",\n        \"std\": 175102.52663006223,\n        \"min\": 0.0,\n        \"max\": 499022.116455773,\n        \"num_unique_values\": 8,\n        \"samples\": [\n          501.027174346966,\n          61.7077028761063,\n          23419.0\n        ],\n        \"semantic_type\": \"\",\n        \"description\": \"\"\n      }\n    },\n    {\n      \"column\": \"GSM3932703\",\n      \"properties\": {\n        \"dtype\": \"number\",\n        \"std\": 191482.7991736414,\n        \"min\": 0.0,\n        \"max\": 545447.299604443,\n        \"num_unique_values\": 8,\n        \"samples\": [\n          504.4174852884028,\n          56.0877488968189,\n          23419.0\n        ],\n        \"semantic_type\": \"\",\n        \"description\": \"\"\n      }\n    },\n    {\n      \"column\": \"GSM3932704\",\n      \"properties\": {\n        \"dtype\": \"number\",\n        \"std\": 184738.20584911932,\n        \"min\": 0.0,\n        \"max\": 526328.573489699,\n        \"num_unique_values\": 8,\n        \"samples\": [\n          495.7922985423357,\n          56.8103828280237,\n          23419.0\n        ],\n        \"semantic_type\": \"\",\n        \"description\": \"\"\n      }\n    },\n    {\n      \"column\": \"GSM3932705\",\n      \"properties\": {\n        \"dtype\": \"number\",\n        \"std\": 287569.66403124895,\n        \"min\": 0.0,\n        \"max\": 817690.021356568,\n        \"num_unique_values\": 8,\n        \"samples\": [\n          515.6202532347818,\n          58.3440830170093,\n          23419.0\n        ],\n        \"semantic_type\": \"\",\n        \"description\": \"\"\n      }\n    },\n    {\n      \"column\": \"GSM3932706\",\n      \"properties\": {\n        \"dtype\": \"number\",\n        \"std\": 214119.7891031338,\n        \"min\": 0.0,\n        \"max\": 609601.293711124,\n        \"num_unique_values\": 8,\n        \"samples\": [\n          511.0345820962969,\n          55.1512720101228,\n          23419.0\n        ],\n        \"semantic_type\": \"\",\n        \"description\": \"\"\n      }\n    },\n    {\n      \"column\": \"GSM3932707\",\n      \"properties\": {\n        \"dtype\": \"number\",\n        \"std\": 176593.00981302932,\n        \"min\": 0.0,\n        \"max\": 503250.238442706,\n        \"num_unique_values\": 8,\n        \"samples\": [\n          495.97195516938893,\n          56.1797396294538,\n          23419.0\n        ],\n        \"semantic_type\": \"\",\n        \"description\": \"\"\n      }\n    },\n    {\n      \"column\": \"GSM3932708\",\n      \"properties\": {\n        \"dtype\": \"number\",\n        \"std\": 203923.99430023358,\n        \"min\": 0.0,\n        \"max\": 580769.929409528,\n        \"num_unique_values\": 8,\n        \"samples\": [\n          530.0971835321837,\n          55.4089584765914,\n          23419.0\n        ],\n        \"semantic_type\": \"\",\n        \"description\": \"\"\n      }\n    }\n  ]\n}"
            }
          },
          "metadata": {},
          "execution_count": 7
        }
      ]
    },
    {
      "cell_type": "code",
      "source": [
        "# Check for missing values\n",
        "print(df.isnull().sum())"
      ],
      "metadata": {
        "id": "0pIMwlkG5nk1",
        "colab": {
          "base_uri": "https://localhost:8080/"
        },
        "outputId": "b9ff64c8-a472-402e-dc82-2bfbd1e3d3f6"
      },
      "execution_count": null,
      "outputs": [
        {
          "output_type": "stream",
          "name": "stdout",
          "text": [
            "GSM3932693    0\n",
            "GSM3932694    0\n",
            "GSM3932695    0\n",
            "GSM3932696    0\n",
            "GSM3932697    0\n",
            "GSM3932698    0\n",
            "GSM3932699    0\n",
            "GSM3932700    0\n",
            "GSM3932701    0\n",
            "GSM3932702    0\n",
            "GSM3932703    0\n",
            "GSM3932704    0\n",
            "GSM3932705    0\n",
            "GSM3932706    0\n",
            "GSM3932707    0\n",
            "GSM3932708    0\n",
            "dtype: int64\n"
          ]
        }
      ]
    },
    {
      "cell_type": "markdown",
      "source": [
        "## Correlation Matrix and Heatmap\n",
        "\n",
        "A correlation matrix shows how much each sample is related to every other sample. For example, in biological data, you might find that certain samples are related because of the underlying biological processes. Visualizing this with a heatmap can help us quickly identify strong relationships between samples.\n",
        "\n",
        "\n",
        "Then, we'll create a heatmap to visualize the pairwise correlation values between all samples.\n",
        "> A heatmap is a data visualization technique that represents values in a matrix or a grid with color coding. This type of graph is used to depict the magnitude of a phenomenon as color in two dimensions, which can reveal patterns in the data. **Interpreting a heatmap involves looking for areas of high intensity (\"hot\" spots, usually colored red) and low intensity (\"cold\" spots, usually colored blue). Hot spots indicate areas with high values, while cold spots show areas with low values.**\n",
        "\n",
        "\n",
        "\n",
        "We'll use the Pandas method `corr()` to calculate the [Pearson correlation coefficient](https://en.wikipedia.org/wiki/Pearson_correlation_coefficient) between all the samples. This is a common method of calculating correlation. **Correlation values range from 0 to 1, with 0 being completely uncorrelated and 1 being exactly the same.**"
      ],
      "metadata": {
        "id": "vzwOBPeOUAdn"
      }
    },
    {
      "cell_type": "code",
      "source": [
        "# Compute the correlation matrix\n",
        "corr_matrix = df.corr(method='pearson')\n",
        "\n",
        "# Create a color map for the conditions\n",
        "condition_colors = ['green' if x == 'Ground Control' else 'orange' for x in list(meta['spaceflight'])]\n",
        "\n",
        "# Create a color bar (color strip) DataFrame\n",
        "# color_bar = pd.DataFrame([condition_values], columns=df.columns)\n",
        "\n",
        "# Create the heatmap\n",
        "fig, ax2 = plt.subplots(figsize=(12, 10))\n",
        "\n",
        "# Plot the correlation matrix heatmap\n",
        "sns.heatmap(corr_matrix, annot=True, fmt='.2f', cmap='coolwarm', ax=ax2, cbar_kws={'label': 'Correlation'}, yticklabels=df.columns, xticklabels=df.columns)\n",
        "\n",
        "# Add the color bar as a separate heatmap\n",
        "for tick_label, color in zip(ax2.get_xticklabels(), condition_colors):\n",
        "    tick_label.set_color(color)\n",
        "for tick_label, color in zip(ax2.get_yticklabels(), condition_colors):\n",
        "    tick_label.set_color(color)\n",
        "\n",
        "# Add legend manually\n",
        "import matplotlib.patches as mpatches\n",
        "ground_patch = mpatches.Patch(color='green', label='Ground Control')\n",
        "space_patch = mpatches.Patch(color='orange', label='Space Flight')\n",
        "plt.legend(handles=[ground_patch, space_patch], title='Condition', bbox_to_anchor=(1.05, 1), loc='lower right')\n",
        "\n",
        "plt.title('Correlation Matrix Heatmap with Sample Conditions', pad=20)\n",
        "\n",
        "# Adjust layout\n",
        "plt.tight_layout(rect=[0, 0, 0.85, 0.95])\n",
        "\n",
        "plt.show()\n"
      ],
      "metadata": {
        "id": "5iB3ywcsUFqb",
        "colab": {
          "base_uri": "https://localhost:8080/",
          "height": 211
        },
        "outputId": "398ce66e-d4df-44cf-be47-dea5991f0100"
      },
      "execution_count": null,
      "outputs": [
        {
          "output_type": "error",
          "ename": "NameError",
          "evalue": "name 'meta' is not defined",
          "traceback": [
            "\u001b[0;31m---------------------------------------------------------------------------\u001b[0m",
            "\u001b[0;31mNameError\u001b[0m                                 Traceback (most recent call last)",
            "\u001b[0;32m/tmp/ipython-input-622231126.py\u001b[0m in \u001b[0;36m<cell line: 0>\u001b[0;34m()\u001b[0m\n\u001b[1;32m      3\u001b[0m \u001b[0;34m\u001b[0m\u001b[0m\n\u001b[1;32m      4\u001b[0m \u001b[0;31m# Create a color map for the conditions\u001b[0m\u001b[0;34m\u001b[0m\u001b[0;34m\u001b[0m\u001b[0m\n\u001b[0;32m----> 5\u001b[0;31m \u001b[0mcondition_colors\u001b[0m \u001b[0;34m=\u001b[0m \u001b[0;34m[\u001b[0m\u001b[0;34m'green'\u001b[0m \u001b[0;32mif\u001b[0m \u001b[0mx\u001b[0m \u001b[0;34m==\u001b[0m \u001b[0;34m'Ground Control'\u001b[0m \u001b[0;32melse\u001b[0m \u001b[0;34m'orange'\u001b[0m \u001b[0;32mfor\u001b[0m \u001b[0mx\u001b[0m \u001b[0;32min\u001b[0m \u001b[0mlist\u001b[0m\u001b[0;34m(\u001b[0m\u001b[0mmeta\u001b[0m\u001b[0;34m[\u001b[0m\u001b[0;34m'spaceflight'\u001b[0m\u001b[0;34m]\u001b[0m\u001b[0;34m)\u001b[0m\u001b[0;34m]\u001b[0m\u001b[0;34m\u001b[0m\u001b[0;34m\u001b[0m\u001b[0m\n\u001b[0m\u001b[1;32m      6\u001b[0m \u001b[0;34m\u001b[0m\u001b[0m\n\u001b[1;32m      7\u001b[0m \u001b[0;31m# Create a color bar (color strip) DataFrame\u001b[0m\u001b[0;34m\u001b[0m\u001b[0;34m\u001b[0m\u001b[0m\n",
            "\u001b[0;31mNameError\u001b[0m: name 'meta' is not defined"
          ]
        }
      ]
    },
    {
      "cell_type": "markdown",
      "source": [
        "**CHALLENGE QUESTIONS:**\n",
        "1. Why are some samples labeled in green, and some in yellow?\n",
        "2. What is the correlation between samples GSM3932693 and GSM3932701? Is this surprising? Why? (*Hint:* think about the groups that these samples belong to.)\n",
        "3. Take a look at the diagonal values running from the top left to the bottom right. Why are they all 1.00?\n",
        "4. Are there sample(s) which seem to have lower overall correlation values with all the other samples? If so, you may want to keep an eye on these samples because they may be outliers that will skew your analysis."
      ],
      "metadata": {
        "id": "20LkVQRomDW0"
      }
    },
    {
      "cell_type": "markdown",
      "source": [
        "**Double click here to enter your answers below.**\n",
        "\n",
        "Answers:\n",
        "\n",
        "1. Green = Ground Control Samples, Yellow = Flight Samples\n",
        "\n",
        "2. They have a correlation of ~0.99, both samples come from the same overall study and likely underwent similar processing, so gene expression profiles are highly similar despite the different conditions.\n",
        "\n",
        "3. \tEach diagonal element compares a sample to itself. Correlation of any dataset with itself is always 1.00.\n",
        "\n",
        "4. Yes, GSM3932708 shows noticeably lower correlations (~0.96–0.98) compared to others."
      ],
      "metadata": {
        "id": "4lIQux9enXJ7"
      }
    },
    {
      "cell_type": "markdown",
      "source": [
        "## Histogram of Gene Expression Values\n",
        "\n",
        "A histogram shows how often different values or ranges of values occur in a dataset.\n",
        "\n",
        "*Key Features of a Histogram:*\n",
        "\n",
        "- **Bars:** A histogram consists of vertical bars. Each bar represents a range of values (also called a \"bin\").\n",
        "- **Bins:** These are the intervals or ranges into which the data is grouped. For example, if you are looking at the heights of students, one bin might be for heights between 150-160 cm, another for 160-170 cm, and so on.\n",
        "- **Frequency:** The height of each bar shows how many data points fall within that range. A taller bar means more data points fall into that range.\n",
        "\n",
        "Below, we'll use the Python matplotlib function `hist()` to generate a histogram that shows the different gene expression values of the gene \"ENSMUSG00000000001\"."
      ],
      "metadata": {
        "id": "TLFkzb_CxZR3"
      }
    },
    {
      "cell_type": "code",
      "source": [
        "plt.hist(df.transpose()['ENSMUSG00000000001'])\n",
        "plt.xlabel('Gene Expression Values')\n",
        "plt.ylabel('Number of Samples')\n",
        "plt.title('Histogram of Overall Expression for Gene ENSMUSG00000000001')"
      ],
      "metadata": {
        "id": "yZgtvJ8qvDfI",
        "colab": {
          "base_uri": "https://localhost:8080/",
          "height": 489
        },
        "outputId": "1be69d90-a0b5-4074-f689-1825752caf68"
      },
      "execution_count": null,
      "outputs": [
        {
          "output_type": "execute_result",
          "data": {
            "text/plain": [
              "Text(0.5, 1.0, 'Histogram of Overall Expression for Gene ENSMUSG00000000001')"
            ]
          },
          "metadata": {},
          "execution_count": 15
        },
        {
          "output_type": "display_data",
          "data": {
            "text/plain": [
              "<Figure size 640x480 with 1 Axes>"
            ],
            "image/png": "[encoded data removed]"
          },
          "metadata": {}
        }
      ]
    },
    {
      "cell_type": "markdown",
      "source": [
        "**CHALLENGE QUESTIONS:**\n",
        "\n",
        "1. How many samples express 210 copies of gene \"ENSMUSG00000000001\"?\n",
        "2. How many samples express 240 copies of gene \"ENSMUSG00000000001\"?\n",
        "\n"
      ],
      "metadata": {
        "id": "tQMXWQ8by-t8"
      }
    },
    {
      "cell_type": "markdown",
      "source": [
        "**Double click here to enter your answers below.**\n",
        "\n",
        "Answers:\n",
        "\n",
        "1. 1 Sample\n",
        "\n",
        "2. 4 samples"
      ],
      "metadata": {
        "id": "KVPOPqND5RnO"
      }
    },
    {
      "cell_type": "markdown",
      "source": [
        "## Scatter Plot Between Samples\n",
        "\n",
        "\n",
        "A scatter plot is a type of graph used to display the relationship between two numerical variables. In our case, we will use it to display the relationship between the gene expression values within 2 samples. Each point on the plot represents a data point in the dataset - in our case, each point on the plot represents the expression values of a single gene.\n",
        "> Each point (gene) has an x-axis and a y-axis value. The x-axis value is the  expression of that gene in the sample labeled on the x-axis, while the y-axis value is the expression of that gene in the sample labeled on the y-axis.\n",
        "\n",
        "By looking at the scatter plot, you can identify patterns or relationships between the two variables, such as:\n",
        "\n",
        "- Positive Correlation: As one variable increases, the other variable also increases. The points trend upward from left to right.\n",
        "- Negative Correlation: As one variable increases, the other variable decreases. The points trend downward from left to right.\n",
        "- No Correlation: There is no obvious pattern. The points are scattered randomly.\n",
        "\n",
        "You can also see if there are specific points (genes) which are expressed more highly in one sample or the other.\n",
        "\n",
        "Let's use the Python seaborn function `scatterplot()` to create a couple of scatterplots.\n",
        "\n",
        "First, we'll plot the relationship between the first Ground Control sample (GSM3932693) and the first Space Flight sample (GSM3932701).\n",
        "\n",
        "**CHALLENGE QUESTION:** Looking back at the heatmap, are these 2 samples positively or negatively correlated with each other? Based on this, how do you expect the scatterplot to appear?\n"
      ],
      "metadata": {
        "id": "3azOQsS_CV_8"
      }
    },
    {
      "cell_type": "markdown",
      "source": [
        "**Double click here to enter your answer below.**\n",
        "\n",
        "Answer:"
      ],
      "metadata": {
        "id": "Kylp_JrUDx-0"
      }
    },
    {
      "cell_type": "code",
      "source": [
        "# Scatter plot between the first Ground Control sample (GSM3932693) and the first Space Flight sample (GSM3932701)\n",
        "sns.scatterplot(x='GSM3932693', y='GSM3932701', data=df)\n",
        "plt.title('Scatter plot between GSM3932693 (Ground Control) and GSM3932701 (Space Flight)')\n",
        "plt.show()\n",
        "\n"
      ],
      "metadata": {
        "id": "My3rGOp8D2qK",
        "colab": {
          "base_uri": "https://localhost:8080/",
          "height": 472
        },
        "outputId": "e6e38621-cce6-4efc-fcca-44d0174e9e4d"
      },
      "execution_count": null,
      "outputs": [
        {
          "output_type": "display_data",
          "data": {
            "text/plain": [
              "<Figure size 640x480 with 1 Axes>"
            ],
            "image/png": "[encoded data removed]"
          },
          "metadata": {}
        }
      ]
    },
    {
      "cell_type": "markdown",
      "source": [
        "Looking at the scatter plot above, we can observe a positive correlation, with points trending upward from left to right.\n",
        "\n",
        "Now, let's plot the relationship between the first Ground Control sample (GSM3932693) and the last Space Flight sample (GSM3932708).\n",
        "\n",
        "**CHALLENGE QUESTION:** Looking back at the heatmap, how do these samples relate to each other? How do you expect the scatter plot to appear?"
      ],
      "metadata": {
        "id": "F6GPSPxgD_Fd"
      }
    },
    {
      "cell_type": "markdown",
      "source": [
        "**Double click here to enter your answer below.**\n",
        "\n",
        "Answer:"
      ],
      "metadata": {
        "id": "ryFVvLwAET_5"
      }
    },
    {
      "cell_type": "code",
      "source": [
        "# Scatter plot between the first Ground Control sample (GSM3932693) and the last Space Flight sample (GSM3932708)\n",
        "sns.scatterplot(x='GSM3932693', y='GSM3932708', data=df)\n",
        "plt.title('Scatter plot between GSM3932693 (Ground Control) and GSM3932708 (Space Flight)')\n",
        "plt.show()"
      ],
      "metadata": {
        "id": "YTeYKvBUvDkJ",
        "colab": {
          "base_uri": "https://localhost:8080/",
          "height": 472
        },
        "outputId": "8847807a-8e46-46bb-85ef-7f160ccfe347"
      },
      "execution_count": null,
      "outputs": [
        {
          "output_type": "display_data",
          "data": {
            "text/plain": [
              "<Figure size 640x480 with 1 Axes>"
            ],
            "image/png": "[encoded data removed]"
          },
          "metadata": {}
        }
      ]
    },
    {
      "cell_type": "markdown",
      "source": [
        "**CHALLENGE QUESTION:** How does this scatterplot compare to the first one? Are there more genes that seem to be expressed more highly in one sample compared to the other? Does this make sense with the heatmap?"
      ],
      "metadata": {
        "id": "l3hyOWJxEdCP"
      }
    },
    {
      "cell_type": "markdown",
      "source": [
        "**Double click here to enter your answer below.**\n",
        "\n",
        "Answer:"
      ],
      "metadata": {
        "id": "91yOSniDE0Hl"
      }
    },
    {
      "cell_type": "markdown",
      "source": [
        "## Pair Plot Between Genes\n",
        "\n",
        "A pair plot allows you to examine the relationships between multiple pairs of variables in a dataset (in our case, relationships between genes). It's particularly useful when you have several numerical variables and want to understand how they correlate with each other.\n",
        "\n",
        "*Key Features of a Pair Plot:*\n",
        "- Matrix Structure: In a pair plot, the variables are arranged in a grid or matrix format. Each variable is plotted against every other variable in the dataset, creating a matrix of scatterplots.\n",
        "\n",
        "- Scatterplots: Each cell in the matrix contains a scatter plot of two variables.\n",
        "The scatter plot in each cell shows the relationship between the corresponding pair of variables.\n",
        "\n",
        "- Diagonal Elements: The diagonal of the matrix contains histograms for each variable.\n",
        "\n",
        "\n",
        "Pair plots allow you to quickly visualize relationships between multiple variables in a dataset. You can examine scatter plots to understand how variables are related to each other (e.g., positive correlation, negative correlation, or no correlation). Additionally, you can analyze the diagonal plots to understand the distribution of each variable individually.\n",
        "\n",
        "Let's use the Python seaborn `pairplot()` function to create a small pair plot to compare 2 of the genes from our dataset: 'ENSMUSG00000000001' and 'ENSMUSG00000000028'."
      ],
      "metadata": {
        "id": "ZvXZjvTuE00E"
      }
    },
    {
      "cell_type": "code",
      "source": [
        "# Pair plot for a subset of features\n",
        "subset_features = ['ENSMUSG00000000001', 'ENSMUSG00000000028']#, 'feature3', 'feature4']\n",
        "sns.pairplot(df.transpose()[subset_features])\n",
        "plt.show()\n"
      ],
      "metadata": {
        "id": "zvQWciM7vDru",
        "colab": {
          "base_uri": "https://localhost:8080/",
          "height": 512
        },
        "outputId": "deb1b6db-3bcd-438a-eaae-2ad39aebc586"
      },
      "execution_count": null,
      "outputs": [
        {
          "output_type": "display_data",
          "data": {
            "text/plain": [
              "<Figure size 500x500 with 6 Axes>"
            ],
            "image/png": "[encoded data removed]"
          },
          "metadata": {}
        }
      ]
    },
    {
      "cell_type": "markdown",
      "source": [
        "**CHALLENGE QUESTIONS:**\n",
        "\n",
        "1. Take a look at the scatter plots in the pair plot above. Are the genes positively or negatively correlated with each other?\n",
        "2. Take a look at the histograms in the pair plot above. How high is the gene expression for the largest group of samples (bar) for gene ENSMUSG00000000001? What about gene ENSMUSG00000000028?\n"
      ],
      "metadata": {
        "id": "BTDxYKnfGg_e"
      }
    },
    {
      "cell_type": "markdown",
      "source": [
        "**Double click here to enter your answers below.**\n",
        "\n",
        "Answers:\n",
        "\n",
        "1. Correlation is slightly negative, near zero.\n",
        "\n",
        "2. For 01, it is ~260, for 28 it is ~30"
      ],
      "metadata": {
        "id": "yr5ApnwXIGUB"
      }
    }
  ]
}