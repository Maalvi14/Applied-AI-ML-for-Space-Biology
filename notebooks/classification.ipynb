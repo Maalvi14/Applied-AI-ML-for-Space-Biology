{
  "cells": [
    {
      "cell_type": "markdown",
      "metadata": {
        "id": "PtKbaXzoYN4I"
      },
      "source": [
        "# **Mission of the classification notebook**\n",
        "\n",
        "Picture yourself as a data scientist sitting with executives from SpaceX who have received reports that several of their astronauts are complaining of vision impairment.  In order to do a full investigation, their medical team decided to use minimally-invasive [intraocular fine needle aspiration](https://pubmed.ncbi.nlm.nih.gov/8233394/) to take biopsies from the astronauts and their ground-control counterparts.  Using this tissue, they were able to perform immunostaining microscopy as well as RNA sequencing.  They were also able to obtain intraocular pressure measurements from both the astronauts and their ground-control counterparts.  \n",
        "\n",
        "Your goal is to determine if there are [biological pathways](https://en.wikipedia.org/wiki/Biological_pathway) that are responding to conditions in space, because if so, there may be a molecular target that can be used to diagnose, monitor, and/or treat this condition.  But first you must determine if there's any association at all between the RNA-seq gene expression data and the measurements obtained from their medical team.  Your mission is to evaluate the use of random forest and single-layer perceptron classification algorithms to determine if the genes expressed in the retinal tissue are predictive of the phenotypic responses that were observed.  You are also encouraged to try the [logistic regression algorithm](https://en.wikipedia.org/wiki/Logistic_regression) for the same.\n",
        "\n"
      ]
    },
    {
      "cell_type": "markdown",
      "metadata": {
        "id": "W_cXRde853Lu"
      },
      "source": [
        "# Read in the methods\n",
        "\n",
        "Recall that we have put all the custom python methods in a separate notebook which you copied to your Google drive.  We need to read those methods into this notebook so that we can use them here.  You will get prompted to select the gmail address to use to permit access to your google drive for this notebook.\n",
        "\n",
        "Note that we will import the methods in the notebook as \"m\", so all subsequent references to methods in that notebook will be prefixed with \"m.\".\n",
        "\n",
        "**IMPORTANT**: Make sure you put a copy of the methods.ipynb in your google drive by following [these instructions](https://docs.google.com/document/d/1V9a3Z5YKT2Pbef4fgPAwB83bHX-p-rPBRRwo7w5Bi9k/edit?usp=sharing)."
      ]
    },
    {
      "cell_type": "code",
      "execution_count": null,
      "metadata": {
        "id": "-uEZzf_C66PO",
        "colab": {
          "base_uri": "https://localhost:8080/"
        },
        "outputId": "f744f8bd-6ea3-407b-d012-c6f3f35f8e34"
      },
      "outputs": [
        {
          "output_type": "stream",
          "name": "stdout",
          "text": [
            "Collecting import_ipynb\n",
            "  Downloading import_ipynb-0.2-py3-none-any.whl.metadata (2.3 kB)\n",
            "Requirement already satisfied: IPython in /usr/local/lib/python3.11/dist-packages (from import_ipynb) (7.34.0)\n",
            "Requirement already satisfied: nbformat in /usr/local/lib/python3.11/dist-packages (from import_ipynb) (5.10.4)\n",
            "Requirement already satisfied: setuptools>=18.5 in /usr/local/lib/python3.11/dist-packages (from IPython->import_ipynb) (75.2.0)\n",
            "Collecting jedi>=0.16 (from IPython->import_ipynb)\n",
            "  Downloading jedi-0.19.2-py2.py3-none-any.whl.metadata (22 kB)\n",
            "Requirement already satisfied: decorator in /usr/local/lib/python3.11/dist-packages (from IPython->import_ipynb) (4.4.2)\n",
            "Requirement already satisfied: pickleshare in /usr/local/lib/python3.11/dist-packages (from IPython->import_ipynb) (0.7.5)\n",
            "Requirement already satisfied: traitlets>=4.2 in /usr/local/lib/python3.11/dist-packages (from IPython->import_ipynb) (5.7.1)\n",
            "Requirement already satisfied: prompt-toolkit!=3.0.0,!=3.0.1,<3.1.0,>=2.0.0 in /usr/local/lib/python3.11/dist-packages (from IPython->import_ipynb) (3.0.51)\n",
            "Requirement already satisfied: pygments in /usr/local/lib/python3.11/dist-packages (from IPython->import_ipynb) (2.19.2)\n",
            "Requirement already satisfied: backcall in /usr/local/lib/python3.11/dist-packages (from IPython->import_ipynb) (0.2.0)\n",
            "Requirement already satisfied: matplotlib-inline in /usr/local/lib/python3.11/dist-packages (from IPython->import_ipynb) (0.1.7)\n",
            "Requirement already satisfied: pexpect>4.3 in /usr/local/lib/python3.11/dist-packages (from IPython->import_ipynb) (4.9.0)\n",
            "Requirement already satisfied: fastjsonschema>=2.15 in /usr/local/lib/python3.11/dist-packages (from nbformat->import_ipynb) (2.21.1)\n",
            "Requirement already satisfied: jsonschema>=2.6 in /usr/local/lib/python3.11/dist-packages (from nbformat->import_ipynb) (4.25.0)\n",
            "Requirement already satisfied: jupyter-core!=5.0.*,>=4.12 in /usr/local/lib/python3.11/dist-packages (from nbformat->import_ipynb) (5.8.1)\n",
            "Requirement already satisfied: parso<0.9.0,>=0.8.4 in /usr/local/lib/python3.11/dist-packages (from jedi>=0.16->IPython->import_ipynb) (0.8.4)\n",
            "Requirement already satisfied: attrs>=22.2.0 in /usr/local/lib/python3.11/dist-packages (from jsonschema>=2.6->nbformat->import_ipynb) (25.3.0)\n",
            "Requirement already satisfied: jsonschema-specifications>=2023.03.6 in /usr/local/lib/python3.11/dist-packages (from jsonschema>=2.6->nbformat->import_ipynb) (2025.4.1)\n",
            "Requirement already satisfied: referencing>=0.28.4 in /usr/local/lib/python3.11/dist-packages (from jsonschema>=2.6->nbformat->import_ipynb) (0.36.2)\n",
            "Requirement already satisfied: rpds-py>=0.7.1 in /usr/local/lib/python3.11/dist-packages (from jsonschema>=2.6->nbformat->import_ipynb) (0.26.0)\n",
            "Requirement already satisfied: platformdirs>=2.5 in /usr/local/lib/python3.11/dist-packages (from jupyter-core!=5.0.*,>=4.12->nbformat->import_ipynb) (4.3.8)\n",
            "Requirement already satisfied: ptyprocess>=0.5 in /usr/local/lib/python3.11/dist-packages (from pexpect>4.3->IPython->import_ipynb) (0.7.0)\n",
            "Requirement already satisfied: wcwidth in /usr/local/lib/python3.11/dist-packages (from prompt-toolkit!=3.0.0,!=3.0.1,<3.1.0,>=2.0.0->IPython->import_ipynb) (0.2.13)\n",
            "Requirement already satisfied: typing-extensions>=4.4.0 in /usr/local/lib/python3.11/dist-packages (from referencing>=0.28.4->jsonschema>=2.6->nbformat->import_ipynb) (4.14.1)\n",
            "Downloading import_ipynb-0.2-py3-none-any.whl (4.0 kB)\n",
            "Downloading jedi-0.19.2-py2.py3-none-any.whl (1.6 MB)\n",
            "\u001b[2K   \u001b[90m━━━━━━━━━━━━━━━━━━━━━━━━━━━━━━━━━━━━━━━━\u001b[0m \u001b[32m1.6/1.6 MB\u001b[0m \u001b[31m26.5 MB/s\u001b[0m eta \u001b[36m0:00:00\u001b[0m\n",
            "\u001b[?25hInstalling collected packages: jedi, import_ipynb\n",
            "Successfully installed import_ipynb-0.2 jedi-0.19.2\n"
          ]
        }
      ],
      "source": [
        "# install and import the python module for importing a notebook\n",
        "!pip install import_ipynb\n",
        "import import_ipynb"
      ]
    },
    {
      "cell_type": "code",
      "execution_count": null,
      "metadata": {
        "id": "9zlbpTykfYa2",
        "colab": {
          "base_uri": "https://localhost:8080/"
        },
        "outputId": "8515832b-1915-4f4e-b40f-522fb63e4eef"
      },
      "outputs": [
        {
          "output_type": "stream",
          "name": "stdout",
          "text": [
            "Drive not mounted, so nothing to flush and unmount.\n",
            "Mounted at mnt\n"
          ]
        }
      ],
      "source": [
        "# mount your google drive to this notebook\n",
        "from google.colab import drive\n",
        "drive.flush_and_unmount()\n",
        "drive.mount(\"mnt\", force_remount=True)"
      ]
    },
    {
      "cell_type": "code",
      "execution_count": null,
      "metadata": {
        "id": "X8F5FyQ47xaq",
        "colab": {
          "base_uri": "https://localhost:8080/"
        },
        "outputId": "173c2a39-f3a1-4393-dbce-3bae2f0e5f7e"
      },
      "outputs": [
        {
          "output_type": "stream",
          "name": "stdout",
          "text": [
            "Requirement already satisfied: scikit-learn in /usr/local/lib/python3.11/dist-packages (1.6.1)\n",
            "Requirement already satisfied: numpy>=1.19.5 in /usr/local/lib/python3.11/dist-packages (from scikit-learn) (2.0.2)\n",
            "Requirement already satisfied: scipy>=1.6.0 in /usr/local/lib/python3.11/dist-packages (from scikit-learn) (1.16.0)\n",
            "Requirement already satisfied: joblib>=1.2.0 in /usr/local/lib/python3.11/dist-packages (from scikit-learn) (1.5.1)\n",
            "Requirement already satisfied: threadpoolctl>=3.1.0 in /usr/local/lib/python3.11/dist-packages (from scikit-learn) (3.6.0)\n",
            "Collecting scanpy\n",
            "  Downloading scanpy-1.11.4-py3-none-any.whl.metadata (9.2 kB)\n",
            "Collecting anndata>=0.8 (from scanpy)\n",
            "  Downloading anndata-0.12.1-py3-none-any.whl.metadata (9.6 kB)\n",
            "Requirement already satisfied: h5py>=3.7.0 in /usr/local/lib/python3.11/dist-packages (from scanpy) (3.14.0)\n",
            "Requirement already satisfied: joblib in /usr/local/lib/python3.11/dist-packages (from scanpy) (1.5.1)\n",
            "Collecting legacy-api-wrap>=1.4.1 (from scanpy)\n",
            "  Downloading legacy_api_wrap-1.4.1-py3-none-any.whl.metadata (2.1 kB)\n",
            "Requirement already satisfied: matplotlib>=3.7.5 in /usr/local/lib/python3.11/dist-packages (from scanpy) (3.10.0)\n",
            "Requirement already satisfied: natsort in /usr/local/lib/python3.11/dist-packages (from scanpy) (8.4.0)\n",
            "Requirement already satisfied: networkx>=2.7.1 in /usr/local/lib/python3.11/dist-packages (from scanpy) (3.5)\n",
            "Requirement already satisfied: numba>=0.57.1 in /usr/local/lib/python3.11/dist-packages (from scanpy) (0.60.0)\n",
            "Requirement already satisfied: numpy>=1.24.1 in /usr/local/lib/python3.11/dist-packages (from scanpy) (2.0.2)\n",
            "Requirement already satisfied: packaging>=21.3 in /usr/local/lib/python3.11/dist-packages (from scanpy) (25.0)\n",
            "Requirement already satisfied: pandas>=1.5.3 in /usr/local/lib/python3.11/dist-packages (from scanpy) (2.2.2)\n",
            "Requirement already satisfied: patsy!=1.0.0 in /usr/local/lib/python3.11/dist-packages (from scanpy) (1.0.1)\n",
            "Requirement already satisfied: pynndescent>=0.5.13 in /usr/local/lib/python3.11/dist-packages (from scanpy) (0.5.13)\n",
            "Requirement already satisfied: scikit-learn>=1.1.3 in /usr/local/lib/python3.11/dist-packages (from scanpy) (1.6.1)\n",
            "Requirement already satisfied: scipy>=1.8.1 in /usr/local/lib/python3.11/dist-packages (from scanpy) (1.16.0)\n",
            "Requirement already satisfied: seaborn>=0.13.2 in /usr/local/lib/python3.11/dist-packages (from scanpy) (0.13.2)\n",
            "Collecting session-info2 (from scanpy)\n",
            "  Downloading session_info2-0.2-py3-none-any.whl.metadata (3.3 kB)\n",
            "Requirement already satisfied: statsmodels>=0.14.5 in /usr/local/lib/python3.11/dist-packages (from scanpy) (0.14.5)\n",
            "Requirement already satisfied: tqdm in /usr/local/lib/python3.11/dist-packages (from scanpy) (4.67.1)\n",
            "Requirement already satisfied: typing-extensions in /usr/local/lib/python3.11/dist-packages (from scanpy) (4.14.1)\n",
            "Requirement already satisfied: umap-learn>=0.5.6 in /usr/local/lib/python3.11/dist-packages (from scanpy) (0.5.9.post2)\n",
            "Collecting array-api-compat>=1.7.1 (from anndata>=0.8->scanpy)\n",
            "  Downloading array_api_compat-1.12.0-py3-none-any.whl.metadata (2.5 kB)\n",
            "Collecting zarr!=3.0.*,>=2.18.7 (from anndata>=0.8->scanpy)\n",
            "  Downloading zarr-3.1.1-py3-none-any.whl.metadata (10 kB)\n",
            "Requirement already satisfied: contourpy>=1.0.1 in /usr/local/lib/python3.11/dist-packages (from matplotlib>=3.7.5->scanpy) (1.3.2)\n",
            "Requirement already satisfied: cycler>=0.10 in /usr/local/lib/python3.11/dist-packages (from matplotlib>=3.7.5->scanpy) (0.12.1)\n",
            "Requirement already satisfied: fonttools>=4.22.0 in /usr/local/lib/python3.11/dist-packages (from matplotlib>=3.7.5->scanpy) (4.59.0)\n",
            "Requirement already satisfied: kiwisolver>=1.3.1 in /usr/local/lib/python3.11/dist-packages (from matplotlib>=3.7.5->scanpy) (1.4.8)\n",
            "Requirement already satisfied: pillow>=8 in /usr/local/lib/python3.11/dist-packages (from matplotlib>=3.7.5->scanpy) (11.3.0)\n",
            "Requirement already satisfied: pyparsing>=2.3.1 in /usr/local/lib/python3.11/dist-packages (from matplotlib>=3.7.5->scanpy) (3.2.3)\n",
            "Requirement already satisfied: python-dateutil>=2.7 in /usr/local/lib/python3.11/dist-packages (from matplotlib>=3.7.5->scanpy) (2.9.0.post0)\n",
            "Requirement already satisfied: llvmlite<0.44,>=0.43.0dev0 in /usr/local/lib/python3.11/dist-packages (from numba>=0.57.1->scanpy) (0.43.0)\n",
            "Requirement already satisfied: pytz>=2020.1 in /usr/local/lib/python3.11/dist-packages (from pandas>=1.5.3->scanpy) (2025.2)\n",
            "Requirement already satisfied: tzdata>=2022.7 in /usr/local/lib/python3.11/dist-packages (from pandas>=1.5.3->scanpy) (2025.2)\n",
            "Requirement already satisfied: threadpoolctl>=3.1.0 in /usr/local/lib/python3.11/dist-packages (from scikit-learn>=1.1.3->scanpy) (3.6.0)\n",
            "Requirement already satisfied: six>=1.5 in /usr/local/lib/python3.11/dist-packages (from python-dateutil>=2.7->matplotlib>=3.7.5->scanpy) (1.17.0)\n",
            "Collecting donfig>=0.8 (from zarr!=3.0.*,>=2.18.7->anndata>=0.8->scanpy)\n",
            "  Downloading donfig-0.8.1.post1-py3-none-any.whl.metadata (5.0 kB)\n",
            "Collecting numcodecs>=0.14 (from numcodecs[crc32c]>=0.14->zarr!=3.0.*,>=2.18.7->anndata>=0.8->scanpy)\n",
            "  Downloading numcodecs-0.16.1-cp311-cp311-manylinux_2_17_x86_64.manylinux2014_x86_64.whl.metadata (3.3 kB)\n",
            "Requirement already satisfied: pyyaml in /usr/local/lib/python3.11/dist-packages (from donfig>=0.8->zarr!=3.0.*,>=2.18.7->anndata>=0.8->scanpy) (6.0.2)\n",
            "Collecting crc32c>=2.7 (from numcodecs[crc32c]>=0.14->zarr!=3.0.*,>=2.18.7->anndata>=0.8->scanpy)\n",
            "  Downloading crc32c-2.7.1-cp311-cp311-manylinux_2_5_x86_64.manylinux1_x86_64.manylinux_2_17_x86_64.manylinux2014_x86_64.whl.metadata (7.3 kB)\n",
            "Downloading scanpy-1.11.4-py3-none-any.whl (2.1 MB)\n",
            "\u001b[2K   \u001b[90m━━━━━━━━━━━━━━━━━━━━━━━━━━━━━━━━━━━━━━━━\u001b[0m \u001b[32m2.1/2.1 MB\u001b[0m \u001b[31m85.4 MB/s\u001b[0m eta \u001b[36m0:00:00\u001b[0m\n",
            "\u001b[?25hDownloading anndata-0.12.1-py3-none-any.whl (169 kB)\n",
            "\u001b[2K   \u001b[90m━━━━━━━━━━━━━━━━━━━━━━━━━━━━━━━━━━━━━━━\u001b[0m \u001b[32m169.1/169.1 kB\u001b[0m \u001b[31m269.3 MB/s\u001b[0m eta \u001b[36m0:00:00\u001b[0m\n",
            "\u001b[?25hDownloading legacy_api_wrap-1.4.1-py3-none-any.whl (10.0 kB)\n",
            "Downloading session_info2-0.2-py3-none-any.whl (15 kB)\n",
            "Downloading array_api_compat-1.12.0-py3-none-any.whl (58 kB)\n",
            "\u001b[2K   \u001b[90m━━━━━━━━━━━━━━━━━━━━━━━━━━━━━━━━━━━━━━━━\u001b[0m \u001b[32m58.2/58.2 kB\u001b[0m \u001b[31m243.1 MB/s\u001b[0m eta \u001b[36m0:00:00\u001b[0m\n",
            "\u001b[?25hDownloading zarr-3.1.1-py3-none-any.whl (255 kB)\n",
            "\u001b[2K   \u001b[90m━━━━━━━━━━━━━━━━━━━━━━━━━━━━━━━━━━━━━━━\u001b[0m \u001b[32m255.4/255.4 kB\u001b[0m \u001b[31m280.8 MB/s\u001b[0m eta \u001b[36m0:00:00\u001b[0m\n",
            "\u001b[?25hDownloading donfig-0.8.1.post1-py3-none-any.whl (21 kB)\n",
            "Downloading numcodecs-0.16.1-cp311-cp311-manylinux_2_17_x86_64.manylinux2014_x86_64.whl (8.8 MB)\n",
            "\u001b[2K   \u001b[90m━━━━━━━━━━━━━━━━━━━━━━━━━━━━━━━━━━━━━━━━\u001b[0m \u001b[32m8.8/8.8 MB\u001b[0m \u001b[31m229.0 MB/s\u001b[0m eta \u001b[36m0:00:00\u001b[0m\n",
            "\u001b[?25hDownloading crc32c-2.7.1-cp311-cp311-manylinux_2_5_x86_64.manylinux1_x86_64.manylinux_2_17_x86_64.manylinux2014_x86_64.whl (53 kB)\n",
            "\u001b[2K   \u001b[90m━━━━━━━━━━━━━━━━━━━━━━━━━━━━━━━━━━━━━━━━\u001b[0m \u001b[32m53.7/53.7 kB\u001b[0m \u001b[31m216.6 MB/s\u001b[0m eta \u001b[36m0:00:00\u001b[0m\n",
            "\u001b[?25hInstalling collected packages: session-info2, numcodecs, legacy-api-wrap, donfig, crc32c, array-api-compat, zarr, anndata, scanpy\n",
            "Successfully installed anndata-0.12.1 array-api-compat-1.12.0 crc32c-2.7.1 donfig-0.8.1.post1 legacy-api-wrap-1.4.1 numcodecs-0.16.1 scanpy-1.11.4 session-info2-0.2 zarr-3.1.1\n",
            "Collecting gseapy==1.1.6\n",
            "  Downloading gseapy-1.1.6-cp311-cp311-manylinux_2_17_x86_64.manylinux2014_x86_64.whl.metadata (11 kB)\n",
            "Requirement already satisfied: numpy>=1.13.0 in /usr/local/lib/python3.11/dist-packages (from gseapy==1.1.6) (2.0.2)\n",
            "Requirement already satisfied: scipy in /usr/local/lib/python3.11/dist-packages (from gseapy==1.1.6) (1.16.0)\n",
            "Requirement already satisfied: pandas in /usr/local/lib/python3.11/dist-packages (from gseapy==1.1.6) (2.2.2)\n",
            "Requirement already satisfied: matplotlib>=2.2 in /usr/local/lib/python3.11/dist-packages (from gseapy==1.1.6) (3.10.0)\n",
            "Requirement already satisfied: requests in /usr/local/lib/python3.11/dist-packages (from gseapy==1.1.6) (2.32.3)\n",
            "Requirement already satisfied: contourpy>=1.0.1 in /usr/local/lib/python3.11/dist-packages (from matplotlib>=2.2->gseapy==1.1.6) (1.3.2)\n",
            "Requirement already satisfied: cycler>=0.10 in /usr/local/lib/python3.11/dist-packages (from matplotlib>=2.2->gseapy==1.1.6) (0.12.1)\n",
            "Requirement already satisfied: fonttools>=4.22.0 in /usr/local/lib/python3.11/dist-packages (from matplotlib>=2.2->gseapy==1.1.6) (4.59.0)\n",
            "Requirement already satisfied: kiwisolver>=1.3.1 in /usr/local/lib/python3.11/dist-packages (from matplotlib>=2.2->gseapy==1.1.6) (1.4.8)\n",
            "Requirement already satisfied: packaging>=20.0 in /usr/local/lib/python3.11/dist-packages (from matplotlib>=2.2->gseapy==1.1.6) (25.0)\n",
            "Requirement already satisfied: pillow>=8 in /usr/local/lib/python3.11/dist-packages (from matplotlib>=2.2->gseapy==1.1.6) (11.3.0)\n",
            "Requirement already satisfied: pyparsing>=2.3.1 in /usr/local/lib/python3.11/dist-packages (from matplotlib>=2.2->gseapy==1.1.6) (3.2.3)\n",
            "Requirement already satisfied: python-dateutil>=2.7 in /usr/local/lib/python3.11/dist-packages (from matplotlib>=2.2->gseapy==1.1.6) (2.9.0.post0)\n",
            "Requirement already satisfied: pytz>=2020.1 in /usr/local/lib/python3.11/dist-packages (from pandas->gseapy==1.1.6) (2025.2)\n",
            "Requirement already satisfied: tzdata>=2022.7 in /usr/local/lib/python3.11/dist-packages (from pandas->gseapy==1.1.6) (2025.2)\n",
            "Requirement already satisfied: charset-normalizer<4,>=2 in /usr/local/lib/python3.11/dist-packages (from requests->gseapy==1.1.6) (3.4.2)\n",
            "Requirement already satisfied: idna<4,>=2.5 in /usr/local/lib/python3.11/dist-packages (from requests->gseapy==1.1.6) (3.10)\n",
            "Requirement already satisfied: urllib3<3,>=1.21.1 in /usr/local/lib/python3.11/dist-packages (from requests->gseapy==1.1.6) (2.5.0)\n",
            "Requirement already satisfied: certifi>=2017.4.17 in /usr/local/lib/python3.11/dist-packages (from requests->gseapy==1.1.6) (2025.7.14)\n",
            "Requirement already satisfied: six>=1.5 in /usr/local/lib/python3.11/dist-packages (from python-dateutil>=2.7->matplotlib>=2.2->gseapy==1.1.6) (1.17.0)\n",
            "Downloading gseapy-1.1.6-cp311-cp311-manylinux_2_17_x86_64.manylinux2014_x86_64.whl (590 kB)\n",
            "\u001b[2K   \u001b[90m━━━━━━━━━━━━━━━━━━━━━━━━━━━━━━━━━━━━━━━━\u001b[0m \u001b[32m590.8/590.8 kB\u001b[0m \u001b[31m20.1 MB/s\u001b[0m eta \u001b[36m0:00:00\u001b[0m\n",
            "\u001b[?25hInstalling collected packages: gseapy\n",
            "Successfully installed gseapy-1.1.6\n",
            "Collecting pybiomart==0.1\n",
            "  Downloading pybiomart-0.1.tar.gz (24 kB)\n",
            "  Preparing metadata (setup.py) ... \u001b[?25l\u001b[?25hdone\n",
            "Requirement already satisfied: future in /usr/local/lib/python3.11/dist-packages (from pybiomart==0.1) (1.0.0)\n",
            "Requirement already satisfied: pandas in /usr/local/lib/python3.11/dist-packages (from pybiomart==0.1) (2.2.2)\n",
            "Requirement already satisfied: requests in /usr/local/lib/python3.11/dist-packages (from pybiomart==0.1) (2.32.3)\n",
            "Collecting requests_cache (from pybiomart==0.1)\n",
            "  Downloading requests_cache-1.2.1-py3-none-any.whl.metadata (9.9 kB)\n",
            "Requirement already satisfied: numpy>=1.23.2 in /usr/local/lib/python3.11/dist-packages (from pandas->pybiomart==0.1) (2.0.2)\n",
            "Requirement already satisfied: python-dateutil>=2.8.2 in /usr/local/lib/python3.11/dist-packages (from pandas->pybiomart==0.1) (2.9.0.post0)\n",
            "Requirement already satisfied: pytz>=2020.1 in /usr/local/lib/python3.11/dist-packages (from pandas->pybiomart==0.1) (2025.2)\n",
            "Requirement already satisfied: tzdata>=2022.7 in /usr/local/lib/python3.11/dist-packages (from pandas->pybiomart==0.1) (2025.2)\n",
            "Requirement already satisfied: charset-normalizer<4,>=2 in /usr/local/lib/python3.11/dist-packages (from requests->pybiomart==0.1) (3.4.2)\n",
            "Requirement already satisfied: idna<4,>=2.5 in /usr/local/lib/python3.11/dist-packages (from requests->pybiomart==0.1) (3.10)\n",
            "Requirement already satisfied: urllib3<3,>=1.21.1 in /usr/local/lib/python3.11/dist-packages (from requests->pybiomart==0.1) (2.5.0)\n",
            "Requirement already satisfied: certifi>=2017.4.17 in /usr/local/lib/python3.11/dist-packages (from requests->pybiomart==0.1) (2025.7.14)\n",
            "Requirement already satisfied: attrs>=21.2 in /usr/local/lib/python3.11/dist-packages (from requests_cache->pybiomart==0.1) (25.3.0)\n",
            "Collecting cattrs>=22.2 (from requests_cache->pybiomart==0.1)\n",
            "  Downloading cattrs-25.1.1-py3-none-any.whl.metadata (8.4 kB)\n",
            "Requirement already satisfied: platformdirs>=2.5 in /usr/local/lib/python3.11/dist-packages (from requests_cache->pybiomart==0.1) (4.3.8)\n",
            "Collecting url-normalize>=1.4 (from requests_cache->pybiomart==0.1)\n",
            "  Downloading url_normalize-2.2.1-py3-none-any.whl.metadata (5.6 kB)\n",
            "Requirement already satisfied: typing-extensions>=4.12.2 in /usr/local/lib/python3.11/dist-packages (from cattrs>=22.2->requests_cache->pybiomart==0.1) (4.14.1)\n",
            "Requirement already satisfied: six>=1.5 in /usr/local/lib/python3.11/dist-packages (from python-dateutil>=2.8.2->pandas->pybiomart==0.1) (1.17.0)\n",
            "Downloading requests_cache-1.2.1-py3-none-any.whl (61 kB)\n",
            "\u001b[2K   \u001b[90m━━━━━━━━━━━━━━━━━━━━━━━━━━━━━━━━━━━━━━━━\u001b[0m \u001b[32m61.4/61.4 kB\u001b[0m \u001b[31m66.1 MB/s\u001b[0m eta \u001b[36m0:00:00\u001b[0m\n",
            "\u001b[?25hDownloading cattrs-25.1.1-py3-none-any.whl (69 kB)\n",
            "\u001b[2K   \u001b[90m━━━━━━━━━━━━━━━━━━━━━━━━━━━━━━━━━━━━━━━━\u001b[0m \u001b[32m69.4/69.4 kB\u001b[0m \u001b[31m181.3 MB/s\u001b[0m eta \u001b[36m0:00:00\u001b[0m\n",
            "\u001b[?25hDownloading url_normalize-2.2.1-py3-none-any.whl (14 kB)\n",
            "Building wheels for collected packages: pybiomart\n",
            "  Building wheel for pybiomart (setup.py) ... \u001b[?25l\u001b[?25hdone\n",
            "  Created wheel for pybiomart: filename=pybiomart-0.1-py3-none-any.whl size=14600 sha256=34c4fcb247c515479863d3b015b3ae4eade753ccfb8d9aead990c6420ab1a9d9\n",
            "  Stored in directory: /tmp/pip-ephem-wheel-cache-ea5e199k/wheels/ad/45/48/b79ec13dfdbc57735df3c6e295b70f4db768335832c07bfc57\n",
            "Successfully built pybiomart\n",
            "Installing collected packages: url-normalize, cattrs, requests_cache, pybiomart\n",
            "Successfully installed cattrs-25.1.1 pybiomart-0.1 requests_cache-1.2.1 url-normalize-2.2.1\n",
            "Collecting mygene\n",
            "  Downloading mygene-3.2.2-py2.py3-none-any.whl.metadata (10 kB)\n",
            "Collecting biothings-client>=0.2.6 (from mygene)\n",
            "  Downloading biothings_client-0.4.1-py3-none-any.whl.metadata (10 kB)\n",
            "Requirement already satisfied: httpx>=0.22.0 in /usr/local/lib/python3.11/dist-packages (from biothings-client>=0.2.6->mygene) (0.28.1)\n",
            "Requirement already satisfied: anyio in /usr/local/lib/python3.11/dist-packages (from httpx>=0.22.0->biothings-client>=0.2.6->mygene) (4.9.0)\n",
            "Requirement already satisfied: certifi in /usr/local/lib/python3.11/dist-packages (from httpx>=0.22.0->biothings-client>=0.2.6->mygene) (2025.7.14)\n",
            "Requirement already satisfied: httpcore==1.* in /usr/local/lib/python3.11/dist-packages (from httpx>=0.22.0->biothings-client>=0.2.6->mygene) (1.0.9)\n",
            "Requirement already satisfied: idna in /usr/local/lib/python3.11/dist-packages (from httpx>=0.22.0->biothings-client>=0.2.6->mygene) (3.10)\n",
            "Requirement already satisfied: h11>=0.16 in /usr/local/lib/python3.11/dist-packages (from httpcore==1.*->httpx>=0.22.0->biothings-client>=0.2.6->mygene) (0.16.0)\n",
            "Requirement already satisfied: sniffio>=1.1 in /usr/local/lib/python3.11/dist-packages (from anyio->httpx>=0.22.0->biothings-client>=0.2.6->mygene) (1.3.1)\n",
            "Requirement already satisfied: typing_extensions>=4.5 in /usr/local/lib/python3.11/dist-packages (from anyio->httpx>=0.22.0->biothings-client>=0.2.6->mygene) (4.14.1)\n",
            "Downloading mygene-3.2.2-py2.py3-none-any.whl (5.4 kB)\n",
            "Downloading biothings_client-0.4.1-py3-none-any.whl (46 kB)\n",
            "\u001b[2K   \u001b[90m━━━━━━━━━━━━━━━━━━━━━━━━━━━━━━━━━━━━━━━━\u001b[0m \u001b[32m46.7/46.7 kB\u001b[0m \u001b[31m152.6 MB/s\u001b[0m eta \u001b[36m0:00:00\u001b[0m\n",
            "\u001b[?25hInstalling collected packages: biothings-client, mygene\n",
            "Successfully installed biothings-client-0.4.1 mygene-3.2.2\n",
            "Collecting sklearn_som\n",
            "  Downloading sklearn_som-1.1.0-py3-none-any.whl.metadata (3.7 kB)\n",
            "Requirement already satisfied: numpy in /usr/local/lib/python3.11/dist-packages (from sklearn_som) (2.0.2)\n",
            "Downloading sklearn_som-1.1.0-py3-none-any.whl (6.7 kB)\n",
            "Installing collected packages: sklearn_som\n",
            "Successfully installed sklearn_som-1.1.0\n",
            "Requirement already satisfied: pandas in /usr/local/lib/python3.11/dist-packages (2.2.2)\n",
            "Requirement already satisfied: numpy>=1.23.2 in /usr/local/lib/python3.11/dist-packages (from pandas) (2.0.2)\n",
            "Requirement already satisfied: python-dateutil>=2.8.2 in /usr/local/lib/python3.11/dist-packages (from pandas) (2.9.0.post0)\n",
            "Requirement already satisfied: pytz>=2020.1 in /usr/local/lib/python3.11/dist-packages (from pandas) (2025.2)\n",
            "Requirement already satisfied: tzdata>=2022.7 in /usr/local/lib/python3.11/dist-packages (from pandas) (2025.2)\n",
            "Requirement already satisfied: six>=1.5 in /usr/local/lib/python3.11/dist-packages (from python-dateutil>=2.8.2->pandas) (1.17.0)\n",
            "Requirement already satisfied: numpy in /usr/local/lib/python3.11/dist-packages (2.0.2)\n",
            "Requirement already satisfied: matplotlib in /usr/local/lib/python3.11/dist-packages (3.10.0)\n",
            "Requirement already satisfied: contourpy>=1.0.1 in /usr/local/lib/python3.11/dist-packages (from matplotlib) (1.3.2)\n",
            "Requirement already satisfied: cycler>=0.10 in /usr/local/lib/python3.11/dist-packages (from matplotlib) (0.12.1)\n",
            "Requirement already satisfied: fonttools>=4.22.0 in /usr/local/lib/python3.11/dist-packages (from matplotlib) (4.59.0)\n",
            "Requirement already satisfied: kiwisolver>=1.3.1 in /usr/local/lib/python3.11/dist-packages (from matplotlib) (1.4.8)\n",
            "Requirement already satisfied: numpy>=1.23 in /usr/local/lib/python3.11/dist-packages (from matplotlib) (2.0.2)\n",
            "Requirement already satisfied: packaging>=20.0 in /usr/local/lib/python3.11/dist-packages (from matplotlib) (25.0)\n",
            "Requirement already satisfied: pillow>=8 in /usr/local/lib/python3.11/dist-packages (from matplotlib) (11.3.0)\n",
            "Requirement already satisfied: pyparsing>=2.3.1 in /usr/local/lib/python3.11/dist-packages (from matplotlib) (3.2.3)\n",
            "Requirement already satisfied: python-dateutil>=2.7 in /usr/local/lib/python3.11/dist-packages (from matplotlib) (2.9.0.post0)\n",
            "Requirement already satisfied: six>=1.5 in /usr/local/lib/python3.11/dist-packages (from python-dateutil>=2.7->matplotlib) (1.17.0)\n",
            "Requirement already satisfied: sklearn-som in /usr/local/lib/python3.11/dist-packages (1.1.0)\n",
            "Requirement already satisfied: numpy in /usr/local/lib/python3.11/dist-packages (from sklearn-som) (2.0.2)\n",
            "Collecting pyDeseq2\n",
            "  Downloading pydeseq2-0.5.2-py3-none-any.whl.metadata (7.3 kB)\n",
            "Requirement already satisfied: anndata>=0.11.0 in /usr/local/lib/python3.11/dist-packages (from pyDeseq2) (0.12.1)\n",
            "Collecting formulaic>=1.0.2 (from pyDeseq2)\n",
            "  Downloading formulaic-1.2.0-py3-none-any.whl.metadata (7.0 kB)\n",
            "Requirement already satisfied: numpy>=1.23.0 in /usr/local/lib/python3.11/dist-packages (from pyDeseq2) (2.0.2)\n",
            "Requirement already satisfied: pandas>=1.4.0 in /usr/local/lib/python3.11/dist-packages (from pyDeseq2) (2.2.2)\n",
            "Requirement already satisfied: scikit-learn>=1.1.0 in /usr/local/lib/python3.11/dist-packages (from pyDeseq2) (1.6.1)\n",
            "Requirement already satisfied: scipy>=1.11.0 in /usr/local/lib/python3.11/dist-packages (from pyDeseq2) (1.16.0)\n",
            "Collecting formulaic-contrasts>=0.2.0 (from pyDeseq2)\n",
            "  Downloading formulaic_contrasts-1.0.0-py3-none-any.whl.metadata (6.5 kB)\n",
            "Requirement already satisfied: matplotlib>=3.6.2 in /usr/local/lib/python3.11/dist-packages (from pyDeseq2) (3.10.0)\n",
            "Requirement already satisfied: array-api-compat>=1.7.1 in /usr/local/lib/python3.11/dist-packages (from anndata>=0.11.0->pyDeseq2) (1.12.0)\n",
            "Requirement already satisfied: h5py>=3.8 in /usr/local/lib/python3.11/dist-packages (from anndata>=0.11.0->pyDeseq2) (3.14.0)\n",
            "Requirement already satisfied: legacy-api-wrap in /usr/local/lib/python3.11/dist-packages (from anndata>=0.11.0->pyDeseq2) (1.4.1)\n",
            "Requirement already satisfied: natsort in /usr/local/lib/python3.11/dist-packages (from anndata>=0.11.0->pyDeseq2) (8.4.0)\n",
            "Requirement already satisfied: packaging>=24.2 in /usr/local/lib/python3.11/dist-packages (from anndata>=0.11.0->pyDeseq2) (25.0)\n",
            "Requirement already satisfied: zarr!=3.0.*,>=2.18.7 in /usr/local/lib/python3.11/dist-packages (from anndata>=0.11.0->pyDeseq2) (3.1.1)\n",
            "Collecting interface-meta>=1.2.0 (from formulaic>=1.0.2->pyDeseq2)\n",
            "  Downloading interface_meta-1.3.0-py3-none-any.whl.metadata (6.7 kB)\n",
            "Requirement already satisfied: narwhals>=1.17 in /usr/local/lib/python3.11/dist-packages (from formulaic>=1.0.2->pyDeseq2) (1.48.1)\n",
            "Requirement already satisfied: typing-extensions>=4.2.0 in /usr/local/lib/python3.11/dist-packages (from formulaic>=1.0.2->pyDeseq2) (4.14.1)\n",
            "Requirement already satisfied: wrapt>=1.0 in /usr/local/lib/python3.11/dist-packages (from formulaic>=1.0.2->pyDeseq2) (1.17.2)\n",
            "Collecting session-info (from formulaic-contrasts>=0.2.0->pyDeseq2)\n",
            "  Downloading session_info-1.0.1-py3-none-any.whl.metadata (5.1 kB)\n",
            "Requirement already satisfied: contourpy>=1.0.1 in /usr/local/lib/python3.11/dist-packages (from matplotlib>=3.6.2->pyDeseq2) (1.3.2)\n",
            "Requirement already satisfied: cycler>=0.10 in /usr/local/lib/python3.11/dist-packages (from matplotlib>=3.6.2->pyDeseq2) (0.12.1)\n",
            "Requirement already satisfied: fonttools>=4.22.0 in /usr/local/lib/python3.11/dist-packages (from matplotlib>=3.6.2->pyDeseq2) (4.59.0)\n",
            "Requirement already satisfied: kiwisolver>=1.3.1 in /usr/local/lib/python3.11/dist-packages (from matplotlib>=3.6.2->pyDeseq2) (1.4.8)\n",
            "Requirement already satisfied: pillow>=8 in /usr/local/lib/python3.11/dist-packages (from matplotlib>=3.6.2->pyDeseq2) (11.3.0)\n",
            "Requirement already satisfied: pyparsing>=2.3.1 in /usr/local/lib/python3.11/dist-packages (from matplotlib>=3.6.2->pyDeseq2) (3.2.3)\n",
            "Requirement already satisfied: python-dateutil>=2.7 in /usr/local/lib/python3.11/dist-packages (from matplotlib>=3.6.2->pyDeseq2) (2.9.0.post0)\n",
            "Requirement already satisfied: pytz>=2020.1 in /usr/local/lib/python3.11/dist-packages (from pandas>=1.4.0->pyDeseq2) (2025.2)\n",
            "Requirement already satisfied: tzdata>=2022.7 in /usr/local/lib/python3.11/dist-packages (from pandas>=1.4.0->pyDeseq2) (2025.2)\n",
            "Requirement already satisfied: joblib>=1.2.0 in /usr/local/lib/python3.11/dist-packages (from scikit-learn>=1.1.0->pyDeseq2) (1.5.1)\n",
            "Requirement already satisfied: threadpoolctl>=3.1.0 in /usr/local/lib/python3.11/dist-packages (from scikit-learn>=1.1.0->pyDeseq2) (3.6.0)\n",
            "Requirement already satisfied: six>=1.5 in /usr/local/lib/python3.11/dist-packages (from python-dateutil>=2.7->matplotlib>=3.6.2->pyDeseq2) (1.17.0)\n",
            "Requirement already satisfied: donfig>=0.8 in /usr/local/lib/python3.11/dist-packages (from zarr!=3.0.*,>=2.18.7->anndata>=0.11.0->pyDeseq2) (0.8.1.post1)\n",
            "Requirement already satisfied: numcodecs>=0.14 in /usr/local/lib/python3.11/dist-packages (from numcodecs[crc32c]>=0.14->zarr!=3.0.*,>=2.18.7->anndata>=0.11.0->pyDeseq2) (0.16.1)\n",
            "Collecting stdlib_list (from session-info->formulaic-contrasts>=0.2.0->pyDeseq2)\n",
            "  Downloading stdlib_list-0.11.1-py3-none-any.whl.metadata (3.3 kB)\n",
            "Requirement already satisfied: pyyaml in /usr/local/lib/python3.11/dist-packages (from donfig>=0.8->zarr!=3.0.*,>=2.18.7->anndata>=0.11.0->pyDeseq2) (6.0.2)\n",
            "Requirement already satisfied: crc32c>=2.7 in /usr/local/lib/python3.11/dist-packages (from numcodecs[crc32c]>=0.14->zarr!=3.0.*,>=2.18.7->anndata>=0.11.0->pyDeseq2) (2.7.1)\n",
            "Downloading pydeseq2-0.5.2-py3-none-any.whl (44 kB)\n",
            "\u001b[2K   \u001b[90m━━━━━━━━━━━━━━━━━━━━━━━━━━━━━━━━━━━━━━━━\u001b[0m \u001b[32m44.6/44.6 kB\u001b[0m \u001b[31m158.9 MB/s\u001b[0m eta \u001b[36m0:00:00\u001b[0m\n",
            "\u001b[?25hDownloading formulaic-1.2.0-py3-none-any.whl (117 kB)\n",
            "\u001b[2K   \u001b[90m━━━━━━━━━━━━━━━━━━━━━━━━━━━━━━━━━━━━━━━━\u001b[0m \u001b[32m117.2/117.2 kB\u001b[0m \u001b[31m94.9 MB/s\u001b[0m eta \u001b[36m0:00:00\u001b[0m\n",
            "\u001b[?25hDownloading formulaic_contrasts-1.0.0-py3-none-any.whl (10 kB)\n",
            "Downloading interface_meta-1.3.0-py3-none-any.whl (14 kB)\n",
            "Downloading session_info-1.0.1-py3-none-any.whl (9.1 kB)\n",
            "Downloading stdlib_list-0.11.1-py3-none-any.whl (83 kB)\n",
            "\u001b[2K   \u001b[90m━━━━━━━━━━━━━━━━━━━━━━━━━━━━━━━━━━━━━━━━\u001b[0m \u001b[32m83.6/83.6 kB\u001b[0m \u001b[31m208.8 MB/s\u001b[0m eta \u001b[36m0:00:00\u001b[0m\n",
            "\u001b[?25hInstalling collected packages: stdlib_list, interface-meta, session-info, formulaic, formulaic-contrasts, pyDeseq2\n",
            "Successfully installed formulaic-1.2.0 formulaic-contrasts-1.0.0 interface-meta-1.3.0 pyDeseq2-0.5.2 session-info-1.0.1 stdlib_list-0.11.1\n",
            "Collecting Ensembl_converter\n",
            "  Downloading ensembl_converter-0.0.1-py3-none-any.whl.metadata (2.5 kB)\n",
            "Requirement already satisfied: numpy in /usr/local/lib/python3.11/dist-packages (from Ensembl_converter) (2.0.2)\n",
            "Requirement already satisfied: pandas in /usr/local/lib/python3.11/dist-packages (from Ensembl_converter) (2.2.2)\n",
            "Requirement already satisfied: tqdm in /usr/local/lib/python3.11/dist-packages (from Ensembl_converter) (4.67.1)\n",
            "Requirement already satisfied: requests in /usr/local/lib/python3.11/dist-packages (from Ensembl_converter) (2.32.3)\n",
            "Requirement already satisfied: python-dateutil>=2.8.2 in /usr/local/lib/python3.11/dist-packages (from pandas->Ensembl_converter) (2.9.0.post0)\n",
            "Requirement already satisfied: pytz>=2020.1 in /usr/local/lib/python3.11/dist-packages (from pandas->Ensembl_converter) (2025.2)\n",
            "Requirement already satisfied: tzdata>=2022.7 in /usr/local/lib/python3.11/dist-packages (from pandas->Ensembl_converter) (2025.2)\n",
            "Requirement already satisfied: charset-normalizer<4,>=2 in /usr/local/lib/python3.11/dist-packages (from requests->Ensembl_converter) (3.4.2)\n",
            "Requirement already satisfied: idna<4,>=2.5 in /usr/local/lib/python3.11/dist-packages (from requests->Ensembl_converter) (3.10)\n",
            "Requirement already satisfied: urllib3<3,>=1.21.1 in /usr/local/lib/python3.11/dist-packages (from requests->Ensembl_converter) (2.5.0)\n",
            "Requirement already satisfied: certifi>=2017.4.17 in /usr/local/lib/python3.11/dist-packages (from requests->Ensembl_converter) (2025.7.14)\n",
            "Requirement already satisfied: six>=1.5 in /usr/local/lib/python3.11/dist-packages (from python-dateutil>=2.8.2->pandas->Ensembl_converter) (1.17.0)\n",
            "Downloading ensembl_converter-0.0.1-py3-none-any.whl (4.3 kB)\n",
            "Installing collected packages: Ensembl_converter\n",
            "Successfully installed Ensembl_converter-0.0.1\n",
            "Requirement already satisfied: shap in /usr/local/lib/python3.11/dist-packages (0.48.0)\n",
            "Requirement already satisfied: numpy in /usr/local/lib/python3.11/dist-packages (from shap) (2.0.2)\n",
            "Requirement already satisfied: scipy in /usr/local/lib/python3.11/dist-packages (from shap) (1.16.0)\n",
            "Requirement already satisfied: scikit-learn in /usr/local/lib/python3.11/dist-packages (from shap) (1.6.1)\n",
            "Requirement already satisfied: pandas in /usr/local/lib/python3.11/dist-packages (from shap) (2.2.2)\n",
            "Requirement already satisfied: tqdm>=4.27.0 in /usr/local/lib/python3.11/dist-packages (from shap) (4.67.1)\n",
            "Requirement already satisfied: packaging>20.9 in /usr/local/lib/python3.11/dist-packages (from shap) (25.0)\n",
            "Requirement already satisfied: slicer==0.0.8 in /usr/local/lib/python3.11/dist-packages (from shap) (0.0.8)\n",
            "Requirement already satisfied: numba>=0.54 in /usr/local/lib/python3.11/dist-packages (from shap) (0.60.0)\n",
            "Requirement already satisfied: cloudpickle in /usr/local/lib/python3.11/dist-packages (from shap) (3.1.1)\n",
            "Requirement already satisfied: typing-extensions in /usr/local/lib/python3.11/dist-packages (from shap) (4.14.1)\n",
            "Requirement already satisfied: llvmlite<0.44,>=0.43.0dev0 in /usr/local/lib/python3.11/dist-packages (from numba>=0.54->shap) (0.43.0)\n",
            "Requirement already satisfied: python-dateutil>=2.8.2 in /usr/local/lib/python3.11/dist-packages (from pandas->shap) (2.9.0.post0)\n",
            "Requirement already satisfied: pytz>=2020.1 in /usr/local/lib/python3.11/dist-packages (from pandas->shap) (2025.2)\n",
            "Requirement already satisfied: tzdata>=2022.7 in /usr/local/lib/python3.11/dist-packages (from pandas->shap) (2025.2)\n",
            "Requirement already satisfied: joblib>=1.2.0 in /usr/local/lib/python3.11/dist-packages (from scikit-learn->shap) (1.5.1)\n",
            "Requirement already satisfied: threadpoolctl>=3.1.0 in /usr/local/lib/python3.11/dist-packages (from scikit-learn->shap) (3.6.0)\n",
            "Requirement already satisfied: six>=1.5 in /usr/local/lib/python3.11/dist-packages (from python-dateutil>=2.8.2->pandas->shap) (1.17.0)\n"
          ]
        }
      ],
      "source": [
        "# import the \"Copy of methods.ipynb\" from your google drive into this notebook\n",
        "m = __import__(\"mnt/MyDrive/Colab Notebooks/Copy of methods\")"
      ]
    },
    {
      "cell_type": "markdown",
      "metadata": {
        "id": "7V5GOooiPOam"
      },
      "source": [
        "# read in the data\n",
        "\n",
        "After reading in the methods, we need to read in the data from the NASA OSDR space biology data repository.  In this notebook, we will  be using the immunostaining microscopy PECAM data from OSD-568, the RNA-seq data from OSD-255, and the tonometry data from OSD-583.\n",
        "\n",
        "After reading in the data from OSDR, we will reduce the dimensions of the RNA-seq data to include only those genes whose [coefficient of variation](https://en.wikipedia.org/wiki/Coefficient_of_variation) is greater than a threshold. This is a form of [dimensionality reduction](https://en.wikipedia.org/wiki/Dimensionality_reduction) that will remove some noise from the gene expression so our classification algorithms can focus on the signal.  "
      ]
    },
    {
      "cell_type": "code",
      "execution_count": null,
      "metadata": {
        "id": "ue4aWcjW3Ahv"
      },
      "outputs": [],
      "source": [
        "# define dictionaries for data and metadata\n",
        "data=dict()\n",
        "metadata=dict()"
      ]
    },
    {
      "cell_type": "code",
      "execution_count": null,
      "metadata": {
        "id": "6N8RVfgFN_wf"
      },
      "outputs": [],
      "source": [
        "# read in metadata\n",
        "metadata['255'] = m.read_meta_data('255')\n",
        "metadata['568'] = m.read_meta_data('568')\n",
        "metadata['583'] = m.read_meta_data('583')"
      ]
    },
    {
      "cell_type": "code",
      "execution_count": null,
      "metadata": {
        "id": "8WL7aYMj0v7N",
        "colab": {
          "base_uri": "https://localhost:8080/",
          "height": 261
        },
        "outputId": "d211327d-993f-4135-dbc2-392692ab596c"
      },
      "outputs": [
        {
          "output_type": "stream",
          "name": "stdout",
          "text": [
            "num samples:  100\n",
            "samples:  ['F1_Mouse_Eye', 'F2_Mouse_Eye', 'F3_Mouse_Eye', 'F4_Mouse_Eye', 'F5_Mouse_Eye', 'F6_Mouse_Eye', 'F7_Mouse_Eye', 'F8_Mouse_Eye', 'F9_Mouse_Eye', 'F10_Mouse_Eye', 'F11_Mouse_Eye', 'F12_Mouse_Eye', 'F13_Mouse_Eye', 'F14_Mouse_Eye', 'F15_Mouse_Eye', 'F16_Mouse_Eye', 'F17_Mouse_Eye', 'F18_Mouse_Eye', 'F19_Mouse_Eye', 'F20_Mouse_Eye', 'FViv1_CC1_Mouse_Eye', 'FViv2_CC1_Mouse_Eye', 'FViv3_CC1_Mouse_Eye', 'FViv4_CC1_Mouse_Eye', 'FViv5_CC1_Mouse_Eye', 'FViv6_CC1_Mouse_Eye', 'FViv7_CC1_Mouse_Eye', 'FViv8_CC1_Mouse_Eye', 'FViv9_CC1_Mouse_Eye', 'FViv10_CC1_Mouse_Eye', 'FViv11_CC1_Mouse_Eye', 'FViv12_CC1_Mouse_Eye', 'FViv13_CC1_Mouse_Eye', 'FViv14_CC1_Mouse_Eye', 'FViv15_CC1_Mouse_Eye', 'FViv16_CC1_Mouse_Eye', 'FViv17_CC1_Mouse_Eye', 'FViv18_CC1_Mouse_Eye', 'FViv19_CC1_Mouse_Eye', 'FViv20_CC1_Mouse_Eye', 'GC1_Mouse_Eye', 'GC2_Mouse_Eye', 'GC3_Mouse_Eye', 'GC4_Mouse_Eye', 'GC5_Mouse_Eye', 'GC6_Mouse_Eye', 'GC7_Mouse_Eye', 'GC8_Mouse_Eye', 'GC9_Mouse_Eye', 'GC10_Mouse_Eye', 'GC11_Mouse_Eye', 'GC12_Mouse_Eye', 'GC13_Mouse_Eye', 'GC14_Mouse_Eye', 'GC15_Mouse_Eye', 'GC16_Mouse_Eye', 'GC17_Mouse_Eye', 'GC18_Mouse_Eye', 'GC19_Mouse_Eye', 'GC20_Mouse_Eye', 'Viv1_Mouse_Eye', 'Viv2_Mouse_Eye', 'Viv3_Mouse_Eye', 'Viv4_Mouse_Eye', 'Viv5_Mouse_Eye', 'Viv6_Mouse_Eye', 'Viv7_Mouse_Eye', 'Viv8_Mouse_Eye', 'Viv9_Mouse_Eye', 'Viv10_Mouse_Eye', 'Viv11_Mouse_Eye', 'Viv12_Mouse_Eye', 'Viv13_Mouse_Eye', 'Viv14_Mouse_Eye', 'Viv15_Mouse_Eye', 'Viv16_Mouse_Eye', 'Viv17_Mouse_Eye', 'Viv18_Mouse_Eye', 'Viv19_Mouse_Eye', 'Viv20_Mouse_Eye', 'CC2_1_Mouse_Eye', 'CC2_2_Mouse_Eye', 'CC2_3_Mouse_Eye', 'CC2_4_Mouse_Eye', 'CC2_5_Mouse_Eye', 'CC2_6_Mouse_Eye', 'CC2_7_Mouse_Eye', 'CC2_8_Mouse_Eye', 'CC2_9_Mouse_Eye', 'CC2_10_Mouse_Eye', 'CC2_11_Mouse_Eye', 'CC2_12_Mouse_Eye', 'CC2_13_Mouse_Eye', 'CC2_14_Mouse_Eye', 'CC2_15_Mouse_Eye', 'CC2_16_Mouse_Eye', 'CC2_17_Mouse_Eye', 'CC2_18_Mouse_Eye', 'CC2_19_Mouse_Eye', 'CC2_20_Mouse_Eye']\n"
          ]
        },
        {
          "output_type": "execute_result",
          "data": {
            "text/plain": [
              "  Source Name   Sample Name Factor Value: Spaceflight  Left_1  Left_2  Left_3  \\\n",
              "0          F1  F1_Mouse_Eye              Space Flight      19      16      18   \n",
              "1          F2  F2_Mouse_Eye              Space Flight      17      16      16   \n",
              "2          F3  F3_Mouse_Eye              Space Flight      16      18      15   \n",
              "3          F4  F4_Mouse_Eye              Space Flight      18      15      16   \n",
              "4          F5  F5_Mouse_Eye              Space Flight      18      18      16   \n",
              "\n",
              "    Avg_Left  Right_1  Right_2  Right_3  Avg_Right time_Start Time_End  \n",
              "0  17.666667       18       18       15  17.000000       2:46     2:48  \n",
              "1  16.333333       16       16       15  15.666667       2:55     2:58  \n",
              "2  16.333333       17       19       17  17.666667       2:32     2:34  \n",
              "3  16.333333       18       16       15  16.333333       2:15     2:17  \n",
              "4  17.333333       14       16       14  14.666667       2:20     2:22  "
            ],
            "text/html": [
              "\n",
              "  <div id=\"df-1e041093-d798-4bab-b71d-d43bcd39b039\" class=\"colab-df-container\">\n",
              "    <div>\n",
              "<style scoped>\n",
              "    .dataframe tbody tr th:only-of-type {\n",
              "        vertical-align: middle;\n",
              "    }\n",
              "\n",
              "    .dataframe tbody tr th {\n",
              "        vertical-align: top;\n",
              "    }\n",
              "\n",
              "    .dataframe thead th {\n",
              "        text-align: right;\n",
              "    }\n",
              "</style>\n",
              "<table border=\"1\" class=\"dataframe\">\n",
              "  <thead>\n",
              "    <tr style=\"text-align: right;\">\n",
              "      <th></th>\n",
              "      <th>Source Name</th>\n",
              "      <th>Sample Name</th>\n",
              "      <th>Factor Value: Spaceflight</th>\n",
              "      <th>Left_1</th>\n",
              "      <th>Left_2</th>\n",
              "      <th>Left_3</th>\n",
              "      <th>Avg_Left</th>\n",
              "      <th>Right_1</th>\n",
              "      <th>Right_2</th>\n",
              "      <th>Right_3</th>\n",
              "      <th>Avg_Right</th>\n",
              "      <th>time_Start</th>\n",
              "      <th>Time_End</th>\n",
              "    </tr>\n",
              "  </thead>\n",
              "  <tbody>\n",
              "    <tr>\n",
              "      <th>0</th>\n",
              "      <td>F1</td>\n",
              "      <td>F1_Mouse_Eye</td>\n",
              "      <td>Space Flight</td>\n",
              "      <td>19</td>\n",
              "      <td>16</td>\n",
              "      <td>18</td>\n",
              "      <td>17.666667</td>\n",
              "      <td>18</td>\n",
              "      <td>18</td>\n",
              "      <td>15</td>\n",
              "      <td>17.000000</td>\n",
              "      <td>2:46</td>\n",
              "      <td>2:48</td>\n",
              "    </tr>\n",
              "    <tr>\n",
              "      <th>1</th>\n",
              "      <td>F2</td>\n",
              "      <td>F2_Mouse_Eye</td>\n",
              "      <td>Space Flight</td>\n",
              "      <td>17</td>\n",
              "      <td>16</td>\n",
              "      <td>16</td>\n",
              "      <td>16.333333</td>\n",
              "      <td>16</td>\n",
              "      <td>16</td>\n",
              "      <td>15</td>\n",
              "      <td>15.666667</td>\n",
              "      <td>2:55</td>\n",
              "      <td>2:58</td>\n",
              "    </tr>\n",
              "    <tr>\n",
              "      <th>2</th>\n",
              "      <td>F3</td>\n",
              "      <td>F3_Mouse_Eye</td>\n",
              "      <td>Space Flight</td>\n",
              "      <td>16</td>\n",
              "      <td>18</td>\n",
              "      <td>15</td>\n",
              "      <td>16.333333</td>\n",
              "      <td>17</td>\n",
              "      <td>19</td>\n",
              "      <td>17</td>\n",
              "      <td>17.666667</td>\n",
              "      <td>2:32</td>\n",
              "      <td>2:34</td>\n",
              "    </tr>\n",
              "    <tr>\n",
              "      <th>3</th>\n",
              "      <td>F4</td>\n",
              "      <td>F4_Mouse_Eye</td>\n",
              "      <td>Space Flight</td>\n",
              "      <td>18</td>\n",
              "      <td>15</td>\n",
              "      <td>16</td>\n",
              "      <td>16.333333</td>\n",
              "      <td>18</td>\n",
              "      <td>16</td>\n",
              "      <td>15</td>\n",
              "      <td>16.333333</td>\n",
              "      <td>2:15</td>\n",
              "      <td>2:17</td>\n",
              "    </tr>\n",
              "    <tr>\n",
              "      <th>4</th>\n",
              "      <td>F5</td>\n",
              "      <td>F5_Mouse_Eye</td>\n",
              "      <td>Space Flight</td>\n",
              "      <td>18</td>\n",
              "      <td>18</td>\n",
              "      <td>16</td>\n",
              "      <td>17.333333</td>\n",
              "      <td>14</td>\n",
              "      <td>16</td>\n",
              "      <td>14</td>\n",
              "      <td>14.666667</td>\n",
              "      <td>2:20</td>\n",
              "      <td>2:22</td>\n",
              "    </tr>\n",
              "  </tbody>\n",
              "</table>\n",
              "</div>\n",
              "    <div class=\"colab-df-buttons\">\n",
              "\n",
              "  <div class=\"colab-df-container\">\n",
              "    <button class=\"colab-df-convert\" onclick=\"convertToInteractive('df-1e041093-d798-4bab-b71d-d43bcd39b039')\"\n",
              "            title=\"Convert this dataframe to an interactive table.\"\n",
              "            style=\"display:none;\">\n",
              "\n",
              "  <svg xmlns=\"http://www.w3.org/2000/svg\" height=\"24px\" viewBox=\"0 -960 960 960\">\n",
              "    <path d=\"M120-120v-720h720v720H120Zm60-500h600v-160H180v160Zm220 220h160v-160H400v160Zm0 220h160v-160H400v160ZM180-400h160v-160H180v160Zm440 0h160v-160H620v160ZM180-180h160v-160H180v160Zm440 0h160v-160H620v160Z\"/>\n",
              "  </svg>\n",
              "    </button>\n",
              "\n",
              "  <style>\n",
              "    .colab-df-container {\n",
              "      display:flex;\n",
              "      gap: 12px;\n",
              "    }\n",
              "\n",
              "    .colab-df-convert {\n",
              "      background-color: #E8F0FE;\n",
              "      border: none;\n",
              "      border-radius: 50%;\n",
              "      cursor: pointer;\n",
              "      display: none;\n",
              "      fill: #1967D2;\n",
              "      height: 32px;\n",
              "      padding: 0 0 0 0;\n",
              "      width: 32px;\n",
              "    }\n",
              "\n",
              "    .colab-df-convert:hover {\n",
              "      background-color: #E2EBFA;\n",
              "      box-shadow: 0px 1px 2px rgba(60, 64, 67, 0.3), 0px 1px 3px 1px rgba(60, 64, 67, 0.15);\n",
              "      fill: #174EA6;\n",
              "    }\n",
              "\n",
              "    .colab-df-buttons div {\n",
              "      margin-bottom: 4px;\n",
              "    }\n",
              "\n",
              "    [theme=dark] .colab-df-convert {\n",
              "      background-color: #3B4455;\n",
              "      fill: #D2E3FC;\n",
              "    }\n",
              "\n",
              "    [theme=dark] .colab-df-convert:hover {\n",
              "      background-color: #434B5C;\n",
              "      box-shadow: 0px 1px 3px 1px rgba(0, 0, 0, 0.15);\n",
              "      filter: drop-shadow(0px 1px 2px rgba(0, 0, 0, 0.3));\n",
              "      fill: #FFFFFF;\n",
              "    }\n",
              "  </style>\n",
              "\n",
              "    <script>\n",
              "      const buttonEl =\n",
              "        document.querySelector('#df-1e041093-d798-4bab-b71d-d43bcd39b039 button.colab-df-convert');\n",
              "      buttonEl.style.display =\n",
              "        google.colab.kernel.accessAllowed ? 'block' : 'none';\n",
              "\n",
              "      async function convertToInteractive(key) {\n",
              "        const element = document.querySelector('#df-1e041093-d798-4bab-b71d-d43bcd39b039');\n",
              "        const dataTable =\n",
              "          await google.colab.kernel.invokeFunction('convertToInteractive',\n",
              "                                                    [key], {});\n",
              "        if (!dataTable) return;\n",
              "\n",
              "        const docLinkHtml = 'Like what you see? Visit the ' +\n",
              "          '<a target=\"_blank\" href=https://colab.research.google.com/notebooks/data_table.ipynb>data table notebook</a>'\n",
              "          + ' to learn more about interactive tables.';\n",
              "        element.innerHTML = '';\n",
              "        dataTable['output_type'] = 'display_data';\n",
              "        await google.colab.output.renderOutput(dataTable, element);\n",
              "        const docLink = document.createElement('div');\n",
              "        docLink.innerHTML = docLinkHtml;\n",
              "        element.appendChild(docLink);\n",
              "      }\n",
              "    </script>\n",
              "  </div>\n",
              "\n",
              "\n",
              "    <div id=\"df-802891de-0419-48d9-8c08-5040a81d5d63\">\n",
              "      <button class=\"colab-df-quickchart\" onclick=\"quickchart('df-802891de-0419-48d9-8c08-5040a81d5d63')\"\n",
              "                title=\"Suggest charts\"\n",
              "                style=\"display:none;\">\n",
              "\n",
              "<svg xmlns=\"http://www.w3.org/2000/svg\" height=\"24px\"viewBox=\"0 0 24 24\"\n",
              "     width=\"24px\">\n",
              "    <g>\n",
              "        <path d=\"M19 3H5c-1.1 0-2 .9-2 2v14c0 1.1.9 2 2 2h14c1.1 0 2-.9 2-2V5c0-1.1-.9-2-2-2zM9 17H7v-7h2v7zm4 0h-2V7h2v10zm4 0h-2v-4h2v4z\"/>\n",
              "    </g>\n",
              "</svg>\n",
              "      </button>\n",
              "\n",
              "<style>\n",
              "  .colab-df-quickchart {\n",
              "      --bg-color: #E8F0FE;\n",
              "      --fill-color: #1967D2;\n",
              "      --hover-bg-color: #E2EBFA;\n",
              "      --hover-fill-color: #174EA6;\n",
              "      --disabled-fill-color: #AAA;\n",
              "      --disabled-bg-color: #DDD;\n",
              "  }\n",
              "\n",
              "  [theme=dark] .colab-df-quickchart {\n",
              "      --bg-color: #3B4455;\n",
              "      --fill-color: #D2E3FC;\n",
              "      --hover-bg-color: #434B5C;\n",
              "      --hover-fill-color: #FFFFFF;\n",
              "      --disabled-bg-color: #3B4455;\n",
              "      --disabled-fill-color: #666;\n",
              "  }\n",
              "\n",
              "  .colab-df-quickchart {\n",
              "    background-color: var(--bg-color);\n",
              "    border: none;\n",
              "    border-radius: 50%;\n",
              "    cursor: pointer;\n",
              "    display: none;\n",
              "    fill: var(--fill-color);\n",
              "    height: 32px;\n",
              "    padding: 0;\n",
              "    width: 32px;\n",
              "  }\n",
              "\n",
              "  .colab-df-quickchart:hover {\n",
              "    background-color: var(--hover-bg-color);\n",
              "    box-shadow: 0 1px 2px rgba(60, 64, 67, 0.3), 0 1px 3px 1px rgba(60, 64, 67, 0.15);\n",
              "    fill: var(--button-hover-fill-color);\n",
              "  }\n",
              "\n",
              "  .colab-df-quickchart-complete:disabled,\n",
              "  .colab-df-quickchart-complete:disabled:hover {\n",
              "    background-color: var(--disabled-bg-color);\n",
              "    fill: var(--disabled-fill-color);\n",
              "    box-shadow: none;\n",
              "  }\n",
              "\n",
              "  .colab-df-spinner {\n",
              "    border: 2px solid var(--fill-color);\n",
              "    border-color: transparent;\n",
              "    border-bottom-color: var(--fill-color);\n",
              "    animation:\n",
              "      spin 1s steps(1) infinite;\n",
              "  }\n",
              "\n",
              "  @keyframes spin {\n",
              "    0% {\n",
              "      border-color: transparent;\n",
              "      border-bottom-color: var(--fill-color);\n",
              "      border-left-color: var(--fill-color);\n",
              "    }\n",
              "    20% {\n",
              "      border-color: transparent;\n",
              "      border-left-color: var(--fill-color);\n",
              "      border-top-color: var(--fill-color);\n",
              "    }\n",
              "    30% {\n",
              "      border-color: transparent;\n",
              "      border-left-color: var(--fill-color);\n",
              "      border-top-color: var(--fill-color);\n",
              "      border-right-color: var(--fill-color);\n",
              "    }\n",
              "    40% {\n",
              "      border-color: transparent;\n",
              "      border-right-color: var(--fill-color);\n",
              "      border-top-color: var(--fill-color);\n",
              "    }\n",
              "    60% {\n",
              "      border-color: transparent;\n",
              "      border-right-color: var(--fill-color);\n",
              "    }\n",
              "    80% {\n",
              "      border-color: transparent;\n",
              "      border-right-color: var(--fill-color);\n",
              "      border-bottom-color: var(--fill-color);\n",
              "    }\n",
              "    90% {\n",
              "      border-color: transparent;\n",
              "      border-bottom-color: var(--fill-color);\n",
              "    }\n",
              "  }\n",
              "</style>\n",
              "\n",
              "      <script>\n",
              "        async function quickchart(key) {\n",
              "          const quickchartButtonEl =\n",
              "            document.querySelector('#' + key + ' button');\n",
              "          quickchartButtonEl.disabled = true;  // To prevent multiple clicks.\n",
              "          quickchartButtonEl.classList.add('colab-df-spinner');\n",
              "          try {\n",
              "            const charts = await google.colab.kernel.invokeFunction(\n",
              "                'suggestCharts', [key], {});\n",
              "          } catch (error) {\n",
              "            console.error('Error during call to suggestCharts:', error);\n",
              "          }\n",
              "          quickchartButtonEl.classList.remove('colab-df-spinner');\n",
              "          quickchartButtonEl.classList.add('colab-df-quickchart-complete');\n",
              "        }\n",
              "        (() => {\n",
              "          let quickchartButtonEl =\n",
              "            document.querySelector('#df-802891de-0419-48d9-8c08-5040a81d5d63 button');\n",
              "          quickchartButtonEl.style.display =\n",
              "            google.colab.kernel.accessAllowed ? 'block' : 'none';\n",
              "        })();\n",
              "      </script>\n",
              "    </div>\n",
              "\n",
              "    </div>\n",
              "  </div>\n"
            ],
            "application/vnd.google.colaboratory.intrinsic+json": {
              "type": "dataframe",
              "summary": "{\n  \"name\": \"data['iop']\",\n  \"rows\": 5,\n  \"fields\": [\n    {\n      \"column\": \"Source Name\",\n      \"properties\": {\n        \"dtype\": \"string\",\n        \"num_unique_values\": 5,\n        \"samples\": [\n          \"F2\",\n          \"F5\",\n          \"F3\"\n        ],\n        \"semantic_type\": \"\",\n        \"description\": \"\"\n      }\n    },\n    {\n      \"column\": \"Sample Name\",\n      \"properties\": {\n        \"dtype\": \"string\",\n        \"num_unique_values\": 5,\n        \"samples\": [\n          \"F2_Mouse_Eye\",\n          \"F5_Mouse_Eye\",\n          \"F3_Mouse_Eye\"\n        ],\n        \"semantic_type\": \"\",\n        \"description\": \"\"\n      }\n    },\n    {\n      \"column\": \"Factor Value: Spaceflight\",\n      \"properties\": {\n        \"dtype\": \"category\",\n        \"num_unique_values\": 1,\n        \"samples\": [\n          \"Space Flight\"\n        ],\n        \"semantic_type\": \"\",\n        \"description\": \"\"\n      }\n    },\n    {\n      \"column\": \"Left_1\",\n      \"properties\": {\n        \"dtype\": \"number\",\n        \"std\": 1,\n        \"min\": 16,\n        \"max\": 19,\n        \"num_unique_values\": 4,\n        \"samples\": [\n          17\n        ],\n        \"semantic_type\": \"\",\n        \"description\": \"\"\n      }\n    },\n    {\n      \"column\": \"Left_2\",\n      \"properties\": {\n        \"dtype\": \"number\",\n        \"std\": 1,\n        \"min\": 15,\n        \"max\": 18,\n        \"num_unique_values\": 3,\n        \"samples\": [\n          16\n        ],\n        \"semantic_type\": \"\",\n        \"description\": \"\"\n      }\n    },\n    {\n      \"column\": \"Left_3\",\n      \"properties\": {\n        \"dtype\": \"number\",\n        \"std\": 1,\n        \"min\": 15,\n        \"max\": 18,\n        \"num_unique_values\": 3,\n        \"samples\": [\n          18\n        ],\n        \"semantic_type\": \"\",\n        \"description\": \"\"\n      }\n    },\n    {\n      \"column\": \"Avg_Left\",\n      \"properties\": {\n        \"dtype\": \"number\",\n        \"std\": 0.649786291876885,\n        \"min\": 16.33333333,\n        \"max\": 17.66666667,\n        \"num_unique_values\": 3,\n        \"samples\": [\n          17.66666667\n        ],\n        \"semantic_type\": \"\",\n        \"description\": \"\"\n      }\n    },\n    {\n      \"column\": \"Right_1\",\n      \"properties\": {\n        \"dtype\": \"number\",\n        \"std\": 1,\n        \"min\": 14,\n        \"max\": 18,\n        \"num_unique_values\": 4,\n        \"samples\": [\n          16\n        ],\n        \"semantic_type\": \"\",\n        \"description\": \"\"\n      }\n    },\n    {\n      \"column\": \"Right_2\",\n      \"properties\": {\n        \"dtype\": \"number\",\n        \"std\": 1,\n        \"min\": 16,\n        \"max\": 19,\n        \"num_unique_values\": 3,\n        \"samples\": [\n          18\n        ],\n        \"semantic_type\": \"\",\n        \"description\": \"\"\n      }\n    },\n    {\n      \"column\": \"Right_3\",\n      \"properties\": {\n        \"dtype\": \"number\",\n        \"std\": 1,\n        \"min\": 14,\n        \"max\": 17,\n        \"num_unique_values\": 3,\n        \"samples\": [\n          15\n        ],\n        \"semantic_type\": \"\",\n        \"description\": \"\"\n      }\n    },\n    {\n      \"column\": \"Avg_Right\",\n      \"properties\": {\n        \"dtype\": \"number\",\n        \"std\": 1.1642832791512177,\n        \"min\": 14.66666667,\n        \"max\": 17.66666667,\n        \"num_unique_values\": 5,\n        \"samples\": [\n          15.66666667\n        ],\n        \"semantic_type\": \"\",\n        \"description\": \"\"\n      }\n    },\n    {\n      \"column\": \"time_Start\",\n      \"properties\": {\n        \"dtype\": \"object\",\n        \"num_unique_values\": 5,\n        \"samples\": [\n          \"2:55\"\n        ],\n        \"semantic_type\": \"\",\n        \"description\": \"\"\n      }\n    },\n    {\n      \"column\": \"Time_End\",\n      \"properties\": {\n        \"dtype\": \"object\",\n        \"num_unique_values\": 5,\n        \"samples\": [\n          \"2:58\"\n        ],\n        \"semantic_type\": \"\",\n        \"description\": \"\"\n      }\n    }\n  ]\n}"
            }
          },
          "metadata": {},
          "execution_count": 7
        }
      ],
      "source": [
        "# read in tonometry transformed data from OSD-583\n",
        "data['iop'] = m.read_phenotype_data('583', 'LSDS-16_tonometry_maoTRANSFORMED')\n",
        "print('num samples: ', str(len(list(data['iop']['Sample Name']))))\n",
        "print('samples: ', list(data['iop']['Sample Name']))\n",
        "data['iop'].head()"
      ]
    },
    {
      "cell_type": "code",
      "execution_count": null,
      "metadata": {
        "id": "oUZa7u_YbX_4",
        "colab": {
          "base_uri": "https://localhost:8080/",
          "height": 224
        },
        "outputId": "856a190c-d091-42f2-dcab-7f27eb3fcc3f"
      },
      "outputs": [
        {
          "output_type": "stream",
          "name": "stdout",
          "text": [
            "num records:  11\n"
          ]
        },
        {
          "output_type": "execute_result",
          "data": {
            "text/plain": [
              "     Sample_Name  Average\n",
              "0  F15_Mouse_Eye  45.0098\n",
              "1  F16_Mouse_Eye  53.9888\n",
              "2  F17_Mouse_Eye  37.0548\n",
              "3  F18_Mouse_Eye  67.0988\n",
              "4  F19_Mouse_Eye  49.7456"
            ],
            "text/html": [
              "\n",
              "  <div id=\"df-8e08dd5d-5d3a-4cc0-897b-75b12512cd8e\" class=\"colab-df-container\">\n",
              "    <div>\n",
              "<style scoped>\n",
              "    .dataframe tbody tr th:only-of-type {\n",
              "        vertical-align: middle;\n",
              "    }\n",
              "\n",
              "    .dataframe tbody tr th {\n",
              "        vertical-align: top;\n",
              "    }\n",
              "\n",
              "    .dataframe thead th {\n",
              "        text-align: right;\n",
              "    }\n",
              "</style>\n",
              "<table border=\"1\" class=\"dataframe\">\n",
              "  <thead>\n",
              "    <tr style=\"text-align: right;\">\n",
              "      <th></th>\n",
              "      <th>Sample_Name</th>\n",
              "      <th>Average</th>\n",
              "    </tr>\n",
              "  </thead>\n",
              "  <tbody>\n",
              "    <tr>\n",
              "      <th>0</th>\n",
              "      <td>F15_Mouse_Eye</td>\n",
              "      <td>45.0098</td>\n",
              "    </tr>\n",
              "    <tr>\n",
              "      <th>1</th>\n",
              "      <td>F16_Mouse_Eye</td>\n",
              "      <td>53.9888</td>\n",
              "    </tr>\n",
              "    <tr>\n",
              "      <th>2</th>\n",
              "      <td>F17_Mouse_Eye</td>\n",
              "      <td>37.0548</td>\n",
              "    </tr>\n",
              "    <tr>\n",
              "      <th>3</th>\n",
              "      <td>F18_Mouse_Eye</td>\n",
              "      <td>67.0988</td>\n",
              "    </tr>\n",
              "    <tr>\n",
              "      <th>4</th>\n",
              "      <td>F19_Mouse_Eye</td>\n",
              "      <td>49.7456</td>\n",
              "    </tr>\n",
              "  </tbody>\n",
              "</table>\n",
              "</div>\n",
              "    <div class=\"colab-df-buttons\">\n",
              "\n",
              "  <div class=\"colab-df-container\">\n",
              "    <button class=\"colab-df-convert\" onclick=\"convertToInteractive('df-8e08dd5d-5d3a-4cc0-897b-75b12512cd8e')\"\n",
              "            title=\"Convert this dataframe to an interactive table.\"\n",
              "            style=\"display:none;\">\n",
              "\n",
              "  <svg xmlns=\"http://www.w3.org/2000/svg\" height=\"24px\" viewBox=\"0 -960 960 960\">\n",
              "    <path d=\"M120-120v-720h720v720H120Zm60-500h600v-160H180v160Zm220 220h160v-160H400v160Zm0 220h160v-160H400v160ZM180-400h160v-160H180v160Zm440 0h160v-160H620v160ZM180-180h160v-160H180v160Zm440 0h160v-160H620v160Z\"/>\n",
              "  </svg>\n",
              "    </button>\n",
              "\n",
              "  <style>\n",
              "    .colab-df-container {\n",
              "      display:flex;\n",
              "      gap: 12px;\n",
              "    }\n",
              "\n",
              "    .colab-df-convert {\n",
              "      background-color: #E8F0FE;\n",
              "      border: none;\n",
              "      border-radius: 50%;\n",
              "      cursor: pointer;\n",
              "      display: none;\n",
              "      fill: #1967D2;\n",
              "      height: 32px;\n",
              "      padding: 0 0 0 0;\n",
              "      width: 32px;\n",
              "    }\n",
              "\n",
              "    .colab-df-convert:hover {\n",
              "      background-color: #E2EBFA;\n",
              "      box-shadow: 0px 1px 2px rgba(60, 64, 67, 0.3), 0px 1px 3px 1px rgba(60, 64, 67, 0.15);\n",
              "      fill: #174EA6;\n",
              "    }\n",
              "\n",
              "    .colab-df-buttons div {\n",
              "      margin-bottom: 4px;\n",
              "    }\n",
              "\n",
              "    [theme=dark] .colab-df-convert {\n",
              "      background-color: #3B4455;\n",
              "      fill: #D2E3FC;\n",
              "    }\n",
              "\n",
              "    [theme=dark] .colab-df-convert:hover {\n",
              "      background-color: #434B5C;\n",
              "      box-shadow: 0px 1px 3px 1px rgba(0, 0, 0, 0.15);\n",
              "      filter: drop-shadow(0px 1px 2px rgba(0, 0, 0, 0.3));\n",
              "      fill: #FFFFFF;\n",
              "    }\n",
              "  </style>\n",
              "\n",
              "    <script>\n",
              "      const buttonEl =\n",
              "        document.querySelector('#df-8e08dd5d-5d3a-4cc0-897b-75b12512cd8e button.colab-df-convert');\n",
              "      buttonEl.style.display =\n",
              "        google.colab.kernel.accessAllowed ? 'block' : 'none';\n",
              "\n",
              "      async function convertToInteractive(key) {\n",
              "        const element = document.querySelector('#df-8e08dd5d-5d3a-4cc0-897b-75b12512cd8e');\n",
              "        const dataTable =\n",
              "          await google.colab.kernel.invokeFunction('convertToInteractive',\n",
              "                                                    [key], {});\n",
              "        if (!dataTable) return;\n",
              "\n",
              "        const docLinkHtml = 'Like what you see? Visit the ' +\n",
              "          '<a target=\"_blank\" href=https://colab.research.google.com/notebooks/data_table.ipynb>data table notebook</a>'\n",
              "          + ' to learn more about interactive tables.';\n",
              "        element.innerHTML = '';\n",
              "        dataTable['output_type'] = 'display_data';\n",
              "        await google.colab.output.renderOutput(dataTable, element);\n",
              "        const docLink = document.createElement('div');\n",
              "        docLink.innerHTML = docLinkHtml;\n",
              "        element.appendChild(docLink);\n",
              "      }\n",
              "    </script>\n",
              "  </div>\n",
              "\n",
              "\n",
              "    <div id=\"df-ea00fdc6-b9d9-4d7e-bde7-f1e70e5a136c\">\n",
              "      <button class=\"colab-df-quickchart\" onclick=\"quickchart('df-ea00fdc6-b9d9-4d7e-bde7-f1e70e5a136c')\"\n",
              "                title=\"Suggest charts\"\n",
              "                style=\"display:none;\">\n",
              "\n",
              "<svg xmlns=\"http://www.w3.org/2000/svg\" height=\"24px\"viewBox=\"0 0 24 24\"\n",
              "     width=\"24px\">\n",
              "    <g>\n",
              "        <path d=\"M19 3H5c-1.1 0-2 .9-2 2v14c0 1.1.9 2 2 2h14c1.1 0 2-.9 2-2V5c0-1.1-.9-2-2-2zM9 17H7v-7h2v7zm4 0h-2V7h2v10zm4 0h-2v-4h2v4z\"/>\n",
              "    </g>\n",
              "</svg>\n",
              "      </button>\n",
              "\n",
              "<style>\n",
              "  .colab-df-quickchart {\n",
              "      --bg-color: #E8F0FE;\n",
              "      --fill-color: #1967D2;\n",
              "      --hover-bg-color: #E2EBFA;\n",
              "      --hover-fill-color: #174EA6;\n",
              "      --disabled-fill-color: #AAA;\n",
              "      --disabled-bg-color: #DDD;\n",
              "  }\n",
              "\n",
              "  [theme=dark] .colab-df-quickchart {\n",
              "      --bg-color: #3B4455;\n",
              "      --fill-color: #D2E3FC;\n",
              "      --hover-bg-color: #434B5C;\n",
              "      --hover-fill-color: #FFFFFF;\n",
              "      --disabled-bg-color: #3B4455;\n",
              "      --disabled-fill-color: #666;\n",
              "  }\n",
              "\n",
              "  .colab-df-quickchart {\n",
              "    background-color: var(--bg-color);\n",
              "    border: none;\n",
              "    border-radius: 50%;\n",
              "    cursor: pointer;\n",
              "    display: none;\n",
              "    fill: var(--fill-color);\n",
              "    height: 32px;\n",
              "    padding: 0;\n",
              "    width: 32px;\n",
              "  }\n",
              "\n",
              "  .colab-df-quickchart:hover {\n",
              "    background-color: var(--hover-bg-color);\n",
              "    box-shadow: 0 1px 2px rgba(60, 64, 67, 0.3), 0 1px 3px 1px rgba(60, 64, 67, 0.15);\n",
              "    fill: var(--button-hover-fill-color);\n",
              "  }\n",
              "\n",
              "  .colab-df-quickchart-complete:disabled,\n",
              "  .colab-df-quickchart-complete:disabled:hover {\n",
              "    background-color: var(--disabled-bg-color);\n",
              "    fill: var(--disabled-fill-color);\n",
              "    box-shadow: none;\n",
              "  }\n",
              "\n",
              "  .colab-df-spinner {\n",
              "    border: 2px solid var(--fill-color);\n",
              "    border-color: transparent;\n",
              "    border-bottom-color: var(--fill-color);\n",
              "    animation:\n",
              "      spin 1s steps(1) infinite;\n",
              "  }\n",
              "\n",
              "  @keyframes spin {\n",
              "    0% {\n",
              "      border-color: transparent;\n",
              "      border-bottom-color: var(--fill-color);\n",
              "      border-left-color: var(--fill-color);\n",
              "    }\n",
              "    20% {\n",
              "      border-color: transparent;\n",
              "      border-left-color: var(--fill-color);\n",
              "      border-top-color: var(--fill-color);\n",
              "    }\n",
              "    30% {\n",
              "      border-color: transparent;\n",
              "      border-left-color: var(--fill-color);\n",
              "      border-top-color: var(--fill-color);\n",
              "      border-right-color: var(--fill-color);\n",
              "    }\n",
              "    40% {\n",
              "      border-color: transparent;\n",
              "      border-right-color: var(--fill-color);\n",
              "      border-top-color: var(--fill-color);\n",
              "    }\n",
              "    60% {\n",
              "      border-color: transparent;\n",
              "      border-right-color: var(--fill-color);\n",
              "    }\n",
              "    80% {\n",
              "      border-color: transparent;\n",
              "      border-right-color: var(--fill-color);\n",
              "      border-bottom-color: var(--fill-color);\n",
              "    }\n",
              "    90% {\n",
              "      border-color: transparent;\n",
              "      border-bottom-color: var(--fill-color);\n",
              "    }\n",
              "  }\n",
              "</style>\n",
              "\n",
              "      <script>\n",
              "        async function quickchart(key) {\n",
              "          const quickchartButtonEl =\n",
              "            document.querySelector('#' + key + ' button');\n",
              "          quickchartButtonEl.disabled = true;  // To prevent multiple clicks.\n",
              "          quickchartButtonEl.classList.add('colab-df-spinner');\n",
              "          try {\n",
              "            const charts = await google.colab.kernel.invokeFunction(\n",
              "                'suggestCharts', [key], {});\n",
              "          } catch (error) {\n",
              "            console.error('Error during call to suggestCharts:', error);\n",
              "          }\n",
              "          quickchartButtonEl.classList.remove('colab-df-spinner');\n",
              "          quickchartButtonEl.classList.add('colab-df-quickchart-complete');\n",
              "        }\n",
              "        (() => {\n",
              "          let quickchartButtonEl =\n",
              "            document.querySelector('#df-ea00fdc6-b9d9-4d7e-bde7-f1e70e5a136c button');\n",
              "          quickchartButtonEl.style.display =\n",
              "            google.colab.kernel.accessAllowed ? 'block' : 'none';\n",
              "        })();\n",
              "      </script>\n",
              "    </div>\n",
              "\n",
              "    </div>\n",
              "  </div>\n"
            ],
            "application/vnd.google.colaboratory.intrinsic+json": {
              "type": "dataframe",
              "summary": "{\n  \"name\": \"data['immunoMICRO-PECAM']\",\n  \"rows\": 5,\n  \"fields\": [\n    {\n      \"column\": \"Sample_Name\",\n      \"properties\": {\n        \"dtype\": \"string\",\n        \"num_unique_values\": 5,\n        \"samples\": [\n          \"F16_Mouse_Eye\",\n          \"F19_Mouse_Eye\",\n          \"F17_Mouse_Eye\"\n        ],\n        \"semantic_type\": \"\",\n        \"description\": \"\"\n      }\n    },\n    {\n      \"column\": \"Average\",\n      \"properties\": {\n        \"dtype\": \"number\",\n        \"std\": 11.170777237417276,\n        \"min\": 37.0548,\n        \"max\": 67.0988,\n        \"num_unique_values\": 5,\n        \"samples\": [\n          53.9888,\n          49.7456,\n          37.0548\n        ],\n        \"semantic_type\": \"\",\n        \"description\": \"\"\n      }\n    }\n  ]\n}"
            }
          },
          "metadata": {},
          "execution_count": 8
        }
      ],
      "source": [
        "# read in the immunostaining PECAM microscopy data from OSD-568\n",
        "data['immunoMICRO-PECAM'] = m.read_phenotype_data('568', 'LSDS-5_immunostaining_microscopy_PECAMtr_TRANSFORMED')\n",
        "print('num records: ', len(data['immunoMICRO-PECAM']))\n",
        "data['immunoMICRO-PECAM'].head()"
      ]
    },
    {
      "cell_type": "code",
      "execution_count": null,
      "metadata": {
        "id": "ZffWrkFvErlN",
        "colab": {
          "base_uri": "https://localhost:8080/",
          "height": 226
        },
        "outputId": "501d74d9-1c9e-4b6d-a8d0-8406d19642b6"
      },
      "outputs": [
        {
          "output_type": "execute_result",
          "data": {
            "text/plain": [
              "           Unnamed: 0  GSM3932693  GSM3932694  GSM3932695  GSM3932696  \\\n",
              "0  ENSMUSG00000000001  265.491507  272.529585  264.891134  245.804042   \n",
              "1  ENSMUSG00000000028   22.737528   36.058646   30.659868   33.307123   \n",
              "2  ENSMUSG00000000031    5.574720    1.925595    2.899933   21.047427   \n",
              "3  ENSMUSG00000000037   14.601777   17.493816   16.577920   32.447456   \n",
              "4  ENSMUSG00000000049    3.107115    2.176549    0.642689    4.486992   \n",
              "\n",
              "   GSM3932697  GSM3932698  GSM3932699  GSM3932700  GSM3932701  GSM3932702  \\\n",
              "0  205.478969  244.866957  250.587443  232.249604  241.739792  240.866309   \n",
              "1   11.896920   27.231801   21.727401   30.940275   34.840848   36.468997   \n",
              "2    0.000000    3.063051    7.105655    6.710188    3.266199    6.700680   \n",
              "3   12.940934   13.678983    9.358027   15.476949   25.085866   13.506677   \n",
              "4    0.895108    3.846941    2.640744    0.000000    0.000000    1.243833   \n",
              "\n",
              "   GSM3932703  GSM3932704  GSM3932705  GSM3932706  GSM3932707  GSM3932708  \n",
              "0  278.344274  266.781019  238.447580  239.632932  242.777557  257.121918  \n",
              "1   29.993641   28.377921   19.433721   18.704883   26.226110   47.521611  \n",
              "2    1.852027    1.308210    2.248341    5.816845    2.041330    1.478741  \n",
              "3   24.809501   13.731740   21.564524   17.626982   28.873796   13.556234  \n",
              "4    0.000000    0.000000    1.676701    1.345919    0.769123    0.684388  "
            ],
            "text/html": [
              "\n",
              "  <div id=\"df-7b626209-5482-4a64-b5db-97d39d45bcc3\" class=\"colab-df-container\">\n",
              "    <div>\n",
              "<style scoped>\n",
              "    .dataframe tbody tr th:only-of-type {\n",
              "        vertical-align: middle;\n",
              "    }\n",
              "\n",
              "    .dataframe tbody tr th {\n",
              "        vertical-align: top;\n",
              "    }\n",
              "\n",
              "    .dataframe thead th {\n",
              "        text-align: right;\n",
              "    }\n",
              "</style>\n",
              "<table border=\"1\" class=\"dataframe\">\n",
              "  <thead>\n",
              "    <tr style=\"text-align: right;\">\n",
              "      <th></th>\n",
              "      <th>Unnamed: 0</th>\n",
              "      <th>GSM3932693</th>\n",
              "      <th>GSM3932694</th>\n",
              "      <th>GSM3932695</th>\n",
              "      <th>GSM3932696</th>\n",
              "      <th>GSM3932697</th>\n",
              "      <th>GSM3932698</th>\n",
              "      <th>GSM3932699</th>\n",
              "      <th>GSM3932700</th>\n",
              "      <th>GSM3932701</th>\n",
              "      <th>GSM3932702</th>\n",
              "      <th>GSM3932703</th>\n",
              "      <th>GSM3932704</th>\n",
              "      <th>GSM3932705</th>\n",
              "      <th>GSM3932706</th>\n",
              "      <th>GSM3932707</th>\n",
              "      <th>GSM3932708</th>\n",
              "    </tr>\n",
              "  </thead>\n",
              "  <tbody>\n",
              "    <tr>\n",
              "      <th>0</th>\n",
              "      <td>ENSMUSG00000000001</td>\n",
              "      <td>265.491507</td>\n",
              "      <td>272.529585</td>\n",
              "      <td>264.891134</td>\n",
              "      <td>245.804042</td>\n",
              "      <td>205.478969</td>\n",
              "      <td>244.866957</td>\n",
              "      <td>250.587443</td>\n",
              "      <td>232.249604</td>\n",
              "      <td>241.739792</td>\n",
              "      <td>240.866309</td>\n",
              "      <td>278.344274</td>\n",
              "      <td>266.781019</td>\n",
              "      <td>238.447580</td>\n",
              "      <td>239.632932</td>\n",
              "      <td>242.777557</td>\n",
              "      <td>257.121918</td>\n",
              "    </tr>\n",
              "    <tr>\n",
              "      <th>1</th>\n",
              "      <td>ENSMUSG00000000028</td>\n",
              "      <td>22.737528</td>\n",
              "      <td>36.058646</td>\n",
              "      <td>30.659868</td>\n",
              "      <td>33.307123</td>\n",
              "      <td>11.896920</td>\n",
              "      <td>27.231801</td>\n",
              "      <td>21.727401</td>\n",
              "      <td>30.940275</td>\n",
              "      <td>34.840848</td>\n",
              "      <td>36.468997</td>\n",
              "      <td>29.993641</td>\n",
              "      <td>28.377921</td>\n",
              "      <td>19.433721</td>\n",
              "      <td>18.704883</td>\n",
              "      <td>26.226110</td>\n",
              "      <td>47.521611</td>\n",
              "    </tr>\n",
              "    <tr>\n",
              "      <th>2</th>\n",
              "      <td>ENSMUSG00000000031</td>\n",
              "      <td>5.574720</td>\n",
              "      <td>1.925595</td>\n",
              "      <td>2.899933</td>\n",
              "      <td>21.047427</td>\n",
              "      <td>0.000000</td>\n",
              "      <td>3.063051</td>\n",
              "      <td>7.105655</td>\n",
              "      <td>6.710188</td>\n",
              "      <td>3.266199</td>\n",
              "      <td>6.700680</td>\n",
              "      <td>1.852027</td>\n",
              "      <td>1.308210</td>\n",
              "      <td>2.248341</td>\n",
              "      <td>5.816845</td>\n",
              "      <td>2.041330</td>\n",
              "      <td>1.478741</td>\n",
              "    </tr>\n",
              "    <tr>\n",
              "      <th>3</th>\n",
              "      <td>ENSMUSG00000000037</td>\n",
              "      <td>14.601777</td>\n",
              "      <td>17.493816</td>\n",
              "      <td>16.577920</td>\n",
              "      <td>32.447456</td>\n",
              "      <td>12.940934</td>\n",
              "      <td>13.678983</td>\n",
              "      <td>9.358027</td>\n",
              "      <td>15.476949</td>\n",
              "      <td>25.085866</td>\n",
              "      <td>13.506677</td>\n",
              "      <td>24.809501</td>\n",
              "      <td>13.731740</td>\n",
              "      <td>21.564524</td>\n",
              "      <td>17.626982</td>\n",
              "      <td>28.873796</td>\n",
              "      <td>13.556234</td>\n",
              "    </tr>\n",
              "    <tr>\n",
              "      <th>4</th>\n",
              "      <td>ENSMUSG00000000049</td>\n",
              "      <td>3.107115</td>\n",
              "      <td>2.176549</td>\n",
              "      <td>0.642689</td>\n",
              "      <td>4.486992</td>\n",
              "      <td>0.895108</td>\n",
              "      <td>3.846941</td>\n",
              "      <td>2.640744</td>\n",
              "      <td>0.000000</td>\n",
              "      <td>0.000000</td>\n",
              "      <td>1.243833</td>\n",
              "      <td>0.000000</td>\n",
              "      <td>0.000000</td>\n",
              "      <td>1.676701</td>\n",
              "      <td>1.345919</td>\n",
              "      <td>0.769123</td>\n",
              "      <td>0.684388</td>\n",
              "    </tr>\n",
              "  </tbody>\n",
              "</table>\n",
              "</div>\n",
              "    <div class=\"colab-df-buttons\">\n",
              "\n",
              "  <div class=\"colab-df-container\">\n",
              "    <button class=\"colab-df-convert\" onclick=\"convertToInteractive('df-7b626209-5482-4a64-b5db-97d39d45bcc3')\"\n",
              "            title=\"Convert this dataframe to an interactive table.\"\n",
              "            style=\"display:none;\">\n",
              "\n",
              "  <svg xmlns=\"http://www.w3.org/2000/svg\" height=\"24px\" viewBox=\"0 -960 960 960\">\n",
              "    <path d=\"M120-120v-720h720v720H120Zm60-500h600v-160H180v160Zm220 220h160v-160H400v160Zm0 220h160v-160H400v160ZM180-400h160v-160H180v160Zm440 0h160v-160H620v160ZM180-180h160v-160H180v160Zm440 0h160v-160H620v160Z\"/>\n",
              "  </svg>\n",
              "    </button>\n",
              "\n",
              "  <style>\n",
              "    .colab-df-container {\n",
              "      display:flex;\n",
              "      gap: 12px;\n",
              "    }\n",
              "\n",
              "    .colab-df-convert {\n",
              "      background-color: #E8F0FE;\n",
              "      border: none;\n",
              "      border-radius: 50%;\n",
              "      cursor: pointer;\n",
              "      display: none;\n",
              "      fill: #1967D2;\n",
              "      height: 32px;\n",
              "      padding: 0 0 0 0;\n",
              "      width: 32px;\n",
              "    }\n",
              "\n",
              "    .colab-df-convert:hover {\n",
              "      background-color: #E2EBFA;\n",
              "      box-shadow: 0px 1px 2px rgba(60, 64, 67, 0.3), 0px 1px 3px 1px rgba(60, 64, 67, 0.15);\n",
              "      fill: #174EA6;\n",
              "    }\n",
              "\n",
              "    .colab-df-buttons div {\n",
              "      margin-bottom: 4px;\n",
              "    }\n",
              "\n",
              "    [theme=dark] .colab-df-convert {\n",
              "      background-color: #3B4455;\n",
              "      fill: #D2E3FC;\n",
              "    }\n",
              "\n",
              "    [theme=dark] .colab-df-convert:hover {\n",
              "      background-color: #434B5C;\n",
              "      box-shadow: 0px 1px 3px 1px rgba(0, 0, 0, 0.15);\n",
              "      filter: drop-shadow(0px 1px 2px rgba(0, 0, 0, 0.3));\n",
              "      fill: #FFFFFF;\n",
              "    }\n",
              "  </style>\n",
              "\n",
              "    <script>\n",
              "      const buttonEl =\n",
              "        document.querySelector('#df-7b626209-5482-4a64-b5db-97d39d45bcc3 button.colab-df-convert');\n",
              "      buttonEl.style.display =\n",
              "        google.colab.kernel.accessAllowed ? 'block' : 'none';\n",
              "\n",
              "      async function convertToInteractive(key) {\n",
              "        const element = document.querySelector('#df-7b626209-5482-4a64-b5db-97d39d45bcc3');\n",
              "        const dataTable =\n",
              "          await google.colab.kernel.invokeFunction('convertToInteractive',\n",
              "                                                    [key], {});\n",
              "        if (!dataTable) return;\n",
              "\n",
              "        const docLinkHtml = 'Like what you see? Visit the ' +\n",
              "          '<a target=\"_blank\" href=https://colab.research.google.com/notebooks/data_table.ipynb>data table notebook</a>'\n",
              "          + ' to learn more about interactive tables.';\n",
              "        element.innerHTML = '';\n",
              "        dataTable['output_type'] = 'display_data';\n",
              "        await google.colab.output.renderOutput(dataTable, element);\n",
              "        const docLink = document.createElement('div');\n",
              "        docLink.innerHTML = docLinkHtml;\n",
              "        element.appendChild(docLink);\n",
              "      }\n",
              "    </script>\n",
              "  </div>\n",
              "\n",
              "\n",
              "    <div id=\"df-18afb692-f1fa-49ca-8c1b-fe189a297360\">\n",
              "      <button class=\"colab-df-quickchart\" onclick=\"quickchart('df-18afb692-f1fa-49ca-8c1b-fe189a297360')\"\n",
              "                title=\"Suggest charts\"\n",
              "                style=\"display:none;\">\n",
              "\n",
              "<svg xmlns=\"http://www.w3.org/2000/svg\" height=\"24px\"viewBox=\"0 0 24 24\"\n",
              "     width=\"24px\">\n",
              "    <g>\n",
              "        <path d=\"M19 3H5c-1.1 0-2 .9-2 2v14c0 1.1.9 2 2 2h14c1.1 0 2-.9 2-2V5c0-1.1-.9-2-2-2zM9 17H7v-7h2v7zm4 0h-2V7h2v10zm4 0h-2v-4h2v4z\"/>\n",
              "    </g>\n",
              "</svg>\n",
              "      </button>\n",
              "\n",
              "<style>\n",
              "  .colab-df-quickchart {\n",
              "      --bg-color: #E8F0FE;\n",
              "      --fill-color: #1967D2;\n",
              "      --hover-bg-color: #E2EBFA;\n",
              "      --hover-fill-color: #174EA6;\n",
              "      --disabled-fill-color: #AAA;\n",
              "      --disabled-bg-color: #DDD;\n",
              "  }\n",
              "\n",
              "  [theme=dark] .colab-df-quickchart {\n",
              "      --bg-color: #3B4455;\n",
              "      --fill-color: #D2E3FC;\n",
              "      --hover-bg-color: #434B5C;\n",
              "      --hover-fill-color: #FFFFFF;\n",
              "      --disabled-bg-color: #3B4455;\n",
              "      --disabled-fill-color: #666;\n",
              "  }\n",
              "\n",
              "  .colab-df-quickchart {\n",
              "    background-color: var(--bg-color);\n",
              "    border: none;\n",
              "    border-radius: 50%;\n",
              "    cursor: pointer;\n",
              "    display: none;\n",
              "    fill: var(--fill-color);\n",
              "    height: 32px;\n",
              "    padding: 0;\n",
              "    width: 32px;\n",
              "  }\n",
              "\n",
              "  .colab-df-quickchart:hover {\n",
              "    background-color: var(--hover-bg-color);\n",
              "    box-shadow: 0 1px 2px rgba(60, 64, 67, 0.3), 0 1px 3px 1px rgba(60, 64, 67, 0.15);\n",
              "    fill: var(--button-hover-fill-color);\n",
              "  }\n",
              "\n",
              "  .colab-df-quickchart-complete:disabled,\n",
              "  .colab-df-quickchart-complete:disabled:hover {\n",
              "    background-color: var(--disabled-bg-color);\n",
              "    fill: var(--disabled-fill-color);\n",
              "    box-shadow: none;\n",
              "  }\n",
              "\n",
              "  .colab-df-spinner {\n",
              "    border: 2px solid var(--fill-color);\n",
              "    border-color: transparent;\n",
              "    border-bottom-color: var(--fill-color);\n",
              "    animation:\n",
              "      spin 1s steps(1) infinite;\n",
              "  }\n",
              "\n",
              "  @keyframes spin {\n",
              "    0% {\n",
              "      border-color: transparent;\n",
              "      border-bottom-color: var(--fill-color);\n",
              "      border-left-color: var(--fill-color);\n",
              "    }\n",
              "    20% {\n",
              "      border-color: transparent;\n",
              "      border-left-color: var(--fill-color);\n",
              "      border-top-color: var(--fill-color);\n",
              "    }\n",
              "    30% {\n",
              "      border-color: transparent;\n",
              "      border-left-color: var(--fill-color);\n",
              "      border-top-color: var(--fill-color);\n",
              "      border-right-color: var(--fill-color);\n",
              "    }\n",
              "    40% {\n",
              "      border-color: transparent;\n",
              "      border-right-color: var(--fill-color);\n",
              "      border-top-color: var(--fill-color);\n",
              "    }\n",
              "    60% {\n",
              "      border-color: transparent;\n",
              "      border-right-color: var(--fill-color);\n",
              "    }\n",
              "    80% {\n",
              "      border-color: transparent;\n",
              "      border-right-color: var(--fill-color);\n",
              "      border-bottom-color: var(--fill-color);\n",
              "    }\n",
              "    90% {\n",
              "      border-color: transparent;\n",
              "      border-bottom-color: var(--fill-color);\n",
              "    }\n",
              "  }\n",
              "</style>\n",
              "\n",
              "      <script>\n",
              "        async function quickchart(key) {\n",
              "          const quickchartButtonEl =\n",
              "            document.querySelector('#' + key + ' button');\n",
              "          quickchartButtonEl.disabled = true;  // To prevent multiple clicks.\n",
              "          quickchartButtonEl.classList.add('colab-df-spinner');\n",
              "          try {\n",
              "            const charts = await google.colab.kernel.invokeFunction(\n",
              "                'suggestCharts', [key], {});\n",
              "          } catch (error) {\n",
              "            console.error('Error during call to suggestCharts:', error);\n",
              "          }\n",
              "          quickchartButtonEl.classList.remove('colab-df-spinner');\n",
              "          quickchartButtonEl.classList.add('colab-df-quickchart-complete');\n",
              "        }\n",
              "        (() => {\n",
              "          let quickchartButtonEl =\n",
              "            document.querySelector('#df-18afb692-f1fa-49ca-8c1b-fe189a297360 button');\n",
              "          quickchartButtonEl.style.display =\n",
              "            google.colab.kernel.accessAllowed ? 'block' : 'none';\n",
              "        })();\n",
              "      </script>\n",
              "    </div>\n",
              "\n",
              "    </div>\n",
              "  </div>\n"
            ],
            "application/vnd.google.colaboratory.intrinsic+json": {
              "type": "dataframe",
              "summary": "{\n  \"name\": \"data['255-normalized']\",\n  \"rows\": 5,\n  \"fields\": [\n    {\n      \"column\": \"Unnamed: 0\",\n      \"properties\": {\n        \"dtype\": \"string\",\n        \"num_unique_values\": 5,\n        \"samples\": [\n          \"ENSMUSG00000000028\",\n          \"ENSMUSG00000000049\",\n          \"ENSMUSG00000000031\"\n        ],\n        \"semantic_type\": \"\",\n        \"description\": \"\"\n      }\n    },\n    {\n      \"column\": \"GSM3932693\",\n      \"properties\": {\n        \"dtype\": \"number\",\n        \"std\": 113.85149669008763,\n        \"min\": 3.10711471288401,\n        \"max\": 265.49150696438,\n        \"num_unique_values\": 5,\n        \"samples\": [\n          22.7375278357588,\n          3.10711471288401,\n          5.57472000684911\n        ],\n        \"semantic_type\": \"\",\n        \"description\": \"\"\n      }\n    },\n    {\n      \"column\": \"GSM3932694\",\n      \"properties\": {\n        \"dtype\": \"number\",\n        \"std\": 116.27850153917497,\n        \"min\": 1.92559522499962,\n        \"max\": 272.529585401396,\n        \"num_unique_values\": 5,\n        \"samples\": [\n          36.0586460521583,\n          2.17654871427688,\n          1.92559522499962\n        ],\n        \"semantic_type\": \"\",\n        \"description\": \"\"\n      }\n    },\n    {\n      \"column\": \"GSM3932695\",\n      \"properties\": {\n        \"dtype\": \"number\",\n        \"std\": 113.42540040428068,\n        \"min\": 0.642689351151972,\n        \"max\": 264.891134106585,\n        \"num_unique_values\": 5,\n        \"samples\": [\n          30.659867906631,\n          0.642689351151972,\n          2.89993254901798\n        ],\n        \"semantic_type\": \"\",\n        \"description\": \"\"\n      }\n    },\n    {\n      \"column\": \"GSM3932696\",\n      \"properties\": {\n        \"dtype\": \"number\",\n        \"std\": 100.39747600492097,\n        \"min\": 4.48699193720254,\n        \"max\": 245.804042344089,\n        \"num_unique_values\": 5,\n        \"samples\": [\n          33.3071233863934,\n          4.48699193720254,\n          21.0474271365232\n        ],\n        \"semantic_type\": \"\",\n        \"description\": \"\"\n      }\n    },\n    {\n      \"column\": \"GSM3932697\",\n      \"properties\": {\n        \"dtype\": \"number\",\n        \"std\": 89.21830101851121,\n        \"min\": 0.0,\n        \"max\": 205.478968911777,\n        \"num_unique_values\": 5,\n        \"samples\": [\n          11.896920408024,\n          0.895108072708345,\n          0.0\n        ],\n        \"semantic_type\": \"\",\n        \"description\": \"\"\n      }\n    },\n    {\n      \"column\": \"GSM3932698\",\n      \"properties\": {\n        \"dtype\": \"number\",\n        \"std\": 104.61772274223453,\n        \"min\": 3.06305133998737,\n        \"max\": 244.866957086037,\n        \"num_unique_values\": 5,\n        \"samples\": [\n          27.2318008299571,\n          3.84694087210894,\n          3.06305133998737\n        ],\n        \"semantic_type\": \"\",\n        \"description\": \"\"\n      }\n    },\n    {\n      \"column\": \"GSM3932699\",\n      \"properties\": {\n        \"dtype\": \"number\",\n        \"std\": 107.73363568458097,\n        \"min\": 2.64074369276936,\n        \"max\": 250.587443111186,\n        \"num_unique_values\": 5,\n        \"samples\": [\n          21.7274006957975,\n          2.64074369276936,\n          7.10565504017645\n        ],\n        \"semantic_type\": \"\",\n        \"description\": \"\"\n      }\n    },\n    {\n      \"column\": \"GSM3932700\",\n      \"properties\": {\n        \"dtype\": \"number\",\n        \"std\": 98.6074712523588,\n        \"min\": 0.0,\n        \"max\": 232.249604081519,\n        \"num_unique_values\": 5,\n        \"samples\": [\n          30.9402751756711,\n          0.0,\n          6.71018767090816\n        ],\n        \"semantic_type\": \"\",\n        \"description\": \"\"\n      }\n    },\n    {\n      \"column\": \"GSM3932701\",\n      \"properties\": {\n        \"dtype\": \"number\",\n        \"std\": 102.09699960174954,\n        \"min\": 0.0,\n        \"max\": 241.739791554277,\n        \"num_unique_values\": 5,\n        \"samples\": [\n          34.8408482614657,\n          0.0,\n          3.26619921236513\n        ],\n        \"semantic_type\": \"\",\n        \"description\": \"\"\n      }\n    },\n    {\n      \"column\": \"GSM3932702\",\n      \"properties\": {\n        \"dtype\": \"number\",\n        \"std\": 102.12831277065236,\n        \"min\": 1.2438333180913,\n        \"max\": 240.866309084067,\n        \"num_unique_values\": 5,\n        \"samples\": [\n          36.4689966474029,\n          1.2438333180913,\n          6.70067966319856\n        ],\n        \"semantic_type\": \"\",\n        \"description\": \"\"\n      }\n    },\n    {\n      \"column\": \"GSM3932703\",\n      \"properties\": {\n        \"dtype\": \"number\",\n        \"std\": 118.90034626034395,\n        \"min\": 0.0,\n        \"max\": 278.344274122162,\n        \"num_unique_values\": 5,\n        \"samples\": [\n          29.9936414740073,\n          0.0,\n          1.85202696639137\n        ],\n        \"semantic_type\": \"\",\n        \"description\": \"\"\n      }\n    },\n    {\n      \"column\": \"GSM3932704\",\n      \"properties\": {\n        \"dtype\": \"number\",\n        \"std\": 115.02501934148772,\n        \"min\": 0.0,\n        \"max\": 266.781018934441,\n        \"num_unique_values\": 5,\n        \"samples\": [\n          28.3779206728673,\n          0.0,\n          1.30821024047664\n        ],\n        \"semantic_type\": \"\",\n        \"description\": \"\"\n      }\n    },\n    {\n      \"column\": \"GSM3932705\",\n      \"properties\": {\n        \"dtype\": \"number\",\n        \"std\": 102.03921244149362,\n        \"min\": 1.67670122946475,\n        \"max\": 238.447580450575,\n        \"num_unique_values\": 5,\n        \"samples\": [\n          19.4337207239943,\n          1.67670122946475,\n          2.24834080587867\n        ],\n        \"semantic_type\": \"\",\n        \"description\": \"\"\n      }\n    },\n    {\n      \"column\": \"GSM3932706\",\n      \"properties\": {\n        \"dtype\": \"number\",\n        \"std\": 102.57671417368681,\n        \"min\": 1.3459192317058,\n        \"max\": 239.632931868719,\n        \"num_unique_values\": 5,\n        \"samples\": [\n          18.7048826003549,\n          1.3459192317058,\n          5.81684536324444\n        ],\n        \"semantic_type\": \"\",\n        \"description\": \"\"\n      }\n    },\n    {\n      \"column\": \"GSM3932707\",\n      \"properties\": {\n        \"dtype\": \"number\",\n        \"std\": 102.93755531073964,\n        \"min\": 0.76912285566979,\n        \"max\": 242.777556946446,\n        \"num_unique_values\": 5,\n        \"samples\": [\n          26.2261100830098,\n          0.76912285566979,\n          2.04132983632574\n        ],\n        \"semantic_type\": \"\",\n        \"description\": \"\"\n      }\n    },\n    {\n      \"column\": \"GSM3932708\",\n      \"properties\": {\n        \"dtype\": \"number\",\n        \"std\": 109.5786638725642,\n        \"min\": 0.684387895496121,\n        \"max\": 257.12191793066,\n        \"num_unique_values\": 5,\n        \"samples\": [\n          47.5216109897944,\n          0.684387895496121,\n          1.47874073052595\n        ],\n        \"semantic_type\": \"\",\n        \"description\": \"\"\n      }\n    }\n  ]\n}"
            }
          },
          "metadata": {},
          "execution_count": 9
        }
      ],
      "source": [
        "# use m.read_rnaseq_data() to read in the normalized transcriptomic counts from OSD-255\n",
        "data['255-normalized'] = m.read_rnaseq_data('255_rna_seq_Normalized_Counts')\n",
        "data['255-normalized'].head()"
      ]
    },
    {
      "cell_type": "code",
      "execution_count": null,
      "metadata": {
        "id": "NU_8K5-3X7_b",
        "colab": {
          "base_uri": "https://localhost:8080/"
        },
        "outputId": "a4afbb1d-c054-48e9-b9ed-d4a9a67fe707"
      },
      "outputs": [
        {
          "output_type": "stream",
          "name": "stdout",
          "text": [
            "Using None as control genes, passed at DeseqDataSet initialization\n"
          ]
        },
        {
          "output_type": "stream",
          "name": "stderr",
          "text": [
            "Fitting size factors...\n",
            "... done in 0.03 seconds.\n",
            "\n",
            "Fitting dispersions...\n",
            "... done in 31.22 seconds.\n",
            "\n",
            "Fitting dispersion trend curve...\n",
            "... done in 0.82 seconds.\n",
            "\n",
            "Fitting MAP dispersions...\n",
            "... done in 37.63 seconds.\n",
            "\n",
            "Fitting LFCs...\n",
            "... done in 18.31 seconds.\n",
            "\n",
            "Calculating cook's distance...\n",
            "... done in 0.05 seconds.\n",
            "\n",
            "Replacing 294 outlier genes.\n",
            "\n",
            "Fitting dispersions...\n",
            "... done in 0.35 seconds.\n",
            "\n",
            "Fitting MAP dispersions...\n",
            "... done in 0.36 seconds.\n",
            "\n",
            "Fitting LFCs...\n",
            "... done in 0.29 seconds.\n",
            "\n",
            "Running Wald tests...\n",
            "... done in 7.78 seconds.\n",
            "\n"
          ]
        },
        {
          "output_type": "stream",
          "name": "stdout",
          "text": [
            "Log2 fold change & Wald test p-value: condition 0 vs 1\n",
            "                      baseMean  log2FoldChange     lfcSE      stat    pvalue  \\\n",
            "ENSMUSG00000000001  247.799812       -0.018393  0.073619 -0.249837  0.802713   \n",
            "ENSMUSG00000000028   27.844661       -0.175417  0.251489 -0.697513  0.485482   \n",
            "ENSMUSG00000000031    4.111510        1.098824  0.720941  1.524152  0.127471   \n",
            "ENSMUSG00000000037   17.569248       -0.267676  0.292810 -0.914163  0.360631   \n",
            "ENSMUSG00000000049    1.058677        2.166938  1.289496  1.680453  0.092869   \n",
            "...                        ...             ...       ...       ...       ...   \n",
            "ENSMUSG00002076937    3.364061       -1.001464  0.889246 -1.126194  0.260083   \n",
            "ENSMUSG00002076945    1.308321        0.414447  1.081399  0.383250  0.701534   \n",
            "ENSMUSG00002076971    0.684746        0.261245  1.815131  0.143926  0.885559   \n",
            "ENSMUSG00002076982    0.685585       -0.263624  1.350536 -0.195200  0.845237   \n",
            "ENSMUSG00002076983    0.810512       -1.684478  1.616810 -1.041853  0.297480   \n",
            "\n",
            "                        padj  \n",
            "ENSMUSG00000000001  0.956927  \n",
            "ENSMUSG00000000028  0.847399  \n",
            "ENSMUSG00000000031       NaN  \n",
            "ENSMUSG00000000037       NaN  \n",
            "ENSMUSG00000000049       NaN  \n",
            "...                      ...  \n",
            "ENSMUSG00002076937       NaN  \n",
            "ENSMUSG00002076945       NaN  \n",
            "ENSMUSG00002076971       NaN  \n",
            "ENSMUSG00002076982       NaN  \n",
            "ENSMUSG00002076983       NaN  \n",
            "\n",
            "[23419 rows x 6 columns]\n",
            "rna_seq data shape:  (353, 17)\n"
          ]
        }
      ],
      "source": [
        "# filter genes to those significantly differentially expressed between ground control and space flight\n",
        "rna_seq = m.filter_by_dgea(data['255-normalized'], metadata['255'],  pval=0.05, l2fc=0)\n",
        "print('rna_seq data shape: ', rna_seq.shape)"
      ]
    },
    {
      "cell_type": "markdown",
      "metadata": {
        "id": "VgHjw8soBPTT"
      },
      "source": [
        "**QUESTIONS**\n",
        "\n",
        "1. How many genes in the RNA-seq dataset were there before filtering on the coefficient of variation? After filtering?\n",
        "\n",
        "23,149 before filtering -> 353 after filtering.\n",
        "\n",
        "2. How many samples have IOP measurements? PECAM measurements?\n",
        "\n",
        "100 samples of IOP, 11 samples of PECAM measurements.\n",
        "\n",
        "3. What is the name of the column in the PECAM data that we will be using as a phenotype measurement?\n",
        "\n",
        "\"average\""
      ]
    },
    {
      "cell_type": "markdown",
      "metadata": {
        "id": "48QixnD8fjG7"
      },
      "source": [
        "# Predict intraocular pressure (IOP) from RNA-seq (gene expression) data\n",
        "\n",
        "Not all the samples with IOP measurements had their RNA sequenced.  We will need to first subset the IOP data to match those samples with RNA-seq data."
      ]
    },
    {
      "cell_type": "markdown",
      "metadata": {
        "id": "hyGbrmKFqEfu"
      },
      "source": [
        "## Prepare the data for the algorithms"
      ]
    },
    {
      "cell_type": "code",
      "execution_count": null,
      "metadata": {
        "id": "ujGex5bPHqRF",
        "colab": {
          "base_uri": "https://localhost:8080/",
          "height": 206
        },
        "outputId": "54e69fb6-314e-457a-cab0-b5d15ec3ee86"
      },
      "outputs": [
        {
          "output_type": "execute_result",
          "data": {
            "text/plain": [
              "   Source Name    Sample Name Factor Value: Spaceflight  Left_1  Left_2  \\\n",
              "8           F9   F9_Mouse_Eye              Space Flight      14      13   \n",
              "10         F11  F11_Mouse_Eye              Space Flight      15      16   \n",
              "14         F15  F15_Mouse_Eye              Space Flight      20      19   \n",
              "15         F16  F16_Mouse_Eye              Space Flight      19      20   \n",
              "16         F17  F17_Mouse_Eye              Space Flight      18      19   \n",
              "\n",
              "    Left_3   Avg_Left  Right_1  Right_2  Right_3  Avg_Right time_Start  \\\n",
              "8       12  13.000000       14       12       12  13.000000       2:11   \n",
              "10      18  16.333333       16       14       15  15.000000       2:23   \n",
              "14      19  19.333333       17       17       16  16.666667       2:48   \n",
              "15      18  19.000000       21       18       17  18.666667       3:07   \n",
              "16      18  18.333333       16       17       15  16.000000       3:03   \n",
              "\n",
              "   Time_End  \n",
              "8      2:13  \n",
              "10     2:27  \n",
              "14     2:51  \n",
              "15     3:09  \n",
              "16     3:05  "
            ],
            "text/html": [
              "\n",
              "  <div id=\"df-81f3340e-773f-4ed0-ac6a-c930360a7578\" class=\"colab-df-container\">\n",
              "    <div>\n",
              "<style scoped>\n",
              "    .dataframe tbody tr th:only-of-type {\n",
              "        vertical-align: middle;\n",
              "    }\n",
              "\n",
              "    .dataframe tbody tr th {\n",
              "        vertical-align: top;\n",
              "    }\n",
              "\n",
              "    .dataframe thead th {\n",
              "        text-align: right;\n",
              "    }\n",
              "</style>\n",
              "<table border=\"1\" class=\"dataframe\">\n",
              "  <thead>\n",
              "    <tr style=\"text-align: right;\">\n",
              "      <th></th>\n",
              "      <th>Source Name</th>\n",
              "      <th>Sample Name</th>\n",
              "      <th>Factor Value: Spaceflight</th>\n",
              "      <th>Left_1</th>\n",
              "      <th>Left_2</th>\n",
              "      <th>Left_3</th>\n",
              "      <th>Avg_Left</th>\n",
              "      <th>Right_1</th>\n",
              "      <th>Right_2</th>\n",
              "      <th>Right_3</th>\n",
              "      <th>Avg_Right</th>\n",
              "      <th>time_Start</th>\n",
              "      <th>Time_End</th>\n",
              "    </tr>\n",
              "  </thead>\n",
              "  <tbody>\n",
              "    <tr>\n",
              "      <th>8</th>\n",
              "      <td>F9</td>\n",
              "      <td>F9_Mouse_Eye</td>\n",
              "      <td>Space Flight</td>\n",
              "      <td>14</td>\n",
              "      <td>13</td>\n",
              "      <td>12</td>\n",
              "      <td>13.000000</td>\n",
              "      <td>14</td>\n",
              "      <td>12</td>\n",
              "      <td>12</td>\n",
              "      <td>13.000000</td>\n",
              "      <td>2:11</td>\n",
              "      <td>2:13</td>\n",
              "    </tr>\n",
              "    <tr>\n",
              "      <th>10</th>\n",
              "      <td>F11</td>\n",
              "      <td>F11_Mouse_Eye</td>\n",
              "      <td>Space Flight</td>\n",
              "      <td>15</td>\n",
              "      <td>16</td>\n",
              "      <td>18</td>\n",
              "      <td>16.333333</td>\n",
              "      <td>16</td>\n",
              "      <td>14</td>\n",
              "      <td>15</td>\n",
              "      <td>15.000000</td>\n",
              "      <td>2:23</td>\n",
              "      <td>2:27</td>\n",
              "    </tr>\n",
              "    <tr>\n",
              "      <th>14</th>\n",
              "      <td>F15</td>\n",
              "      <td>F15_Mouse_Eye</td>\n",
              "      <td>Space Flight</td>\n",
              "      <td>20</td>\n",
              "      <td>19</td>\n",
              "      <td>19</td>\n",
              "      <td>19.333333</td>\n",
              "      <td>17</td>\n",
              "      <td>17</td>\n",
              "      <td>16</td>\n",
              "      <td>16.666667</td>\n",
              "      <td>2:48</td>\n",
              "      <td>2:51</td>\n",
              "    </tr>\n",
              "    <tr>\n",
              "      <th>15</th>\n",
              "      <td>F16</td>\n",
              "      <td>F16_Mouse_Eye</td>\n",
              "      <td>Space Flight</td>\n",
              "      <td>19</td>\n",
              "      <td>20</td>\n",
              "      <td>18</td>\n",
              "      <td>19.000000</td>\n",
              "      <td>21</td>\n",
              "      <td>18</td>\n",
              "      <td>17</td>\n",
              "      <td>18.666667</td>\n",
              "      <td>3:07</td>\n",
              "      <td>3:09</td>\n",
              "    </tr>\n",
              "    <tr>\n",
              "      <th>16</th>\n",
              "      <td>F17</td>\n",
              "      <td>F17_Mouse_Eye</td>\n",
              "      <td>Space Flight</td>\n",
              "      <td>18</td>\n",
              "      <td>19</td>\n",
              "      <td>18</td>\n",
              "      <td>18.333333</td>\n",
              "      <td>16</td>\n",
              "      <td>17</td>\n",
              "      <td>15</td>\n",
              "      <td>16.000000</td>\n",
              "      <td>3:03</td>\n",
              "      <td>3:05</td>\n",
              "    </tr>\n",
              "  </tbody>\n",
              "</table>\n",
              "</div>\n",
              "    <div class=\"colab-df-buttons\">\n",
              "\n",
              "  <div class=\"colab-df-container\">\n",
              "    <button class=\"colab-df-convert\" onclick=\"convertToInteractive('df-81f3340e-773f-4ed0-ac6a-c930360a7578')\"\n",
              "            title=\"Convert this dataframe to an interactive table.\"\n",
              "            style=\"display:none;\">\n",
              "\n",
              "  <svg xmlns=\"http://www.w3.org/2000/svg\" height=\"24px\" viewBox=\"0 -960 960 960\">\n",
              "    <path d=\"M120-120v-720h720v720H120Zm60-500h600v-160H180v160Zm220 220h160v-160H400v160Zm0 220h160v-160H400v160ZM180-400h160v-160H180v160Zm440 0h160v-160H620v160ZM180-180h160v-160H180v160Zm440 0h160v-160H620v160Z\"/>\n",
              "  </svg>\n",
              "    </button>\n",
              "\n",
              "  <style>\n",
              "    .colab-df-container {\n",
              "      display:flex;\n",
              "      gap: 12px;\n",
              "    }\n",
              "\n",
              "    .colab-df-convert {\n",
              "      background-color: #E8F0FE;\n",
              "      border: none;\n",
              "      border-radius: 50%;\n",
              "      cursor: pointer;\n",
              "      display: none;\n",
              "      fill: #1967D2;\n",
              "      height: 32px;\n",
              "      padding: 0 0 0 0;\n",
              "      width: 32px;\n",
              "    }\n",
              "\n",
              "    .colab-df-convert:hover {\n",
              "      background-color: #E2EBFA;\n",
              "      box-shadow: 0px 1px 2px rgba(60, 64, 67, 0.3), 0px 1px 3px 1px rgba(60, 64, 67, 0.15);\n",
              "      fill: #174EA6;\n",
              "    }\n",
              "\n",
              "    .colab-df-buttons div {\n",
              "      margin-bottom: 4px;\n",
              "    }\n",
              "\n",
              "    [theme=dark] .colab-df-convert {\n",
              "      background-color: #3B4455;\n",
              "      fill: #D2E3FC;\n",
              "    }\n",
              "\n",
              "    [theme=dark] .colab-df-convert:hover {\n",
              "      background-color: #434B5C;\n",
              "      box-shadow: 0px 1px 3px 1px rgba(0, 0, 0, 0.15);\n",
              "      filter: drop-shadow(0px 1px 2px rgba(0, 0, 0, 0.3));\n",
              "      fill: #FFFFFF;\n",
              "    }\n",
              "  </style>\n",
              "\n",
              "    <script>\n",
              "      const buttonEl =\n",
              "        document.querySelector('#df-81f3340e-773f-4ed0-ac6a-c930360a7578 button.colab-df-convert');\n",
              "      buttonEl.style.display =\n",
              "        google.colab.kernel.accessAllowed ? 'block' : 'none';\n",
              "\n",
              "      async function convertToInteractive(key) {\n",
              "        const element = document.querySelector('#df-81f3340e-773f-4ed0-ac6a-c930360a7578');\n",
              "        const dataTable =\n",
              "          await google.colab.kernel.invokeFunction('convertToInteractive',\n",
              "                                                    [key], {});\n",
              "        if (!dataTable) return;\n",
              "\n",
              "        const docLinkHtml = 'Like what you see? Visit the ' +\n",
              "          '<a target=\"_blank\" href=https://colab.research.google.com/notebooks/data_table.ipynb>data table notebook</a>'\n",
              "          + ' to learn more about interactive tables.';\n",
              "        element.innerHTML = '';\n",
              "        dataTable['output_type'] = 'display_data';\n",
              "        await google.colab.output.renderOutput(dataTable, element);\n",
              "        const docLink = document.createElement('div');\n",
              "        docLink.innerHTML = docLinkHtml;\n",
              "        element.appendChild(docLink);\n",
              "      }\n",
              "    </script>\n",
              "  </div>\n",
              "\n",
              "\n",
              "    <div id=\"df-bc8a75c8-3fa8-4e9a-a9b5-bc26c061c002\">\n",
              "      <button class=\"colab-df-quickchart\" onclick=\"quickchart('df-bc8a75c8-3fa8-4e9a-a9b5-bc26c061c002')\"\n",
              "                title=\"Suggest charts\"\n",
              "                style=\"display:none;\">\n",
              "\n",
              "<svg xmlns=\"http://www.w3.org/2000/svg\" height=\"24px\"viewBox=\"0 0 24 24\"\n",
              "     width=\"24px\">\n",
              "    <g>\n",
              "        <path d=\"M19 3H5c-1.1 0-2 .9-2 2v14c0 1.1.9 2 2 2h14c1.1 0 2-.9 2-2V5c0-1.1-.9-2-2-2zM9 17H7v-7h2v7zm4 0h-2V7h2v10zm4 0h-2v-4h2v4z\"/>\n",
              "    </g>\n",
              "</svg>\n",
              "      </button>\n",
              "\n",
              "<style>\n",
              "  .colab-df-quickchart {\n",
              "      --bg-color: #E8F0FE;\n",
              "      --fill-color: #1967D2;\n",
              "      --hover-bg-color: #E2EBFA;\n",
              "      --hover-fill-color: #174EA6;\n",
              "      --disabled-fill-color: #AAA;\n",
              "      --disabled-bg-color: #DDD;\n",
              "  }\n",
              "\n",
              "  [theme=dark] .colab-df-quickchart {\n",
              "      --bg-color: #3B4455;\n",
              "      --fill-color: #D2E3FC;\n",
              "      --hover-bg-color: #434B5C;\n",
              "      --hover-fill-color: #FFFFFF;\n",
              "      --disabled-bg-color: #3B4455;\n",
              "      --disabled-fill-color: #666;\n",
              "  }\n",
              "\n",
              "  .colab-df-quickchart {\n",
              "    background-color: var(--bg-color);\n",
              "    border: none;\n",
              "    border-radius: 50%;\n",
              "    cursor: pointer;\n",
              "    display: none;\n",
              "    fill: var(--fill-color);\n",
              "    height: 32px;\n",
              "    padding: 0;\n",
              "    width: 32px;\n",
              "  }\n",
              "\n",
              "  .colab-df-quickchart:hover {\n",
              "    background-color: var(--hover-bg-color);\n",
              "    box-shadow: 0 1px 2px rgba(60, 64, 67, 0.3), 0 1px 3px 1px rgba(60, 64, 67, 0.15);\n",
              "    fill: var(--button-hover-fill-color);\n",
              "  }\n",
              "\n",
              "  .colab-df-quickchart-complete:disabled,\n",
              "  .colab-df-quickchart-complete:disabled:hover {\n",
              "    background-color: var(--disabled-bg-color);\n",
              "    fill: var(--disabled-fill-color);\n",
              "    box-shadow: none;\n",
              "  }\n",
              "\n",
              "  .colab-df-spinner {\n",
              "    border: 2px solid var(--fill-color);\n",
              "    border-color: transparent;\n",
              "    border-bottom-color: var(--fill-color);\n",
              "    animation:\n",
              "      spin 1s steps(1) infinite;\n",
              "  }\n",
              "\n",
              "  @keyframes spin {\n",
              "    0% {\n",
              "      border-color: transparent;\n",
              "      border-bottom-color: var(--fill-color);\n",
              "      border-left-color: var(--fill-color);\n",
              "    }\n",
              "    20% {\n",
              "      border-color: transparent;\n",
              "      border-left-color: var(--fill-color);\n",
              "      border-top-color: var(--fill-color);\n",
              "    }\n",
              "    30% {\n",
              "      border-color: transparent;\n",
              "      border-left-color: var(--fill-color);\n",
              "      border-top-color: var(--fill-color);\n",
              "      border-right-color: var(--fill-color);\n",
              "    }\n",
              "    40% {\n",
              "      border-color: transparent;\n",
              "      border-right-color: var(--fill-color);\n",
              "      border-top-color: var(--fill-color);\n",
              "    }\n",
              "    60% {\n",
              "      border-color: transparent;\n",
              "      border-right-color: var(--fill-color);\n",
              "    }\n",
              "    80% {\n",
              "      border-color: transparent;\n",
              "      border-right-color: var(--fill-color);\n",
              "      border-bottom-color: var(--fill-color);\n",
              "    }\n",
              "    90% {\n",
              "      border-color: transparent;\n",
              "      border-bottom-color: var(--fill-color);\n",
              "    }\n",
              "  }\n",
              "</style>\n",
              "\n",
              "      <script>\n",
              "        async function quickchart(key) {\n",
              "          const quickchartButtonEl =\n",
              "            document.querySelector('#' + key + ' button');\n",
              "          quickchartButtonEl.disabled = true;  // To prevent multiple clicks.\n",
              "          quickchartButtonEl.classList.add('colab-df-spinner');\n",
              "          try {\n",
              "            const charts = await google.colab.kernel.invokeFunction(\n",
              "                'suggestCharts', [key], {});\n",
              "          } catch (error) {\n",
              "            console.error('Error during call to suggestCharts:', error);\n",
              "          }\n",
              "          quickchartButtonEl.classList.remove('colab-df-spinner');\n",
              "          quickchartButtonEl.classList.add('colab-df-quickchart-complete');\n",
              "        }\n",
              "        (() => {\n",
              "          let quickchartButtonEl =\n",
              "            document.querySelector('#df-bc8a75c8-3fa8-4e9a-a9b5-bc26c061c002 button');\n",
              "          quickchartButtonEl.style.display =\n",
              "            google.colab.kernel.accessAllowed ? 'block' : 'none';\n",
              "        })();\n",
              "      </script>\n",
              "    </div>\n",
              "\n",
              "    </div>\n",
              "  </div>\n"
            ],
            "application/vnd.google.colaboratory.intrinsic+json": {
              "type": "dataframe",
              "variable_name": "iop_subset",
              "repr_error": "0"
            }
          },
          "metadata": {},
          "execution_count": 11
        }
      ],
      "source": [
        "# create a dataframe called iop_subset - a subset of data['iop'] - which uses only \"Retina_Ground\" and \"Retina_Flight\" samples\n",
        "samples=list()\n",
        "for sample in rna_seq.columns[1:]:\n",
        "  samples.append(metadata['255'][metadata['255']['Sample Name']==sample]['Source Name'].values[0])\n",
        "samples_short=list()\n",
        "for sample in samples:\n",
        "  num = \"\"\n",
        "  for c in sample:\n",
        "    if c.isdigit():\n",
        "      num += str(c)\n",
        "  if 'G' in sample:\n",
        "    samples_short.append(\"GC\" + num)\n",
        "  elif 'F' in sample:\n",
        "    samples_short.append(\"F\" + num)\n",
        "iop_subset = data['iop'][data['iop']['Source Name'].isin(samples_short)]\n",
        "iop_subset.head()"
      ]
    },
    {
      "cell_type": "code",
      "execution_count": null,
      "metadata": {
        "id": "QpDtYimf29h8"
      },
      "outputs": [],
      "source": [
        "# change the names in the rna_seq dataframe to match those in the iop_subset dataframe\n",
        "rna_seq.columns = ['Unnamed: 0'] + list(iop_subset['Source Name'])"
      ]
    },
    {
      "cell_type": "code",
      "execution_count": null,
      "metadata": {
        "id": "ZLOFSg9der6y"
      },
      "outputs": [],
      "source": [
        "# create numpy array y of IOP values (average of the Avg_Left and Avg_Right) which will be used as the target (response) in our model.\n",
        "y = list()\n",
        "for i in range(len(iop_subset)):\n",
        "  iop_val=(iop_subset.iloc[i]['Avg_Left'] + iop_subset.iloc[i]['Avg_Right'])/2\n",
        "  y.append(iop_val)\n",
        "y = m.np.array(y)\n",
        "y_classes = list()\n",
        "for i in y:\n",
        "  if i > y.mean():\n",
        "    y_classes.append(1)\n",
        "  else:\n",
        "    y_classes.append(0)\n",
        "\n",
        "y = y_classes"
      ]
    },
    {
      "cell_type": "code",
      "execution_count": null,
      "metadata": {
        "id": "mtTnSsn4qF5s"
      },
      "outputs": [],
      "source": [
        "# create numpy array X of rna-seq values\n",
        "X = m.transpose_df(rna_seq, 'Unnamed: 0', 'sample').drop(columns=['sample'])"
      ]
    },
    {
      "cell_type": "code",
      "execution_count": null,
      "metadata": {
        "id": "yL06B6Bjxp07",
        "colab": {
          "base_uri": "https://localhost:8080/"
        },
        "outputId": "e4590d8c-5d3c-45f0-ac95-0838ef517150"
      },
      "outputs": [
        {
          "output_type": "stream",
          "name": "stdout",
          "text": [
            "X train:  (12, 353)\n",
            "y train:  12\n",
            "X test:  (4, 353)\n",
            "y test:  4\n"
          ]
        }
      ],
      "source": [
        "# split up data between training and testing\n",
        "X_train, X_test, y_train, y_test = m.train_test_split(X, y, test_size=0.2, random_state=0)\n",
        "# show the dimensions of the training and testing data\n",
        "print('X train: ', X_train.shape)\n",
        "print('y train: ', len(y_train))\n",
        "print('X test: ', X_test.shape)\n",
        "print('y test: ', len(y_test))"
      ]
    },
    {
      "cell_type": "markdown",
      "metadata": {
        "id": "I3lyOU5wbbdz"
      },
      "source": [
        "**QUESTIONS**\n",
        "\n",
        "1. How many samples are used for training? 16 samples\n",
        "\n",
        "2. How many samples are used for testing? 4 samples\n",
        "\n",
        "3. Based on the number of samples used for testing, what are the possible values for the testing accuracy? 0.00, 0.25, 0.50, 0.75, 1.00."
      ]
    },
    {
      "cell_type": "markdown",
      "metadata": {
        "id": "sXqrSn7r7njv"
      },
      "source": [
        "## Build a random forest model to predict IOP from gene expression"
      ]
    },
    {
      "cell_type": "code",
      "execution_count": null,
      "metadata": {
        "id": "cI5mNR4Xqpjf",
        "colab": {
          "base_uri": "https://localhost:8080/"
        },
        "outputId": "7ee7012d-7bb5-4995-b566-ecaf55d33a26"
      },
      "outputs": [
        {
          "output_type": "stream",
          "name": "stdout",
          "text": [
            "train accuracy: 1.0\n",
            "test accuracy: 0.75\n"
          ]
        }
      ],
      "source": [
        "# run random forest classification on X, y\n",
        "\n",
        "clf = m.RandomForestClassifier(max_depth=8, random_state=23)\n",
        "clf.fit(X_train, y_train)\n",
        "\n",
        "y_train_pred = clf.predict(X_train)\n",
        "train_acc = m.accuracy_score(y_train, y_train_pred)\n",
        "print(\"train accuracy:\", train_acc)\n",
        "\n",
        "y_pred = clf.predict(X_test)\n",
        "test_acc = m.accuracy_score(y_test, y_pred)\n",
        "print(\"test accuracy:\", test_acc)"
      ]
    },
    {
      "cell_type": "code",
      "execution_count": null,
      "metadata": {
        "id": "vKRvRi4JDdsS",
        "colab": {
          "base_uri": "https://localhost:8080/",
          "height": 1000
        },
        "outputId": "9392be87-3fdb-470b-edc4-390afe70686c"
      },
      "outputs": [
        {
          "output_type": "display_data",
          "data": {
            "image/svg+xml": "<?xml version=\"1.0\" encoding=\"UTF-8\" standalone=\"no\"?>\n<!DOCTYPE svg PUBLIC \"-//W3C//DTD SVG 1.1//EN\"\n \"http://www.w3.org/Graphics/SVG/1.1/DTD/svg11.dtd\">\n<!-- Generated by graphviz version 2.43.0 (0)\n -->\n<!-- Title: Tree Pages: 1 -->\n<svg width=\"270pt\" height=\"135pt\"\n viewBox=\"0.00 0.00 270.00 135.00\" xmlns=\"http://www.w3.org/2000/svg\" xmlns:xlink=\"http://www.w3.org/1999/xlink\">\n<g id=\"graph0\" class=\"graph\" transform=\"scale(1 1) rotate(0) translate(4 131)\">\n<title>Tree</title>\n<polygon fill=\"white\" stroke=\"transparent\" points=\"-4,4 -4,-131 266,-131 266,4 -4,4\"/>\n<!-- 0 -->\n<g id=\"node1\" class=\"node\">\n<title>0</title>\n<polygon fill=\"#f8dbc6\" stroke=\"black\" points=\"252,-127 10,-127 10,-74 252,-74 252,-127\"/>\n<text text-anchor=\"middle\" x=\"131\" y=\"-111.8\" font-family=\"Helvetica,sans-Serif\" font-size=\"14.00\">ENSMUSG00000008932 &lt;= 669.564</text>\n<text text-anchor=\"middle\" x=\"131\" y=\"-96.8\" font-family=\"Helvetica,sans-Serif\" font-size=\"14.00\">samples = 100.0%</text>\n<text text-anchor=\"middle\" x=\"131\" y=\"-81.8\" font-family=\"Helvetica,sans-Serif\" font-size=\"14.00\">value = [0.583, 0.417]</text>\n</g>\n<!-- 1 -->\n<g id=\"node2\" class=\"node\">\n<title>1</title>\n<polygon fill=\"#e58139\" stroke=\"black\" points=\"122,-38 0,-38 0,0 122,0 122,-38\"/>\n<text text-anchor=\"middle\" x=\"61\" y=\"-22.8\" font-family=\"Helvetica,sans-Serif\" font-size=\"14.00\">samples = 62.5%</text>\n<text text-anchor=\"middle\" x=\"61\" y=\"-7.8\" font-family=\"Helvetica,sans-Serif\" font-size=\"14.00\">value = [1.0, 0.0]</text>\n</g>\n<!-- 0&#45;&gt;1 -->\n<g id=\"edge1\" class=\"edge\">\n<title>0&#45;&gt;1</title>\n<path fill=\"none\" stroke=\"black\" d=\"M108.47,-73.91C100.55,-64.92 91.66,-54.82 83.73,-45.82\"/>\n<polygon fill=\"black\" stroke=\"black\" points=\"86.29,-43.43 77.06,-38.24 81.04,-48.06 86.29,-43.43\"/>\n<text text-anchor=\"middle\" x=\"75.47\" y=\"-59.49\" font-family=\"Helvetica,sans-Serif\" font-size=\"14.00\">True</text>\n</g>\n<!-- 2 -->\n<g id=\"node3\" class=\"node\">\n<title>2</title>\n<polygon fill=\"#399de5\" stroke=\"black\" points=\"262,-38 140,-38 140,0 262,0 262,-38\"/>\n<text text-anchor=\"middle\" x=\"201\" y=\"-22.8\" font-family=\"Helvetica,sans-Serif\" font-size=\"14.00\">samples = 37.5%</text>\n<text text-anchor=\"middle\" x=\"201\" y=\"-7.8\" font-family=\"Helvetica,sans-Serif\" font-size=\"14.00\">value = [0.0, 1.0]</text>\n</g>\n<!-- 0&#45;&gt;2 -->\n<g id=\"edge2\" class=\"edge\">\n<title>0&#45;&gt;2</title>\n<path fill=\"none\" stroke=\"black\" d=\"M153.53,-73.91C161.45,-64.92 170.34,-54.82 178.27,-45.82\"/>\n<polygon fill=\"black\" stroke=\"black\" points=\"180.96,-48.06 184.94,-38.24 175.71,-43.43 180.96,-48.06\"/>\n<text text-anchor=\"middle\" x=\"186.53\" y=\"-59.49\" font-family=\"Helvetica,sans-Serif\" font-size=\"14.00\">False</text>\n</g>\n</g>\n</svg>\n",
            "text/plain": [
              "<graphviz.sources.Source at 0x79220e6ed590>"
            ]
          },
          "metadata": {}
        },
        {
          "output_type": "display_data",
          "data": {
            "image/svg+xml": "<?xml version=\"1.0\" encoding=\"UTF-8\" standalone=\"no\"?>\n<!DOCTYPE svg PUBLIC \"-//W3C//DTD SVG 1.1//EN\"\n \"http://www.w3.org/Graphics/SVG/1.1/DTD/svg11.dtd\">\n<!-- Generated by graphviz version 2.43.0 (0)\n -->\n<!-- Title: Tree Pages: 1 -->\n<svg width=\"400pt\" height=\"224pt\"\n viewBox=\"0.00 0.00 400.00 224.00\" xmlns=\"http://www.w3.org/2000/svg\" xmlns:xlink=\"http://www.w3.org/1999/xlink\">\n<g id=\"graph0\" class=\"graph\" transform=\"scale(1 1) rotate(0) translate(4 220)\">\n<title>Tree</title>\n<polygon fill=\"white\" stroke=\"transparent\" points=\"-4,4 -4,-220 396,-220 396,4 -4,4\"/>\n<!-- 0 -->\n<g id=\"node1\" class=\"node\">\n<title>0</title>\n<polygon fill=\"#eeab7b\" stroke=\"black\" points=\"352,-216 110,-216 110,-163 352,-163 352,-216\"/>\n<text text-anchor=\"middle\" x=\"231\" y=\"-200.8\" font-family=\"Helvetica,sans-Serif\" font-size=\"14.00\">ENSMUSG00000028483 &lt;= 346.021</text>\n<text text-anchor=\"middle\" x=\"231\" y=\"-185.8\" font-family=\"Helvetica,sans-Serif\" font-size=\"14.00\">samples = 100.0%</text>\n<text text-anchor=\"middle\" x=\"231\" y=\"-170.8\" font-family=\"Helvetica,sans-Serif\" font-size=\"14.00\">value = [0.75, 0.25]</text>\n</g>\n<!-- 1 -->\n<g id=\"node2\" class=\"node\">\n<title>1</title>\n<polygon fill=\"#e88f4f\" stroke=\"black\" points=\"252,-127 10,-127 10,-74 252,-74 252,-127\"/>\n<text text-anchor=\"middle\" x=\"131\" y=\"-111.8\" font-family=\"Helvetica,sans-Serif\" font-size=\"14.00\">ENSMUSG00000022831 &lt;= 137.698</text>\n<text text-anchor=\"middle\" x=\"131\" y=\"-96.8\" font-family=\"Helvetica,sans-Serif\" font-size=\"14.00\">samples = 75.0%</text>\n<text text-anchor=\"middle\" x=\"131\" y=\"-81.8\" font-family=\"Helvetica,sans-Serif\" font-size=\"14.00\">value = [0.9, 0.1]</text>\n</g>\n<!-- 0&#45;&gt;1 -->\n<g id=\"edge1\" class=\"edge\">\n<title>0&#45;&gt;1</title>\n<path fill=\"none\" stroke=\"black\" d=\"M201.54,-162.87C191.15,-153.83 179.34,-143.55 168.39,-134.03\"/>\n<polygon fill=\"black\" stroke=\"black\" points=\"170.44,-131.17 160.6,-127.25 165.84,-136.45 170.44,-131.17\"/>\n<text text-anchor=\"middle\" x=\"162.33\" y=\"-148.49\" font-family=\"Helvetica,sans-Serif\" font-size=\"14.00\">True</text>\n</g>\n<!-- 4 -->\n<g id=\"node5\" class=\"node\">\n<title>4</title>\n<polygon fill=\"#399de5\" stroke=\"black\" points=\"392,-119.5 270,-119.5 270,-81.5 392,-81.5 392,-119.5\"/>\n<text text-anchor=\"middle\" x=\"331\" y=\"-104.3\" font-family=\"Helvetica,sans-Serif\" font-size=\"14.00\">samples = 25.0%</text>\n<text text-anchor=\"middle\" x=\"331\" y=\"-89.3\" font-family=\"Helvetica,sans-Serif\" font-size=\"14.00\">value = [0.0, 1.0]</text>\n</g>\n<!-- 0&#45;&gt;4 -->\n<g id=\"edge4\" class=\"edge\">\n<title>0&#45;&gt;4</title>\n<path fill=\"none\" stroke=\"black\" d=\"M260.46,-162.87C273.73,-151.33 289.32,-137.76 302.47,-126.32\"/>\n<polygon fill=\"black\" stroke=\"black\" points=\"305.06,-128.71 310.3,-119.51 300.46,-123.43 305.06,-128.71\"/>\n<text text-anchor=\"middle\" x=\"308.57\" y=\"-140.75\" font-family=\"Helvetica,sans-Serif\" font-size=\"14.00\">False</text>\n</g>\n<!-- 2 -->\n<g id=\"node3\" class=\"node\">\n<title>2</title>\n<polygon fill=\"#e58139\" stroke=\"black\" points=\"122,-38 0,-38 0,0 122,0 122,-38\"/>\n<text text-anchor=\"middle\" x=\"61\" y=\"-22.8\" font-family=\"Helvetica,sans-Serif\" font-size=\"14.00\">samples = 62.5%</text>\n<text text-anchor=\"middle\" x=\"61\" y=\"-7.8\" font-family=\"Helvetica,sans-Serif\" font-size=\"14.00\">value = [1.0, 0.0]</text>\n</g>\n<!-- 1&#45;&gt;2 -->\n<g id=\"edge2\" class=\"edge\">\n<title>1&#45;&gt;2</title>\n<path fill=\"none\" stroke=\"black\" d=\"M108.47,-73.91C100.55,-64.92 91.66,-54.82 83.73,-45.82\"/>\n<polygon fill=\"black\" stroke=\"black\" points=\"86.29,-43.43 77.06,-38.24 81.04,-48.06 86.29,-43.43\"/>\n</g>\n<!-- 3 -->\n<g id=\"node4\" class=\"node\">\n<title>3</title>\n<polygon fill=\"#399de5\" stroke=\"black\" points=\"262,-38 140,-38 140,0 262,0 262,-38\"/>\n<text text-anchor=\"middle\" x=\"201\" y=\"-22.8\" font-family=\"Helvetica,sans-Serif\" font-size=\"14.00\">samples = 12.5%</text>\n<text text-anchor=\"middle\" x=\"201\" y=\"-7.8\" font-family=\"Helvetica,sans-Serif\" font-size=\"14.00\">value = [0.0, 1.0]</text>\n</g>\n<!-- 1&#45;&gt;3 -->\n<g id=\"edge3\" class=\"edge\">\n<title>1&#45;&gt;3</title>\n<path fill=\"none\" stroke=\"black\" d=\"M153.53,-73.91C161.45,-64.92 170.34,-54.82 178.27,-45.82\"/>\n<polygon fill=\"black\" stroke=\"black\" points=\"180.96,-48.06 184.94,-38.24 175.71,-43.43 180.96,-48.06\"/>\n</g>\n</g>\n</svg>\n",
            "text/plain": [
              "<graphviz.sources.Source at 0x79220f85dd10>"
            ]
          },
          "metadata": {}
        },
        {
          "output_type": "display_data",
          "data": {
            "image/svg+xml": "<?xml version=\"1.0\" encoding=\"UTF-8\" standalone=\"no\"?>\n<!DOCTYPE svg PUBLIC \"-//W3C//DTD SVG 1.1//EN\"\n \"http://www.w3.org/Graphics/SVG/1.1/DTD/svg11.dtd\">\n<!-- Generated by graphviz version 2.43.0 (0)\n -->\n<!-- Title: Tree Pages: 1 -->\n<svg width=\"404pt\" height=\"224pt\"\n viewBox=\"0.00 0.00 404.00 224.00\" xmlns=\"http://www.w3.org/2000/svg\" xmlns:xlink=\"http://www.w3.org/1999/xlink\">\n<g id=\"graph0\" class=\"graph\" transform=\"scale(1 1) rotate(0) translate(4 220)\">\n<title>Tree</title>\n<polygon fill=\"white\" stroke=\"transparent\" points=\"-4,4 -4,-220 400,-220 400,4 -4,4\"/>\n<!-- 0 -->\n<g id=\"node1\" class=\"node\">\n<title>0</title>\n<polygon fill=\"#c6e3f8\" stroke=\"black\" points=\"354,-216 112,-216 112,-163 354,-163 354,-216\"/>\n<text text-anchor=\"middle\" x=\"233\" y=\"-200.8\" font-family=\"Helvetica,sans-Serif\" font-size=\"14.00\">ENSMUSG00000028430 &lt;= 405.785</text>\n<text text-anchor=\"middle\" x=\"233\" y=\"-185.8\" font-family=\"Helvetica,sans-Serif\" font-size=\"14.00\">samples = 100.0%</text>\n<text text-anchor=\"middle\" x=\"233\" y=\"-170.8\" font-family=\"Helvetica,sans-Serif\" font-size=\"14.00\">value = [0.417, 0.583]</text>\n</g>\n<!-- 1 -->\n<g id=\"node2\" class=\"node\">\n<title>1</title>\n<polygon fill=\"#72b9ec\" stroke=\"black\" points=\"255.5,-127 6.5,-127 6.5,-74 255.5,-74 255.5,-127\"/>\n<text text-anchor=\"middle\" x=\"131\" y=\"-111.8\" font-family=\"Helvetica,sans-Serif\" font-size=\"14.00\">ENSMUSG00000026904 &lt;= 1622.475</text>\n<text text-anchor=\"middle\" x=\"131\" y=\"-96.8\" font-family=\"Helvetica,sans-Serif\" font-size=\"14.00\">samples = 75.0%</text>\n<text text-anchor=\"middle\" x=\"131\" y=\"-81.8\" font-family=\"Helvetica,sans-Serif\" font-size=\"14.00\">value = [0.222, 0.778]</text>\n</g>\n<!-- 0&#45;&gt;1 -->\n<g id=\"edge1\" class=\"edge\">\n<title>0&#45;&gt;1</title>\n<path fill=\"none\" stroke=\"black\" d=\"M202.95,-162.87C192.25,-153.75 180.07,-143.35 168.81,-133.75\"/>\n<polygon fill=\"black\" stroke=\"black\" points=\"171.07,-131.08 161.19,-127.25 166.53,-136.4 171.07,-131.08\"/>\n<text text-anchor=\"middle\" x=\"163.17\" y=\"-148.47\" font-family=\"Helvetica,sans-Serif\" font-size=\"14.00\">True</text>\n</g>\n<!-- 4 -->\n<g id=\"node5\" class=\"node\">\n<title>4</title>\n<polygon fill=\"#e58139\" stroke=\"black\" points=\"396,-119.5 274,-119.5 274,-81.5 396,-81.5 396,-119.5\"/>\n<text text-anchor=\"middle\" x=\"335\" y=\"-104.3\" font-family=\"Helvetica,sans-Serif\" font-size=\"14.00\">samples = 25.0%</text>\n<text text-anchor=\"middle\" x=\"335\" y=\"-89.3\" font-family=\"Helvetica,sans-Serif\" font-size=\"14.00\">value = [1.0, 0.0]</text>\n</g>\n<!-- 0&#45;&gt;4 -->\n<g id=\"edge4\" class=\"edge\">\n<title>0&#45;&gt;4</title>\n<path fill=\"none\" stroke=\"black\" d=\"M263.05,-162.87C276.58,-151.33 292.49,-137.76 305.9,-126.32\"/>\n<polygon fill=\"black\" stroke=\"black\" points=\"308.55,-128.66 313.89,-119.51 304.01,-123.33 308.55,-128.66\"/>\n<text text-anchor=\"middle\" x=\"311.91\" y=\"-140.73\" font-family=\"Helvetica,sans-Serif\" font-size=\"14.00\">False</text>\n</g>\n<!-- 2 -->\n<g id=\"node3\" class=\"node\">\n<title>2</title>\n<polygon fill=\"#399de5\" stroke=\"black\" points=\"122,-38 0,-38 0,0 122,0 122,-38\"/>\n<text text-anchor=\"middle\" x=\"61\" y=\"-22.8\" font-family=\"Helvetica,sans-Serif\" font-size=\"14.00\">samples = 50.0%</text>\n<text text-anchor=\"middle\" x=\"61\" y=\"-7.8\" font-family=\"Helvetica,sans-Serif\" font-size=\"14.00\">value = [0.0, 1.0]</text>\n</g>\n<!-- 1&#45;&gt;2 -->\n<g id=\"edge2\" class=\"edge\">\n<title>1&#45;&gt;2</title>\n<path fill=\"none\" stroke=\"black\" d=\"M108.47,-73.91C100.55,-64.92 91.66,-54.82 83.73,-45.82\"/>\n<polygon fill=\"black\" stroke=\"black\" points=\"86.29,-43.43 77.06,-38.24 81.04,-48.06 86.29,-43.43\"/>\n</g>\n<!-- 3 -->\n<g id=\"node4\" class=\"node\">\n<title>3</title>\n<polygon fill=\"#e58139\" stroke=\"black\" points=\"262,-38 140,-38 140,0 262,0 262,-38\"/>\n<text text-anchor=\"middle\" x=\"201\" y=\"-22.8\" font-family=\"Helvetica,sans-Serif\" font-size=\"14.00\">samples = 25.0%</text>\n<text text-anchor=\"middle\" x=\"201\" y=\"-7.8\" font-family=\"Helvetica,sans-Serif\" font-size=\"14.00\">value = [1.0, 0.0]</text>\n</g>\n<!-- 1&#45;&gt;3 -->\n<g id=\"edge3\" class=\"edge\">\n<title>1&#45;&gt;3</title>\n<path fill=\"none\" stroke=\"black\" d=\"M153.53,-73.91C161.45,-64.92 170.34,-54.82 178.27,-45.82\"/>\n<polygon fill=\"black\" stroke=\"black\" points=\"180.96,-48.06 184.94,-38.24 175.71,-43.43 180.96,-48.06\"/>\n</g>\n</g>\n</svg>\n",
            "text/plain": [
              "<graphviz.sources.Source at 0x7922126ad010>"
            ]
          },
          "metadata": {}
        },
        {
          "output_type": "display_data",
          "data": {
            "image/svg+xml": "<?xml version=\"1.0\" encoding=\"UTF-8\" standalone=\"no\"?>\n<!DOCTYPE svg PUBLIC \"-//W3C//DTD SVG 1.1//EN\"\n \"http://www.w3.org/Graphics/SVG/1.1/DTD/svg11.dtd\">\n<!-- Generated by graphviz version 2.43.0 (0)\n -->\n<!-- Title: Tree Pages: 1 -->\n<svg width=\"404pt\" height=\"224pt\"\n viewBox=\"0.00 0.00 404.00 224.00\" xmlns=\"http://www.w3.org/2000/svg\" xmlns:xlink=\"http://www.w3.org/1999/xlink\">\n<g id=\"graph0\" class=\"graph\" transform=\"scale(1 1) rotate(0) translate(4 220)\">\n<title>Tree</title>\n<polygon fill=\"white\" stroke=\"transparent\" points=\"-4,4 -4,-220 400,-220 400,4 -4,4\"/>\n<!-- 0 -->\n<g id=\"node1\" class=\"node\">\n<title>0</title>\n<polygon fill=\"#eeab7b\" stroke=\"black\" points=\"284,-216 42,-216 42,-163 284,-163 284,-216\"/>\n<text text-anchor=\"middle\" x=\"163\" y=\"-200.8\" font-family=\"Helvetica,sans-Serif\" font-size=\"14.00\">ENSMUSG00000020484 &lt;= 743.318</text>\n<text text-anchor=\"middle\" x=\"163\" y=\"-185.8\" font-family=\"Helvetica,sans-Serif\" font-size=\"14.00\">samples = 100.0%</text>\n<text text-anchor=\"middle\" x=\"163\" y=\"-170.8\" font-family=\"Helvetica,sans-Serif\" font-size=\"14.00\">value = [0.75, 0.25]</text>\n</g>\n<!-- 1 -->\n<g id=\"node2\" class=\"node\">\n<title>1</title>\n<polygon fill=\"#e58139\" stroke=\"black\" points=\"122,-119.5 0,-119.5 0,-81.5 122,-81.5 122,-119.5\"/>\n<text text-anchor=\"middle\" x=\"61\" y=\"-104.3\" font-family=\"Helvetica,sans-Serif\" font-size=\"14.00\">samples = 62.5%</text>\n<text text-anchor=\"middle\" x=\"61\" y=\"-89.3\" font-family=\"Helvetica,sans-Serif\" font-size=\"14.00\">value = [1.0, 0.0]</text>\n</g>\n<!-- 0&#45;&gt;1 -->\n<g id=\"edge1\" class=\"edge\">\n<title>0&#45;&gt;1</title>\n<path fill=\"none\" stroke=\"black\" d=\"M132.95,-162.87C119.42,-151.33 103.51,-137.76 90.1,-126.32\"/>\n<polygon fill=\"black\" stroke=\"black\" points=\"91.99,-123.33 82.11,-119.51 87.45,-128.66 91.99,-123.33\"/>\n<text text-anchor=\"middle\" x=\"84.09\" y=\"-140.73\" font-family=\"Helvetica,sans-Serif\" font-size=\"14.00\">True</text>\n</g>\n<!-- 2 -->\n<g id=\"node3\" class=\"node\">\n<title>2</title>\n<polygon fill=\"#7bbeee\" stroke=\"black\" points=\"389.5,-127 140.5,-127 140.5,-74 389.5,-74 389.5,-127\"/>\n<text text-anchor=\"middle\" x=\"265\" y=\"-111.8\" font-family=\"Helvetica,sans-Serif\" font-size=\"14.00\">ENSMUSG00000054580 &lt;= 2121.401</text>\n<text text-anchor=\"middle\" x=\"265\" y=\"-96.8\" font-family=\"Helvetica,sans-Serif\" font-size=\"14.00\">samples = 37.5%</text>\n<text text-anchor=\"middle\" x=\"265\" y=\"-81.8\" font-family=\"Helvetica,sans-Serif\" font-size=\"14.00\">value = [0.25, 0.75]</text>\n</g>\n<!-- 0&#45;&gt;2 -->\n<g id=\"edge2\" class=\"edge\">\n<title>0&#45;&gt;2</title>\n<path fill=\"none\" stroke=\"black\" d=\"M193.05,-162.87C203.75,-153.75 215.93,-143.35 227.19,-133.75\"/>\n<polygon fill=\"black\" stroke=\"black\" points=\"229.47,-136.4 234.81,-127.25 224.93,-131.08 229.47,-136.4\"/>\n<text text-anchor=\"middle\" x=\"232.83\" y=\"-148.47\" font-family=\"Helvetica,sans-Serif\" font-size=\"14.00\">False</text>\n</g>\n<!-- 3 -->\n<g id=\"node4\" class=\"node\">\n<title>3</title>\n<polygon fill=\"#e58139\" stroke=\"black\" points=\"256,-38 134,-38 134,0 256,0 256,-38\"/>\n<text text-anchor=\"middle\" x=\"195\" y=\"-22.8\" font-family=\"Helvetica,sans-Serif\" font-size=\"14.00\">samples = 12.5%</text>\n<text text-anchor=\"middle\" x=\"195\" y=\"-7.8\" font-family=\"Helvetica,sans-Serif\" font-size=\"14.00\">value = [1.0, 0.0]</text>\n</g>\n<!-- 2&#45;&gt;3 -->\n<g id=\"edge3\" class=\"edge\">\n<title>2&#45;&gt;3</title>\n<path fill=\"none\" stroke=\"black\" d=\"M242.47,-73.91C234.55,-64.92 225.66,-54.82 217.73,-45.82\"/>\n<polygon fill=\"black\" stroke=\"black\" points=\"220.29,-43.43 211.06,-38.24 215.04,-48.06 220.29,-43.43\"/>\n</g>\n<!-- 4 -->\n<g id=\"node5\" class=\"node\">\n<title>4</title>\n<polygon fill=\"#399de5\" stroke=\"black\" points=\"396,-38 274,-38 274,0 396,0 396,-38\"/>\n<text text-anchor=\"middle\" x=\"335\" y=\"-22.8\" font-family=\"Helvetica,sans-Serif\" font-size=\"14.00\">samples = 25.0%</text>\n<text text-anchor=\"middle\" x=\"335\" y=\"-7.8\" font-family=\"Helvetica,sans-Serif\" font-size=\"14.00\">value = [0.0, 1.0]</text>\n</g>\n<!-- 2&#45;&gt;4 -->\n<g id=\"edge4\" class=\"edge\">\n<title>2&#45;&gt;4</title>\n<path fill=\"none\" stroke=\"black\" d=\"M287.53,-73.91C295.45,-64.92 304.34,-54.82 312.27,-45.82\"/>\n<polygon fill=\"black\" stroke=\"black\" points=\"314.96,-48.06 318.94,-38.24 309.71,-43.43 314.96,-48.06\"/>\n</g>\n</g>\n</svg>\n",
            "text/plain": [
              "<graphviz.sources.Source at 0x7922126ac4d0>"
            ]
          },
          "metadata": {}
        },
        {
          "output_type": "display_data",
          "data": {
            "image/svg+xml": "<?xml version=\"1.0\" encoding=\"UTF-8\" standalone=\"no\"?>\n<!DOCTYPE svg PUBLIC \"-//W3C//DTD SVG 1.1//EN\"\n \"http://www.w3.org/Graphics/SVG/1.1/DTD/svg11.dtd\">\n<!-- Generated by graphviz version 2.43.0 (0)\n -->\n<!-- Title: Tree Pages: 1 -->\n<svg width=\"270pt\" height=\"135pt\"\n viewBox=\"0.00 0.00 270.00 135.00\" xmlns=\"http://www.w3.org/2000/svg\" xmlns:xlink=\"http://www.w3.org/1999/xlink\">\n<g id=\"graph0\" class=\"graph\" transform=\"scale(1 1) rotate(0) translate(4 131)\">\n<title>Tree</title>\n<polygon fill=\"white\" stroke=\"transparent\" points=\"-4,4 -4,-131 266,-131 266,4 -4,4\"/>\n<!-- 0 -->\n<g id=\"node1\" class=\"node\">\n<title>0</title>\n<polygon fill=\"#f8dbc6\" stroke=\"black\" points=\"255.5,-127 6.5,-127 6.5,-74 255.5,-74 255.5,-127\"/>\n<text text-anchor=\"middle\" x=\"131\" y=\"-111.8\" font-family=\"Helvetica,sans-Serif\" font-size=\"14.00\">ENSMUSG00000031529 &lt;= 1705.884</text>\n<text text-anchor=\"middle\" x=\"131\" y=\"-96.8\" font-family=\"Helvetica,sans-Serif\" font-size=\"14.00\">samples = 100.0%</text>\n<text text-anchor=\"middle\" x=\"131\" y=\"-81.8\" font-family=\"Helvetica,sans-Serif\" font-size=\"14.00\">value = [0.583, 0.417]</text>\n</g>\n<!-- 1 -->\n<g id=\"node2\" class=\"node\">\n<title>1</title>\n<polygon fill=\"#399de5\" stroke=\"black\" points=\"122,-38 0,-38 0,0 122,0 122,-38\"/>\n<text text-anchor=\"middle\" x=\"61\" y=\"-22.8\" font-family=\"Helvetica,sans-Serif\" font-size=\"14.00\">samples = 42.9%</text>\n<text text-anchor=\"middle\" x=\"61\" y=\"-7.8\" font-family=\"Helvetica,sans-Serif\" font-size=\"14.00\">value = [0.0, 1.0]</text>\n</g>\n<!-- 0&#45;&gt;1 -->\n<g id=\"edge1\" class=\"edge\">\n<title>0&#45;&gt;1</title>\n<path fill=\"none\" stroke=\"black\" d=\"M108.47,-73.91C100.55,-64.92 91.66,-54.82 83.73,-45.82\"/>\n<polygon fill=\"black\" stroke=\"black\" points=\"86.29,-43.43 77.06,-38.24 81.04,-48.06 86.29,-43.43\"/>\n<text text-anchor=\"middle\" x=\"75.47\" y=\"-59.49\" font-family=\"Helvetica,sans-Serif\" font-size=\"14.00\">True</text>\n</g>\n<!-- 2 -->\n<g id=\"node3\" class=\"node\">\n<title>2</title>\n<polygon fill=\"#e58139\" stroke=\"black\" points=\"262,-38 140,-38 140,0 262,0 262,-38\"/>\n<text text-anchor=\"middle\" x=\"201\" y=\"-22.8\" font-family=\"Helvetica,sans-Serif\" font-size=\"14.00\">samples = 57.1%</text>\n<text text-anchor=\"middle\" x=\"201\" y=\"-7.8\" font-family=\"Helvetica,sans-Serif\" font-size=\"14.00\">value = [1.0, 0.0]</text>\n</g>\n<!-- 0&#45;&gt;2 -->\n<g id=\"edge2\" class=\"edge\">\n<title>0&#45;&gt;2</title>\n<path fill=\"none\" stroke=\"black\" d=\"M153.53,-73.91C161.45,-64.92 170.34,-54.82 178.27,-45.82\"/>\n<polygon fill=\"black\" stroke=\"black\" points=\"180.96,-48.06 184.94,-38.24 175.71,-43.43 180.96,-48.06\"/>\n<text text-anchor=\"middle\" x=\"186.53\" y=\"-59.49\" font-family=\"Helvetica,sans-Serif\" font-size=\"14.00\">False</text>\n</g>\n</g>\n</svg>\n",
            "text/plain": [
              "<graphviz.sources.Source at 0x79220e6ecc90>"
            ]
          },
          "metadata": {}
        },
        {
          "output_type": "display_data",
          "data": {
            "image/svg+xml": "<?xml version=\"1.0\" encoding=\"UTF-8\" standalone=\"no\"?>\n<!DOCTYPE svg PUBLIC \"-//W3C//DTD SVG 1.1//EN\"\n \"http://www.w3.org/Graphics/SVG/1.1/DTD/svg11.dtd\">\n<!-- Generated by graphviz version 2.43.0 (0)\n -->\n<!-- Title: Tree Pages: 1 -->\n<svg width=\"270pt\" height=\"135pt\"\n viewBox=\"0.00 0.00 270.00 135.00\" xmlns=\"http://www.w3.org/2000/svg\" xmlns:xlink=\"http://www.w3.org/1999/xlink\">\n<g id=\"graph0\" class=\"graph\" transform=\"scale(1 1) rotate(0) translate(4 131)\">\n<title>Tree</title>\n<polygon fill=\"white\" stroke=\"transparent\" points=\"-4,4 -4,-131 266,-131 266,4 -4,4\"/>\n<!-- 0 -->\n<g id=\"node1\" class=\"node\">\n<title>0</title>\n<polygon fill=\"#ffffff\" stroke=\"black\" points=\"255.5,-127 6.5,-127 6.5,-74 255.5,-74 255.5,-127\"/>\n<text text-anchor=\"middle\" x=\"131\" y=\"-111.8\" font-family=\"Helvetica,sans-Serif\" font-size=\"14.00\">ENSMUSG00000023010 &lt;= 2841.624</text>\n<text text-anchor=\"middle\" x=\"131\" y=\"-96.8\" font-family=\"Helvetica,sans-Serif\" font-size=\"14.00\">samples = 100.0%</text>\n<text text-anchor=\"middle\" x=\"131\" y=\"-81.8\" font-family=\"Helvetica,sans-Serif\" font-size=\"14.00\">value = [0.5, 0.5]</text>\n</g>\n<!-- 1 -->\n<g id=\"node2\" class=\"node\">\n<title>1</title>\n<polygon fill=\"#399de5\" stroke=\"black\" points=\"122,-38 0,-38 0,0 122,0 122,-38\"/>\n<text text-anchor=\"middle\" x=\"61\" y=\"-22.8\" font-family=\"Helvetica,sans-Serif\" font-size=\"14.00\">samples = 50.0%</text>\n<text text-anchor=\"middle\" x=\"61\" y=\"-7.8\" font-family=\"Helvetica,sans-Serif\" font-size=\"14.00\">value = [0.0, 1.0]</text>\n</g>\n<!-- 0&#45;&gt;1 -->\n<g id=\"edge1\" class=\"edge\">\n<title>0&#45;&gt;1</title>\n<path fill=\"none\" stroke=\"black\" d=\"M108.47,-73.91C100.55,-64.92 91.66,-54.82 83.73,-45.82\"/>\n<polygon fill=\"black\" stroke=\"black\" points=\"86.29,-43.43 77.06,-38.24 81.04,-48.06 86.29,-43.43\"/>\n<text text-anchor=\"middle\" x=\"75.47\" y=\"-59.49\" font-family=\"Helvetica,sans-Serif\" font-size=\"14.00\">True</text>\n</g>\n<!-- 2 -->\n<g id=\"node3\" class=\"node\">\n<title>2</title>\n<polygon fill=\"#e58139\" stroke=\"black\" points=\"262,-38 140,-38 140,0 262,0 262,-38\"/>\n<text text-anchor=\"middle\" x=\"201\" y=\"-22.8\" font-family=\"Helvetica,sans-Serif\" font-size=\"14.00\">samples = 50.0%</text>\n<text text-anchor=\"middle\" x=\"201\" y=\"-7.8\" font-family=\"Helvetica,sans-Serif\" font-size=\"14.00\">value = [1.0, 0.0]</text>\n</g>\n<!-- 0&#45;&gt;2 -->\n<g id=\"edge2\" class=\"edge\">\n<title>0&#45;&gt;2</title>\n<path fill=\"none\" stroke=\"black\" d=\"M153.53,-73.91C161.45,-64.92 170.34,-54.82 178.27,-45.82\"/>\n<polygon fill=\"black\" stroke=\"black\" points=\"180.96,-48.06 184.94,-38.24 175.71,-43.43 180.96,-48.06\"/>\n<text text-anchor=\"middle\" x=\"186.53\" y=\"-59.49\" font-family=\"Helvetica,sans-Serif\" font-size=\"14.00\">False</text>\n</g>\n</g>\n</svg>\n",
            "text/plain": [
              "<graphviz.sources.Source at 0x7922578cf490>"
            ]
          },
          "metadata": {}
        },
        {
          "output_type": "display_data",
          "data": {
            "image/svg+xml": "<?xml version=\"1.0\" encoding=\"UTF-8\" standalone=\"no\"?>\n<!DOCTYPE svg PUBLIC \"-//W3C//DTD SVG 1.1//EN\"\n \"http://www.w3.org/Graphics/SVG/1.1/DTD/svg11.dtd\">\n<!-- Generated by graphviz version 2.43.0 (0)\n -->\n<!-- Title: Tree Pages: 1 -->\n<svg width=\"270pt\" height=\"135pt\"\n viewBox=\"0.00 0.00 270.00 135.00\" xmlns=\"http://www.w3.org/2000/svg\" xmlns:xlink=\"http://www.w3.org/1999/xlink\">\n<g id=\"graph0\" class=\"graph\" transform=\"scale(1 1) rotate(0) translate(4 131)\">\n<title>Tree</title>\n<polygon fill=\"white\" stroke=\"transparent\" points=\"-4,4 -4,-131 266,-131 266,4 -4,4\"/>\n<!-- 0 -->\n<g id=\"node1\" class=\"node\">\n<title>0</title>\n<polygon fill=\"#eeab7b\" stroke=\"black\" points=\"248,-127 14,-127 14,-74 248,-74 248,-127\"/>\n<text text-anchor=\"middle\" x=\"131\" y=\"-111.8\" font-family=\"Helvetica,sans-Serif\" font-size=\"14.00\">ENSMUSG00000120493 &lt;= 53.323</text>\n<text text-anchor=\"middle\" x=\"131\" y=\"-96.8\" font-family=\"Helvetica,sans-Serif\" font-size=\"14.00\">samples = 100.0%</text>\n<text text-anchor=\"middle\" x=\"131\" y=\"-81.8\" font-family=\"Helvetica,sans-Serif\" font-size=\"14.00\">value = [0.75, 0.25]</text>\n</g>\n<!-- 1 -->\n<g id=\"node2\" class=\"node\">\n<title>1</title>\n<polygon fill=\"#e58139\" stroke=\"black\" points=\"122,-38 0,-38 0,0 122,0 122,-38\"/>\n<text text-anchor=\"middle\" x=\"61\" y=\"-22.8\" font-family=\"Helvetica,sans-Serif\" font-size=\"14.00\">samples = 57.1%</text>\n<text text-anchor=\"middle\" x=\"61\" y=\"-7.8\" font-family=\"Helvetica,sans-Serif\" font-size=\"14.00\">value = [1.0, 0.0]</text>\n</g>\n<!-- 0&#45;&gt;1 -->\n<g id=\"edge1\" class=\"edge\">\n<title>0&#45;&gt;1</title>\n<path fill=\"none\" stroke=\"black\" d=\"M108.47,-73.91C100.55,-64.92 91.66,-54.82 83.73,-45.82\"/>\n<polygon fill=\"black\" stroke=\"black\" points=\"86.29,-43.43 77.06,-38.24 81.04,-48.06 86.29,-43.43\"/>\n<text text-anchor=\"middle\" x=\"75.47\" y=\"-59.49\" font-family=\"Helvetica,sans-Serif\" font-size=\"14.00\">True</text>\n</g>\n<!-- 2 -->\n<g id=\"node3\" class=\"node\">\n<title>2</title>\n<polygon fill=\"#399de5\" stroke=\"black\" points=\"262,-38 140,-38 140,0 262,0 262,-38\"/>\n<text text-anchor=\"middle\" x=\"201\" y=\"-22.8\" font-family=\"Helvetica,sans-Serif\" font-size=\"14.00\">samples = 42.9%</text>\n<text text-anchor=\"middle\" x=\"201\" y=\"-7.8\" font-family=\"Helvetica,sans-Serif\" font-size=\"14.00\">value = [0.0, 1.0]</text>\n</g>\n<!-- 0&#45;&gt;2 -->\n<g id=\"edge2\" class=\"edge\">\n<title>0&#45;&gt;2</title>\n<path fill=\"none\" stroke=\"black\" d=\"M153.53,-73.91C161.45,-64.92 170.34,-54.82 178.27,-45.82\"/>\n<polygon fill=\"black\" stroke=\"black\" points=\"180.96,-48.06 184.94,-38.24 175.71,-43.43 180.96,-48.06\"/>\n<text text-anchor=\"middle\" x=\"186.53\" y=\"-59.49\" font-family=\"Helvetica,sans-Serif\" font-size=\"14.00\">False</text>\n</g>\n</g>\n</svg>\n",
            "text/plain": [
              "<graphviz.sources.Source at 0x792257895590>"
            ]
          },
          "metadata": {}
        },
        {
          "output_type": "display_data",
          "data": {
            "image/svg+xml": "<?xml version=\"1.0\" encoding=\"UTF-8\" standalone=\"no\"?>\n<!DOCTYPE svg PUBLIC \"-//W3C//DTD SVG 1.1//EN\"\n \"http://www.w3.org/Graphics/SVG/1.1/DTD/svg11.dtd\">\n<!-- Generated by graphviz version 2.43.0 (0)\n -->\n<!-- Title: Tree Pages: 1 -->\n<svg width=\"404pt\" height=\"224pt\"\n viewBox=\"0.00 0.00 404.00 224.00\" xmlns=\"http://www.w3.org/2000/svg\" xmlns:xlink=\"http://www.w3.org/1999/xlink\">\n<g id=\"graph0\" class=\"graph\" transform=\"scale(1 1) rotate(0) translate(4 220)\">\n<title>Tree</title>\n<polygon fill=\"white\" stroke=\"transparent\" points=\"-4,4 -4,-220 400,-220 400,4 -4,4\"/>\n<!-- 0 -->\n<g id=\"node1\" class=\"node\">\n<title>0</title>\n<polygon fill=\"#ffffff\" stroke=\"black\" points=\"284,-216 42,-216 42,-163 284,-163 284,-216\"/>\n<text text-anchor=\"middle\" x=\"163\" y=\"-200.8\" font-family=\"Helvetica,sans-Serif\" font-size=\"14.00\">ENSMUSG00000037957 &lt;= 511.468</text>\n<text text-anchor=\"middle\" x=\"163\" y=\"-185.8\" font-family=\"Helvetica,sans-Serif\" font-size=\"14.00\">samples = 100.0%</text>\n<text text-anchor=\"middle\" x=\"163\" y=\"-170.8\" font-family=\"Helvetica,sans-Serif\" font-size=\"14.00\">value = [0.5, 0.5]</text>\n</g>\n<!-- 1 -->\n<g id=\"node2\" class=\"node\">\n<title>1</title>\n<polygon fill=\"#399de5\" stroke=\"black\" points=\"122,-119.5 0,-119.5 0,-81.5 122,-81.5 122,-119.5\"/>\n<text text-anchor=\"middle\" x=\"61\" y=\"-104.3\" font-family=\"Helvetica,sans-Serif\" font-size=\"14.00\">samples = 22.2%</text>\n<text text-anchor=\"middle\" x=\"61\" y=\"-89.3\" font-family=\"Helvetica,sans-Serif\" font-size=\"14.00\">value = [0.0, 1.0]</text>\n</g>\n<!-- 0&#45;&gt;1 -->\n<g id=\"edge1\" class=\"edge\">\n<title>0&#45;&gt;1</title>\n<path fill=\"none\" stroke=\"black\" d=\"M132.95,-162.87C119.42,-151.33 103.51,-137.76 90.1,-126.32\"/>\n<polygon fill=\"black\" stroke=\"black\" points=\"91.99,-123.33 82.11,-119.51 87.45,-128.66 91.99,-123.33\"/>\n<text text-anchor=\"middle\" x=\"84.09\" y=\"-140.73\" font-family=\"Helvetica,sans-Serif\" font-size=\"14.00\">True</text>\n</g>\n<!-- 2 -->\n<g id=\"node3\" class=\"node\">\n<title>2</title>\n<polygon fill=\"#e9965a\" stroke=\"black\" points=\"389.5,-127 140.5,-127 140.5,-74 389.5,-74 389.5,-127\"/>\n<text text-anchor=\"middle\" x=\"265\" y=\"-111.8\" font-family=\"Helvetica,sans-Serif\" font-size=\"14.00\">ENSMUSG00000041460 &lt;= 6201.699</text>\n<text text-anchor=\"middle\" x=\"265\" y=\"-96.8\" font-family=\"Helvetica,sans-Serif\" font-size=\"14.00\">samples = 77.8%</text>\n<text text-anchor=\"middle\" x=\"265\" y=\"-81.8\" font-family=\"Helvetica,sans-Serif\" font-size=\"14.00\">value = [0.857, 0.143]</text>\n</g>\n<!-- 0&#45;&gt;2 -->\n<g id=\"edge2\" class=\"edge\">\n<title>0&#45;&gt;2</title>\n<path fill=\"none\" stroke=\"black\" d=\"M193.05,-162.87C203.75,-153.75 215.93,-143.35 227.19,-133.75\"/>\n<polygon fill=\"black\" stroke=\"black\" points=\"229.47,-136.4 234.81,-127.25 224.93,-131.08 229.47,-136.4\"/>\n<text text-anchor=\"middle\" x=\"232.83\" y=\"-148.47\" font-family=\"Helvetica,sans-Serif\" font-size=\"14.00\">False</text>\n</g>\n<!-- 3 -->\n<g id=\"node4\" class=\"node\">\n<title>3</title>\n<polygon fill=\"#e58139\" stroke=\"black\" points=\"256,-38 134,-38 134,0 256,0 256,-38\"/>\n<text text-anchor=\"middle\" x=\"195\" y=\"-22.8\" font-family=\"Helvetica,sans-Serif\" font-size=\"14.00\">samples = 66.7%</text>\n<text text-anchor=\"middle\" x=\"195\" y=\"-7.8\" font-family=\"Helvetica,sans-Serif\" font-size=\"14.00\">value = [1.0, 0.0]</text>\n</g>\n<!-- 2&#45;&gt;3 -->\n<g id=\"edge3\" class=\"edge\">\n<title>2&#45;&gt;3</title>\n<path fill=\"none\" stroke=\"black\" d=\"M242.47,-73.91C234.55,-64.92 225.66,-54.82 217.73,-45.82\"/>\n<polygon fill=\"black\" stroke=\"black\" points=\"220.29,-43.43 211.06,-38.24 215.04,-48.06 220.29,-43.43\"/>\n</g>\n<!-- 4 -->\n<g id=\"node5\" class=\"node\">\n<title>4</title>\n<polygon fill=\"#399de5\" stroke=\"black\" points=\"396,-38 274,-38 274,0 396,0 396,-38\"/>\n<text text-anchor=\"middle\" x=\"335\" y=\"-22.8\" font-family=\"Helvetica,sans-Serif\" font-size=\"14.00\">samples = 11.1%</text>\n<text text-anchor=\"middle\" x=\"335\" y=\"-7.8\" font-family=\"Helvetica,sans-Serif\" font-size=\"14.00\">value = [0.0, 1.0]</text>\n</g>\n<!-- 2&#45;&gt;4 -->\n<g id=\"edge4\" class=\"edge\">\n<title>2&#45;&gt;4</title>\n<path fill=\"none\" stroke=\"black\" d=\"M287.53,-73.91C295.45,-64.92 304.34,-54.82 312.27,-45.82\"/>\n<polygon fill=\"black\" stroke=\"black\" points=\"314.96,-48.06 318.94,-38.24 309.71,-43.43 314.96,-48.06\"/>\n</g>\n</g>\n</svg>\n",
            "text/plain": [
              "<graphviz.sources.Source at 0x79220e6ed750>"
            ]
          },
          "metadata": {}
        },
        {
          "output_type": "display_data",
          "data": {
            "image/svg+xml": "<?xml version=\"1.0\" encoding=\"UTF-8\" standalone=\"no\"?>\n<!DOCTYPE svg PUBLIC \"-//W3C//DTD SVG 1.1//EN\"\n \"http://www.w3.org/Graphics/SVG/1.1/DTD/svg11.dtd\">\n<!-- Generated by graphviz version 2.43.0 (0)\n -->\n<!-- Title: Tree Pages: 1 -->\n<svg width=\"270pt\" height=\"135pt\"\n viewBox=\"0.00 0.00 270.00 135.00\" xmlns=\"http://www.w3.org/2000/svg\" xmlns:xlink=\"http://www.w3.org/1999/xlink\">\n<g id=\"graph0\" class=\"graph\" transform=\"scale(1 1) rotate(0) translate(4 131)\">\n<title>Tree</title>\n<polygon fill=\"white\" stroke=\"transparent\" points=\"-4,4 -4,-131 266,-131 266,4 -4,4\"/>\n<!-- 0 -->\n<g id=\"node1\" class=\"node\">\n<title>0</title>\n<polygon fill=\"#ea9a61\" stroke=\"black\" points=\"248,-127 14,-127 14,-74 248,-74 248,-127\"/>\n<text text-anchor=\"middle\" x=\"131\" y=\"-111.8\" font-family=\"Helvetica,sans-Serif\" font-size=\"14.00\">ENSMUSG00000045690 &lt;= 55.785</text>\n<text text-anchor=\"middle\" x=\"131\" y=\"-96.8\" font-family=\"Helvetica,sans-Serif\" font-size=\"14.00\">samples = 100.0%</text>\n<text text-anchor=\"middle\" x=\"131\" y=\"-81.8\" font-family=\"Helvetica,sans-Serif\" font-size=\"14.00\">value = [0.833, 0.167]</text>\n</g>\n<!-- 1 -->\n<g id=\"node2\" class=\"node\">\n<title>1</title>\n<polygon fill=\"#399de5\" stroke=\"black\" points=\"122,-38 0,-38 0,0 122,0 122,-38\"/>\n<text text-anchor=\"middle\" x=\"61\" y=\"-22.8\" font-family=\"Helvetica,sans-Serif\" font-size=\"14.00\">samples = 25.0%</text>\n<text text-anchor=\"middle\" x=\"61\" y=\"-7.8\" font-family=\"Helvetica,sans-Serif\" font-size=\"14.00\">value = [0.0, 1.0]</text>\n</g>\n<!-- 0&#45;&gt;1 -->\n<g id=\"edge1\" class=\"edge\">\n<title>0&#45;&gt;1</title>\n<path fill=\"none\" stroke=\"black\" d=\"M108.47,-73.91C100.55,-64.92 91.66,-54.82 83.73,-45.82\"/>\n<polygon fill=\"black\" stroke=\"black\" points=\"86.29,-43.43 77.06,-38.24 81.04,-48.06 86.29,-43.43\"/>\n<text text-anchor=\"middle\" x=\"75.47\" y=\"-59.49\" font-family=\"Helvetica,sans-Serif\" font-size=\"14.00\">True</text>\n</g>\n<!-- 2 -->\n<g id=\"node3\" class=\"node\">\n<title>2</title>\n<polygon fill=\"#e58139\" stroke=\"black\" points=\"262,-38 140,-38 140,0 262,0 262,-38\"/>\n<text text-anchor=\"middle\" x=\"201\" y=\"-22.8\" font-family=\"Helvetica,sans-Serif\" font-size=\"14.00\">samples = 75.0%</text>\n<text text-anchor=\"middle\" x=\"201\" y=\"-7.8\" font-family=\"Helvetica,sans-Serif\" font-size=\"14.00\">value = [1.0, 0.0]</text>\n</g>\n<!-- 0&#45;&gt;2 -->\n<g id=\"edge2\" class=\"edge\">\n<title>0&#45;&gt;2</title>\n<path fill=\"none\" stroke=\"black\" d=\"M153.53,-73.91C161.45,-64.92 170.34,-54.82 178.27,-45.82\"/>\n<polygon fill=\"black\" stroke=\"black\" points=\"180.96,-48.06 184.94,-38.24 175.71,-43.43 180.96,-48.06\"/>\n<text text-anchor=\"middle\" x=\"186.53\" y=\"-59.49\" font-family=\"Helvetica,sans-Serif\" font-size=\"14.00\">False</text>\n</g>\n</g>\n</svg>\n",
            "text/plain": [
              "<graphviz.sources.Source at 0x7922126ad010>"
            ]
          },
          "metadata": {}
        },
        {
          "output_type": "display_data",
          "data": {
            "image/svg+xml": "<?xml version=\"1.0\" encoding=\"UTF-8\" standalone=\"no\"?>\n<!DOCTYPE svg PUBLIC \"-//W3C//DTD SVG 1.1//EN\"\n \"http://www.w3.org/Graphics/SVG/1.1/DTD/svg11.dtd\">\n<!-- Generated by graphviz version 2.43.0 (0)\n -->\n<!-- Title: Tree Pages: 1 -->\n<svg width=\"270pt\" height=\"135pt\"\n viewBox=\"0.00 0.00 270.00 135.00\" xmlns=\"http://www.w3.org/2000/svg\" xmlns:xlink=\"http://www.w3.org/1999/xlink\">\n<g id=\"graph0\" class=\"graph\" transform=\"scale(1 1) rotate(0) translate(4 131)\">\n<title>Tree</title>\n<polygon fill=\"white\" stroke=\"transparent\" points=\"-4,4 -4,-131 266,-131 266,4 -4,4\"/>\n<!-- 0 -->\n<g id=\"node1\" class=\"node\">\n<title>0</title>\n<polygon fill=\"#eeab7b\" stroke=\"black\" points=\"252,-127 10,-127 10,-74 252,-74 252,-127\"/>\n<text text-anchor=\"middle\" x=\"131\" y=\"-111.8\" font-family=\"Helvetica,sans-Serif\" font-size=\"14.00\">ENSMUSG00000029777 &lt;= 745.187</text>\n<text text-anchor=\"middle\" x=\"131\" y=\"-96.8\" font-family=\"Helvetica,sans-Serif\" font-size=\"14.00\">samples = 100.0%</text>\n<text text-anchor=\"middle\" x=\"131\" y=\"-81.8\" font-family=\"Helvetica,sans-Serif\" font-size=\"14.00\">value = [0.75, 0.25]</text>\n</g>\n<!-- 1 -->\n<g id=\"node2\" class=\"node\">\n<title>1</title>\n<polygon fill=\"#399de5\" stroke=\"black\" points=\"122,-38 0,-38 0,0 122,0 122,-38\"/>\n<text text-anchor=\"middle\" x=\"61\" y=\"-22.8\" font-family=\"Helvetica,sans-Serif\" font-size=\"14.00\">samples = 37.5%</text>\n<text text-anchor=\"middle\" x=\"61\" y=\"-7.8\" font-family=\"Helvetica,sans-Serif\" font-size=\"14.00\">value = [0.0, 1.0]</text>\n</g>\n<!-- 0&#45;&gt;1 -->\n<g id=\"edge1\" class=\"edge\">\n<title>0&#45;&gt;1</title>\n<path fill=\"none\" stroke=\"black\" d=\"M108.47,-73.91C100.55,-64.92 91.66,-54.82 83.73,-45.82\"/>\n<polygon fill=\"black\" stroke=\"black\" points=\"86.29,-43.43 77.06,-38.24 81.04,-48.06 86.29,-43.43\"/>\n<text text-anchor=\"middle\" x=\"75.47\" y=\"-59.49\" font-family=\"Helvetica,sans-Serif\" font-size=\"14.00\">True</text>\n</g>\n<!-- 2 -->\n<g id=\"node3\" class=\"node\">\n<title>2</title>\n<polygon fill=\"#e58139\" stroke=\"black\" points=\"262,-38 140,-38 140,0 262,0 262,-38\"/>\n<text text-anchor=\"middle\" x=\"201\" y=\"-22.8\" font-family=\"Helvetica,sans-Serif\" font-size=\"14.00\">samples = 62.5%</text>\n<text text-anchor=\"middle\" x=\"201\" y=\"-7.8\" font-family=\"Helvetica,sans-Serif\" font-size=\"14.00\">value = [1.0, 0.0]</text>\n</g>\n<!-- 0&#45;&gt;2 -->\n<g id=\"edge2\" class=\"edge\">\n<title>0&#45;&gt;2</title>\n<path fill=\"none\" stroke=\"black\" d=\"M153.53,-73.91C161.45,-64.92 170.34,-54.82 178.27,-45.82\"/>\n<polygon fill=\"black\" stroke=\"black\" points=\"180.96,-48.06 184.94,-38.24 175.71,-43.43 180.96,-48.06\"/>\n<text text-anchor=\"middle\" x=\"186.53\" y=\"-59.49\" font-family=\"Helvetica,sans-Serif\" font-size=\"14.00\">False</text>\n</g>\n</g>\n</svg>\n",
            "text/plain": [
              "<graphviz.sources.Source at 0x79228944d090>"
            ]
          },
          "metadata": {}
        }
      ],
      "source": [
        "# visualize the random forest\n",
        "num_trees=10\n",
        "for i in range(num_trees):\n",
        "    tree = clf.estimators_[i]\n",
        "    dot_data = m.export_graphviz(tree,\n",
        "                               feature_names=X_train.columns,\n",
        "                               filled=True,\n",
        "                               impurity=False,\n",
        "                               proportion=True)\n",
        "    graph = m.graphviz.Source(dot_data)\n",
        "    display(graph)"
      ]
    },
    {
      "cell_type": "code",
      "execution_count": null,
      "metadata": {
        "id": "7q5JaOUVgZsg",
        "colab": {
          "base_uri": "https://localhost:8080/"
        },
        "outputId": "9cb32f2a-dc44-4630-8353-93d8ff347d15"
      },
      "outputs": [
        {
          "output_type": "execute_result",
          "data": {
            "text/plain": [
              "array([[1, 0],\n",
              "       [1, 2]])"
            ]
          },
          "metadata": {},
          "execution_count": 18
        }
      ],
      "source": [
        "# now create a confusion matrix\n",
        "from sklearn.metrics import confusion_matrix\n",
        "y_pred = clf.predict(X_test)\n",
        "confusion_matrix(y_test, y_pred)"
      ]
    },
    {
      "cell_type": "markdown",
      "metadata": {
        "id": "rhhM9QJvayyZ"
      },
      "source": [
        "**QUESTIONS**\n",
        "\n",
        "1. What is the training accuracy of the random forest model? Test accuracy? Train: 1.00 (100%), Test 0.75 (75%)\n",
        "\n",
        "2. Which genes are used in the decision trees of the random forest model? ENSMUSG00000023010\n",
        "\n",
        "ENSMUSG00000120493\n",
        "\n",
        "ENSMUSG00000037957\n",
        "\n",
        "ENSMUSG00000041460\n",
        "\n",
        "ENSMUSG00000045690\n",
        "\n",
        "3. According to the confusion matrix, how many low IOP samples were correctly classified?  correct high IOP?  how many low IOP samples were confused with high IOP samples? Correct low IOP: 1\n",
        "\n",
        "Correct high IOP: 2\n",
        "\n",
        "Low IOP → high IOP (confusion): 0\n",
        "\n",
        "High IOP → low IOP (confusion): 1"
      ]
    },
    {
      "cell_type": "markdown",
      "metadata": {
        "id": "6Ytk7E-Rk5Jc"
      },
      "source": [
        "## Build a single-layer perceptron model that predicts IOP from gene expression\n"
      ]
    },
    {
      "cell_type": "code",
      "execution_count": null,
      "metadata": {
        "id": "IfcY_m_Uk-Z7",
        "colab": {
          "base_uri": "https://localhost:8080/"
        },
        "outputId": "ba4ca068-4c6e-46a5-baf5-c38e39f1b36a"
      },
      "outputs": [
        {
          "output_type": "stream",
          "name": "stdout",
          "text": [
            "train accuracy: 0.4166666666666667\n",
            "test accuracy: 0.75\n",
            "overall score:  0.5\n"
          ]
        }
      ],
      "source": [
        "# run random forest classification on X, y\n",
        "\n",
        "from sklearn.linear_model import Perceptron\n",
        "clf = Perceptron(tol=1e-3, random_state=0)\n",
        "clf.fit(X_train, y_train)\n",
        "\n",
        "y_train_pred = clf.predict(X_train)\n",
        "train_acc = m.accuracy_score(y_train, y_train_pred)\n",
        "print(\"train accuracy:\", train_acc)\n",
        "\n",
        "y_pred = clf.predict(X_test)\n",
        "test_acc = m.accuracy_score(y_test, y_pred)\n",
        "print(\"test accuracy:\", test_acc)\n",
        "\n",
        "print('overall score: ', clf.score(X, y))\n"
      ]
    },
    {
      "cell_type": "markdown",
      "metadata": {
        "id": "n9PGigL6qP-w"
      },
      "source": [
        "**QUESTIONS**\n",
        "\n",
        "1. What is the training accuracy of the SLP model? 0.4166---\n",
        "\n",
        "2. What is the test accuracy of the SLP model? 0.75\n",
        "\n",
        "3. What might explain the discrepancy between the training and testing accuracy? The main reason is the small dataset size combined with a simple linear model, causing instability and poor generalization on training data, while the test split might coincidentally align with features the model can separate."
      ]
    },
    {
      "cell_type": "markdown",
      "metadata": {
        "id": "GG90bHw2cP_h"
      },
      "source": [
        "## BONUS: Build a logistic regression model that predicts IOP from gene expression"
      ]
    },
    {
      "cell_type": "code",
      "execution_count": null,
      "metadata": {
        "id": "cHlOMEwi05fH",
        "colab": {
          "base_uri": "https://localhost:8080/"
        },
        "outputId": "522446d0-ffc7-4138-8f2d-d13ba8daff9f"
      },
      "outputs": [
        {
          "output_type": "stream",
          "name": "stdout",
          "text": [
            "train accuracy: 1.0\n",
            "test accuracy: 0.5\n"
          ]
        }
      ],
      "source": [
        "# now run logistic regression classification on X, y\n",
        "\n",
        "clf = m.LogisticRegression(random_state=23)\n",
        "clf.fit(X_train, y_train)\n",
        "\n",
        "y_train_pred = clf.predict(X_train)\n",
        "train_acc = m.accuracy_score(y_train, y_train_pred)\n",
        "print(\"train accuracy:\", train_acc)\n",
        "\n",
        "y_pred = clf.predict(X_test)\n",
        "test_acc = m.accuracy_score(y_test, y_pred)\n",
        "print(\"test accuracy:\", test_acc)\n"
      ]
    },
    {
      "cell_type": "markdown",
      "metadata": {
        "id": "XX0dbR0RqvqZ"
      },
      "source": [
        "**QUESTIONS**\n",
        "\n",
        "1. What is the training accuracy of the logistic regression model? 100%\n",
        "\n",
        "2. What is the test accuracy of the logistic regression model? 50%\n",
        "\n",
        "3. Which model has a better test accuracy for predicting IOP from gene expression -- the random forest model, SLP, or the logistic regression model? Random Forest and SLP (tie at 0.75)"
      ]
    },
    {
      "cell_type": "markdown",
      "metadata": {
        "id": "qw374GMxbz_G"
      },
      "source": [
        "# Predict immunostaining PECAM microscopy from RNA-seq (gene expression)\n",
        "\n",
        "Not all the samples with PECAM measurements had their RNA sequenced.  We will need to first intersect the PECAM data with samples from RNA-seq data."
      ]
    },
    {
      "cell_type": "markdown",
      "metadata": {
        "id": "s3X9tqs3pNrE"
      },
      "source": [
        "## Prepare the data for the algorithms"
      ]
    },
    {
      "cell_type": "code",
      "execution_count": null,
      "metadata": {
        "id": "2yL-eJ374d4g",
        "colab": {
          "base_uri": "https://localhost:8080/"
        },
        "outputId": "5150c155-4a8f-4c86-f79d-5229d95139f5"
      },
      "outputs": [
        {
          "output_type": "stream",
          "name": "stdout",
          "text": [
            "Using None as control genes, passed at DeseqDataSet initialization\n"
          ]
        },
        {
          "output_type": "stream",
          "name": "stderr",
          "text": [
            "Fitting size factors...\n",
            "... done in 0.04 seconds.\n",
            "\n",
            "Fitting dispersions...\n",
            "... done in 32.72 seconds.\n",
            "\n",
            "Fitting dispersion trend curve...\n",
            "... done in 0.79 seconds.\n",
            "\n",
            "Fitting MAP dispersions...\n",
            "... done in 39.07 seconds.\n",
            "\n",
            "Fitting LFCs...\n",
            "... done in 19.19 seconds.\n",
            "\n",
            "Calculating cook's distance...\n",
            "... done in 0.03 seconds.\n",
            "\n",
            "Replacing 294 outlier genes.\n",
            "\n",
            "Fitting dispersions...\n",
            "... done in 0.34 seconds.\n",
            "\n",
            "Fitting MAP dispersions...\n",
            "... done in 0.38 seconds.\n",
            "\n",
            "Fitting LFCs...\n",
            "... done in 0.28 seconds.\n",
            "\n",
            "Running Wald tests...\n",
            "... done in 7.65 seconds.\n",
            "\n"
          ]
        },
        {
          "output_type": "stream",
          "name": "stdout",
          "text": [
            "Log2 fold change & Wald test p-value: condition 0 vs 1\n",
            "                      baseMean  log2FoldChange     lfcSE      stat    pvalue  \\\n",
            "ENSMUSG00000000001  247.799812       -0.018393  0.073619 -0.249837  0.802713   \n",
            "ENSMUSG00000000028   27.844661       -0.175417  0.251489 -0.697513  0.485482   \n",
            "ENSMUSG00000000031    4.111510        1.098824  0.720941  1.524152  0.127471   \n",
            "ENSMUSG00000000037   17.569248       -0.267676  0.292810 -0.914163  0.360631   \n",
            "ENSMUSG00000000049    1.058677        2.166938  1.289496  1.680453  0.092869   \n",
            "...                        ...             ...       ...       ...       ...   \n",
            "ENSMUSG00002076937    3.364061       -1.001464  0.889246 -1.126194  0.260083   \n",
            "ENSMUSG00002076945    1.308321        0.414447  1.081399  0.383250  0.701534   \n",
            "ENSMUSG00002076971    0.684746        0.261245  1.815131  0.143926  0.885559   \n",
            "ENSMUSG00002076982    0.685585       -0.263624  1.350536 -0.195200  0.845237   \n",
            "ENSMUSG00002076983    0.810512       -1.684478  1.616810 -1.041853  0.297480   \n",
            "\n",
            "                        padj  \n",
            "ENSMUSG00000000001  0.956927  \n",
            "ENSMUSG00000000028  0.847399  \n",
            "ENSMUSG00000000031       NaN  \n",
            "ENSMUSG00000000037       NaN  \n",
            "ENSMUSG00000000049       NaN  \n",
            "...                      ...  \n",
            "ENSMUSG00002076937       NaN  \n",
            "ENSMUSG00002076945       NaN  \n",
            "ENSMUSG00002076971       NaN  \n",
            "ENSMUSG00002076982       NaN  \n",
            "ENSMUSG00002076983       NaN  \n",
            "\n",
            "[23419 rows x 6 columns]\n"
          ]
        }
      ],
      "source": [
        "# filter genes to those significantly differentially expressed between ground control and space flight\n",
        "rna_seq = m.filter_by_dgea(data['255-normalized'], metadata['255'],  pval=0.05, l2fc=0)"
      ]
    },
    {
      "cell_type": "code",
      "execution_count": null,
      "metadata": {
        "id": "dgJBGbDpiFAC",
        "colab": {
          "base_uri": "https://localhost:8080/"
        },
        "outputId": "ca994e1f-5cdc-44a0-e03b-4b3acad915cf"
      },
      "outputs": [
        {
          "output_type": "stream",
          "name": "stdout",
          "text": [
            "255 samples:  dict_keys(['GC9', 'GC11', 'GC15', 'GC16', 'GC17', 'GC18', 'GC19', 'GC20', 'F9', 'F11', 'F15', 'F16', 'F17', 'F18', 'F19', 'F20'])\n",
            "pecam samples:  ['F15', 'F16', 'F17', 'F18', 'F19', 'F20', 'GC15', 'GC16', 'GC17', 'GC18', 'GC19']\n",
            "both:  ['F19', 'GC16', 'GC19', 'F16', 'GC18', 'GC15', 'F15', 'F20', 'GC17', 'F18', 'F17']\n",
            "gsm:  ['GSM3932707', 'GSM3932696', 'GSM3932699', 'GSM3932704', 'GSM3932698', 'GSM3932695', 'GSM3932703', 'GSM3932708', 'GSM3932697', 'GSM3932706', 'GSM3932705']\n"
          ]
        }
      ],
      "source": [
        "# get source names from 255 and sample names in immunoMICRO pecam and intersect the lists and subset the df's\n",
        "samples_255_dict = dict()\n",
        "samples_pecam = list()\n",
        "for i in range(len(metadata['255'])):\n",
        "  sample = metadata['255'].iloc[i]['Source Name']\n",
        "  num = \"\"\n",
        "  for c in sample:\n",
        "    if c.isdigit():\n",
        "      num += str(c)\n",
        "  if \"G\" in sample:\n",
        "    samples_255_dict[\"GC\" + num] = metadata['255'].iloc[i]['Sample Name']\n",
        "\n",
        "  elif \"F\" in sample:\n",
        "    samples_255_dict[\"F\" + num] = metadata['255'].iloc[i]['Sample Name']\n",
        "  else:\n",
        "    continue\n",
        "\n",
        "for sample in data['immunoMICRO-PECAM']['Sample_Name']:\n",
        "  num = \"\"\n",
        "  for c in sample:\n",
        "    if c.isdigit():\n",
        "      num += str(c)\n",
        "  if \"G\" in sample:\n",
        "    samples_pecam.append(\"GC\" + num)\n",
        "  elif \"F\" in sample:\n",
        "    samples_pecam.append(\"F\" + num)\n",
        "  else:\n",
        "    print('neither ground nor space: ',  sample)\n",
        "    continue\n",
        "\n",
        "print('255 samples: ', samples_255_dict.keys())\n",
        "print('pecam samples: ', samples_pecam)\n",
        "# intersect 255 samples with immunoMICRO pecam samples\n",
        "samples_both=list(set(samples_255_dict.keys()) & set(samples_pecam))\n",
        "print('both: ', samples_both)\n",
        "# subset 255 and pecam samples from intersection\n",
        "gsm_samples = list()\n",
        "for sample in samples_both:\n",
        "  gsm_samples.append(samples_255_dict[sample])\n",
        "print('gsm: ', gsm_samples)"
      ]
    },
    {
      "cell_type": "code",
      "execution_count": null,
      "metadata": {
        "id": "4ZiyqYyFld2Q",
        "colab": {
          "base_uri": "https://localhost:8080/"
        },
        "outputId": "d9d8055d-295d-4710-d67a-8efa3c1a1f16"
      },
      "outputs": [
        {
          "output_type": "stream",
          "name": "stdout",
          "text": [
            "Index(['Unnamed: 0', 'GSM3932707', 'GSM3932696', 'GSM3932699', 'GSM3932704',\n",
            "       'GSM3932698', 'GSM3932695', 'GSM3932703', 'GSM3932708', 'GSM3932697',\n",
            "       'GSM3932706', 'GSM3932705'],\n",
            "      dtype='object')\n"
          ]
        }
      ],
      "source": [
        "# now subset the rna_seq dataframe with samples from the gsm_samples list\n",
        "X = rna_seq[['Unnamed: 0'] + gsm_samples]\n",
        "print(X.columns)"
      ]
    },
    {
      "cell_type": "code",
      "execution_count": null,
      "metadata": {
        "id": "VjzD17uPijuX",
        "colab": {
          "base_uri": "https://localhost:8080/"
        },
        "outputId": "41c4ed4f-cc23-4d88-ab05-f060c958f918"
      },
      "outputs": [
        {
          "output_type": "execute_result",
          "data": {
            "text/plain": [
              "['F15',\n",
              " 'F16',\n",
              " 'F17',\n",
              " 'F18',\n",
              " 'F19',\n",
              " 'F20',\n",
              " 'GC15',\n",
              " 'GC16',\n",
              " 'GC17',\n",
              " 'GC18',\n",
              " 'GC19']"
            ]
          },
          "metadata": {},
          "execution_count": 24
        }
      ],
      "source": [
        "# subset the pecam data frame with samples from the both list\n",
        "samples_pecam"
      ]
    },
    {
      "cell_type": "code",
      "execution_count": null,
      "metadata": {
        "id": "pImOqkY5b813",
        "colab": {
          "base_uri": "https://localhost:8080/"
        },
        "outputId": "db0727b5-2eaf-4b8e-ab73-eb84f8b5298d"
      },
      "outputs": [
        {
          "output_type": "stream",
          "name": "stdout",
          "text": [
            "sample:  F15_Mouse_Eye\n",
            "sample:  F16_Mouse_Eye\n",
            "sample:  F17_Mouse_Eye\n",
            "sample:  F18_Mouse_Eye\n",
            "sample:  F19_Mouse_Eye\n",
            "sample:  F20_Mouse_Eye\n",
            "sample:  GC15_Mouse_Eye\n",
            "sample:  GC16_Mouse_Eye\n",
            "sample:  GC17_Mouse_Eye\n",
            "sample:  GC18_Mouse_Eye\n",
            "sample:  GC19_Mouse_Eye\n",
            "y =  [1, 1, 0, 1, 1, 1, 0, 0, 0, 0, 0]\n"
          ]
        }
      ],
      "source": [
        "# create numpy array Y of immuno PECAM values\n",
        "y = list()\n",
        "for i in range(len(data['immunoMICRO-PECAM'])):\n",
        "  pecam_val=data['immunoMICRO-PECAM'].iloc[i]['Average']\n",
        "  print('sample: ', data['immunoMICRO-PECAM'].iloc[i]['Sample_Name'])\n",
        "  y.append(pecam_val)\n",
        "\n",
        "y = m.np.array(y)\n",
        "y_classes = list()\n",
        "for p in y:\n",
        "  if p > y.mean():\n",
        "    y_classes.append(1)\n",
        "  else:\n",
        "    y_classes.append(0)\n",
        "\n",
        "y = y_classes\n",
        "print('y = ', y)"
      ]
    },
    {
      "cell_type": "code",
      "execution_count": null,
      "metadata": {
        "id": "ctM-T5x7-5xu"
      },
      "outputs": [],
      "source": [
        "# create numpy array X of rna-seq values\n",
        "X = m.transpose_df(X, 'Unnamed: 0', 'sample').drop(columns=['sample'])"
      ]
    },
    {
      "cell_type": "code",
      "execution_count": null,
      "metadata": {
        "id": "vozP6KVTgrvx"
      },
      "outputs": [],
      "source": [
        "# split up data into training and testing subsets\n",
        "X_train, X_test, y_train, y_test = m.train_test_split(X, y, test_size=0.2, random_state=0)"
      ]
    },
    {
      "cell_type": "code",
      "execution_count": null,
      "metadata": {
        "id": "wvQAnaRrC_E_",
        "colab": {
          "base_uri": "https://localhost:8080/"
        },
        "outputId": "32d98dc8-e447-424b-f688-2dfede6f767a"
      },
      "outputs": [
        {
          "output_type": "stream",
          "name": "stdout",
          "text": [
            "X train:  (8, 353)\n",
            "y train:  8\n",
            "X test:  (3, 353)\n",
            "y test:  3\n"
          ]
        }
      ],
      "source": [
        "# show the dimensions of the training and testing data\n",
        "print('X train: ', X_train.shape)\n",
        "print('y train: ', len(y_train))\n",
        "print('X test: ', X_test.shape)\n",
        "print('y test: ', len(y_test))"
      ]
    },
    {
      "cell_type": "markdown",
      "metadata": {
        "id": "wKEswbbuEXaJ"
      },
      "source": [
        "**QUESTIONS**\n",
        "\n",
        "1. How many samples are used for training the model? 8 samples\n",
        "\n",
        "2. How many samples are used for testing the model? 3 samples\n",
        "\n",
        "3. Based on the number of samples for testing, what are the possible accuracy scores? 0%, 33.3%, 66.7%, 100%"
      ]
    },
    {
      "cell_type": "markdown",
      "metadata": {
        "id": "r-fopycvh4G7"
      },
      "source": [
        "## Build a random forest model to predict PECAM microscopy from gene expression"
      ]
    },
    {
      "cell_type": "code",
      "execution_count": null,
      "metadata": {
        "id": "XiyVtaRqghyf",
        "colab": {
          "base_uri": "https://localhost:8080/"
        },
        "outputId": "ac358495-7bea-4d4e-c3ba-ec721d2e1f6f"
      },
      "outputs": [
        {
          "output_type": "stream",
          "name": "stdout",
          "text": [
            "train accuracy: 1.0\n",
            "test accuracy: 0.6666666666666666\n"
          ]
        }
      ],
      "source": [
        "# now run classification on X, y\n",
        "max_depth=4\n",
        "clf = m.RandomForestClassifier(max_depth=max_depth, random_state=23)\n",
        "clf.fit(X_train, y_train)\n",
        "\n",
        "y_train_pred = clf.predict(X_train)\n",
        "train_acc = m.accuracy_score(y_train, y_train_pred)\n",
        "print(\"train accuracy:\", train_acc)\n",
        "\n",
        "y_pred = clf.predict(X_test)\n",
        "accuracy = m.accuracy_score(y_test, y_pred)\n",
        "print(\"test accuracy:\", accuracy)"
      ]
    },
    {
      "cell_type": "code",
      "execution_count": null,
      "metadata": {
        "id": "uhtq8RJRg86Z",
        "colab": {
          "base_uri": "https://localhost:8080/",
          "height": 1000
        },
        "outputId": "b218526b-114f-46cf-f20f-6475f1ca18fb"
      },
      "outputs": [
        {
          "output_type": "display_data",
          "data": {
            "image/svg+xml": "<?xml version=\"1.0\" encoding=\"UTF-8\" standalone=\"no\"?>\n<!DOCTYPE svg PUBLIC \"-//W3C//DTD SVG 1.1//EN\"\n \"http://www.w3.org/Graphics/SVG/1.1/DTD/svg11.dtd\">\n<!-- Generated by graphviz version 2.43.0 (0)\n -->\n<!-- Title: Tree Pages: 1 -->\n<svg width=\"270pt\" height=\"135pt\"\n viewBox=\"0.00 0.00 270.00 135.00\" xmlns=\"http://www.w3.org/2000/svg\" xmlns:xlink=\"http://www.w3.org/1999/xlink\">\n<g id=\"graph0\" class=\"graph\" transform=\"scale(1 1) rotate(0) translate(4 131)\">\n<title>Tree</title>\n<polygon fill=\"white\" stroke=\"transparent\" points=\"-4,4 -4,-131 266,-131 266,4 -4,4\"/>\n<!-- 0 -->\n<g id=\"node1\" class=\"node\">\n<title>0</title>\n<polygon fill=\"#eeab7b\" stroke=\"black\" points=\"255.5,-127 6.5,-127 6.5,-74 255.5,-74 255.5,-127\"/>\n<text text-anchor=\"middle\" x=\"131\" y=\"-111.8\" font-family=\"Helvetica,sans-Serif\" font-size=\"14.00\">ENSMUSG00000032839 &lt;= 1240.042</text>\n<text text-anchor=\"middle\" x=\"131\" y=\"-96.8\" font-family=\"Helvetica,sans-Serif\" font-size=\"14.00\">samples = 100.0%</text>\n<text text-anchor=\"middle\" x=\"131\" y=\"-81.8\" font-family=\"Helvetica,sans-Serif\" font-size=\"14.00\">value = [0.75, 0.25]</text>\n</g>\n<!-- 1 -->\n<g id=\"node2\" class=\"node\">\n<title>1</title>\n<polygon fill=\"#e58139\" stroke=\"black\" points=\"122,-38 0,-38 0,0 122,0 122,-38\"/>\n<text text-anchor=\"middle\" x=\"61\" y=\"-22.8\" font-family=\"Helvetica,sans-Serif\" font-size=\"14.00\">samples = 66.7%</text>\n<text text-anchor=\"middle\" x=\"61\" y=\"-7.8\" font-family=\"Helvetica,sans-Serif\" font-size=\"14.00\">value = [1.0, 0.0]</text>\n</g>\n<!-- 0&#45;&gt;1 -->\n<g id=\"edge1\" class=\"edge\">\n<title>0&#45;&gt;1</title>\n<path fill=\"none\" stroke=\"black\" d=\"M108.47,-73.91C100.55,-64.92 91.66,-54.82 83.73,-45.82\"/>\n<polygon fill=\"black\" stroke=\"black\" points=\"86.29,-43.43 77.06,-38.24 81.04,-48.06 86.29,-43.43\"/>\n<text text-anchor=\"middle\" x=\"75.47\" y=\"-59.49\" font-family=\"Helvetica,sans-Serif\" font-size=\"14.00\">True</text>\n</g>\n<!-- 2 -->\n<g id=\"node3\" class=\"node\">\n<title>2</title>\n<polygon fill=\"#399de5\" stroke=\"black\" points=\"262,-38 140,-38 140,0 262,0 262,-38\"/>\n<text text-anchor=\"middle\" x=\"201\" y=\"-22.8\" font-family=\"Helvetica,sans-Serif\" font-size=\"14.00\">samples = 33.3%</text>\n<text text-anchor=\"middle\" x=\"201\" y=\"-7.8\" font-family=\"Helvetica,sans-Serif\" font-size=\"14.00\">value = [0.0, 1.0]</text>\n</g>\n<!-- 0&#45;&gt;2 -->\n<g id=\"edge2\" class=\"edge\">\n<title>0&#45;&gt;2</title>\n<path fill=\"none\" stroke=\"black\" d=\"M153.53,-73.91C161.45,-64.92 170.34,-54.82 178.27,-45.82\"/>\n<polygon fill=\"black\" stroke=\"black\" points=\"180.96,-48.06 184.94,-38.24 175.71,-43.43 180.96,-48.06\"/>\n<text text-anchor=\"middle\" x=\"186.53\" y=\"-59.49\" font-family=\"Helvetica,sans-Serif\" font-size=\"14.00\">False</text>\n</g>\n</g>\n</svg>\n",
            "text/plain": [
              "<graphviz.sources.Source at 0x792210032350>"
            ]
          },
          "metadata": {}
        },
        {
          "output_type": "display_data",
          "data": {
            "image/svg+xml": "<?xml version=\"1.0\" encoding=\"UTF-8\" standalone=\"no\"?>\n<!DOCTYPE svg PUBLIC \"-//W3C//DTD SVG 1.1//EN\"\n \"http://www.w3.org/Graphics/SVG/1.1/DTD/svg11.dtd\">\n<!-- Generated by graphviz version 2.43.0 (0)\n -->\n<!-- Title: Tree Pages: 1 -->\n<svg width=\"270pt\" height=\"135pt\"\n viewBox=\"0.00 0.00 270.00 135.00\" xmlns=\"http://www.w3.org/2000/svg\" xmlns:xlink=\"http://www.w3.org/1999/xlink\">\n<g id=\"graph0\" class=\"graph\" transform=\"scale(1 1) rotate(0) translate(4 131)\">\n<title>Tree</title>\n<polygon fill=\"white\" stroke=\"transparent\" points=\"-4,4 -4,-131 266,-131 266,4 -4,4\"/>\n<!-- 0 -->\n<g id=\"node1\" class=\"node\">\n<title>0</title>\n<polygon fill=\"#b0d8f5\" stroke=\"black\" points=\"252,-127 10,-127 10,-74 252,-74 252,-127\"/>\n<text text-anchor=\"middle\" x=\"131\" y=\"-111.8\" font-family=\"Helvetica,sans-Serif\" font-size=\"14.00\">ENSMUSG00000021500 &lt;= 1348.48</text>\n<text text-anchor=\"middle\" x=\"131\" y=\"-96.8\" font-family=\"Helvetica,sans-Serif\" font-size=\"14.00\">samples = 100.0%</text>\n<text text-anchor=\"middle\" x=\"131\" y=\"-81.8\" font-family=\"Helvetica,sans-Serif\" font-size=\"14.00\">value = [0.375, 0.625]</text>\n</g>\n<!-- 1 -->\n<g id=\"node2\" class=\"node\">\n<title>1</title>\n<polygon fill=\"#e58139\" stroke=\"black\" points=\"122,-38 0,-38 0,0 122,0 122,-38\"/>\n<text text-anchor=\"middle\" x=\"61\" y=\"-22.8\" font-family=\"Helvetica,sans-Serif\" font-size=\"14.00\">samples = 40.0%</text>\n<text text-anchor=\"middle\" x=\"61\" y=\"-7.8\" font-family=\"Helvetica,sans-Serif\" font-size=\"14.00\">value = [1.0, 0.0]</text>\n</g>\n<!-- 0&#45;&gt;1 -->\n<g id=\"edge1\" class=\"edge\">\n<title>0&#45;&gt;1</title>\n<path fill=\"none\" stroke=\"black\" d=\"M108.47,-73.91C100.55,-64.92 91.66,-54.82 83.73,-45.82\"/>\n<polygon fill=\"black\" stroke=\"black\" points=\"86.29,-43.43 77.06,-38.24 81.04,-48.06 86.29,-43.43\"/>\n<text text-anchor=\"middle\" x=\"75.47\" y=\"-59.49\" font-family=\"Helvetica,sans-Serif\" font-size=\"14.00\">True</text>\n</g>\n<!-- 2 -->\n<g id=\"node3\" class=\"node\">\n<title>2</title>\n<polygon fill=\"#399de5\" stroke=\"black\" points=\"262,-38 140,-38 140,0 262,0 262,-38\"/>\n<text text-anchor=\"middle\" x=\"201\" y=\"-22.8\" font-family=\"Helvetica,sans-Serif\" font-size=\"14.00\">samples = 60.0%</text>\n<text text-anchor=\"middle\" x=\"201\" y=\"-7.8\" font-family=\"Helvetica,sans-Serif\" font-size=\"14.00\">value = [0.0, 1.0]</text>\n</g>\n<!-- 0&#45;&gt;2 -->\n<g id=\"edge2\" class=\"edge\">\n<title>0&#45;&gt;2</title>\n<path fill=\"none\" stroke=\"black\" d=\"M153.53,-73.91C161.45,-64.92 170.34,-54.82 178.27,-45.82\"/>\n<polygon fill=\"black\" stroke=\"black\" points=\"180.96,-48.06 184.94,-38.24 175.71,-43.43 180.96,-48.06\"/>\n<text text-anchor=\"middle\" x=\"186.53\" y=\"-59.49\" font-family=\"Helvetica,sans-Serif\" font-size=\"14.00\">False</text>\n</g>\n</g>\n</svg>\n",
            "text/plain": [
              "<graphviz.sources.Source at 0x79222fd16d50>"
            ]
          },
          "metadata": {}
        },
        {
          "output_type": "display_data",
          "data": {
            "image/svg+xml": "<?xml version=\"1.0\" encoding=\"UTF-8\" standalone=\"no\"?>\n<!DOCTYPE svg PUBLIC \"-//W3C//DTD SVG 1.1//EN\"\n \"http://www.w3.org/Graphics/SVG/1.1/DTD/svg11.dtd\">\n<!-- Generated by graphviz version 2.43.0 (0)\n -->\n<!-- Title: Tree Pages: 1 -->\n<svg width=\"270pt\" height=\"135pt\"\n viewBox=\"0.00 0.00 270.00 135.00\" xmlns=\"http://www.w3.org/2000/svg\" xmlns:xlink=\"http://www.w3.org/1999/xlink\">\n<g id=\"graph0\" class=\"graph\" transform=\"scale(1 1) rotate(0) translate(4 131)\">\n<title>Tree</title>\n<polygon fill=\"white\" stroke=\"transparent\" points=\"-4,4 -4,-131 266,-131 266,4 -4,4\"/>\n<!-- 0 -->\n<g id=\"node1\" class=\"node\">\n<title>0</title>\n<polygon fill=\"#b0d8f5\" stroke=\"black\" points=\"248,-127 14,-127 14,-74 248,-74 248,-127\"/>\n<text text-anchor=\"middle\" x=\"131\" y=\"-111.8\" font-family=\"Helvetica,sans-Serif\" font-size=\"14.00\">ENSMUSG00000090622 &lt;= 571.18</text>\n<text text-anchor=\"middle\" x=\"131\" y=\"-96.8\" font-family=\"Helvetica,sans-Serif\" font-size=\"14.00\">samples = 100.0%</text>\n<text text-anchor=\"middle\" x=\"131\" y=\"-81.8\" font-family=\"Helvetica,sans-Serif\" font-size=\"14.00\">value = [0.375, 0.625]</text>\n</g>\n<!-- 1 -->\n<g id=\"node2\" class=\"node\">\n<title>1</title>\n<polygon fill=\"#e58139\" stroke=\"black\" points=\"122,-38 0,-38 0,0 122,0 122,-38\"/>\n<text text-anchor=\"middle\" x=\"61\" y=\"-22.8\" font-family=\"Helvetica,sans-Serif\" font-size=\"14.00\">samples = 33.3%</text>\n<text text-anchor=\"middle\" x=\"61\" y=\"-7.8\" font-family=\"Helvetica,sans-Serif\" font-size=\"14.00\">value = [1.0, 0.0]</text>\n</g>\n<!-- 0&#45;&gt;1 -->\n<g id=\"edge1\" class=\"edge\">\n<title>0&#45;&gt;1</title>\n<path fill=\"none\" stroke=\"black\" d=\"M108.47,-73.91C100.55,-64.92 91.66,-54.82 83.73,-45.82\"/>\n<polygon fill=\"black\" stroke=\"black\" points=\"86.29,-43.43 77.06,-38.24 81.04,-48.06 86.29,-43.43\"/>\n<text text-anchor=\"middle\" x=\"75.47\" y=\"-59.49\" font-family=\"Helvetica,sans-Serif\" font-size=\"14.00\">True</text>\n</g>\n<!-- 2 -->\n<g id=\"node3\" class=\"node\">\n<title>2</title>\n<polygon fill=\"#399de5\" stroke=\"black\" points=\"262,-38 140,-38 140,0 262,0 262,-38\"/>\n<text text-anchor=\"middle\" x=\"201\" y=\"-22.8\" font-family=\"Helvetica,sans-Serif\" font-size=\"14.00\">samples = 66.7%</text>\n<text text-anchor=\"middle\" x=\"201\" y=\"-7.8\" font-family=\"Helvetica,sans-Serif\" font-size=\"14.00\">value = [0.0, 1.0]</text>\n</g>\n<!-- 0&#45;&gt;2 -->\n<g id=\"edge2\" class=\"edge\">\n<title>0&#45;&gt;2</title>\n<path fill=\"none\" stroke=\"black\" d=\"M153.53,-73.91C161.45,-64.92 170.34,-54.82 178.27,-45.82\"/>\n<polygon fill=\"black\" stroke=\"black\" points=\"180.96,-48.06 184.94,-38.24 175.71,-43.43 180.96,-48.06\"/>\n<text text-anchor=\"middle\" x=\"186.53\" y=\"-59.49\" font-family=\"Helvetica,sans-Serif\" font-size=\"14.00\">False</text>\n</g>\n</g>\n</svg>\n",
            "text/plain": [
              "<graphviz.sources.Source at 0x79220e81b290>"
            ]
          },
          "metadata": {}
        },
        {
          "output_type": "display_data",
          "data": {
            "image/svg+xml": "<?xml version=\"1.0\" encoding=\"UTF-8\" standalone=\"no\"?>\n<!DOCTYPE svg PUBLIC \"-//W3C//DTD SVG 1.1//EN\"\n \"http://www.w3.org/Graphics/SVG/1.1/DTD/svg11.dtd\">\n<!-- Generated by graphviz version 2.43.0 (0)\n -->\n<!-- Title: Tree Pages: 1 -->\n<svg width=\"400pt\" height=\"224pt\"\n viewBox=\"0.00 0.00 400.00 224.00\" xmlns=\"http://www.w3.org/2000/svg\" xmlns:xlink=\"http://www.w3.org/1999/xlink\">\n<g id=\"graph0\" class=\"graph\" transform=\"scale(1 1) rotate(0) translate(4 220)\">\n<title>Tree</title>\n<polygon fill=\"white\" stroke=\"transparent\" points=\"-4,4 -4,-220 396,-220 396,4 -4,4\"/>\n<!-- 0 -->\n<g id=\"node1\" class=\"node\">\n<title>0</title>\n<polygon fill=\"#b0d8f5\" stroke=\"black\" points=\"352,-216 110,-216 110,-163 352,-163 352,-216\"/>\n<text text-anchor=\"middle\" x=\"231\" y=\"-200.8\" font-family=\"Helvetica,sans-Serif\" font-size=\"14.00\">ENSMUSG00000096929 &lt;= 932.029</text>\n<text text-anchor=\"middle\" x=\"231\" y=\"-185.8\" font-family=\"Helvetica,sans-Serif\" font-size=\"14.00\">samples = 100.0%</text>\n<text text-anchor=\"middle\" x=\"231\" y=\"-170.8\" font-family=\"Helvetica,sans-Serif\" font-size=\"14.00\">value = [0.375, 0.625]</text>\n</g>\n<!-- 1 -->\n<g id=\"node2\" class=\"node\">\n<title>1</title>\n<polygon fill=\"#61b1ea\" stroke=\"black\" points=\"252,-127 10,-127 10,-74 252,-74 252,-127\"/>\n<text text-anchor=\"middle\" x=\"131\" y=\"-111.8\" font-family=\"Helvetica,sans-Serif\" font-size=\"14.00\">ENSMUSG00000054580 &lt;= 3113.54</text>\n<text text-anchor=\"middle\" x=\"131\" y=\"-96.8\" font-family=\"Helvetica,sans-Serif\" font-size=\"14.00\">samples = 71.4%</text>\n<text text-anchor=\"middle\" x=\"131\" y=\"-81.8\" font-family=\"Helvetica,sans-Serif\" font-size=\"14.00\">value = [0.167, 0.833]</text>\n</g>\n<!-- 0&#45;&gt;1 -->\n<g id=\"edge1\" class=\"edge\">\n<title>0&#45;&gt;1</title>\n<path fill=\"none\" stroke=\"black\" d=\"M201.54,-162.87C191.15,-153.83 179.34,-143.55 168.39,-134.03\"/>\n<polygon fill=\"black\" stroke=\"black\" points=\"170.44,-131.17 160.6,-127.25 165.84,-136.45 170.44,-131.17\"/>\n<text text-anchor=\"middle\" x=\"162.33\" y=\"-148.49\" font-family=\"Helvetica,sans-Serif\" font-size=\"14.00\">True</text>\n</g>\n<!-- 4 -->\n<g id=\"node5\" class=\"node\">\n<title>4</title>\n<polygon fill=\"#e58139\" stroke=\"black\" points=\"392,-119.5 270,-119.5 270,-81.5 392,-81.5 392,-119.5\"/>\n<text text-anchor=\"middle\" x=\"331\" y=\"-104.3\" font-family=\"Helvetica,sans-Serif\" font-size=\"14.00\">samples = 28.6%</text>\n<text text-anchor=\"middle\" x=\"331\" y=\"-89.3\" font-family=\"Helvetica,sans-Serif\" font-size=\"14.00\">value = [1.0, 0.0]</text>\n</g>\n<!-- 0&#45;&gt;4 -->\n<g id=\"edge4\" class=\"edge\">\n<title>0&#45;&gt;4</title>\n<path fill=\"none\" stroke=\"black\" d=\"M260.46,-162.87C273.73,-151.33 289.32,-137.76 302.47,-126.32\"/>\n<polygon fill=\"black\" stroke=\"black\" points=\"305.06,-128.71 310.3,-119.51 300.46,-123.43 305.06,-128.71\"/>\n<text text-anchor=\"middle\" x=\"308.57\" y=\"-140.75\" font-family=\"Helvetica,sans-Serif\" font-size=\"14.00\">False</text>\n</g>\n<!-- 2 -->\n<g id=\"node3\" class=\"node\">\n<title>2</title>\n<polygon fill=\"#399de5\" stroke=\"black\" points=\"122,-38 0,-38 0,0 122,0 122,-38\"/>\n<text text-anchor=\"middle\" x=\"61\" y=\"-22.8\" font-family=\"Helvetica,sans-Serif\" font-size=\"14.00\">samples = 57.1%</text>\n<text text-anchor=\"middle\" x=\"61\" y=\"-7.8\" font-family=\"Helvetica,sans-Serif\" font-size=\"14.00\">value = [0.0, 1.0]</text>\n</g>\n<!-- 1&#45;&gt;2 -->\n<g id=\"edge2\" class=\"edge\">\n<title>1&#45;&gt;2</title>\n<path fill=\"none\" stroke=\"black\" d=\"M108.47,-73.91C100.55,-64.92 91.66,-54.82 83.73,-45.82\"/>\n<polygon fill=\"black\" stroke=\"black\" points=\"86.29,-43.43 77.06,-38.24 81.04,-48.06 86.29,-43.43\"/>\n</g>\n<!-- 3 -->\n<g id=\"node4\" class=\"node\">\n<title>3</title>\n<polygon fill=\"#e58139\" stroke=\"black\" points=\"262,-38 140,-38 140,0 262,0 262,-38\"/>\n<text text-anchor=\"middle\" x=\"201\" y=\"-22.8\" font-family=\"Helvetica,sans-Serif\" font-size=\"14.00\">samples = 14.3%</text>\n<text text-anchor=\"middle\" x=\"201\" y=\"-7.8\" font-family=\"Helvetica,sans-Serif\" font-size=\"14.00\">value = [1.0, 0.0]</text>\n</g>\n<!-- 1&#45;&gt;3 -->\n<g id=\"edge3\" class=\"edge\">\n<title>1&#45;&gt;3</title>\n<path fill=\"none\" stroke=\"black\" d=\"M153.53,-73.91C161.45,-64.92 170.34,-54.82 178.27,-45.82\"/>\n<polygon fill=\"black\" stroke=\"black\" points=\"180.96,-48.06 184.94,-38.24 175.71,-43.43 180.96,-48.06\"/>\n</g>\n</g>\n</svg>\n",
            "text/plain": [
              "<graphviz.sources.Source at 0x792222459510>"
            ]
          },
          "metadata": {}
        },
        {
          "output_type": "display_data",
          "data": {
            "image/svg+xml": "<?xml version=\"1.0\" encoding=\"UTF-8\" standalone=\"no\"?>\n<!DOCTYPE svg PUBLIC \"-//W3C//DTD SVG 1.1//EN\"\n \"http://www.w3.org/Graphics/SVG/1.1/DTD/svg11.dtd\">\n<!-- Generated by graphviz version 2.43.0 (0)\n -->\n<!-- Title: Tree Pages: 1 -->\n<svg width=\"270pt\" height=\"135pt\"\n viewBox=\"0.00 0.00 270.00 135.00\" xmlns=\"http://www.w3.org/2000/svg\" xmlns:xlink=\"http://www.w3.org/1999/xlink\">\n<g id=\"graph0\" class=\"graph\" transform=\"scale(1 1) rotate(0) translate(4 131)\">\n<title>Tree</title>\n<polygon fill=\"white\" stroke=\"transparent\" points=\"-4,4 -4,-131 266,-131 266,4 -4,4\"/>\n<!-- 0 -->\n<g id=\"node1\" class=\"node\">\n<title>0</title>\n<polygon fill=\"#b0d8f5\" stroke=\"black\" points=\"252,-127 10,-127 10,-74 252,-74 252,-127\"/>\n<text text-anchor=\"middle\" x=\"131\" y=\"-111.8\" font-family=\"Helvetica,sans-Serif\" font-size=\"14.00\">ENSMUSG00000014164 &lt;= 674.937</text>\n<text text-anchor=\"middle\" x=\"131\" y=\"-96.8\" font-family=\"Helvetica,sans-Serif\" font-size=\"14.00\">samples = 100.0%</text>\n<text text-anchor=\"middle\" x=\"131\" y=\"-81.8\" font-family=\"Helvetica,sans-Serif\" font-size=\"14.00\">value = [0.375, 0.625]</text>\n</g>\n<!-- 1 -->\n<g id=\"node2\" class=\"node\">\n<title>1</title>\n<polygon fill=\"#e58139\" stroke=\"black\" points=\"122,-38 0,-38 0,0 122,0 122,-38\"/>\n<text text-anchor=\"middle\" x=\"61\" y=\"-22.8\" font-family=\"Helvetica,sans-Serif\" font-size=\"14.00\">samples = 50.0%</text>\n<text text-anchor=\"middle\" x=\"61\" y=\"-7.8\" font-family=\"Helvetica,sans-Serif\" font-size=\"14.00\">value = [1.0, 0.0]</text>\n</g>\n<!-- 0&#45;&gt;1 -->\n<g id=\"edge1\" class=\"edge\">\n<title>0&#45;&gt;1</title>\n<path fill=\"none\" stroke=\"black\" d=\"M108.47,-73.91C100.55,-64.92 91.66,-54.82 83.73,-45.82\"/>\n<polygon fill=\"black\" stroke=\"black\" points=\"86.29,-43.43 77.06,-38.24 81.04,-48.06 86.29,-43.43\"/>\n<text text-anchor=\"middle\" x=\"75.47\" y=\"-59.49\" font-family=\"Helvetica,sans-Serif\" font-size=\"14.00\">True</text>\n</g>\n<!-- 2 -->\n<g id=\"node3\" class=\"node\">\n<title>2</title>\n<polygon fill=\"#399de5\" stroke=\"black\" points=\"262,-38 140,-38 140,0 262,0 262,-38\"/>\n<text text-anchor=\"middle\" x=\"201\" y=\"-22.8\" font-family=\"Helvetica,sans-Serif\" font-size=\"14.00\">samples = 50.0%</text>\n<text text-anchor=\"middle\" x=\"201\" y=\"-7.8\" font-family=\"Helvetica,sans-Serif\" font-size=\"14.00\">value = [0.0, 1.0]</text>\n</g>\n<!-- 0&#45;&gt;2 -->\n<g id=\"edge2\" class=\"edge\">\n<title>0&#45;&gt;2</title>\n<path fill=\"none\" stroke=\"black\" d=\"M153.53,-73.91C161.45,-64.92 170.34,-54.82 178.27,-45.82\"/>\n<polygon fill=\"black\" stroke=\"black\" points=\"180.96,-48.06 184.94,-38.24 175.71,-43.43 180.96,-48.06\"/>\n<text text-anchor=\"middle\" x=\"186.53\" y=\"-59.49\" font-family=\"Helvetica,sans-Serif\" font-size=\"14.00\">False</text>\n</g>\n</g>\n</svg>\n",
            "text/plain": [
              "<graphviz.sources.Source at 0x79222fd16d50>"
            ]
          },
          "metadata": {}
        },
        {
          "output_type": "display_data",
          "data": {
            "image/svg+xml": "<?xml version=\"1.0\" encoding=\"UTF-8\" standalone=\"no\"?>\n<!DOCTYPE svg PUBLIC \"-//W3C//DTD SVG 1.1//EN\"\n \"http://www.w3.org/Graphics/SVG/1.1/DTD/svg11.dtd\">\n<!-- Generated by graphviz version 2.43.0 (0)\n -->\n<!-- Title: Tree Pages: 1 -->\n<svg width=\"404pt\" height=\"224pt\"\n viewBox=\"0.00 0.00 404.00 224.00\" xmlns=\"http://www.w3.org/2000/svg\" xmlns:xlink=\"http://www.w3.org/1999/xlink\">\n<g id=\"graph0\" class=\"graph\" transform=\"scale(1 1) rotate(0) translate(4 220)\">\n<title>Tree</title>\n<polygon fill=\"white\" stroke=\"transparent\" points=\"-4,4 -4,-220 400,-220 400,4 -4,4\"/>\n<!-- 0 -->\n<g id=\"node1\" class=\"node\">\n<title>0</title>\n<polygon fill=\"#eeab7b\" stroke=\"black\" points=\"291.5,-216 34.5,-216 34.5,-163 291.5,-163 291.5,-216\"/>\n<text text-anchor=\"middle\" x=\"163\" y=\"-200.8\" font-family=\"Helvetica,sans-Serif\" font-size=\"14.00\">ENSMUSG00000056055 &lt;= 25568.553</text>\n<text text-anchor=\"middle\" x=\"163\" y=\"-185.8\" font-family=\"Helvetica,sans-Serif\" font-size=\"14.00\">samples = 100.0%</text>\n<text text-anchor=\"middle\" x=\"163\" y=\"-170.8\" font-family=\"Helvetica,sans-Serif\" font-size=\"14.00\">value = [0.75, 0.25]</text>\n</g>\n<!-- 1 -->\n<g id=\"node2\" class=\"node\">\n<title>1</title>\n<polygon fill=\"#e58139\" stroke=\"black\" points=\"122,-119.5 0,-119.5 0,-81.5 122,-81.5 122,-119.5\"/>\n<text text-anchor=\"middle\" x=\"61\" y=\"-104.3\" font-family=\"Helvetica,sans-Serif\" font-size=\"14.00\">samples = 50.0%</text>\n<text text-anchor=\"middle\" x=\"61\" y=\"-89.3\" font-family=\"Helvetica,sans-Serif\" font-size=\"14.00\">value = [1.0, 0.0]</text>\n</g>\n<!-- 0&#45;&gt;1 -->\n<g id=\"edge1\" class=\"edge\">\n<title>0&#45;&gt;1</title>\n<path fill=\"none\" stroke=\"black\" d=\"M132.95,-162.87C119.42,-151.33 103.51,-137.76 90.1,-126.32\"/>\n<polygon fill=\"black\" stroke=\"black\" points=\"91.99,-123.33 82.11,-119.51 87.45,-128.66 91.99,-123.33\"/>\n<text text-anchor=\"middle\" x=\"84.09\" y=\"-140.73\" font-family=\"Helvetica,sans-Serif\" font-size=\"14.00\">True</text>\n</g>\n<!-- 2 -->\n<g id=\"node3\" class=\"node\">\n<title>2</title>\n<polygon fill=\"#9ccef2\" stroke=\"black\" points=\"389.5,-127 140.5,-127 140.5,-74 389.5,-74 389.5,-127\"/>\n<text text-anchor=\"middle\" x=\"265\" y=\"-111.8\" font-family=\"Helvetica,sans-Serif\" font-size=\"14.00\">ENSMUSG00000078566 &lt;= 1170.688</text>\n<text text-anchor=\"middle\" x=\"265\" y=\"-96.8\" font-family=\"Helvetica,sans-Serif\" font-size=\"14.00\">samples = 50.0%</text>\n<text text-anchor=\"middle\" x=\"265\" y=\"-81.8\" font-family=\"Helvetica,sans-Serif\" font-size=\"14.00\">value = [0.333, 0.667]</text>\n</g>\n<!-- 0&#45;&gt;2 -->\n<g id=\"edge2\" class=\"edge\">\n<title>0&#45;&gt;2</title>\n<path fill=\"none\" stroke=\"black\" d=\"M193.05,-162.87C203.75,-153.75 215.93,-143.35 227.19,-133.75\"/>\n<polygon fill=\"black\" stroke=\"black\" points=\"229.47,-136.4 234.81,-127.25 224.93,-131.08 229.47,-136.4\"/>\n<text text-anchor=\"middle\" x=\"232.83\" y=\"-148.47\" font-family=\"Helvetica,sans-Serif\" font-size=\"14.00\">False</text>\n</g>\n<!-- 3 -->\n<g id=\"node4\" class=\"node\">\n<title>3</title>\n<polygon fill=\"#e58139\" stroke=\"black\" points=\"256,-38 134,-38 134,0 256,0 256,-38\"/>\n<text text-anchor=\"middle\" x=\"195\" y=\"-22.8\" font-family=\"Helvetica,sans-Serif\" font-size=\"14.00\">samples = 16.7%</text>\n<text text-anchor=\"middle\" x=\"195\" y=\"-7.8\" font-family=\"Helvetica,sans-Serif\" font-size=\"14.00\">value = [1.0, 0.0]</text>\n</g>\n<!-- 2&#45;&gt;3 -->\n<g id=\"edge3\" class=\"edge\">\n<title>2&#45;&gt;3</title>\n<path fill=\"none\" stroke=\"black\" d=\"M242.47,-73.91C234.55,-64.92 225.66,-54.82 217.73,-45.82\"/>\n<polygon fill=\"black\" stroke=\"black\" points=\"220.29,-43.43 211.06,-38.24 215.04,-48.06 220.29,-43.43\"/>\n</g>\n<!-- 4 -->\n<g id=\"node5\" class=\"node\">\n<title>4</title>\n<polygon fill=\"#399de5\" stroke=\"black\" points=\"396,-38 274,-38 274,0 396,0 396,-38\"/>\n<text text-anchor=\"middle\" x=\"335\" y=\"-22.8\" font-family=\"Helvetica,sans-Serif\" font-size=\"14.00\">samples = 33.3%</text>\n<text text-anchor=\"middle\" x=\"335\" y=\"-7.8\" font-family=\"Helvetica,sans-Serif\" font-size=\"14.00\">value = [0.0, 1.0]</text>\n</g>\n<!-- 2&#45;&gt;4 -->\n<g id=\"edge4\" class=\"edge\">\n<title>2&#45;&gt;4</title>\n<path fill=\"none\" stroke=\"black\" d=\"M287.53,-73.91C295.45,-64.92 304.34,-54.82 312.27,-45.82\"/>\n<polygon fill=\"black\" stroke=\"black\" points=\"314.96,-48.06 318.94,-38.24 309.71,-43.43 314.96,-48.06\"/>\n</g>\n</g>\n</svg>\n",
            "text/plain": [
              "<graphviz.sources.Source at 0x79222e57a110>"
            ]
          },
          "metadata": {}
        },
        {
          "output_type": "display_data",
          "data": {
            "image/svg+xml": "<?xml version=\"1.0\" encoding=\"UTF-8\" standalone=\"no\"?>\n<!DOCTYPE svg PUBLIC \"-//W3C//DTD SVG 1.1//EN\"\n \"http://www.w3.org/Graphics/SVG/1.1/DTD/svg11.dtd\">\n<!-- Generated by graphviz version 2.43.0 (0)\n -->\n<!-- Title: Tree Pages: 1 -->\n<svg width=\"396pt\" height=\"224pt\"\n viewBox=\"0.00 0.00 396.00 224.00\" xmlns=\"http://www.w3.org/2000/svg\" xmlns:xlink=\"http://www.w3.org/1999/xlink\">\n<g id=\"graph0\" class=\"graph\" transform=\"scale(1 1) rotate(0) translate(4 220)\">\n<title>Tree</title>\n<polygon fill=\"white\" stroke=\"transparent\" points=\"-4,4 -4,-220 392,-220 392,4 -4,4\"/>\n<!-- 0 -->\n<g id=\"node1\" class=\"node\">\n<title>0</title>\n<polygon fill=\"#ffffff\" stroke=\"black\" points=\"280,-216 38,-216 38,-163 280,-163 280,-216\"/>\n<text text-anchor=\"middle\" x=\"159\" y=\"-200.8\" font-family=\"Helvetica,sans-Serif\" font-size=\"14.00\">ENSMUSG00000034813 &lt;= 683.607</text>\n<text text-anchor=\"middle\" x=\"159\" y=\"-185.8\" font-family=\"Helvetica,sans-Serif\" font-size=\"14.00\">samples = 100.0%</text>\n<text text-anchor=\"middle\" x=\"159\" y=\"-170.8\" font-family=\"Helvetica,sans-Serif\" font-size=\"14.00\">value = [0.5, 0.5]</text>\n</g>\n<!-- 1 -->\n<g id=\"node2\" class=\"node\">\n<title>1</title>\n<polygon fill=\"#e58139\" stroke=\"black\" points=\"122,-119.5 0,-119.5 0,-81.5 122,-81.5 122,-119.5\"/>\n<text text-anchor=\"middle\" x=\"61\" y=\"-104.3\" font-family=\"Helvetica,sans-Serif\" font-size=\"14.00\">samples = 42.9%</text>\n<text text-anchor=\"middle\" x=\"61\" y=\"-89.3\" font-family=\"Helvetica,sans-Serif\" font-size=\"14.00\">value = [1.0, 0.0]</text>\n</g>\n<!-- 0&#45;&gt;1 -->\n<g id=\"edge1\" class=\"edge\">\n<title>0&#45;&gt;1</title>\n<path fill=\"none\" stroke=\"black\" d=\"M130.13,-162.87C117.13,-151.33 101.84,-137.76 88.96,-126.32\"/>\n<polygon fill=\"black\" stroke=\"black\" points=\"91.09,-123.53 81.28,-119.51 86.44,-128.76 91.09,-123.53\"/>\n<text text-anchor=\"middle\" x=\"82.77\" y=\"-140.76\" font-family=\"Helvetica,sans-Serif\" font-size=\"14.00\">True</text>\n</g>\n<!-- 2 -->\n<g id=\"node3\" class=\"node\">\n<title>2</title>\n<polygon fill=\"#6ab6ec\" stroke=\"black\" points=\"374,-127 140,-127 140,-74 374,-74 374,-127\"/>\n<text text-anchor=\"middle\" x=\"257\" y=\"-111.8\" font-family=\"Helvetica,sans-Serif\" font-size=\"14.00\">ENSMUSG00000109372 &lt;= 23.665</text>\n<text text-anchor=\"middle\" x=\"257\" y=\"-96.8\" font-family=\"Helvetica,sans-Serif\" font-size=\"14.00\">samples = 57.1%</text>\n<text text-anchor=\"middle\" x=\"257\" y=\"-81.8\" font-family=\"Helvetica,sans-Serif\" font-size=\"14.00\">value = [0.2, 0.8]</text>\n</g>\n<!-- 0&#45;&gt;2 -->\n<g id=\"edge2\" class=\"edge\">\n<title>0&#45;&gt;2</title>\n<path fill=\"none\" stroke=\"black\" d=\"M187.87,-162.87C198.05,-153.83 209.63,-143.55 220.36,-134.03\"/>\n<polygon fill=\"black\" stroke=\"black\" points=\"222.84,-136.51 227.99,-127.25 218.19,-131.27 222.84,-136.51\"/>\n<text text-anchor=\"middle\" x=\"226.51\" y=\"-148.51\" font-family=\"Helvetica,sans-Serif\" font-size=\"14.00\">False</text>\n</g>\n<!-- 3 -->\n<g id=\"node4\" class=\"node\">\n<title>3</title>\n<polygon fill=\"#e58139\" stroke=\"black\" points=\"248,-38 126,-38 126,0 248,0 248,-38\"/>\n<text text-anchor=\"middle\" x=\"187\" y=\"-22.8\" font-family=\"Helvetica,sans-Serif\" font-size=\"14.00\">samples = 14.3%</text>\n<text text-anchor=\"middle\" x=\"187\" y=\"-7.8\" font-family=\"Helvetica,sans-Serif\" font-size=\"14.00\">value = [1.0, 0.0]</text>\n</g>\n<!-- 2&#45;&gt;3 -->\n<g id=\"edge3\" class=\"edge\">\n<title>2&#45;&gt;3</title>\n<path fill=\"none\" stroke=\"black\" d=\"M234.47,-73.91C226.55,-64.92 217.66,-54.82 209.73,-45.82\"/>\n<polygon fill=\"black\" stroke=\"black\" points=\"212.29,-43.43 203.06,-38.24 207.04,-48.06 212.29,-43.43\"/>\n</g>\n<!-- 4 -->\n<g id=\"node5\" class=\"node\">\n<title>4</title>\n<polygon fill=\"#399de5\" stroke=\"black\" points=\"388,-38 266,-38 266,0 388,0 388,-38\"/>\n<text text-anchor=\"middle\" x=\"327\" y=\"-22.8\" font-family=\"Helvetica,sans-Serif\" font-size=\"14.00\">samples = 42.9%</text>\n<text text-anchor=\"middle\" x=\"327\" y=\"-7.8\" font-family=\"Helvetica,sans-Serif\" font-size=\"14.00\">value = [0.0, 1.0]</text>\n</g>\n<!-- 2&#45;&gt;4 -->\n<g id=\"edge4\" class=\"edge\">\n<title>2&#45;&gt;4</title>\n<path fill=\"none\" stroke=\"black\" d=\"M279.53,-73.91C287.45,-64.92 296.34,-54.82 304.27,-45.82\"/>\n<polygon fill=\"black\" stroke=\"black\" points=\"306.96,-48.06 310.94,-38.24 301.71,-43.43 306.96,-48.06\"/>\n</g>\n</g>\n</svg>\n",
            "text/plain": [
              "<graphviz.sources.Source at 0x79220f77e750>"
            ]
          },
          "metadata": {}
        },
        {
          "output_type": "display_data",
          "data": {
            "image/svg+xml": "<?xml version=\"1.0\" encoding=\"UTF-8\" standalone=\"no\"?>\n<!DOCTYPE svg PUBLIC \"-//W3C//DTD SVG 1.1//EN\"\n \"http://www.w3.org/Graphics/SVG/1.1/DTD/svg11.dtd\">\n<!-- Generated by graphviz version 2.43.0 (0)\n -->\n<!-- Title: Tree Pages: 1 -->\n<svg width=\"270pt\" height=\"135pt\"\n viewBox=\"0.00 0.00 270.00 135.00\" xmlns=\"http://www.w3.org/2000/svg\" xmlns:xlink=\"http://www.w3.org/1999/xlink\">\n<g id=\"graph0\" class=\"graph\" transform=\"scale(1 1) rotate(0) translate(4 131)\">\n<title>Tree</title>\n<polygon fill=\"white\" stroke=\"transparent\" points=\"-4,4 -4,-131 266,-131 266,4 -4,4\"/>\n<!-- 0 -->\n<g id=\"node1\" class=\"node\">\n<title>0</title>\n<polygon fill=\"#f5cdb0\" stroke=\"black\" points=\"255.5,-127 6.5,-127 6.5,-74 255.5,-74 255.5,-127\"/>\n<text text-anchor=\"middle\" x=\"131\" y=\"-111.8\" font-family=\"Helvetica,sans-Serif\" font-size=\"14.00\">ENSMUSG00000020850 &lt;= 5386.593</text>\n<text text-anchor=\"middle\" x=\"131\" y=\"-96.8\" font-family=\"Helvetica,sans-Serif\" font-size=\"14.00\">samples = 100.0%</text>\n<text text-anchor=\"middle\" x=\"131\" y=\"-81.8\" font-family=\"Helvetica,sans-Serif\" font-size=\"14.00\">value = [0.625, 0.375]</text>\n</g>\n<!-- 1 -->\n<g id=\"node2\" class=\"node\">\n<title>1</title>\n<polygon fill=\"#e58139\" stroke=\"black\" points=\"122,-38 0,-38 0,0 122,0 122,-38\"/>\n<text text-anchor=\"middle\" x=\"61\" y=\"-22.8\" font-family=\"Helvetica,sans-Serif\" font-size=\"14.00\">samples = 60.0%</text>\n<text text-anchor=\"middle\" x=\"61\" y=\"-7.8\" font-family=\"Helvetica,sans-Serif\" font-size=\"14.00\">value = [1.0, 0.0]</text>\n</g>\n<!-- 0&#45;&gt;1 -->\n<g id=\"edge1\" class=\"edge\">\n<title>0&#45;&gt;1</title>\n<path fill=\"none\" stroke=\"black\" d=\"M108.47,-73.91C100.55,-64.92 91.66,-54.82 83.73,-45.82\"/>\n<polygon fill=\"black\" stroke=\"black\" points=\"86.29,-43.43 77.06,-38.24 81.04,-48.06 86.29,-43.43\"/>\n<text text-anchor=\"middle\" x=\"75.47\" y=\"-59.49\" font-family=\"Helvetica,sans-Serif\" font-size=\"14.00\">True</text>\n</g>\n<!-- 2 -->\n<g id=\"node3\" class=\"node\">\n<title>2</title>\n<polygon fill=\"#399de5\" stroke=\"black\" points=\"262,-38 140,-38 140,0 262,0 262,-38\"/>\n<text text-anchor=\"middle\" x=\"201\" y=\"-22.8\" font-family=\"Helvetica,sans-Serif\" font-size=\"14.00\">samples = 40.0%</text>\n<text text-anchor=\"middle\" x=\"201\" y=\"-7.8\" font-family=\"Helvetica,sans-Serif\" font-size=\"14.00\">value = [0.0, 1.0]</text>\n</g>\n<!-- 0&#45;&gt;2 -->\n<g id=\"edge2\" class=\"edge\">\n<title>0&#45;&gt;2</title>\n<path fill=\"none\" stroke=\"black\" d=\"M153.53,-73.91C161.45,-64.92 170.34,-54.82 178.27,-45.82\"/>\n<polygon fill=\"black\" stroke=\"black\" points=\"180.96,-48.06 184.94,-38.24 175.71,-43.43 180.96,-48.06\"/>\n<text text-anchor=\"middle\" x=\"186.53\" y=\"-59.49\" font-family=\"Helvetica,sans-Serif\" font-size=\"14.00\">False</text>\n</g>\n</g>\n</svg>\n",
            "text/plain": [
              "<graphviz.sources.Source at 0x79221260d490>"
            ]
          },
          "metadata": {}
        },
        {
          "output_type": "display_data",
          "data": {
            "image/svg+xml": "<?xml version=\"1.0\" encoding=\"UTF-8\" standalone=\"no\"?>\n<!DOCTYPE svg PUBLIC \"-//W3C//DTD SVG 1.1//EN\"\n \"http://www.w3.org/Graphics/SVG/1.1/DTD/svg11.dtd\">\n<!-- Generated by graphviz version 2.43.0 (0)\n -->\n<!-- Title: Tree Pages: 1 -->\n<svg width=\"400pt\" height=\"224pt\"\n viewBox=\"0.00 0.00 400.00 224.00\" xmlns=\"http://www.w3.org/2000/svg\" xmlns:xlink=\"http://www.w3.org/1999/xlink\">\n<g id=\"graph0\" class=\"graph\" transform=\"scale(1 1) rotate(0) translate(4 220)\">\n<title>Tree</title>\n<polygon fill=\"white\" stroke=\"transparent\" points=\"-4,4 -4,-220 396,-220 396,4 -4,4\"/>\n<!-- 0 -->\n<g id=\"node1\" class=\"node\">\n<title>0</title>\n<polygon fill=\"#ffffff\" stroke=\"black\" points=\"278,-216 44,-216 44,-163 278,-163 278,-216\"/>\n<text text-anchor=\"middle\" x=\"161\" y=\"-200.8\" font-family=\"Helvetica,sans-Serif\" font-size=\"14.00\">ENSMUSG00000045690 &lt;= 59.192</text>\n<text text-anchor=\"middle\" x=\"161\" y=\"-185.8\" font-family=\"Helvetica,sans-Serif\" font-size=\"14.00\">samples = 100.0%</text>\n<text text-anchor=\"middle\" x=\"161\" y=\"-170.8\" font-family=\"Helvetica,sans-Serif\" font-size=\"14.00\">value = [0.5, 0.5]</text>\n</g>\n<!-- 1 -->\n<g id=\"node2\" class=\"node\">\n<title>1</title>\n<polygon fill=\"#e58139\" stroke=\"black\" points=\"122,-119.5 0,-119.5 0,-81.5 122,-81.5 122,-119.5\"/>\n<text text-anchor=\"middle\" x=\"61\" y=\"-104.3\" font-family=\"Helvetica,sans-Serif\" font-size=\"14.00\">samples = 42.9%</text>\n<text text-anchor=\"middle\" x=\"61\" y=\"-89.3\" font-family=\"Helvetica,sans-Serif\" font-size=\"14.00\">value = [1.0, 0.0]</text>\n</g>\n<!-- 0&#45;&gt;1 -->\n<g id=\"edge1\" class=\"edge\">\n<title>0&#45;&gt;1</title>\n<path fill=\"none\" stroke=\"black\" d=\"M131.54,-162.87C118.27,-151.33 102.68,-137.76 89.53,-126.32\"/>\n<polygon fill=\"black\" stroke=\"black\" points=\"91.54,-123.43 81.7,-119.51 86.94,-128.71 91.54,-123.43\"/>\n<text text-anchor=\"middle\" x=\"83.43\" y=\"-140.75\" font-family=\"Helvetica,sans-Serif\" font-size=\"14.00\">True</text>\n</g>\n<!-- 2 -->\n<g id=\"node3\" class=\"node\">\n<title>2</title>\n<polygon fill=\"#6ab6ec\" stroke=\"black\" points=\"382,-127 140,-127 140,-74 382,-74 382,-127\"/>\n<text text-anchor=\"middle\" x=\"261\" y=\"-111.8\" font-family=\"Helvetica,sans-Serif\" font-size=\"14.00\">ENSMUSG00000062070 &lt;= 4075.91</text>\n<text text-anchor=\"middle\" x=\"261\" y=\"-96.8\" font-family=\"Helvetica,sans-Serif\" font-size=\"14.00\">samples = 57.1%</text>\n<text text-anchor=\"middle\" x=\"261\" y=\"-81.8\" font-family=\"Helvetica,sans-Serif\" font-size=\"14.00\">value = [0.2, 0.8]</text>\n</g>\n<!-- 0&#45;&gt;2 -->\n<g id=\"edge2\" class=\"edge\">\n<title>0&#45;&gt;2</title>\n<path fill=\"none\" stroke=\"black\" d=\"M190.46,-162.87C200.85,-153.83 212.66,-143.55 223.61,-134.03\"/>\n<polygon fill=\"black\" stroke=\"black\" points=\"226.16,-136.45 231.4,-127.25 221.56,-131.17 226.16,-136.45\"/>\n<text text-anchor=\"middle\" x=\"229.67\" y=\"-148.49\" font-family=\"Helvetica,sans-Serif\" font-size=\"14.00\">False</text>\n</g>\n<!-- 3 -->\n<g id=\"node4\" class=\"node\">\n<title>3</title>\n<polygon fill=\"#e58139\" stroke=\"black\" points=\"252,-38 130,-38 130,0 252,0 252,-38\"/>\n<text text-anchor=\"middle\" x=\"191\" y=\"-22.8\" font-family=\"Helvetica,sans-Serif\" font-size=\"14.00\">samples = 14.3%</text>\n<text text-anchor=\"middle\" x=\"191\" y=\"-7.8\" font-family=\"Helvetica,sans-Serif\" font-size=\"14.00\">value = [1.0, 0.0]</text>\n</g>\n<!-- 2&#45;&gt;3 -->\n<g id=\"edge3\" class=\"edge\">\n<title>2&#45;&gt;3</title>\n<path fill=\"none\" stroke=\"black\" d=\"M238.47,-73.91C230.55,-64.92 221.66,-54.82 213.73,-45.82\"/>\n<polygon fill=\"black\" stroke=\"black\" points=\"216.29,-43.43 207.06,-38.24 211.04,-48.06 216.29,-43.43\"/>\n</g>\n<!-- 4 -->\n<g id=\"node5\" class=\"node\">\n<title>4</title>\n<polygon fill=\"#399de5\" stroke=\"black\" points=\"392,-38 270,-38 270,0 392,0 392,-38\"/>\n<text text-anchor=\"middle\" x=\"331\" y=\"-22.8\" font-family=\"Helvetica,sans-Serif\" font-size=\"14.00\">samples = 42.9%</text>\n<text text-anchor=\"middle\" x=\"331\" y=\"-7.8\" font-family=\"Helvetica,sans-Serif\" font-size=\"14.00\">value = [0.0, 1.0]</text>\n</g>\n<!-- 2&#45;&gt;4 -->\n<g id=\"edge4\" class=\"edge\">\n<title>2&#45;&gt;4</title>\n<path fill=\"none\" stroke=\"black\" d=\"M283.53,-73.91C291.45,-64.92 300.34,-54.82 308.27,-45.82\"/>\n<polygon fill=\"black\" stroke=\"black\" points=\"310.96,-48.06 314.94,-38.24 305.71,-43.43 310.96,-48.06\"/>\n</g>\n</g>\n</svg>\n",
            "text/plain": [
              "<graphviz.sources.Source at 0x79220f8477d0>"
            ]
          },
          "metadata": {}
        },
        {
          "output_type": "display_data",
          "data": {
            "image/svg+xml": "<?xml version=\"1.0\" encoding=\"UTF-8\" standalone=\"no\"?>\n<!DOCTYPE svg PUBLIC \"-//W3C//DTD SVG 1.1//EN\"\n \"http://www.w3.org/Graphics/SVG/1.1/DTD/svg11.dtd\">\n<!-- Generated by graphviz version 2.43.0 (0)\n -->\n<!-- Title: Tree Pages: 1 -->\n<svg width=\"404pt\" height=\"224pt\"\n viewBox=\"0.00 0.00 404.00 224.00\" xmlns=\"http://www.w3.org/2000/svg\" xmlns:xlink=\"http://www.w3.org/1999/xlink\">\n<g id=\"graph0\" class=\"graph\" transform=\"scale(1 1) rotate(0) translate(4 220)\">\n<title>Tree</title>\n<polygon fill=\"white\" stroke=\"transparent\" points=\"-4,4 -4,-220 400,-220 400,4 -4,4\"/>\n<!-- 0 -->\n<g id=\"node1\" class=\"node\">\n<title>0</title>\n<polygon fill=\"#ffffff\" stroke=\"black\" points=\"284,-216 42,-216 42,-163 284,-163 284,-216\"/>\n<text text-anchor=\"middle\" x=\"163\" y=\"-200.8\" font-family=\"Helvetica,sans-Serif\" font-size=\"14.00\">ENSMUSG00000008976 &lt;= 479.367</text>\n<text text-anchor=\"middle\" x=\"163\" y=\"-185.8\" font-family=\"Helvetica,sans-Serif\" font-size=\"14.00\">samples = 100.0%</text>\n<text text-anchor=\"middle\" x=\"163\" y=\"-170.8\" font-family=\"Helvetica,sans-Serif\" font-size=\"14.00\">value = [0.5, 0.5]</text>\n</g>\n<!-- 1 -->\n<g id=\"node2\" class=\"node\">\n<title>1</title>\n<polygon fill=\"#399de5\" stroke=\"black\" points=\"122,-119.5 0,-119.5 0,-81.5 122,-81.5 122,-119.5\"/>\n<text text-anchor=\"middle\" x=\"61\" y=\"-104.3\" font-family=\"Helvetica,sans-Serif\" font-size=\"14.00\">samples = 33.3%</text>\n<text text-anchor=\"middle\" x=\"61\" y=\"-89.3\" font-family=\"Helvetica,sans-Serif\" font-size=\"14.00\">value = [0.0, 1.0]</text>\n</g>\n<!-- 0&#45;&gt;1 -->\n<g id=\"edge1\" class=\"edge\">\n<title>0&#45;&gt;1</title>\n<path fill=\"none\" stroke=\"black\" d=\"M132.95,-162.87C119.42,-151.33 103.51,-137.76 90.1,-126.32\"/>\n<polygon fill=\"black\" stroke=\"black\" points=\"91.99,-123.33 82.11,-119.51 87.45,-128.66 91.99,-123.33\"/>\n<text text-anchor=\"middle\" x=\"84.09\" y=\"-140.73\" font-family=\"Helvetica,sans-Serif\" font-size=\"14.00\">True</text>\n</g>\n<!-- 2 -->\n<g id=\"node3\" class=\"node\">\n<title>2</title>\n<polygon fill=\"#eca06a\" stroke=\"black\" points=\"389.5,-127 140.5,-127 140.5,-74 389.5,-74 389.5,-127\"/>\n<text text-anchor=\"middle\" x=\"265\" y=\"-111.8\" font-family=\"Helvetica,sans-Serif\" font-size=\"14.00\">ENSMUSG00000032839 &lt;= 1292.099</text>\n<text text-anchor=\"middle\" x=\"265\" y=\"-96.8\" font-family=\"Helvetica,sans-Serif\" font-size=\"14.00\">samples = 66.7%</text>\n<text text-anchor=\"middle\" x=\"265\" y=\"-81.8\" font-family=\"Helvetica,sans-Serif\" font-size=\"14.00\">value = [0.8, 0.2]</text>\n</g>\n<!-- 0&#45;&gt;2 -->\n<g id=\"edge2\" class=\"edge\">\n<title>0&#45;&gt;2</title>\n<path fill=\"none\" stroke=\"black\" d=\"M193.05,-162.87C203.75,-153.75 215.93,-143.35 227.19,-133.75\"/>\n<polygon fill=\"black\" stroke=\"black\" points=\"229.47,-136.4 234.81,-127.25 224.93,-131.08 229.47,-136.4\"/>\n<text text-anchor=\"middle\" x=\"232.83\" y=\"-148.47\" font-family=\"Helvetica,sans-Serif\" font-size=\"14.00\">False</text>\n</g>\n<!-- 3 -->\n<g id=\"node4\" class=\"node\">\n<title>3</title>\n<polygon fill=\"#e58139\" stroke=\"black\" points=\"256,-38 134,-38 134,0 256,0 256,-38\"/>\n<text text-anchor=\"middle\" x=\"195\" y=\"-22.8\" font-family=\"Helvetica,sans-Serif\" font-size=\"14.00\">samples = 50.0%</text>\n<text text-anchor=\"middle\" x=\"195\" y=\"-7.8\" font-family=\"Helvetica,sans-Serif\" font-size=\"14.00\">value = [1.0, 0.0]</text>\n</g>\n<!-- 2&#45;&gt;3 -->\n<g id=\"edge3\" class=\"edge\">\n<title>2&#45;&gt;3</title>\n<path fill=\"none\" stroke=\"black\" d=\"M242.47,-73.91C234.55,-64.92 225.66,-54.82 217.73,-45.82\"/>\n<polygon fill=\"black\" stroke=\"black\" points=\"220.29,-43.43 211.06,-38.24 215.04,-48.06 220.29,-43.43\"/>\n</g>\n<!-- 4 -->\n<g id=\"node5\" class=\"node\">\n<title>4</title>\n<polygon fill=\"#399de5\" stroke=\"black\" points=\"396,-38 274,-38 274,0 396,0 396,-38\"/>\n<text text-anchor=\"middle\" x=\"335\" y=\"-22.8\" font-family=\"Helvetica,sans-Serif\" font-size=\"14.00\">samples = 16.7%</text>\n<text text-anchor=\"middle\" x=\"335\" y=\"-7.8\" font-family=\"Helvetica,sans-Serif\" font-size=\"14.00\">value = [0.0, 1.0]</text>\n</g>\n<!-- 2&#45;&gt;4 -->\n<g id=\"edge4\" class=\"edge\">\n<title>2&#45;&gt;4</title>\n<path fill=\"none\" stroke=\"black\" d=\"M287.53,-73.91C295.45,-64.92 304.34,-54.82 312.27,-45.82\"/>\n<polygon fill=\"black\" stroke=\"black\" points=\"314.96,-48.06 318.94,-38.24 309.71,-43.43 314.96,-48.06\"/>\n</g>\n</g>\n</svg>\n",
            "text/plain": [
              "<graphviz.sources.Source at 0x79222228e290>"
            ]
          },
          "metadata": {}
        }
      ],
      "source": [
        "# visualize forest / feature importance\n",
        "num_trees=10\n",
        "for i in range(num_trees):\n",
        "    tree = clf.estimators_[i]\n",
        "    dot_data = m.export_graphviz(tree,\n",
        "                               feature_names=X_train.columns,\n",
        "                               filled=True,\n",
        "                               impurity=False,\n",
        "                               proportion=True)\n",
        "    graph = m.graphviz.Source(dot_data)\n",
        "    display(graph)"
      ]
    },
    {
      "cell_type": "markdown",
      "metadata": {
        "id": "lQsoK-vkdPwS"
      },
      "source": [
        "**QUESTIONS**\n",
        "\n",
        "1. What is training accuracy of the random forest model? 100%\n",
        "\n",
        "2. What is the test accuracy of the random forest model? 66.7%\n",
        "\n",
        "3. Which genes are used in the decision trees of the random forest? ENSMUSG00000109372\n",
        "\n",
        "ENSMUSG00000020850\n",
        "\n",
        "ENSMUSG00000045690\n",
        "\n",
        "ENSMUSG00000062070\n",
        "\n",
        "ENSMUSG00000008976\n",
        "\n",
        "ENSMUSG00000032839"
      ]
    },
    {
      "cell_type": "markdown",
      "metadata": {
        "id": "eLpdB7tZ_AC4"
      },
      "source": [
        "## BONUS: Build a logistic regression model to predict PECAM microscopy from gene expression"
      ]
    },
    {
      "cell_type": "code",
      "execution_count": null,
      "metadata": {
        "id": "5EuRSufV_I_k",
        "colab": {
          "base_uri": "https://localhost:8080/"
        },
        "outputId": "1385caa2-ac09-449f-c859-f52685420e1d"
      },
      "outputs": [
        {
          "output_type": "stream",
          "name": "stdout",
          "text": [
            "train accuracy: 1.0\n",
            "test accuracy: 0.3333333333333333\n"
          ]
        }
      ],
      "source": [
        "# now run classification on X, y\n",
        "\n",
        "clf = m.LogisticRegression(random_state=23)\n",
        "clf.fit(X_train, y_train)\n",
        "\n",
        "y_train_pred = clf.predict(X_train)\n",
        "train_acc = m.accuracy_score(y_train, y_train_pred)\n",
        "print(\"train accuracy:\", train_acc)\n",
        "\n",
        "y_pred = clf.predict(X_test)\n",
        "accuracy = m.accuracy_score(y_test, y_pred)\n",
        "print(\"test accuracy:\", accuracy)"
      ]
    },
    {
      "cell_type": "markdown",
      "metadata": {
        "id": "lRCjHafzdhea"
      },
      "source": [
        "**QUESTIONS**\n",
        "\n",
        "1. What is the training accuracy of the logistic regression model? 100%\n",
        "\n",
        "2. What is the test accuracy of the logistic regression model? 33.3%\n",
        "\n",
        "3. Which model has a better test accuracy for predicting PECAM microscopy from gene expression -- the random forest model or the logistic regression model? The Random Forest model has a better test accuracy than the Logistic Regression model.\n",
        "\n"
      ]
    }
  ],
  "metadata": {
    "colab": {
      "provenance": []
    },
    "kernelspec": {
      "display_name": "Python 3",
      "name": "python3"
    },
    "language_info": {
      "name": "python"
    }
  },
  "nbformat": 4,
  "nbformat_minor": 0
}