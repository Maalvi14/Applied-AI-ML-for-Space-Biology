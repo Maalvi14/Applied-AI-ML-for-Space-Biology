{
  "cells": [
    {
      "cell_type": "markdown",
      "metadata": {
        "id": "IvM0qauiPuUA"
      },
      "source": [
        "\n",
        "***\n",
        "<font color=\"red\" size=16>\n",
        "<b>\n",
        "IMPORTANT: Follow the instructions <a href=https://docs.google.com/document/d/1sNKn4h7KHFNOAYACBEKg6ZJv3e3tO11eBCDoQrwkZ6o/edit?usp=sharing> here </a> before proceeding.\n",
        "</b>\n",
        "</font>\n",
        "\n",
        "Refer to the [lecture](https://docs.google.com/presentation/d/1WKT6VJEJRw5Nj5WFY8JzJeylll5CJouY/edit?usp=sharing&ouid=104372831378835219489&rtpof=true&sd=true) on using Google Colab for help working with Python notebooks.\n",
        "\n",
        "***\n",
        "\n",
        "# **Introduction to Space Biology Data Notebook**\n",
        "\n",
        "In this notebook, we will be exploring [phenotypic](https://www.genome.gov/genetics-glossary/Phenotype) data that were collected during the NASA [Rodent Research 9 mission (RR9)](https://www.nasa.gov/ames/space-biosciences/rodent-research-9-spacex-12/). The goal of this scientific mission to the International Space Station was to study the effects of spaceflight on the eye and vision by collecting data on rodents flown in space. We will be using data from the following [NASA Open Science Data Repository](https://osdr.nasa.gov/bio/) RR9 datasets:\n",
        "1. [OSD-557](https://osdr.nasa.gov/bio/repo/data/studies/OSD-557)\n",
        "2. [OSD-568](https://osdr.nasa.gov/bio/repo/data/studies/OSD-568)\n",
        "3. [OSD-583](https://osdr.nasa.gov/bio/repo/data/studies/OSD-583)\n",
        "\n",
        "These phenotypic datasets include data from several biological measurements including [microcomputed tomography](https://en.wikipedia.org/wiki/X-ray_microtomography) (OSD-557), [immunostaining microscopy](https://en.wikipedia.org/wiki/Immunofluorescence) (OSD-568), and [tonometry](https://en.wikipedia.org/wiki/Ocular_tonometry) (OSD-583).  All measurements were collected on both ground control and spaceflight rodent samples and converted to tabular format to enable data accessibility.\n",
        "\n",
        "## **Scientific Background on the RR9 Mission**\n",
        "\n",
        "<div>\n",
        "<img src=\"https://upload.wikimedia.org/wikipedia/commons/d/d1/Rodent_Research-9_Mission_Patch.jpg\" width=\"200\"/>\n",
        "</div>\n",
        "\n",
        "The [RR9 mission](https://www.nasa.gov/ames/space-biosciences/rodent-research-9-spacex-12/) flew 3 NASA Space Biology experiments to the International Space Station. The scientific goal of these experiments was to assess the effects of microgravity on different biological systems.\n",
        "\n",
        "One experiment studied the effect of spaceflight on fluid shifts and the increased fluid pressures in the head, which contribute to visual impairment. The second experiment studied the effect of spaceflight on blood vessels in the eyes. The third experiment studied the effect of spaceflight on knee and hip joint degradation.\n",
        "\n",
        "## **Spaceflight Associated Neuro-ocular Syndrome (SANS)**\n",
        "\n",
        "The RR9 mission focused heavily on ocular and vision effects because previous work has shown that fluid shifts and other physiological changes contribute to visual impairment in spaceflight.\n",
        "\n",
        "Collectively, changes in vision in spaceflight are referred to as [Spaceflight Associated Neuro-ocular Syndrome (SANS)](https://www.nature.com/articles/s41526-020-0097-9). As shown in the image below, SANS can affect different parts of the eye through different mechanisms including swelling of the eye or the optic nerve.\n",
        "\n",
        "<div>\n",
        "<img src=\"https://www.mdpi.com/life/life-13-01263/article_deploy/html/images/life-13-01263-g006-550.jpg\" width=\"300\"/>\n",
        "</div>\n",
        "\n",
        "*Image citation: https://www.mdpi.com/2075-1729/13/6/1263*\n",
        "\n",
        "\n",
        "> **We will be using the data from the RR9 mission to study the effects of spaceflight on rodent eye and retina.**\n",
        "\n",
        "## **Sample types**\n",
        "There are 3 types of samples that we will encounter in the RR9 datasets: spaceflight, ground control, and cohort control.  The spaceflight samples were flown in space to the ISS, spent some time on the ISS, and then were either sacrificed on the ISS and were returned to Earth live.  The ground control samples have identical conditions (cage, diet, light, humidity, temperature, etc) except for being kept on the ground.  The cohort control samples are additional ground control samples that were leveraged due to a hurricane flooding the laboratory housing the ground control samples. For the sake of this and subsequent notebooks, we can combine ground control with cohort samples.\n",
        "\n",
        "## **Basic statistical analysis**\n",
        "In this notebook, we will use statistical analysis tools to explore all the data from RR9 that pertains to the effect of spaceflight on the eye.\n",
        "\n",
        "\n",
        "We will be using the [t-test](https://en.wikipedia.org/wiki/Student%27s_t-test), [Wilcoxon signed-rank test](https://en.wikipedia.org/wiki/Wilcoxon_signed-rank_test), and [Kolmogorov-Smirnov test](https://en.wikipedia.org/wiki/Kolmogorov%E2%80%93Smirnov_test) to determine the significance of the difference of the distributions of the various data between ground and spaceflight samples.\n",
        "\n",
        "We will also be plotting a [box-and-whisker plot](https://en.wikipedia.org/wiki/Box_plot) distinguishing space flight from ground samples for each of the measures taken in these studies.\n",
        "\n",
        "We will show statistical results which include all the samples and those results which exclude some of the samples.\n"
      ]
    },
    {
      "cell_type": "markdown",
      "metadata": {
        "id": "QtrErQnWInQf"
      },
      "source": [
        "**QUESTIONS**\n",
        "\n",
        "Based on your reading of [Spaceflight Associated Neuro-ocular Syndrome (SANS)](https://www.nature.com/articles/s41526-020-0097-9), answer the following questions.\n",
        "\n",
        "1. What is one clinical sign of SANS?\n",
        "\n",
        "2. What is one of the current theories of the pathogenesis of SANS?\n",
        "\n",
        "3. Does SANS induce a hyperopic shift or myopic shift in the focal point?"
      ]
    },
    {
      "cell_type": "markdown",
      "metadata": {
        "id": "5kwSv0AyPt7x"
      },
      "source": [
        "**Double click here to enter your answers to the questions in this text box.**\n",
        "\n",
        "1.asdf\n",
        "\n",
        "2.asdf\n",
        "\n",
        "3.asdf"
      ]
    },
    {
      "cell_type": "markdown",
      "metadata": {
        "id": "kKD3vcZ4MOv6"
      },
      "source": [
        "# **Read In Methods**\n",
        "\n",
        "Here we are reading in methods from the `methods.ipynb` notebook that you copied into your Google Drive. You will be prompted to allow this notebook access to your Google Drive in order to read in the methods.  Make sure to respond to all the prompts.  The code in this cell may take a few minutes to run, so be patient.\n",
        "\n",
        "Install and import the import_ipynb module enabling the import of methods from remote notebooks, mount your google drive to this notebook, and import the methods from the methods.ipynb notebook\n",
        "\n",
        "\n"
      ]
    },
    {
      "cell_type": "code",
      "execution_count": null,
      "metadata": {
        "id": "E4fJiLm19kY8"
      },
      "outputs": [],
      "source": [
        "%%capture\n",
        "!pip install import_ipynb\n",
        "import import_ipynb\n",
        "from google.colab import drive\n",
        "drive.flush_and_unmount()\n",
        "drive.mount(\"mnt\")\n",
        "m = __import__(\"mnt/MyDrive/Colab Notebooks/Copy of methods\")"
      ]
    },
    {
      "cell_type": "markdown",
      "metadata": {
        "id": "5LCtBjeA_ywQ"
      },
      "source": [
        "# **OSD-557 Data Exploration**"
      ]
    },
    {
      "cell_type": "markdown",
      "metadata": {
        "id": "emjub3y6DAUq"
      },
      "source": [
        "The [OSD-557 dataset](https://osdr.nasa.gov/bio/repo/data/studies/OSD-557) contains measurements from 10 male mice that were flown on board the International Space Station during the RR9 mission for 35 days. This dataset also contains data from two sets of control mice. The 10 \"Ground Control\" mice were housed on the ground for the duration of the flight in cages that replicate the spaceflight cages; while the 10 \"Vivarium Control\" mice were housed on the ground in the standard mouse vivarium cages to control for variability in housing. The eyes from each mouse were collected for analysis after return to Earth and euthanasia.\n"
      ]
    },
    {
      "cell_type": "markdown",
      "metadata": {
        "id": "ZjnL4GteFkIN"
      },
      "source": [
        "## **Explore the microCT data from OSD-557**\n",
        "\n",
        "First, we will be exploring the *micro-computed tomography* (microCT) data from the OSD-557 dataset.  [microCT](https://en.wikipedia.org/wiki/X-ray_microtomography) is a method that uses X-rays to create cross-sections of a physical object that can be used to recreate a 3D model of the object. This 3D model can be used to measure different aspects of the object. In this dataset, we will be examining measurements of the following parts of the mouse eye:\n",
        "\n",
        "* Anterior-Posterior (Ant-Post) - front to back\n",
        "* Superior-Inferior (Sup-Inf) - top to bottom\n",
        "* [Retina](https://en.wikipedia.org/wiki/Retina)\n",
        "* Retina pigment layer (Pigment)\n",
        "* [Choroid](https://en.wikipedia.org/wiki/Choroid)\n",
        "* [Sclera](https://en.wikipedia.org/wiki/Sclera)\n",
        "\n",
        "The researchers measured changes in each of these parts of the eye in order to compare them between the flight and control mice, to see whether spaceflight causes changes in the size of these parts of the eye. For example, the figure below shows how the researchers generated the measurements above from the 3D model of the \"F10\" mouse (the 10th spaceflown mouse).\n",
        "\n",
        "![](https://cloudfront.jove.com/files/ftp_upload/61227/61227fig02.jpg)\n",
        "\n",
        "*Figure citation: https://www.jove.com/t/61227/assessment-global-ocular-structure-following-spaceflight-using-micro*"
      ]
    },
    {
      "cell_type": "markdown",
      "metadata": {
        "id": "uLYkiRtvMuvX"
      },
      "source": [
        "**QUESTIONS**\n",
        "\n",
        "1. Which type of radiation is used in microCT?\n",
        "\n",
        "2. What does \"Sup-Inf\" and \"Ant-Post\" mean in anatomy?\n",
        "\n",
        "3. Which format of the microCT data is used for data mining such as in this notebook - raw images or transformed tabular results?"
      ]
    },
    {
      "cell_type": "markdown",
      "metadata": {
        "id": "jcObVIgDwspA"
      },
      "source": [
        "**Double click here to enter your answers to the questions in this text box.**\n",
        "\n",
        "1. X-rays\n",
        "\n",
        "2. Superior Inferior, Anterior Posterior\n",
        "\n",
        "3. raw images"
      ]
    },
    {
      "cell_type": "markdown",
      "metadata": {
        "id": "qb-y6qCBFO39"
      },
      "source": [
        "\n",
        "____\n",
        "\n",
        "First, we will read in the microCT measurement data, using the `read_phenotype_data()` function defined in the `methods.ipynb` notebook. After reading in, the microCT dataset is stored in a Python `pandas` dataframe. We use the function `head()` to print the first 5 rows of the dataframe to the screen. Each row represents a different mouse eye sample, and each column holds the measurement values for different parts of the eye.\n",
        "\n",
        "Define data dictionary for notebook and read in the micro ct data from OSD-557\n",
        "\n"
      ]
    },
    {
      "cell_type": "code",
      "execution_count": null,
      "metadata": {
        "id": "OxS0MYiQ-diy",
        "colab": {
          "base_uri": "https://localhost:8080/",
          "height": 278
        },
        "outputId": "94800df2-e79e-4026-b8eb-959472fa3130"
      },
      "outputs": [
        {
          "output_type": "stream",
          "name": "stdout",
          "text": [
            "num records:  12\n",
            "treatments:  {'Ground Control', 'Flight', 'Vivarium'}\n"
          ]
        },
        {
          "output_type": "execute_result",
          "data": {
            "text/plain": [
              "  Source Name    Sample Name Treatment  Ant-Post   Sup-Inf  Retina  \\\n",
              "0         F10  F10_Mouse_Eye    Flight  1.765000  2.044000   0.077   \n",
              "1         F12  F12_Mouse_Eye    Flight  1.724000  2.028000   0.091   \n",
              "2         F13  F13_Mouse_Eye    Flight  1.754333  2.043667   0.089   \n",
              "3         F14  F14_Mouse_Eye    Flight  1.774000  2.059000   0.099   \n",
              "4         V10  V10_Mouse_Eye  Vivarium  1.771000  2.119000   0.145   \n",
              "\n",
              "   Pigment Layer   Choroid    Sclera  Ant-Post.1  Right-left  Retina.1  \\\n",
              "0          0.038  0.041000  0.059000    1.748000    1.997000  0.144000   \n",
              "1          0.048  0.036000  0.054000    1.720000    1.980000  0.087000   \n",
              "2          0.044  0.036333  0.054333    1.750333    1.969667  0.113667   \n",
              "3          0.046  0.032000  0.050000    1.783000    1.932000  0.110000   \n",
              "4          0.076  0.083000  0.109000    1.755000    2.089000  0.118000   \n",
              "\n",
              "   Pigment Layer.1  Choroid.1  Sclera.1  \n",
              "0         0.051000   0.041000  0.073000  \n",
              "1         0.041000   0.039000  0.057000  \n",
              "2         0.053667   0.038333  0.065333  \n",
              "3         0.069000   0.035000  0.066000  \n",
              "4         0.055000   0.061000  0.067000  "
            ],
            "text/html": [
              "\n",
              "  <div id=\"df-634c786a-2d31-490d-9244-3a8a770d6f4c\" class=\"colab-df-container\">\n",
              "    <div>\n",
              "<style scoped>\n",
              "    .dataframe tbody tr th:only-of-type {\n",
              "        vertical-align: middle;\n",
              "    }\n",
              "\n",
              "    .dataframe tbody tr th {\n",
              "        vertical-align: top;\n",
              "    }\n",
              "\n",
              "    .dataframe thead th {\n",
              "        text-align: right;\n",
              "    }\n",
              "</style>\n",
              "<table border=\"1\" class=\"dataframe\">\n",
              "  <thead>\n",
              "    <tr style=\"text-align: right;\">\n",
              "      <th></th>\n",
              "      <th>Source Name</th>\n",
              "      <th>Sample Name</th>\n",
              "      <th>Treatment</th>\n",
              "      <th>Ant-Post</th>\n",
              "      <th>Sup-Inf</th>\n",
              "      <th>Retina</th>\n",
              "      <th>Pigment Layer</th>\n",
              "      <th>Choroid</th>\n",
              "      <th>Sclera</th>\n",
              "      <th>Ant-Post.1</th>\n",
              "      <th>Right-left</th>\n",
              "      <th>Retina.1</th>\n",
              "      <th>Pigment Layer.1</th>\n",
              "      <th>Choroid.1</th>\n",
              "      <th>Sclera.1</th>\n",
              "    </tr>\n",
              "  </thead>\n",
              "  <tbody>\n",
              "    <tr>\n",
              "      <th>0</th>\n",
              "      <td>F10</td>\n",
              "      <td>F10_Mouse_Eye</td>\n",
              "      <td>Flight</td>\n",
              "      <td>1.765000</td>\n",
              "      <td>2.044000</td>\n",
              "      <td>0.077</td>\n",
              "      <td>0.038</td>\n",
              "      <td>0.041000</td>\n",
              "      <td>0.059000</td>\n",
              "      <td>1.748000</td>\n",
              "      <td>1.997000</td>\n",
              "      <td>0.144000</td>\n",
              "      <td>0.051000</td>\n",
              "      <td>0.041000</td>\n",
              "      <td>0.073000</td>\n",
              "    </tr>\n",
              "    <tr>\n",
              "      <th>1</th>\n",
              "      <td>F12</td>\n",
              "      <td>F12_Mouse_Eye</td>\n",
              "      <td>Flight</td>\n",
              "      <td>1.724000</td>\n",
              "      <td>2.028000</td>\n",
              "      <td>0.091</td>\n",
              "      <td>0.048</td>\n",
              "      <td>0.036000</td>\n",
              "      <td>0.054000</td>\n",
              "      <td>1.720000</td>\n",
              "      <td>1.980000</td>\n",
              "      <td>0.087000</td>\n",
              "      <td>0.041000</td>\n",
              "      <td>0.039000</td>\n",
              "      <td>0.057000</td>\n",
              "    </tr>\n",
              "    <tr>\n",
              "      <th>2</th>\n",
              "      <td>F13</td>\n",
              "      <td>F13_Mouse_Eye</td>\n",
              "      <td>Flight</td>\n",
              "      <td>1.754333</td>\n",
              "      <td>2.043667</td>\n",
              "      <td>0.089</td>\n",
              "      <td>0.044</td>\n",
              "      <td>0.036333</td>\n",
              "      <td>0.054333</td>\n",
              "      <td>1.750333</td>\n",
              "      <td>1.969667</td>\n",
              "      <td>0.113667</td>\n",
              "      <td>0.053667</td>\n",
              "      <td>0.038333</td>\n",
              "      <td>0.065333</td>\n",
              "    </tr>\n",
              "    <tr>\n",
              "      <th>3</th>\n",
              "      <td>F14</td>\n",
              "      <td>F14_Mouse_Eye</td>\n",
              "      <td>Flight</td>\n",
              "      <td>1.774000</td>\n",
              "      <td>2.059000</td>\n",
              "      <td>0.099</td>\n",
              "      <td>0.046</td>\n",
              "      <td>0.032000</td>\n",
              "      <td>0.050000</td>\n",
              "      <td>1.783000</td>\n",
              "      <td>1.932000</td>\n",
              "      <td>0.110000</td>\n",
              "      <td>0.069000</td>\n",
              "      <td>0.035000</td>\n",
              "      <td>0.066000</td>\n",
              "    </tr>\n",
              "    <tr>\n",
              "      <th>4</th>\n",
              "      <td>V10</td>\n",
              "      <td>V10_Mouse_Eye</td>\n",
              "      <td>Vivarium</td>\n",
              "      <td>1.771000</td>\n",
              "      <td>2.119000</td>\n",
              "      <td>0.145</td>\n",
              "      <td>0.076</td>\n",
              "      <td>0.083000</td>\n",
              "      <td>0.109000</td>\n",
              "      <td>1.755000</td>\n",
              "      <td>2.089000</td>\n",
              "      <td>0.118000</td>\n",
              "      <td>0.055000</td>\n",
              "      <td>0.061000</td>\n",
              "      <td>0.067000</td>\n",
              "    </tr>\n",
              "  </tbody>\n",
              "</table>\n",
              "</div>\n",
              "    <div class=\"colab-df-buttons\">\n",
              "\n",
              "  <div class=\"colab-df-container\">\n",
              "    <button class=\"colab-df-convert\" onclick=\"convertToInteractive('df-634c786a-2d31-490d-9244-3a8a770d6f4c')\"\n",
              "            title=\"Convert this dataframe to an interactive table.\"\n",
              "            style=\"display:none;\">\n",
              "\n",
              "  <svg xmlns=\"http://www.w3.org/2000/svg\" height=\"24px\" viewBox=\"0 -960 960 960\">\n",
              "    <path d=\"M120-120v-720h720v720H120Zm60-500h600v-160H180v160Zm220 220h160v-160H400v160Zm0 220h160v-160H400v160ZM180-400h160v-160H180v160Zm440 0h160v-160H620v160ZM180-180h160v-160H180v160Zm440 0h160v-160H620v160Z\"/>\n",
              "  </svg>\n",
              "    </button>\n",
              "\n",
              "  <style>\n",
              "    .colab-df-container {\n",
              "      display:flex;\n",
              "      gap: 12px;\n",
              "    }\n",
              "\n",
              "    .colab-df-convert {\n",
              "      background-color: #E8F0FE;\n",
              "      border: none;\n",
              "      border-radius: 50%;\n",
              "      cursor: pointer;\n",
              "      display: none;\n",
              "      fill: #1967D2;\n",
              "      height: 32px;\n",
              "      padding: 0 0 0 0;\n",
              "      width: 32px;\n",
              "    }\n",
              "\n",
              "    .colab-df-convert:hover {\n",
              "      background-color: #E2EBFA;\n",
              "      box-shadow: 0px 1px 2px rgba(60, 64, 67, 0.3), 0px 1px 3px 1px rgba(60, 64, 67, 0.15);\n",
              "      fill: #174EA6;\n",
              "    }\n",
              "\n",
              "    .colab-df-buttons div {\n",
              "      margin-bottom: 4px;\n",
              "    }\n",
              "\n",
              "    [theme=dark] .colab-df-convert {\n",
              "      background-color: #3B4455;\n",
              "      fill: #D2E3FC;\n",
              "    }\n",
              "\n",
              "    [theme=dark] .colab-df-convert:hover {\n",
              "      background-color: #434B5C;\n",
              "      box-shadow: 0px 1px 3px 1px rgba(0, 0, 0, 0.15);\n",
              "      filter: drop-shadow(0px 1px 2px rgba(0, 0, 0, 0.3));\n",
              "      fill: #FFFFFF;\n",
              "    }\n",
              "  </style>\n",
              "\n",
              "    <script>\n",
              "      const buttonEl =\n",
              "        document.querySelector('#df-634c786a-2d31-490d-9244-3a8a770d6f4c button.colab-df-convert');\n",
              "      buttonEl.style.display =\n",
              "        google.colab.kernel.accessAllowed ? 'block' : 'none';\n",
              "\n",
              "      async function convertToInteractive(key) {\n",
              "        const element = document.querySelector('#df-634c786a-2d31-490d-9244-3a8a770d6f4c');\n",
              "        const dataTable =\n",
              "          await google.colab.kernel.invokeFunction('convertToInteractive',\n",
              "                                                    [key], {});\n",
              "        if (!dataTable) return;\n",
              "\n",
              "        const docLinkHtml = 'Like what you see? Visit the ' +\n",
              "          '<a target=\"_blank\" href=https://colab.research.google.com/notebooks/data_table.ipynb>data table notebook</a>'\n",
              "          + ' to learn more about interactive tables.';\n",
              "        element.innerHTML = '';\n",
              "        dataTable['output_type'] = 'display_data';\n",
              "        await google.colab.output.renderOutput(dataTable, element);\n",
              "        const docLink = document.createElement('div');\n",
              "        docLink.innerHTML = docLinkHtml;\n",
              "        element.appendChild(docLink);\n",
              "      }\n",
              "    </script>\n",
              "  </div>\n",
              "\n",
              "\n",
              "    <div id=\"df-2a4a0c7d-8dca-4476-b639-4e662141b63e\">\n",
              "      <button class=\"colab-df-quickchart\" onclick=\"quickchart('df-2a4a0c7d-8dca-4476-b639-4e662141b63e')\"\n",
              "                title=\"Suggest charts\"\n",
              "                style=\"display:none;\">\n",
              "\n",
              "<svg xmlns=\"http://www.w3.org/2000/svg\" height=\"24px\"viewBox=\"0 0 24 24\"\n",
              "     width=\"24px\">\n",
              "    <g>\n",
              "        <path d=\"M19 3H5c-1.1 0-2 .9-2 2v14c0 1.1.9 2 2 2h14c1.1 0 2-.9 2-2V5c0-1.1-.9-2-2-2zM9 17H7v-7h2v7zm4 0h-2V7h2v10zm4 0h-2v-4h2v4z\"/>\n",
              "    </g>\n",
              "</svg>\n",
              "      </button>\n",
              "\n",
              "<style>\n",
              "  .colab-df-quickchart {\n",
              "      --bg-color: #E8F0FE;\n",
              "      --fill-color: #1967D2;\n",
              "      --hover-bg-color: #E2EBFA;\n",
              "      --hover-fill-color: #174EA6;\n",
              "      --disabled-fill-color: #AAA;\n",
              "      --disabled-bg-color: #DDD;\n",
              "  }\n",
              "\n",
              "  [theme=dark] .colab-df-quickchart {\n",
              "      --bg-color: #3B4455;\n",
              "      --fill-color: #D2E3FC;\n",
              "      --hover-bg-color: #434B5C;\n",
              "      --hover-fill-color: #FFFFFF;\n",
              "      --disabled-bg-color: #3B4455;\n",
              "      --disabled-fill-color: #666;\n",
              "  }\n",
              "\n",
              "  .colab-df-quickchart {\n",
              "    background-color: var(--bg-color);\n",
              "    border: none;\n",
              "    border-radius: 50%;\n",
              "    cursor: pointer;\n",
              "    display: none;\n",
              "    fill: var(--fill-color);\n",
              "    height: 32px;\n",
              "    padding: 0;\n",
              "    width: 32px;\n",
              "  }\n",
              "\n",
              "  .colab-df-quickchart:hover {\n",
              "    background-color: var(--hover-bg-color);\n",
              "    box-shadow: 0 1px 2px rgba(60, 64, 67, 0.3), 0 1px 3px 1px rgba(60, 64, 67, 0.15);\n",
              "    fill: var(--button-hover-fill-color);\n",
              "  }\n",
              "\n",
              "  .colab-df-quickchart-complete:disabled,\n",
              "  .colab-df-quickchart-complete:disabled:hover {\n",
              "    background-color: var(--disabled-bg-color);\n",
              "    fill: var(--disabled-fill-color);\n",
              "    box-shadow: none;\n",
              "  }\n",
              "\n",
              "  .colab-df-spinner {\n",
              "    border: 2px solid var(--fill-color);\n",
              "    border-color: transparent;\n",
              "    border-bottom-color: var(--fill-color);\n",
              "    animation:\n",
              "      spin 1s steps(1) infinite;\n",
              "  }\n",
              "\n",
              "  @keyframes spin {\n",
              "    0% {\n",
              "      border-color: transparent;\n",
              "      border-bottom-color: var(--fill-color);\n",
              "      border-left-color: var(--fill-color);\n",
              "    }\n",
              "    20% {\n",
              "      border-color: transparent;\n",
              "      border-left-color: var(--fill-color);\n",
              "      border-top-color: var(--fill-color);\n",
              "    }\n",
              "    30% {\n",
              "      border-color: transparent;\n",
              "      border-left-color: var(--fill-color);\n",
              "      border-top-color: var(--fill-color);\n",
              "      border-right-color: var(--fill-color);\n",
              "    }\n",
              "    40% {\n",
              "      border-color: transparent;\n",
              "      border-right-color: var(--fill-color);\n",
              "      border-top-color: var(--fill-color);\n",
              "    }\n",
              "    60% {\n",
              "      border-color: transparent;\n",
              "      border-right-color: var(--fill-color);\n",
              "    }\n",
              "    80% {\n",
              "      border-color: transparent;\n",
              "      border-right-color: var(--fill-color);\n",
              "      border-bottom-color: var(--fill-color);\n",
              "    }\n",
              "    90% {\n",
              "      border-color: transparent;\n",
              "      border-bottom-color: var(--fill-color);\n",
              "    }\n",
              "  }\n",
              "</style>\n",
              "\n",
              "      <script>\n",
              "        async function quickchart(key) {\n",
              "          const quickchartButtonEl =\n",
              "            document.querySelector('#' + key + ' button');\n",
              "          quickchartButtonEl.disabled = true;  // To prevent multiple clicks.\n",
              "          quickchartButtonEl.classList.add('colab-df-spinner');\n",
              "          try {\n",
              "            const charts = await google.colab.kernel.invokeFunction(\n",
              "                'suggestCharts', [key], {});\n",
              "          } catch (error) {\n",
              "            console.error('Error during call to suggestCharts:', error);\n",
              "          }\n",
              "          quickchartButtonEl.classList.remove('colab-df-spinner');\n",
              "          quickchartButtonEl.classList.add('colab-df-quickchart-complete');\n",
              "        }\n",
              "        (() => {\n",
              "          let quickchartButtonEl =\n",
              "            document.querySelector('#df-2a4a0c7d-8dca-4476-b639-4e662141b63e button');\n",
              "          quickchartButtonEl.style.display =\n",
              "            google.colab.kernel.accessAllowed ? 'block' : 'none';\n",
              "        })();\n",
              "      </script>\n",
              "    </div>\n",
              "\n",
              "    </div>\n",
              "  </div>\n"
            ],
            "application/vnd.google.colaboratory.intrinsic+json": {
              "type": "dataframe",
              "summary": "{\n  \"name\": \"data['microCT']\",\n  \"rows\": 5,\n  \"fields\": [\n    {\n      \"column\": \"Source Name\",\n      \"properties\": {\n        \"dtype\": \"string\",\n        \"num_unique_values\": 5,\n        \"samples\": [\n          \"F12\",\n          \"V10\",\n          \"F13\"\n        ],\n        \"semantic_type\": \"\",\n        \"description\": \"\"\n      }\n    },\n    {\n      \"column\": \"Sample Name\",\n      \"properties\": {\n        \"dtype\": \"string\",\n        \"num_unique_values\": 5,\n        \"samples\": [\n          \"F12_Mouse_Eye\",\n          \"V10_Mouse_Eye\",\n          \"F13_Mouse_Eye\"\n        ],\n        \"semantic_type\": \"\",\n        \"description\": \"\"\n      }\n    },\n    {\n      \"column\": \"Treatment\",\n      \"properties\": {\n        \"dtype\": \"category\",\n        \"num_unique_values\": 2,\n        \"samples\": [\n          \"Vivarium\",\n          \"Flight\"\n        ],\n        \"semantic_type\": \"\",\n        \"description\": \"\"\n      }\n    },\n    {\n      \"column\": \"Ant-Post\",\n      \"properties\": {\n        \"dtype\": \"number\",\n        \"std\": 0.020266282904809592,\n        \"min\": 1.724,\n        \"max\": 1.774,\n        \"num_unique_values\": 5,\n        \"samples\": [\n          1.724,\n          1.771\n        ],\n        \"semantic_type\": \"\",\n        \"description\": \"\"\n      }\n    },\n    {\n      \"column\": \"Sup-Inf\",\n      \"properties\": {\n        \"dtype\": \"number\",\n        \"std\": 0.03542864499776675,\n        \"min\": 2.028,\n        \"max\": 2.119,\n        \"num_unique_values\": 5,\n        \"samples\": [\n          2.028,\n          2.119\n        ],\n        \"semantic_type\": \"\",\n        \"description\": \"\"\n      }\n    },\n    {\n      \"column\": \"Retina\",\n      \"properties\": {\n        \"dtype\": \"number\",\n        \"std\": 0.026252618916976642,\n        \"min\": 0.077,\n        \"max\": 0.145,\n        \"num_unique_values\": 5,\n        \"samples\": [\n          0.091,\n          0.145\n        ],\n        \"semantic_type\": \"\",\n        \"description\": \"\"\n      }\n    },\n    {\n      \"column\": \"Pigment Layer\",\n      \"properties\": {\n        \"dtype\": \"number\",\n        \"std\": 0.014791889669680477,\n        \"min\": 0.038,\n        \"max\": 0.076,\n        \"num_unique_values\": 5,\n        \"samples\": [\n          0.048,\n          0.076\n        ],\n        \"semantic_type\": \"\",\n        \"description\": \"\"\n      }\n    },\n    {\n      \"column\": \"Choroid\",\n      \"properties\": {\n        \"dtype\": \"number\",\n        \"std\": 0.021112134514960298,\n        \"min\": 0.032,\n        \"max\": 0.083,\n        \"num_unique_values\": 5,\n        \"samples\": [\n          0.036,\n          0.083\n        ],\n        \"semantic_type\": \"\",\n        \"description\": \"\"\n      }\n    },\n    {\n      \"column\": \"Sclera\",\n      \"properties\": {\n        \"dtype\": \"number\",\n        \"std\": 0.024654726876965762,\n        \"min\": 0.05,\n        \"max\": 0.109,\n        \"num_unique_values\": 5,\n        \"samples\": [\n          0.054,\n          0.109\n        ],\n        \"semantic_type\": \"\",\n        \"description\": \"\"\n      }\n    },\n    {\n      \"column\": \"Ant-Post.1\",\n      \"properties\": {\n        \"dtype\": \"number\",\n        \"std\": 0.022417007435823737,\n        \"min\": 1.72,\n        \"max\": 1.783,\n        \"num_unique_values\": 5,\n        \"samples\": [\n          1.72,\n          1.755\n        ],\n        \"semantic_type\": \"\",\n        \"description\": \"\"\n      }\n    },\n    {\n      \"column\": \"Right-left\",\n      \"properties\": {\n        \"dtype\": \"number\",\n        \"std\": 0.058448742942665395,\n        \"min\": 1.932,\n        \"max\": 2.089,\n        \"num_unique_values\": 5,\n        \"samples\": [\n          1.98,\n          2.089\n        ],\n        \"semantic_type\": \"\",\n        \"description\": \"\"\n      }\n    },\n    {\n      \"column\": \"Retina.1\",\n      \"properties\": {\n        \"dtype\": \"number\",\n        \"std\": 0.02036963971399047,\n        \"min\": 0.087,\n        \"max\": 0.144,\n        \"num_unique_values\": 5,\n        \"samples\": [\n          0.087,\n          0.118\n        ],\n        \"semantic_type\": \"\",\n        \"description\": \"\"\n      }\n    },\n    {\n      \"column\": \"Pigment Layer.1\",\n      \"properties\": {\n        \"dtype\": \"number\",\n        \"std\": 0.010050981154980734,\n        \"min\": 0.041,\n        \"max\": 0.069,\n        \"num_unique_values\": 5,\n        \"samples\": [\n          0.041,\n          0.055\n        ],\n        \"semantic_type\": \"\",\n        \"description\": \"\"\n      }\n    },\n    {\n      \"column\": \"Choroid.1\",\n      \"properties\": {\n        \"dtype\": \"number\",\n        \"std\": 0.010364469256926656,\n        \"min\": 0.035,\n        \"max\": 0.061,\n        \"num_unique_values\": 5,\n        \"samples\": [\n          0.039,\n          0.061\n        ],\n        \"semantic_type\": \"\",\n        \"description\": \"\"\n      }\n    },\n    {\n      \"column\": \"Sclera.1\",\n      \"properties\": {\n        \"dtype\": \"number\",\n        \"std\": 0.00572033410543281,\n        \"min\": 0.057,\n        \"max\": 0.073,\n        \"num_unique_values\": 5,\n        \"samples\": [\n          0.057,\n          0.067\n        ],\n        \"semantic_type\": \"\",\n        \"description\": \"\"\n      }\n    }\n  ]\n}"
            }
          },
          "metadata": {},
          "execution_count": 2
        }
      ],
      "source": [
        "data=dict()\n",
        "data['microCT'] = m.read_phenotype_data('557', 'LSDS-1_microCT_MicroCT_Transformed_Reusable_Results')\n",
        "print('num records: ', len(data['microCT']))\n",
        "print('treatments: ', set(data['microCT']['Treatment']))\n",
        "data['microCT'].head()"
      ]
    },
    {
      "cell_type": "markdown",
      "metadata": {
        "id": "y-R9ER6FblND"
      },
      "source": [
        "*We will examine the differences between ground and spaceflight samples for the distributions of Ant-Post, Sup-Inf, Retina, Pigment Layer, Sclera, and Choroid columns.  Note the use of the term \"Treatment\" here refers to the condition of the sample.  \"Flight\" = spaceflight, \"Ground Control\" = ground using flight cages, \"Vivarium\" = ground using standard mouse cages.*\n",
        "\n",
        "The field names without the `.1` suffix represent data from images taken in the sagital view and the fields with the `.1` suffix represent data from images taken in the axial view.  \n",
        "\n",
        "<div>\n",
        "<img src=\"https://upload.wikimedia.org/wikipedia/commons/thumb/2/24/Human_anatomy_planes%2C_labeled.svg/1200px-Human_anatomy_planes%2C_labeled.svg.png\" width=\"300\"/>\n",
        "</div>\n",
        "\n",
        "*Figure citation: https://en.wikipedia.org/wiki/Anatomical_plane*"
      ]
    },
    {
      "cell_type": "markdown",
      "metadata": {
        "id": "3NrbOvMuyFVO"
      },
      "source": [
        "Next, we will create [box-and-whisker plots](https://en.wikipedia.org/wiki/Box_plot) comparing the flight samples to the non-flight samples (Ground Control and Vivarium) for each measurement, using the `plotbox_and_stats()` function defined in the `methods.ipynb` notebook. This function deploys the `boxplot` function from the `matplotlib` Python library, and uses the statistical testing functions from the `scipy` Python library.\n",
        "\n",
        "We will perform the statistical [t-test](https://en.wikipedia.org/wiki/Student%27s_t-test) to test if there is a significant difference between the flight and non-flight samples.  We print a [p-value](https://en.wikipedia.org/wiki/P-value) to the screen to indicate the significance of the comparison.\n",
        "\n",
        "> [A p-value of <0.05 is generally accepted as statistically significant. ](https://www.ncbi.nlm.nih.gov/pmc/articles/PMC4111019/)\n",
        "\n",
        "We will then perform the same statistical test, but this time we will compare only the flight and the ground control samples, excluding the vivarium samples.\n",
        "\n",
        "**Review the plots and p-value statistics for each of the following measurements, then answer the questions.**"
      ]
    },
    {
      "cell_type": "markdown",
      "metadata": {
        "id": "ec8EESycCWXr"
      },
      "source": [
        "### **Anterior-Posterior Measurement**\n",
        "\n",
        "Plot a box plot and get stats for the Ant-Post field of the micro CT data for ground and spaceflight samples\n"
      ]
    },
    {
      "cell_type": "code",
      "execution_count": null,
      "metadata": {
        "id": "bglB5vlTO8Oz",
        "colab": {
          "base_uri": "https://localhost:8080/",
          "height": 1000
        },
        "outputId": "0ec6b272-d6d5-48f1-810c-1e84cc87804f"
      },
      "outputs": [
        {
          "output_type": "stream",
          "name": "stdout",
          "text": [
            "field:  Ant-Post\n",
            "excluding samples:  []\n",
            "{'Ant-Post': {'t-test p-value': 0.14175}}\n",
            "n flight =  4\n",
            "n nonflight =  8\n"
          ]
        },
        {
          "output_type": "display_data",
          "data": {
            "text/plain": [
              "<Figure size 640x480 with 1 Axes>"
            ],
            "image/png": "[encoded data removed]"
          },
          "metadata": {}
        },
        {
          "output_type": "stream",
          "name": "stdout",
          "text": [
            "field:  Ant-Post.1\n",
            "excluding samples:  []\n",
            "{'Ant-Post.1': {'t-test p-value': 0.49605}}\n",
            "n flight =  4\n",
            "n nonflight =  8\n"
          ]
        },
        {
          "output_type": "display_data",
          "data": {
            "text/plain": [
              "<Figure size 640x480 with 1 Axes>"
            ],
            "image/png": "[encoded data removed]"
          },
          "metadata": {}
        }
      ],
      "source": [
        "m.plotbox_and_stats(data_=data['microCT'], sample_key = 'Source Name', field='Ant-Post', treatment='Treatment', space='Flight', exclude_samples=[])\n",
        "m.plotbox_and_stats(data_=data['microCT'], sample_key = 'Source Name', field='Ant-Post.1', treatment='Treatment', space='Flight', exclude_samples=[])"
      ]
    },
    {
      "cell_type": "markdown",
      "metadata": {
        "id": "6l1iRwoUC9Dv"
      },
      "source": [
        "### **Superior-Inferior Measurement**\n",
        "Plot a box plot for the Sup-Inf field of the micro CT data for ground and spaceflight samples (note there is no Sup-Inf.1 measurement)\n"
      ]
    },
    {
      "cell_type": "code",
      "execution_count": null,
      "metadata": {
        "id": "5QVXaK5WPCa5",
        "colab": {
          "base_uri": "https://localhost:8080/",
          "height": 574
        },
        "outputId": "37746d94-3fb9-4e68-ce4e-190d84f8ecaa"
      },
      "outputs": [
        {
          "output_type": "stream",
          "name": "stdout",
          "text": [
            "field:  Sup-Inf\n",
            "excluding samples:  []\n",
            "{'Sup-Inf': {'t-test p-value': 0.52282}}\n",
            "n flight =  4\n",
            "n nonflight =  8\n"
          ]
        },
        {
          "output_type": "display_data",
          "data": {
            "text/plain": [
              "<Figure size 640x480 with 1 Axes>"
            ],
            "image/png": "[encoded data removed]"
          },
          "metadata": {}
        }
      ],
      "source": [
        "m.plotbox_and_stats(data_=data['microCT'], sample_key = 'Source Name', field='Sup-Inf', treatment='Treatment', space='Flight', exclude_samples=[])"
      ]
    },
    {
      "cell_type": "markdown",
      "metadata": {
        "id": "v7sm-VJQDEiI"
      },
      "source": [
        "### **Retina Measurement**\n",
        "\n",
        "The `Retina` field is the measurement for the left eye, and the `Retina.1` field is the measurement for the right eye. Plot a box plot for the Retina field of the micro CT data for ground and spaceflight samples"
      ]
    },
    {
      "cell_type": "code",
      "execution_count": null,
      "metadata": {
        "id": "_WYi09gQJ7JN",
        "colab": {
          "base_uri": "https://localhost:8080/",
          "height": 1000
        },
        "outputId": "789aaec2-ac43-4b58-a008-9489486c3fc8"
      },
      "outputs": [
        {
          "output_type": "stream",
          "name": "stdout",
          "text": [
            "field:  Retina\n",
            "excluding samples:  []\n",
            "{'Retina': {'t-test p-value': 0.00796}}\n",
            "n flight =  4\n",
            "n nonflight =  8\n"
          ]
        },
        {
          "output_type": "display_data",
          "data": {
            "text/plain": [
              "<Figure size 640x480 with 1 Axes>"
            ],
            "image/png": "[encoded data removed]"
          },
          "metadata": {}
        },
        {
          "output_type": "stream",
          "name": "stdout",
          "text": [
            "field:  Retina.1\n",
            "excluding samples:  []\n",
            "{'Retina.1': {'t-test p-value': 0.82328}}\n",
            "n flight =  4\n",
            "n nonflight =  8\n"
          ]
        },
        {
          "output_type": "display_data",
          "data": {
            "text/plain": [
              "<Figure size 640x480 with 1 Axes>"
            ],
            "image/png": "[encoded data removed]"
          },
          "metadata": {}
        }
      ],
      "source": [
        "m.plotbox_and_stats(data_=data['microCT'],  sample_key = 'Source Name', field='Retina', treatment='Treatment', space='Flight', exclude_samples=[])\n",
        "m.plotbox_and_stats(data_=data['microCT'],  sample_key = 'Source Name', field='Retina.1', treatment='Treatment', space='Flight', exclude_samples=[])"
      ]
    },
    {
      "cell_type": "markdown",
      "metadata": {
        "id": "3xXN0cdNk5hi"
      },
      "source": [
        "### **Pigment layer Measurement**\n",
        "\n",
        "The `Pigment Layer` field is the measurement for the left eye, and the `Pigmen Layer.1` field is the measurement for the right eye. Plot a box plot for the Pigment Layer field of the micro CT data for ground and spaceflight samples\n"
      ]
    },
    {
      "cell_type": "code",
      "execution_count": null,
      "metadata": {
        "id": "x_xE-JGnWOMN",
        "colab": {
          "base_uri": "https://localhost:8080/",
          "height": 1000
        },
        "outputId": "cd472796-df14-495b-8cb4-a70dcf862dbf"
      },
      "outputs": [
        {
          "output_type": "stream",
          "name": "stdout",
          "text": [
            "field:  Pigment Layer\n",
            "excluding samples:  []\n",
            "{'Pigment Layer': {'t-test p-value': 0.01535}}\n",
            "n flight =  4\n",
            "n nonflight =  8\n"
          ]
        },
        {
          "output_type": "display_data",
          "data": {
            "text/plain": [
              "<Figure size 640x480 with 1 Axes>"
            ],
            "image/png": "[encoded data removed]"
          },
          "metadata": {}
        },
        {
          "output_type": "stream",
          "name": "stdout",
          "text": [
            "field:  Pigment Layer.1\n",
            "excluding samples:  []\n",
            "{'Pigment Layer.1': {'t-test p-value': 0.98999}}\n",
            "n flight =  4\n",
            "n nonflight =  8\n"
          ]
        },
        {
          "output_type": "display_data",
          "data": {
            "text/plain": [
              "<Figure size 640x480 with 1 Axes>"
            ],
            "image/png": "[encoded data removed]"
          },
          "metadata": {}
        }
      ],
      "source": [
        "m.plotbox_and_stats(data_=data['microCT'], sample_key = 'Source Name', field='Pigment Layer', treatment='Treatment', space='Flight', exclude_samples=[])\n",
        "m.plotbox_and_stats(data_=data['microCT'], sample_key = 'Source Name', field='Pigment Layer.1', treatment='Treatment', space='Flight', exclude_samples=[])"
      ]
    },
    {
      "cell_type": "markdown",
      "metadata": {
        "id": "vWZlcibLlBQ_"
      },
      "source": [
        "### **Choroid Measurement**\n",
        "\n",
        "The `Choroid` field is the measurement for the left eye, and the `Choroid.1` field is the measurement for the right eye.  Plot a box plot for the Choroid field of the micro CT data for ground and spaceflight samples\n"
      ]
    },
    {
      "cell_type": "code",
      "execution_count": null,
      "metadata": {
        "id": "of20axNBOsQL",
        "colab": {
          "base_uri": "https://localhost:8080/",
          "height": 1000
        },
        "outputId": "01bfb377-c95e-4605-c22f-3a943c328492"
      },
      "outputs": [
        {
          "output_type": "stream",
          "name": "stdout",
          "text": [
            "field:  Choroid\n",
            "excluding samples:  []\n",
            "{'Choroid': {'t-test p-value': 0.01249}}\n",
            "n flight =  4\n",
            "n nonflight =  8\n"
          ]
        },
        {
          "output_type": "display_data",
          "data": {
            "text/plain": [
              "<Figure size 640x480 with 1 Axes>"
            ],
            "image/png": "[encoded data removed]"
          },
          "metadata": {}
        },
        {
          "output_type": "stream",
          "name": "stdout",
          "text": [
            "field:  Choroid.1\n",
            "excluding samples:  []\n",
            "{'Choroid.1': {'t-test p-value': 0.00862}}\n",
            "n flight =  4\n",
            "n nonflight =  8\n"
          ]
        },
        {
          "output_type": "display_data",
          "data": {
            "text/plain": [
              "<Figure size 640x480 with 1 Axes>"
            ],
            "image/png": "[encoded data removed]"
          },
          "metadata": {}
        }
      ],
      "source": [
        "m.plotbox_and_stats(data_=data['microCT'], sample_key = 'Source Name', field='Choroid', treatment='Treatment', space='Flight', exclude_samples=[])\n",
        "m.plotbox_and_stats(data_=data['microCT'], sample_key = 'Source Name', field='Choroid.1', treatment='Treatment', space='Flight', exclude_samples=[])"
      ]
    },
    {
      "cell_type": "markdown",
      "metadata": {
        "id": "8gBLyN5VlJDO"
      },
      "source": [
        "### **Sclera Measurement**\n",
        "\n",
        "The `Sclera` field is the measurement for the left eye, and the `Sclera.1` field is the measurement for the right eye.  Plot a box plot for the Sclera field of the micro CT data for ground and spaceflight samples\n"
      ]
    },
    {
      "cell_type": "code",
      "execution_count": null,
      "metadata": {
        "id": "Phqfgl-3Oxwv",
        "colab": {
          "base_uri": "https://localhost:8080/",
          "height": 1000
        },
        "outputId": "203c6628-d9d0-4ff3-c20e-67c82fd02c84"
      },
      "outputs": [
        {
          "output_type": "stream",
          "name": "stdout",
          "text": [
            "field:  Sclera\n",
            "excluding samples:  []\n",
            "{'Sclera': {'t-test p-value': 0.0026}}\n",
            "n flight =  4\n",
            "n nonflight =  8\n"
          ]
        },
        {
          "output_type": "display_data",
          "data": {
            "text/plain": [
              "<Figure size 640x480 with 1 Axes>"
            ],
            "image/png": "[encoded data removed]"
          },
          "metadata": {}
        },
        {
          "output_type": "stream",
          "name": "stdout",
          "text": [
            "field:  Sclera.1\n",
            "excluding samples:  []\n",
            "{'Sclera.1': {'t-test p-value': 0.18301}}\n",
            "n flight =  4\n",
            "n nonflight =  8\n"
          ]
        },
        {
          "output_type": "display_data",
          "data": {
            "text/plain": [
              "<Figure size 640x480 with 1 Axes>"
            ],
            "image/png": "[encoded data removed]"
          },
          "metadata": {}
        }
      ],
      "source": [
        "m.plotbox_and_stats(data_=data['microCT'], sample_key = 'Source Name', field='Sclera', treatment='Treatment', space='Flight', exclude_samples=[])\n",
        "m.plotbox_and_stats(data_=data['microCT'], sample_key = 'Source Name', field='Sclera.1', treatment='Treatment', space='Flight', exclude_samples=[])"
      ]
    },
    {
      "cell_type": "markdown",
      "metadata": {
        "id": "uksZuiq3Whoc"
      },
      "source": [
        "**QUESTIONS**\n",
        "\n",
        "1. Which measurements had a statistically significant difference in distribution between flight and ground samples?\n",
        "\n",
        "2. Based on the statistical tests we did on the microCT data, which measurement seems to have the most prominent distinction between space flight and ground samples?\n",
        "\n",
        "3. What are reasons to include or exclude samples from the Vivarium treatment?"
      ]
    },
    {
      "cell_type": "markdown",
      "metadata": {
        "id": "fXnemCcnEfmI"
      },
      "source": [
        "**Double click here to enter your answers to the questions in this text box.**\n",
        "\n",
        "1.Ant-Post, Choroid and Sclera\n",
        "\n",
        "2.Ant-post, microgravity alters eyeshape.\n",
        "\n",
        "3.Include for baseline comparison, consistency and increased sample size. Exclude to avoid mismatch in experimental conditions, avoid missing measurements or to focus study without the vivarium samples."
      ]
    },
    {
      "cell_type": "markdown",
      "metadata": {
        "id": "yuE4W54Q_2jZ"
      },
      "source": [
        "## **Explore the Immunostaining Microscopy from OSD-557**\n",
        "\n",
        "Next, we will explore the [immunostaining microscopy](https://en.wikipedia.org/wiki/Immunostaining) data from OSD-557. Immunostaining microscopy helps scientists find specific proteins in cells using colored stains that mark the proteins of interest."
      ]
    },
    {
      "cell_type": "markdown",
      "metadata": {
        "id": "0XWcSLmnNpeN"
      },
      "source": [
        "### **Explore the immunostaining HNE data**\n",
        "\n",
        "[HNE or hydroxynonenal](https://en.wikipedia.org/wiki/4-Hydroxynonenal) is a colorless oil that is produced by lipid oxidation.  It is found in animal tissues in higher quantities during [oxidative stress](https://en.wikipedia.org/wiki/Oxidative_stress).  It is considered a possible causal agent of numerous diseases including chronic inflammation, neurodegenerative disorders, and cancer. Spaceflight causes photoreceptor degradation and oxidative stress. Immunofluorescence staining for HNE marker is red.\n",
        "\n",
        "<div>\n",
        "<img src=\"https://upload.wikimedia.org/wikipedia/commons/thumb/9/9d/Retina_--_high_mag.jpg/220px-Retina_--_high_mag.jpg\" width=\"400\"/>\n",
        "</div>\n",
        "\n",
        "\n",
        "For each section on the retina slide, they selected 5 areas for counting.  These 5 areas were used subsequently in their quantitative analysis.\n",
        "\n",
        "`sumcount`: total HNE positive cells in these five regions.\n",
        "\n",
        "`sumEC`: total HNE positive endothelial cells in the same five regions.\n",
        "\n",
        "`sunarea`: total areas for these five regions.\n",
        "\n",
        "`dentotal`: HNE positive cell density.\n",
        "\n",
        "`denEC`: HNE positive Endothelial cell density.\n",
        "\n",
        "Read in the HNE data\n"
      ]
    },
    {
      "cell_type": "code",
      "execution_count": null,
      "metadata": {
        "id": "RKKbkiR5-e24",
        "colab": {
          "base_uri": "https://localhost:8080/",
          "height": 260
        },
        "outputId": "0a828dbb-0741-4e4c-babb-1965fe3229d8"
      },
      "outputs": [
        {
          "output_type": "stream",
          "name": "stdout",
          "text": [
            "num records:  23\n",
            "sample names:  ['F15_Mouse_Eye', 'F16_Mouse_Eye', 'F17_Mouse_Eye', 'F18_Mouse_Eye', 'F19_Mouse_Eye', 'F20_Mouse_Eye', 'GC15_Mouse_Eye', 'GC16_Mouse_Eye', 'GC17_Mouse_Eye', 'GC18_Mouse_Eye', 'GC19_Mouse_Eye', 'Viv15_Mouse_Eye', 'Viv16_Mouse_Eye', 'Viv17_Mouse_Eye', 'Viv18_Mouse_Eye', 'Viv19_Mouse_Eye', 'Viv20_Mouse_Eye', 'CC2_15_Mouse_Eye', 'CC2_16_Mouse_Eye', 'CC2_17_Mouse_Eye', 'CC2_18_Mouse_Eye', 'CC2_19_Mouse_Eye', 'CC2_20_Mouse_Eye']\n"
          ]
        },
        {
          "output_type": "execute_result",
          "data": {
            "text/plain": [
              "  Source Name    Sample Name  sumcount  sumEC   sunarea    dentotal      denEC\n",
              "0         F15  F15_Mouse_Eye       124     24  1.149408  107.881593  20.880308\n",
              "1         F16  F16_Mouse_Eye        97     28  0.946872  102.442566  29.571050\n",
              "2         F17  F17_Mouse_Eye       159     28  0.875718  181.565290  31.973762\n",
              "3         F18  F18_Mouse_Eye        90     23  0.650403  138.375660  35.362669\n",
              "4         F19  F19_Mouse_Eye       106     15  1.086317   97.577417  13.808125"
            ],
            "text/html": [
              "\n",
              "  <div id=\"df-bdd06791-a467-411a-bec1-bc70ffb9df44\" class=\"colab-df-container\">\n",
              "    <div>\n",
              "<style scoped>\n",
              "    .dataframe tbody tr th:only-of-type {\n",
              "        vertical-align: middle;\n",
              "    }\n",
              "\n",
              "    .dataframe tbody tr th {\n",
              "        vertical-align: top;\n",
              "    }\n",
              "\n",
              "    .dataframe thead th {\n",
              "        text-align: right;\n",
              "    }\n",
              "</style>\n",
              "<table border=\"1\" class=\"dataframe\">\n",
              "  <thead>\n",
              "    <tr style=\"text-align: right;\">\n",
              "      <th></th>\n",
              "      <th>Source Name</th>\n",
              "      <th>Sample Name</th>\n",
              "      <th>sumcount</th>\n",
              "      <th>sumEC</th>\n",
              "      <th>sunarea</th>\n",
              "      <th>dentotal</th>\n",
              "      <th>denEC</th>\n",
              "    </tr>\n",
              "  </thead>\n",
              "  <tbody>\n",
              "    <tr>\n",
              "      <th>0</th>\n",
              "      <td>F15</td>\n",
              "      <td>F15_Mouse_Eye</td>\n",
              "      <td>124</td>\n",
              "      <td>24</td>\n",
              "      <td>1.149408</td>\n",
              "      <td>107.881593</td>\n",
              "      <td>20.880308</td>\n",
              "    </tr>\n",
              "    <tr>\n",
              "      <th>1</th>\n",
              "      <td>F16</td>\n",
              "      <td>F16_Mouse_Eye</td>\n",
              "      <td>97</td>\n",
              "      <td>28</td>\n",
              "      <td>0.946872</td>\n",
              "      <td>102.442566</td>\n",
              "      <td>29.571050</td>\n",
              "    </tr>\n",
              "    <tr>\n",
              "      <th>2</th>\n",
              "      <td>F17</td>\n",
              "      <td>F17_Mouse_Eye</td>\n",
              "      <td>159</td>\n",
              "      <td>28</td>\n",
              "      <td>0.875718</td>\n",
              "      <td>181.565290</td>\n",
              "      <td>31.973762</td>\n",
              "    </tr>\n",
              "    <tr>\n",
              "      <th>3</th>\n",
              "      <td>F18</td>\n",
              "      <td>F18_Mouse_Eye</td>\n",
              "      <td>90</td>\n",
              "      <td>23</td>\n",
              "      <td>0.650403</td>\n",
              "      <td>138.375660</td>\n",
              "      <td>35.362669</td>\n",
              "    </tr>\n",
              "    <tr>\n",
              "      <th>4</th>\n",
              "      <td>F19</td>\n",
              "      <td>F19_Mouse_Eye</td>\n",
              "      <td>106</td>\n",
              "      <td>15</td>\n",
              "      <td>1.086317</td>\n",
              "      <td>97.577417</td>\n",
              "      <td>13.808125</td>\n",
              "    </tr>\n",
              "  </tbody>\n",
              "</table>\n",
              "</div>\n",
              "    <div class=\"colab-df-buttons\">\n",
              "\n",
              "  <div class=\"colab-df-container\">\n",
              "    <button class=\"colab-df-convert\" onclick=\"convertToInteractive('df-bdd06791-a467-411a-bec1-bc70ffb9df44')\"\n",
              "            title=\"Convert this dataframe to an interactive table.\"\n",
              "            style=\"display:none;\">\n",
              "\n",
              "  <svg xmlns=\"http://www.w3.org/2000/svg\" height=\"24px\" viewBox=\"0 -960 960 960\">\n",
              "    <path d=\"M120-120v-720h720v720H120Zm60-500h600v-160H180v160Zm220 220h160v-160H400v160Zm0 220h160v-160H400v160ZM180-400h160v-160H180v160Zm440 0h160v-160H620v160ZM180-180h160v-160H180v160Zm440 0h160v-160H620v160Z\"/>\n",
              "  </svg>\n",
              "    </button>\n",
              "\n",
              "  <style>\n",
              "    .colab-df-container {\n",
              "      display:flex;\n",
              "      gap: 12px;\n",
              "    }\n",
              "\n",
              "    .colab-df-convert {\n",
              "      background-color: #E8F0FE;\n",
              "      border: none;\n",
              "      border-radius: 50%;\n",
              "      cursor: pointer;\n",
              "      display: none;\n",
              "      fill: #1967D2;\n",
              "      height: 32px;\n",
              "      padding: 0 0 0 0;\n",
              "      width: 32px;\n",
              "    }\n",
              "\n",
              "    .colab-df-convert:hover {\n",
              "      background-color: #E2EBFA;\n",
              "      box-shadow: 0px 1px 2px rgba(60, 64, 67, 0.3), 0px 1px 3px 1px rgba(60, 64, 67, 0.15);\n",
              "      fill: #174EA6;\n",
              "    }\n",
              "\n",
              "    .colab-df-buttons div {\n",
              "      margin-bottom: 4px;\n",
              "    }\n",
              "\n",
              "    [theme=dark] .colab-df-convert {\n",
              "      background-color: #3B4455;\n",
              "      fill: #D2E3FC;\n",
              "    }\n",
              "\n",
              "    [theme=dark] .colab-df-convert:hover {\n",
              "      background-color: #434B5C;\n",
              "      box-shadow: 0px 1px 3px 1px rgba(0, 0, 0, 0.15);\n",
              "      filter: drop-shadow(0px 1px 2px rgba(0, 0, 0, 0.3));\n",
              "      fill: #FFFFFF;\n",
              "    }\n",
              "  </style>\n",
              "\n",
              "    <script>\n",
              "      const buttonEl =\n",
              "        document.querySelector('#df-bdd06791-a467-411a-bec1-bc70ffb9df44 button.colab-df-convert');\n",
              "      buttonEl.style.display =\n",
              "        google.colab.kernel.accessAllowed ? 'block' : 'none';\n",
              "\n",
              "      async function convertToInteractive(key) {\n",
              "        const element = document.querySelector('#df-bdd06791-a467-411a-bec1-bc70ffb9df44');\n",
              "        const dataTable =\n",
              "          await google.colab.kernel.invokeFunction('convertToInteractive',\n",
              "                                                    [key], {});\n",
              "        if (!dataTable) return;\n",
              "\n",
              "        const docLinkHtml = 'Like what you see? Visit the ' +\n",
              "          '<a target=\"_blank\" href=https://colab.research.google.com/notebooks/data_table.ipynb>data table notebook</a>'\n",
              "          + ' to learn more about interactive tables.';\n",
              "        element.innerHTML = '';\n",
              "        dataTable['output_type'] = 'display_data';\n",
              "        await google.colab.output.renderOutput(dataTable, element);\n",
              "        const docLink = document.createElement('div');\n",
              "        docLink.innerHTML = docLinkHtml;\n",
              "        element.appendChild(docLink);\n",
              "      }\n",
              "    </script>\n",
              "  </div>\n",
              "\n",
              "\n",
              "    <div id=\"df-5940debd-49e6-47a9-92a4-bfdb374abbbd\">\n",
              "      <button class=\"colab-df-quickchart\" onclick=\"quickchart('df-5940debd-49e6-47a9-92a4-bfdb374abbbd')\"\n",
              "                title=\"Suggest charts\"\n",
              "                style=\"display:none;\">\n",
              "\n",
              "<svg xmlns=\"http://www.w3.org/2000/svg\" height=\"24px\"viewBox=\"0 0 24 24\"\n",
              "     width=\"24px\">\n",
              "    <g>\n",
              "        <path d=\"M19 3H5c-1.1 0-2 .9-2 2v14c0 1.1.9 2 2 2h14c1.1 0 2-.9 2-2V5c0-1.1-.9-2-2-2zM9 17H7v-7h2v7zm4 0h-2V7h2v10zm4 0h-2v-4h2v4z\"/>\n",
              "    </g>\n",
              "</svg>\n",
              "      </button>\n",
              "\n",
              "<style>\n",
              "  .colab-df-quickchart {\n",
              "      --bg-color: #E8F0FE;\n",
              "      --fill-color: #1967D2;\n",
              "      --hover-bg-color: #E2EBFA;\n",
              "      --hover-fill-color: #174EA6;\n",
              "      --disabled-fill-color: #AAA;\n",
              "      --disabled-bg-color: #DDD;\n",
              "  }\n",
              "\n",
              "  [theme=dark] .colab-df-quickchart {\n",
              "      --bg-color: #3B4455;\n",
              "      --fill-color: #D2E3FC;\n",
              "      --hover-bg-color: #434B5C;\n",
              "      --hover-fill-color: #FFFFFF;\n",
              "      --disabled-bg-color: #3B4455;\n",
              "      --disabled-fill-color: #666;\n",
              "  }\n",
              "\n",
              "  .colab-df-quickchart {\n",
              "    background-color: var(--bg-color);\n",
              "    border: none;\n",
              "    border-radius: 50%;\n",
              "    cursor: pointer;\n",
              "    display: none;\n",
              "    fill: var(--fill-color);\n",
              "    height: 32px;\n",
              "    padding: 0;\n",
              "    width: 32px;\n",
              "  }\n",
              "\n",
              "  .colab-df-quickchart:hover {\n",
              "    background-color: var(--hover-bg-color);\n",
              "    box-shadow: 0 1px 2px rgba(60, 64, 67, 0.3), 0 1px 3px 1px rgba(60, 64, 67, 0.15);\n",
              "    fill: var(--button-hover-fill-color);\n",
              "  }\n",
              "\n",
              "  .colab-df-quickchart-complete:disabled,\n",
              "  .colab-df-quickchart-complete:disabled:hover {\n",
              "    background-color: var(--disabled-bg-color);\n",
              "    fill: var(--disabled-fill-color);\n",
              "    box-shadow: none;\n",
              "  }\n",
              "\n",
              "  .colab-df-spinner {\n",
              "    border: 2px solid var(--fill-color);\n",
              "    border-color: transparent;\n",
              "    border-bottom-color: var(--fill-color);\n",
              "    animation:\n",
              "      spin 1s steps(1) infinite;\n",
              "  }\n",
              "\n",
              "  @keyframes spin {\n",
              "    0% {\n",
              "      border-color: transparent;\n",
              "      border-bottom-color: var(--fill-color);\n",
              "      border-left-color: var(--fill-color);\n",
              "    }\n",
              "    20% {\n",
              "      border-color: transparent;\n",
              "      border-left-color: var(--fill-color);\n",
              "      border-top-color: var(--fill-color);\n",
              "    }\n",
              "    30% {\n",
              "      border-color: transparent;\n",
              "      border-left-color: var(--fill-color);\n",
              "      border-top-color: var(--fill-color);\n",
              "      border-right-color: var(--fill-color);\n",
              "    }\n",
              "    40% {\n",
              "      border-color: transparent;\n",
              "      border-right-color: var(--fill-color);\n",
              "      border-top-color: var(--fill-color);\n",
              "    }\n",
              "    60% {\n",
              "      border-color: transparent;\n",
              "      border-right-color: var(--fill-color);\n",
              "    }\n",
              "    80% {\n",
              "      border-color: transparent;\n",
              "      border-right-color: var(--fill-color);\n",
              "      border-bottom-color: var(--fill-color);\n",
              "    }\n",
              "    90% {\n",
              "      border-color: transparent;\n",
              "      border-bottom-color: var(--fill-color);\n",
              "    }\n",
              "  }\n",
              "</style>\n",
              "\n",
              "      <script>\n",
              "        async function quickchart(key) {\n",
              "          const quickchartButtonEl =\n",
              "            document.querySelector('#' + key + ' button');\n",
              "          quickchartButtonEl.disabled = true;  // To prevent multiple clicks.\n",
              "          quickchartButtonEl.classList.add('colab-df-spinner');\n",
              "          try {\n",
              "            const charts = await google.colab.kernel.invokeFunction(\n",
              "                'suggestCharts', [key], {});\n",
              "          } catch (error) {\n",
              "            console.error('Error during call to suggestCharts:', error);\n",
              "          }\n",
              "          quickchartButtonEl.classList.remove('colab-df-spinner');\n",
              "          quickchartButtonEl.classList.add('colab-df-quickchart-complete');\n",
              "        }\n",
              "        (() => {\n",
              "          let quickchartButtonEl =\n",
              "            document.querySelector('#df-5940debd-49e6-47a9-92a4-bfdb374abbbd button');\n",
              "          quickchartButtonEl.style.display =\n",
              "            google.colab.kernel.accessAllowed ? 'block' : 'none';\n",
              "        })();\n",
              "      </script>\n",
              "    </div>\n",
              "\n",
              "    </div>\n",
              "  </div>\n"
            ],
            "application/vnd.google.colaboratory.intrinsic+json": {
              "type": "dataframe",
              "summary": "{\n  \"name\": \"data['immunoHNE']\",\n  \"rows\": 5,\n  \"fields\": [\n    {\n      \"column\": \"Source Name\",\n      \"properties\": {\n        \"dtype\": \"string\",\n        \"num_unique_values\": 5,\n        \"samples\": [\n          \"F16\",\n          \"F19\",\n          \"F17\"\n        ],\n        \"semantic_type\": \"\",\n        \"description\": \"\"\n      }\n    },\n    {\n      \"column\": \"Sample Name\",\n      \"properties\": {\n        \"dtype\": \"string\",\n        \"num_unique_values\": 5,\n        \"samples\": [\n          \"F16_Mouse_Eye\",\n          \"F19_Mouse_Eye\",\n          \"F17_Mouse_Eye\"\n        ],\n        \"semantic_type\": \"\",\n        \"description\": \"\"\n      }\n    },\n    {\n      \"column\": \"sumcount\",\n      \"properties\": {\n        \"dtype\": \"number\",\n        \"std\": 27,\n        \"min\": 90,\n        \"max\": 159,\n        \"num_unique_values\": 5,\n        \"samples\": [\n          97,\n          106,\n          159\n        ],\n        \"semantic_type\": \"\",\n        \"description\": \"\"\n      }\n    },\n    {\n      \"column\": \"sumEC\",\n      \"properties\": {\n        \"dtype\": \"number\",\n        \"std\": 5,\n        \"min\": 15,\n        \"max\": 28,\n        \"num_unique_values\": 4,\n        \"samples\": [\n          28,\n          15,\n          24\n        ],\n        \"semantic_type\": \"\",\n        \"description\": \"\"\n      }\n    },\n    {\n      \"column\": \"sunarea\",\n      \"properties\": {\n        \"dtype\": \"number\",\n        \"std\": 0.1957618865104877,\n        \"min\": 0.650403404,\n        \"max\": 1.14940831,\n        \"num_unique_values\": 5,\n        \"samples\": [\n          0.946872026,\n          1.086316932,\n          0.875718043\n        ],\n        \"semantic_type\": \"\",\n        \"description\": \"\"\n      }\n    },\n    {\n      \"column\": \"dentotal\",\n      \"properties\": {\n        \"dtype\": \"number\",\n        \"std\": 35.10982768259302,\n        \"min\": 97.57741678,\n        \"max\": 181.5652895,\n        \"num_unique_values\": 5,\n        \"samples\": [\n          102.442566,\n          97.57741678,\n          181.5652895\n        ],\n        \"semantic_type\": \"\",\n        \"description\": \"\"\n      }\n    },\n    {\n      \"column\": \"denEC\",\n      \"properties\": {\n        \"dtype\": \"number\",\n        \"std\": 8.809674491223598,\n        \"min\": 13.80812502,\n        \"max\": 35.36266857,\n        \"num_unique_values\": 5,\n        \"samples\": [\n          29.57104997,\n          13.80812502,\n          31.97376167\n        ],\n        \"semantic_type\": \"\",\n        \"description\": \"\"\n      }\n    }\n  ]\n}"
            }
          },
          "metadata": {},
          "execution_count": 9
        }
      ],
      "source": [
        "data['immunoHNE'] = m.read_phenotype_data('557', 'LSDS-1_immunostaining_microscopy_HNEtr_Transformed_Reusable_Results')\n",
        "print('num records: ', len(data['immunoHNE']))\n",
        "print('sample names: ', list(data['immunoHNE']['Sample Name']))\n",
        "data['immunoHNE'].head()"
      ]
    },
    {
      "cell_type": "markdown",
      "metadata": {
        "id": "iTDWQT6wbOUF"
      },
      "source": [
        "*We will examine differences between the ground and spaceflight samples for the distribution of data in the sumcount, sumeEC, sunarea, dentotal, and denEC columns.*\n",
        "\n",
        "Plot a box plot for the sumcount field of the immuno HNE data for ground and spaceflight samples\n"
      ]
    },
    {
      "cell_type": "code",
      "execution_count": null,
      "metadata": {
        "id": "MOOEDxSI9MAk",
        "colab": {
          "base_uri": "https://localhost:8080/",
          "height": 584
        },
        "outputId": "367b8cf7-84ea-4d5c-f290-8026b60eae77"
      },
      "outputs": [
        {
          "output_type": "stream",
          "name": "stdout",
          "text": [
            "field:  sumcount\n",
            "excluding samples:  []\n",
            "{'sumcount': {'t-test p-value': 0.00523}}\n",
            "n flight =  6\n",
            "n nonflight =  17\n"
          ]
        },
        {
          "output_type": "display_data",
          "data": {
            "text/plain": [
              "<Figure size 640x480 with 1 Axes>"
            ],
            "image/png": "[encoded data removed]"
          },
          "metadata": {}
        }
      ],
      "source": [
        "m.plotbox_and_stats(data_=data['immunoHNE'], sample_key = 'Source Name', field='sumcount', treatment=None, space=None, exclude_samples=[])"
      ]
    },
    {
      "cell_type": "markdown",
      "source": [
        "Plot a box plot for the dentotal field of the immuno HNE data for ground and spaceflight samples\n"
      ],
      "metadata": {
        "id": "oFGz0JltBxpp"
      }
    },
    {
      "cell_type": "code",
      "execution_count": null,
      "metadata": {
        "id": "UmTqBwEtSf4F",
        "colab": {
          "base_uri": "https://localhost:8080/",
          "height": 579
        },
        "outputId": "4eb6b7d7-7737-450d-83b7-984566aceacd"
      },
      "outputs": [
        {
          "output_type": "stream",
          "name": "stdout",
          "text": [
            "field:  dentotal\n",
            "excluding samples:  []\n",
            "{'dentotal': {'t-test p-value': 0.00218}}\n",
            "n flight =  6\n",
            "n nonflight =  17\n"
          ]
        },
        {
          "output_type": "display_data",
          "data": {
            "text/plain": [
              "<Figure size 640x480 with 1 Axes>"
            ],
            "image/png": "[encoded data removed]"
          },
          "metadata": {}
        }
      ],
      "source": [
        "m.plotbox_and_stats(data_=data['immunoHNE'], sample_key = 'Source Name', field='dentotal', treatment=None, space=None, exclude_samples=[])"
      ]
    },
    {
      "cell_type": "markdown",
      "source": [
        "Plot a box plot for the `denEC` field of the immuno HNE data for ground and spaceflight samples\n"
      ],
      "metadata": {
        "id": "hfbOk1F1B1wY"
      }
    },
    {
      "cell_type": "code",
      "execution_count": null,
      "metadata": {
        "id": "D64JuGMKSmm4",
        "colab": {
          "base_uri": "https://localhost:8080/",
          "height": 572
        },
        "outputId": "b409bf6b-6749-48bc-8e6d-18ab0fbc4b24"
      },
      "outputs": [
        {
          "output_type": "stream",
          "name": "stdout",
          "text": [
            "field:  denEC\n",
            "excluding samples:  []\n",
            "{'denEC': {'t-test p-value': 0.0262}}\n",
            "n flight =  6\n",
            "n nonflight =  17\n"
          ]
        },
        {
          "output_type": "display_data",
          "data": {
            "text/plain": [
              "<Figure size 640x480 with 1 Axes>"
            ],
            "image/png": "[encoded data removed]"
          },
          "metadata": {}
        }
      ],
      "source": [
        "m.plotbox_and_stats(data_=data['immunoHNE'], sample_key = 'Source Name', field='denEC', treatment=None, space=None, exclude_samples=[])"
      ]
    },
    {
      "cell_type": "markdown",
      "metadata": {
        "id": "-hOeRmjnYzWN"
      },
      "source": [
        "**QUESTIONS**\n",
        "\n",
        "1. How many flight samples and non-flight samples are in this dataset?\n",
        "\n",
        "2. Which metric has the lowest p-values?\n",
        "\n",
        "3. What does high HNE total density infer about the state of a cell?\n",
        "\n"
      ]
    },
    {
      "cell_type": "markdown",
      "metadata": {
        "id": "2wFJxrMNCzGV"
      },
      "source": [
        "Double click here to enter your answers to the questions above.\n",
        "\n",
        "1.6 flight, 17 non-flight\n",
        "\n",
        "2. dentotal\n",
        "\n",
        "3.Oxidative stress induced by microgravity,"
      ]
    },
    {
      "cell_type": "markdown",
      "metadata": {
        "id": "lPGecL3aBkzj"
      },
      "source": [
        "### **TOTALLY OPTIONAL: Explore the immunostaining microscopy PNA data**\n",
        "\n",
        "**What is immunostaining PNA?**\n",
        "\n",
        "[Peanut agglutinin (PNA)](https://en.wikipedia.org/wiki/Peanut_agglutinin) is plant lectin protein derived from the fruits of Arachis hypogaea.  Lectins recognise and bind particular sugar sequences in carbohydrates. The name \"peanut agglutinin\" originates from its ability to stick together (agglutinate) cells.  In the context of this experiment, PNA is a specific marker for cone photoreceptors and can be used to detect signs of degradation.\n",
        "\n",
        "https://www.mdpi.com/1422-0067/24/8/7362"
      ]
    },
    {
      "cell_type": "markdown",
      "metadata": {
        "id": "ZYo1B9QnKn2N"
      },
      "source": [
        "**TOTALLY OPTIONAL STEP**\n",
        "\n",
        "Use the preceding code examples to fill in the TODO's in the cells below."
      ]
    },
    {
      "cell_type": "code",
      "execution_count": null,
      "metadata": {
        "id": "okAwJjvW-e5v",
        "colab": {
          "base_uri": "https://localhost:8080/",
          "height": 290
        },
        "outputId": "113747be-9778-4a2c-d044-b983db0997d7"
      },
      "outputs": [
        {
          "output_type": "stream",
          "name": "stdout",
          "text": [
            "num records:  11\n",
            "sample names:  ['F15', 'F17', 'F18', 'F19', 'F20', 'GC15', 'GC16', 'GC17', 'GC18', 'GC19', 'GC20']\n"
          ]
        },
        {
          "output_type": "execute_result",
          "data": {
            "text/plain": [
              "  Sample_Name  pna_region_area_1               unit  pna_region_area_2  \\\n",
              "0         F15             14.380  square_micrometer             24.631   \n",
              "1         F17             23.459  square_micrometer             20.192   \n",
              "2         F18             18.771  square_micrometer             13.118   \n",
              "3         F19             12.690  square_micrometer             20.252   \n",
              "4         F20              6.558  square_micrometer             11.746   \n",
              "\n",
              "              unit.1  pna_region_area_3             unit.2  pna_region_area_4  \\\n",
              "0  square_micrometer             12.060  square_micrometer              7.623   \n",
              "1  square_micrometer             15.562  square_micrometer             10.606   \n",
              "2  square_micrometer              7.673  square_micrometer             14.409   \n",
              "3  square_micrometer             19.586  square_micrometer             19.386   \n",
              "4  square_micrometer             29.334  square_micrometer             16.736   \n",
              "\n",
              "              unit.3  pna_region_area_5  ...             unit.7  pna_area_4  \\\n",
              "0  square_micrometer             11.818  ...  square_millimeter    0.024036   \n",
              "1  square_micrometer             30.444  ...  square_millimeter    0.033442   \n",
              "2  square_micrometer             11.223  ...  square_millimeter    0.045434   \n",
              "3  square_micrometer             19.053  ...  square_millimeter    0.061127   \n",
              "4  square_micrometer             17.028  ...  square_millimeter    0.052771   \n",
              "\n",
              "              unit.8  pna_area_5             unit.9  pna_sum_positive_cells  \\\n",
              "0  square_millimeter    0.037264  square_millimeter                     201   \n",
              "1  square_millimeter    0.095994  square_millimeter                     260   \n",
              "2  square_millimeter    0.035388  square_millimeter                     241   \n",
              "3  square_millimeter    0.060077  square_millimeter                     259   \n",
              "4  square_millimeter    0.053692  square_millimeter                     209   \n",
              "\n",
              "   pna_sum_area            unit.10  pna_cell_density  \\\n",
              "0      0.222335  square_millimeter        904.041554   \n",
              "1      0.316144  square_millimeter        822.409317   \n",
              "2      0.205566  square_millimeter       1172.370234   \n",
              "3      0.286833  square_millimeter        902.965714   \n",
              "4      0.256673  square_millimeter        814.266522   \n",
              "\n",
              "                        unit.11  \n",
              "0  cells_per_millimeter_squared  \n",
              "1  cells_per_millimeter_squared  \n",
              "2  cells_per_millimeter_squared  \n",
              "3  cells_per_millimeter_squared  \n",
              "4  cells_per_millimeter_squared  \n",
              "\n",
              "[5 rows x 56 columns]"
            ],
            "text/html": [
              "\n",
              "  <div id=\"df-4e959077-8385-43b6-8445-c001ba3f8210\" class=\"colab-df-container\">\n",
              "    <div>\n",
              "<style scoped>\n",
              "    .dataframe tbody tr th:only-of-type {\n",
              "        vertical-align: middle;\n",
              "    }\n",
              "\n",
              "    .dataframe tbody tr th {\n",
              "        vertical-align: top;\n",
              "    }\n",
              "\n",
              "    .dataframe thead th {\n",
              "        text-align: right;\n",
              "    }\n",
              "</style>\n",
              "<table border=\"1\" class=\"dataframe\">\n",
              "  <thead>\n",
              "    <tr style=\"text-align: right;\">\n",
              "      <th></th>\n",
              "      <th>Sample_Name</th>\n",
              "      <th>pna_region_area_1</th>\n",
              "      <th>unit</th>\n",
              "      <th>pna_region_area_2</th>\n",
              "      <th>unit.1</th>\n",
              "      <th>pna_region_area_3</th>\n",
              "      <th>unit.2</th>\n",
              "      <th>pna_region_area_4</th>\n",
              "      <th>unit.3</th>\n",
              "      <th>pna_region_area_5</th>\n",
              "      <th>...</th>\n",
              "      <th>unit.7</th>\n",
              "      <th>pna_area_4</th>\n",
              "      <th>unit.8</th>\n",
              "      <th>pna_area_5</th>\n",
              "      <th>unit.9</th>\n",
              "      <th>pna_sum_positive_cells</th>\n",
              "      <th>pna_sum_area</th>\n",
              "      <th>unit.10</th>\n",
              "      <th>pna_cell_density</th>\n",
              "      <th>unit.11</th>\n",
              "    </tr>\n",
              "  </thead>\n",
              "  <tbody>\n",
              "    <tr>\n",
              "      <th>0</th>\n",
              "      <td>F15</td>\n",
              "      <td>14.380</td>\n",
              "      <td>square_micrometer</td>\n",
              "      <td>24.631</td>\n",
              "      <td>square_micrometer</td>\n",
              "      <td>12.060</td>\n",
              "      <td>square_micrometer</td>\n",
              "      <td>7.623</td>\n",
              "      <td>square_micrometer</td>\n",
              "      <td>11.818</td>\n",
              "      <td>...</td>\n",
              "      <td>square_millimeter</td>\n",
              "      <td>0.024036</td>\n",
              "      <td>square_millimeter</td>\n",
              "      <td>0.037264</td>\n",
              "      <td>square_millimeter</td>\n",
              "      <td>201</td>\n",
              "      <td>0.222335</td>\n",
              "      <td>square_millimeter</td>\n",
              "      <td>904.041554</td>\n",
              "      <td>cells_per_millimeter_squared</td>\n",
              "    </tr>\n",
              "    <tr>\n",
              "      <th>1</th>\n",
              "      <td>F17</td>\n",
              "      <td>23.459</td>\n",
              "      <td>square_micrometer</td>\n",
              "      <td>20.192</td>\n",
              "      <td>square_micrometer</td>\n",
              "      <td>15.562</td>\n",
              "      <td>square_micrometer</td>\n",
              "      <td>10.606</td>\n",
              "      <td>square_micrometer</td>\n",
              "      <td>30.444</td>\n",
              "      <td>...</td>\n",
              "      <td>square_millimeter</td>\n",
              "      <td>0.033442</td>\n",
              "      <td>square_millimeter</td>\n",
              "      <td>0.095994</td>\n",
              "      <td>square_millimeter</td>\n",
              "      <td>260</td>\n",
              "      <td>0.316144</td>\n",
              "      <td>square_millimeter</td>\n",
              "      <td>822.409317</td>\n",
              "      <td>cells_per_millimeter_squared</td>\n",
              "    </tr>\n",
              "    <tr>\n",
              "      <th>2</th>\n",
              "      <td>F18</td>\n",
              "      <td>18.771</td>\n",
              "      <td>square_micrometer</td>\n",
              "      <td>13.118</td>\n",
              "      <td>square_micrometer</td>\n",
              "      <td>7.673</td>\n",
              "      <td>square_micrometer</td>\n",
              "      <td>14.409</td>\n",
              "      <td>square_micrometer</td>\n",
              "      <td>11.223</td>\n",
              "      <td>...</td>\n",
              "      <td>square_millimeter</td>\n",
              "      <td>0.045434</td>\n",
              "      <td>square_millimeter</td>\n",
              "      <td>0.035388</td>\n",
              "      <td>square_millimeter</td>\n",
              "      <td>241</td>\n",
              "      <td>0.205566</td>\n",
              "      <td>square_millimeter</td>\n",
              "      <td>1172.370234</td>\n",
              "      <td>cells_per_millimeter_squared</td>\n",
              "    </tr>\n",
              "    <tr>\n",
              "      <th>3</th>\n",
              "      <td>F19</td>\n",
              "      <td>12.690</td>\n",
              "      <td>square_micrometer</td>\n",
              "      <td>20.252</td>\n",
              "      <td>square_micrometer</td>\n",
              "      <td>19.586</td>\n",
              "      <td>square_micrometer</td>\n",
              "      <td>19.386</td>\n",
              "      <td>square_micrometer</td>\n",
              "      <td>19.053</td>\n",
              "      <td>...</td>\n",
              "      <td>square_millimeter</td>\n",
              "      <td>0.061127</td>\n",
              "      <td>square_millimeter</td>\n",
              "      <td>0.060077</td>\n",
              "      <td>square_millimeter</td>\n",
              "      <td>259</td>\n",
              "      <td>0.286833</td>\n",
              "      <td>square_millimeter</td>\n",
              "      <td>902.965714</td>\n",
              "      <td>cells_per_millimeter_squared</td>\n",
              "    </tr>\n",
              "    <tr>\n",
              "      <th>4</th>\n",
              "      <td>F20</td>\n",
              "      <td>6.558</td>\n",
              "      <td>square_micrometer</td>\n",
              "      <td>11.746</td>\n",
              "      <td>square_micrometer</td>\n",
              "      <td>29.334</td>\n",
              "      <td>square_micrometer</td>\n",
              "      <td>16.736</td>\n",
              "      <td>square_micrometer</td>\n",
              "      <td>17.028</td>\n",
              "      <td>...</td>\n",
              "      <td>square_millimeter</td>\n",
              "      <td>0.052771</td>\n",
              "      <td>square_millimeter</td>\n",
              "      <td>0.053692</td>\n",
              "      <td>square_millimeter</td>\n",
              "      <td>209</td>\n",
              "      <td>0.256673</td>\n",
              "      <td>square_millimeter</td>\n",
              "      <td>814.266522</td>\n",
              "      <td>cells_per_millimeter_squared</td>\n",
              "    </tr>\n",
              "  </tbody>\n",
              "</table>\n",
              "<p>5 rows × 56 columns</p>\n",
              "</div>\n",
              "    <div class=\"colab-df-buttons\">\n",
              "\n",
              "  <div class=\"colab-df-container\">\n",
              "    <button class=\"colab-df-convert\" onclick=\"convertToInteractive('df-4e959077-8385-43b6-8445-c001ba3f8210')\"\n",
              "            title=\"Convert this dataframe to an interactive table.\"\n",
              "            style=\"display:none;\">\n",
              "\n",
              "  <svg xmlns=\"http://www.w3.org/2000/svg\" height=\"24px\" viewBox=\"0 -960 960 960\">\n",
              "    <path d=\"M120-120v-720h720v720H120Zm60-500h600v-160H180v160Zm220 220h160v-160H400v160Zm0 220h160v-160H400v160ZM180-400h160v-160H180v160Zm440 0h160v-160H620v160ZM180-180h160v-160H180v160Zm440 0h160v-160H620v160Z\"/>\n",
              "  </svg>\n",
              "    </button>\n",
              "\n",
              "  <style>\n",
              "    .colab-df-container {\n",
              "      display:flex;\n",
              "      gap: 12px;\n",
              "    }\n",
              "\n",
              "    .colab-df-convert {\n",
              "      background-color: #E8F0FE;\n",
              "      border: none;\n",
              "      border-radius: 50%;\n",
              "      cursor: pointer;\n",
              "      display: none;\n",
              "      fill: #1967D2;\n",
              "      height: 32px;\n",
              "      padding: 0 0 0 0;\n",
              "      width: 32px;\n",
              "    }\n",
              "\n",
              "    .colab-df-convert:hover {\n",
              "      background-color: #E2EBFA;\n",
              "      box-shadow: 0px 1px 2px rgba(60, 64, 67, 0.3), 0px 1px 3px 1px rgba(60, 64, 67, 0.15);\n",
              "      fill: #174EA6;\n",
              "    }\n",
              "\n",
              "    .colab-df-buttons div {\n",
              "      margin-bottom: 4px;\n",
              "    }\n",
              "\n",
              "    [theme=dark] .colab-df-convert {\n",
              "      background-color: #3B4455;\n",
              "      fill: #D2E3FC;\n",
              "    }\n",
              "\n",
              "    [theme=dark] .colab-df-convert:hover {\n",
              "      background-color: #434B5C;\n",
              "      box-shadow: 0px 1px 3px 1px rgba(0, 0, 0, 0.15);\n",
              "      filter: drop-shadow(0px 1px 2px rgba(0, 0, 0, 0.3));\n",
              "      fill: #FFFFFF;\n",
              "    }\n",
              "  </style>\n",
              "\n",
              "    <script>\n",
              "      const buttonEl =\n",
              "        document.querySelector('#df-4e959077-8385-43b6-8445-c001ba3f8210 button.colab-df-convert');\n",
              "      buttonEl.style.display =\n",
              "        google.colab.kernel.accessAllowed ? 'block' : 'none';\n",
              "\n",
              "      async function convertToInteractive(key) {\n",
              "        const element = document.querySelector('#df-4e959077-8385-43b6-8445-c001ba3f8210');\n",
              "        const dataTable =\n",
              "          await google.colab.kernel.invokeFunction('convertToInteractive',\n",
              "                                                    [key], {});\n",
              "        if (!dataTable) return;\n",
              "\n",
              "        const docLinkHtml = 'Like what you see? Visit the ' +\n",
              "          '<a target=\"_blank\" href=https://colab.research.google.com/notebooks/data_table.ipynb>data table notebook</a>'\n",
              "          + ' to learn more about interactive tables.';\n",
              "        element.innerHTML = '';\n",
              "        dataTable['output_type'] = 'display_data';\n",
              "        await google.colab.output.renderOutput(dataTable, element);\n",
              "        const docLink = document.createElement('div');\n",
              "        docLink.innerHTML = docLinkHtml;\n",
              "        element.appendChild(docLink);\n",
              "      }\n",
              "    </script>\n",
              "  </div>\n",
              "\n",
              "\n",
              "    <div id=\"df-db99116f-fd85-4cd6-ad10-d2dcbffd28d6\">\n",
              "      <button class=\"colab-df-quickchart\" onclick=\"quickchart('df-db99116f-fd85-4cd6-ad10-d2dcbffd28d6')\"\n",
              "                title=\"Suggest charts\"\n",
              "                style=\"display:none;\">\n",
              "\n",
              "<svg xmlns=\"http://www.w3.org/2000/svg\" height=\"24px\"viewBox=\"0 0 24 24\"\n",
              "     width=\"24px\">\n",
              "    <g>\n",
              "        <path d=\"M19 3H5c-1.1 0-2 .9-2 2v14c0 1.1.9 2 2 2h14c1.1 0 2-.9 2-2V5c0-1.1-.9-2-2-2zM9 17H7v-7h2v7zm4 0h-2V7h2v10zm4 0h-2v-4h2v4z\"/>\n",
              "    </g>\n",
              "</svg>\n",
              "      </button>\n",
              "\n",
              "<style>\n",
              "  .colab-df-quickchart {\n",
              "      --bg-color: #E8F0FE;\n",
              "      --fill-color: #1967D2;\n",
              "      --hover-bg-color: #E2EBFA;\n",
              "      --hover-fill-color: #174EA6;\n",
              "      --disabled-fill-color: #AAA;\n",
              "      --disabled-bg-color: #DDD;\n",
              "  }\n",
              "\n",
              "  [theme=dark] .colab-df-quickchart {\n",
              "      --bg-color: #3B4455;\n",
              "      --fill-color: #D2E3FC;\n",
              "      --hover-bg-color: #434B5C;\n",
              "      --hover-fill-color: #FFFFFF;\n",
              "      --disabled-bg-color: #3B4455;\n",
              "      --disabled-fill-color: #666;\n",
              "  }\n",
              "\n",
              "  .colab-df-quickchart {\n",
              "    background-color: var(--bg-color);\n",
              "    border: none;\n",
              "    border-radius: 50%;\n",
              "    cursor: pointer;\n",
              "    display: none;\n",
              "    fill: var(--fill-color);\n",
              "    height: 32px;\n",
              "    padding: 0;\n",
              "    width: 32px;\n",
              "  }\n",
              "\n",
              "  .colab-df-quickchart:hover {\n",
              "    background-color: var(--hover-bg-color);\n",
              "    box-shadow: 0 1px 2px rgba(60, 64, 67, 0.3), 0 1px 3px 1px rgba(60, 64, 67, 0.15);\n",
              "    fill: var(--button-hover-fill-color);\n",
              "  }\n",
              "\n",
              "  .colab-df-quickchart-complete:disabled,\n",
              "  .colab-df-quickchart-complete:disabled:hover {\n",
              "    background-color: var(--disabled-bg-color);\n",
              "    fill: var(--disabled-fill-color);\n",
              "    box-shadow: none;\n",
              "  }\n",
              "\n",
              "  .colab-df-spinner {\n",
              "    border: 2px solid var(--fill-color);\n",
              "    border-color: transparent;\n",
              "    border-bottom-color: var(--fill-color);\n",
              "    animation:\n",
              "      spin 1s steps(1) infinite;\n",
              "  }\n",
              "\n",
              "  @keyframes spin {\n",
              "    0% {\n",
              "      border-color: transparent;\n",
              "      border-bottom-color: var(--fill-color);\n",
              "      border-left-color: var(--fill-color);\n",
              "    }\n",
              "    20% {\n",
              "      border-color: transparent;\n",
              "      border-left-color: var(--fill-color);\n",
              "      border-top-color: var(--fill-color);\n",
              "    }\n",
              "    30% {\n",
              "      border-color: transparent;\n",
              "      border-left-color: var(--fill-color);\n",
              "      border-top-color: var(--fill-color);\n",
              "      border-right-color: var(--fill-color);\n",
              "    }\n",
              "    40% {\n",
              "      border-color: transparent;\n",
              "      border-right-color: var(--fill-color);\n",
              "      border-top-color: var(--fill-color);\n",
              "    }\n",
              "    60% {\n",
              "      border-color: transparent;\n",
              "      border-right-color: var(--fill-color);\n",
              "    }\n",
              "    80% {\n",
              "      border-color: transparent;\n",
              "      border-right-color: var(--fill-color);\n",
              "      border-bottom-color: var(--fill-color);\n",
              "    }\n",
              "    90% {\n",
              "      border-color: transparent;\n",
              "      border-bottom-color: var(--fill-color);\n",
              "    }\n",
              "  }\n",
              "</style>\n",
              "\n",
              "      <script>\n",
              "        async function quickchart(key) {\n",
              "          const quickchartButtonEl =\n",
              "            document.querySelector('#' + key + ' button');\n",
              "          quickchartButtonEl.disabled = true;  // To prevent multiple clicks.\n",
              "          quickchartButtonEl.classList.add('colab-df-spinner');\n",
              "          try {\n",
              "            const charts = await google.colab.kernel.invokeFunction(\n",
              "                'suggestCharts', [key], {});\n",
              "          } catch (error) {\n",
              "            console.error('Error during call to suggestCharts:', error);\n",
              "          }\n",
              "          quickchartButtonEl.classList.remove('colab-df-spinner');\n",
              "          quickchartButtonEl.classList.add('colab-df-quickchart-complete');\n",
              "        }\n",
              "        (() => {\n",
              "          let quickchartButtonEl =\n",
              "            document.querySelector('#df-db99116f-fd85-4cd6-ad10-d2dcbffd28d6 button');\n",
              "          quickchartButtonEl.style.display =\n",
              "            google.colab.kernel.accessAllowed ? 'block' : 'none';\n",
              "        })();\n",
              "      </script>\n",
              "    </div>\n",
              "\n",
              "    </div>\n",
              "  </div>\n"
            ],
            "application/vnd.google.colaboratory.intrinsic+json": {
              "type": "dataframe"
            }
          },
          "metadata": {},
          "execution_count": 19
        }
      ],
      "source": [
        "# TODO: Navigate to the Files section of https://osdr.nasa.gov/bio/repo/data/studies/OSD-557\n",
        "\n",
        "# TODO: Find the reusable transformed files for PNA immunostaining microscopy\n",
        "\n",
        "# TODO: uncomment and complete the following command to read in the PNA microscopy data from OSDR-557\n",
        "\n",
        "data['immunoPNA'] = m.read_phenotype_data('557', 'LSDS-1_immunostaining_Overbey_PNA_TRANSFORMED')\n",
        "\n",
        "# TODO: print the number of records in the PNA microscopy data set\n",
        "\n",
        "\n",
        "# TODO: print the list of samples in the PNA microscopy data set\n",
        "\n",
        "\n",
        "# TODO: print the head of the dataframe of the PNA microscopy data set\n",
        "print('num records: ', len(data['immunoPNA']))\n",
        "print('sample names: ', list(data['immunoPNA']['Sample_Name']))\n",
        "data['immunoPNA'].head()"
      ]
    },
    {
      "cell_type": "markdown",
      "metadata": {
        "id": "86hTzwplGOw8"
      },
      "source": [
        "*We will examine all the relevant fields (totct, totarea, density, and Average HNE Fluorescent Intensity) to determine if there is a statistically significant difference in the distributions of those data between ground and spaceflight samples.*"
      ]
    },
    {
      "cell_type": "code",
      "execution_count": null,
      "metadata": {
        "id": "ESfK3FpbTE0-"
      },
      "outputs": [],
      "source": [
        "# TODO: plot a box plot of the distributions of totarea for flight and ground samples\n",
        "m.plotbox_and_stats(data_=data['immunoPNA'], sample_key = 'Sample_Name', field='sumcount', treatment=None, space=None, exclude_samples=[])"
      ]
    },
    {
      "cell_type": "code",
      "execution_count": null,
      "metadata": {
        "id": "vPKqpndFTLhW"
      },
      "outputs": [],
      "source": [
        "# TODO: plot a box plot of the distributions of density for flight and ground samples\n"
      ]
    },
    {
      "cell_type": "code",
      "execution_count": null,
      "metadata": {
        "id": "eAjisGvjTQ9E"
      },
      "outputs": [],
      "source": [
        "# TODO: plot a box plot of the distributions of Average HNE Fluorescent Intensity for flight and ground samples\n"
      ]
    },
    {
      "cell_type": "markdown",
      "metadata": {
        "id": "R8jJy_yrZCaH"
      },
      "source": [
        "**TOTALLY OPTIONAL QUESTIONS (answer these if you filled in the previous code cell**\n",
        "\n",
        "1. What do you think the totct, totarea, and density fields refer to in the table?\n",
        "\n",
        "2. How might the Average HNE Fluorescent Intensity value be measured?\n",
        "\n",
        "3. Which metric has the most significant distinction between flight and non-flight samples?\n"
      ]
    },
    {
      "cell_type": "markdown",
      "metadata": {
        "id": "ZwfhcAgqC2vb"
      },
      "source": [
        "**Double click here to enter your answers to the questions above.**\n",
        "\n",
        "1.\n",
        "\n",
        "2.\n",
        "\n",
        "3."
      ]
    },
    {
      "cell_type": "markdown",
      "metadata": {
        "id": "zJusYS4P1P4k"
      },
      "source": [
        "# **OSD-568 Data Exploration**"
      ]
    },
    {
      "cell_type": "markdown",
      "metadata": {
        "id": "c1y17IZEI9SN"
      },
      "source": [
        "The [OSD-568 dataset](https://osdr.nasa.gov/bio/repo/data/studies/OSD-568) contains 3 different assays of microscopy imaging data: one for ZO, one PECAM, and one for TUNEL assays.  We will examine PECAM and TUNEL, each of which are described below.\n",
        "\n",
        "[Terminal deoxynucleotidyl transferase dUTP nick end labeling](https://en.wikipedia.org/wiki/TUNEL_assay) (TUNEL) is an assay that that detects [apoptotic](https://en.wikipedia.org/wiki/Apoptosis) cells undergoing extensive DNA degredation.  \n",
        "\n",
        "[Platelet endothelial cell adhesion molecule](https://en.wikipedia.org/wiki/CD31) (PECAM) is a protein that functions as an adhesive stress-response to both maintain cell junctional integrity and speed restoration of [vascular permeability](https://en.wikipedia.org/wiki/Vascular_permeability).\n",
        "\n",
        " Immunohistochemical analysis of the retina revealed a strong indication of disturbance of [brain-retinal barrier](https://en.wikipedia.org/wiki/Blood%E2%80%93retinal_barrier) (BRB) integrity. There were also a significant increase in the expression of platelet endothelial cell adhesion molecule-1 (PECAM-1). [Proteomic analysis](https://en.wikipedia.org/wiki/Proteomics) showed that many key proteins and pathways responsible for [cell death](https://en.wikipedia.org/wiki/Cell_death), [cell cycle](https://en.wikipedia.org/wiki/Cell_cycle), [immune response](https://en.wikipedia.org/wiki/Immune_response), [mitochondrial](https://en.wikipedia.org/wiki/Mitochondrion) funcion, and [metabolic](https://en.wikipedia.org/wiki/Metabolism) stress were significantly altered in the flight mice compared to ground control animals. These data indicate a complex cellular response that may alter retina structure and BRB integrity following long-term spaceflight.\n",
        "\n",
        "\n",
        "\n",
        "\n"
      ]
    },
    {
      "cell_type": "markdown",
      "metadata": {
        "id": "NWmxiip06e5A"
      },
      "source": [
        "## **Explore the TUNEL microscopy data**\n",
        "\n",
        "Read in data for OSD-568 (LSDS-5_immunostaining_microscopy_TUNELtr TRANSFORMED.csv) and plot box plot of immunostaining microscopy TUNEL Density_EC field for flight and non-flight ssamples\n",
        "\n"
      ]
    },
    {
      "cell_type": "code",
      "execution_count": null,
      "metadata": {
        "id": "KuJbEkM41sNa",
        "colab": {
          "base_uri": "https://localhost:8080/",
          "height": 260
        },
        "outputId": "2cc7fb20-eab6-4020-a708-804c188fe973"
      },
      "outputs": [
        {
          "output_type": "stream",
          "name": "stdout",
          "text": [
            "number of samples:  23\n",
            "samples:  ['F15_Mouse_Eye', 'F16_Mouse_Eye', 'F17_Mouse_Eye', 'F18_Mouse_Eye', 'F19_Mouse_Eye', 'F20_Mouse_Eye', 'GC15_Mouse_Eye', 'GC16_Mouse_Eye', 'GC17_Mouse_Eye', 'GC18_Mouse_Eye', 'GC19_Mouse_Eye', 'GC20_Mouse_Eye', 'VG15_Mouse_Eye', 'VG16_Mouse_Eye', 'VG17_Mouse_Eye', 'VG18_Mouse_Eye', 'VG20_Mouse_Eye', 'V15_Mouse_Eye', 'V16_Mouse_Eye', 'V17_Mouse_Eye', 'V18_Mouse_Eye', 'V19_Mouse_Eye', 'V20_Mouse_Eye']\n"
          ]
        },
        {
          "output_type": "execute_result",
          "data": {
            "text/plain": [
              "     Sample_Name  Total  Total_EC  Total_Area     Density  Density_EC\n",
              "0  F15_Mouse_Eye    193        76    1.127330  171.200986   67.415932\n",
              "1  F16_Mouse_Eye    174        70    1.054249  165.046336   66.397951\n",
              "2  F17_Mouse_Eye    170        61    1.074499  158.213281   56.770648\n",
              "3  F18_Mouse_Eye    166        39    1.173785  141.422795   33.225837\n",
              "4  F19_Mouse_Eye    151        32    1.051339  143.626361   30.437374"
            ],
            "text/html": [
              "\n",
              "  <div id=\"df-d775c4e1-5a11-44e1-b765-ed12ff51f9d4\" class=\"colab-df-container\">\n",
              "    <div>\n",
              "<style scoped>\n",
              "    .dataframe tbody tr th:only-of-type {\n",
              "        vertical-align: middle;\n",
              "    }\n",
              "\n",
              "    .dataframe tbody tr th {\n",
              "        vertical-align: top;\n",
              "    }\n",
              "\n",
              "    .dataframe thead th {\n",
              "        text-align: right;\n",
              "    }\n",
              "</style>\n",
              "<table border=\"1\" class=\"dataframe\">\n",
              "  <thead>\n",
              "    <tr style=\"text-align: right;\">\n",
              "      <th></th>\n",
              "      <th>Sample_Name</th>\n",
              "      <th>Total</th>\n",
              "      <th>Total_EC</th>\n",
              "      <th>Total_Area</th>\n",
              "      <th>Density</th>\n",
              "      <th>Density_EC</th>\n",
              "    </tr>\n",
              "  </thead>\n",
              "  <tbody>\n",
              "    <tr>\n",
              "      <th>0</th>\n",
              "      <td>F15_Mouse_Eye</td>\n",
              "      <td>193</td>\n",
              "      <td>76</td>\n",
              "      <td>1.127330</td>\n",
              "      <td>171.200986</td>\n",
              "      <td>67.415932</td>\n",
              "    </tr>\n",
              "    <tr>\n",
              "      <th>1</th>\n",
              "      <td>F16_Mouse_Eye</td>\n",
              "      <td>174</td>\n",
              "      <td>70</td>\n",
              "      <td>1.054249</td>\n",
              "      <td>165.046336</td>\n",
              "      <td>66.397951</td>\n",
              "    </tr>\n",
              "    <tr>\n",
              "      <th>2</th>\n",
              "      <td>F17_Mouse_Eye</td>\n",
              "      <td>170</td>\n",
              "      <td>61</td>\n",
              "      <td>1.074499</td>\n",
              "      <td>158.213281</td>\n",
              "      <td>56.770648</td>\n",
              "    </tr>\n",
              "    <tr>\n",
              "      <th>3</th>\n",
              "      <td>F18_Mouse_Eye</td>\n",
              "      <td>166</td>\n",
              "      <td>39</td>\n",
              "      <td>1.173785</td>\n",
              "      <td>141.422795</td>\n",
              "      <td>33.225837</td>\n",
              "    </tr>\n",
              "    <tr>\n",
              "      <th>4</th>\n",
              "      <td>F19_Mouse_Eye</td>\n",
              "      <td>151</td>\n",
              "      <td>32</td>\n",
              "      <td>1.051339</td>\n",
              "      <td>143.626361</td>\n",
              "      <td>30.437374</td>\n",
              "    </tr>\n",
              "  </tbody>\n",
              "</table>\n",
              "</div>\n",
              "    <div class=\"colab-df-buttons\">\n",
              "\n",
              "  <div class=\"colab-df-container\">\n",
              "    <button class=\"colab-df-convert\" onclick=\"convertToInteractive('df-d775c4e1-5a11-44e1-b765-ed12ff51f9d4')\"\n",
              "            title=\"Convert this dataframe to an interactive table.\"\n",
              "            style=\"display:none;\">\n",
              "\n",
              "  <svg xmlns=\"http://www.w3.org/2000/svg\" height=\"24px\" viewBox=\"0 -960 960 960\">\n",
              "    <path d=\"M120-120v-720h720v720H120Zm60-500h600v-160H180v160Zm220 220h160v-160H400v160Zm0 220h160v-160H400v160ZM180-400h160v-160H180v160Zm440 0h160v-160H620v160ZM180-180h160v-160H180v160Zm440 0h160v-160H620v160Z\"/>\n",
              "  </svg>\n",
              "    </button>\n",
              "\n",
              "  <style>\n",
              "    .colab-df-container {\n",
              "      display:flex;\n",
              "      gap: 12px;\n",
              "    }\n",
              "\n",
              "    .colab-df-convert {\n",
              "      background-color: #E8F0FE;\n",
              "      border: none;\n",
              "      border-radius: 50%;\n",
              "      cursor: pointer;\n",
              "      display: none;\n",
              "      fill: #1967D2;\n",
              "      height: 32px;\n",
              "      padding: 0 0 0 0;\n",
              "      width: 32px;\n",
              "    }\n",
              "\n",
              "    .colab-df-convert:hover {\n",
              "      background-color: #E2EBFA;\n",
              "      box-shadow: 0px 1px 2px rgba(60, 64, 67, 0.3), 0px 1px 3px 1px rgba(60, 64, 67, 0.15);\n",
              "      fill: #174EA6;\n",
              "    }\n",
              "\n",
              "    .colab-df-buttons div {\n",
              "      margin-bottom: 4px;\n",
              "    }\n",
              "\n",
              "    [theme=dark] .colab-df-convert {\n",
              "      background-color: #3B4455;\n",
              "      fill: #D2E3FC;\n",
              "    }\n",
              "\n",
              "    [theme=dark] .colab-df-convert:hover {\n",
              "      background-color: #434B5C;\n",
              "      box-shadow: 0px 1px 3px 1px rgba(0, 0, 0, 0.15);\n",
              "      filter: drop-shadow(0px 1px 2px rgba(0, 0, 0, 0.3));\n",
              "      fill: #FFFFFF;\n",
              "    }\n",
              "  </style>\n",
              "\n",
              "    <script>\n",
              "      const buttonEl =\n",
              "        document.querySelector('#df-d775c4e1-5a11-44e1-b765-ed12ff51f9d4 button.colab-df-convert');\n",
              "      buttonEl.style.display =\n",
              "        google.colab.kernel.accessAllowed ? 'block' : 'none';\n",
              "\n",
              "      async function convertToInteractive(key) {\n",
              "        const element = document.querySelector('#df-d775c4e1-5a11-44e1-b765-ed12ff51f9d4');\n",
              "        const dataTable =\n",
              "          await google.colab.kernel.invokeFunction('convertToInteractive',\n",
              "                                                    [key], {});\n",
              "        if (!dataTable) return;\n",
              "\n",
              "        const docLinkHtml = 'Like what you see? Visit the ' +\n",
              "          '<a target=\"_blank\" href=https://colab.research.google.com/notebooks/data_table.ipynb>data table notebook</a>'\n",
              "          + ' to learn more about interactive tables.';\n",
              "        element.innerHTML = '';\n",
              "        dataTable['output_type'] = 'display_data';\n",
              "        await google.colab.output.renderOutput(dataTable, element);\n",
              "        const docLink = document.createElement('div');\n",
              "        docLink.innerHTML = docLinkHtml;\n",
              "        element.appendChild(docLink);\n",
              "      }\n",
              "    </script>\n",
              "  </div>\n",
              "\n",
              "\n",
              "    <div id=\"df-a9893b28-acca-423b-921d-006d845da51d\">\n",
              "      <button class=\"colab-df-quickchart\" onclick=\"quickchart('df-a9893b28-acca-423b-921d-006d845da51d')\"\n",
              "                title=\"Suggest charts\"\n",
              "                style=\"display:none;\">\n",
              "\n",
              "<svg xmlns=\"http://www.w3.org/2000/svg\" height=\"24px\"viewBox=\"0 0 24 24\"\n",
              "     width=\"24px\">\n",
              "    <g>\n",
              "        <path d=\"M19 3H5c-1.1 0-2 .9-2 2v14c0 1.1.9 2 2 2h14c1.1 0 2-.9 2-2V5c0-1.1-.9-2-2-2zM9 17H7v-7h2v7zm4 0h-2V7h2v10zm4 0h-2v-4h2v4z\"/>\n",
              "    </g>\n",
              "</svg>\n",
              "      </button>\n",
              "\n",
              "<style>\n",
              "  .colab-df-quickchart {\n",
              "      --bg-color: #E8F0FE;\n",
              "      --fill-color: #1967D2;\n",
              "      --hover-bg-color: #E2EBFA;\n",
              "      --hover-fill-color: #174EA6;\n",
              "      --disabled-fill-color: #AAA;\n",
              "      --disabled-bg-color: #DDD;\n",
              "  }\n",
              "\n",
              "  [theme=dark] .colab-df-quickchart {\n",
              "      --bg-color: #3B4455;\n",
              "      --fill-color: #D2E3FC;\n",
              "      --hover-bg-color: #434B5C;\n",
              "      --hover-fill-color: #FFFFFF;\n",
              "      --disabled-bg-color: #3B4455;\n",
              "      --disabled-fill-color: #666;\n",
              "  }\n",
              "\n",
              "  .colab-df-quickchart {\n",
              "    background-color: var(--bg-color);\n",
              "    border: none;\n",
              "    border-radius: 50%;\n",
              "    cursor: pointer;\n",
              "    display: none;\n",
              "    fill: var(--fill-color);\n",
              "    height: 32px;\n",
              "    padding: 0;\n",
              "    width: 32px;\n",
              "  }\n",
              "\n",
              "  .colab-df-quickchart:hover {\n",
              "    background-color: var(--hover-bg-color);\n",
              "    box-shadow: 0 1px 2px rgba(60, 64, 67, 0.3), 0 1px 3px 1px rgba(60, 64, 67, 0.15);\n",
              "    fill: var(--button-hover-fill-color);\n",
              "  }\n",
              "\n",
              "  .colab-df-quickchart-complete:disabled,\n",
              "  .colab-df-quickchart-complete:disabled:hover {\n",
              "    background-color: var(--disabled-bg-color);\n",
              "    fill: var(--disabled-fill-color);\n",
              "    box-shadow: none;\n",
              "  }\n",
              "\n",
              "  .colab-df-spinner {\n",
              "    border: 2px solid var(--fill-color);\n",
              "    border-color: transparent;\n",
              "    border-bottom-color: var(--fill-color);\n",
              "    animation:\n",
              "      spin 1s steps(1) infinite;\n",
              "  }\n",
              "\n",
              "  @keyframes spin {\n",
              "    0% {\n",
              "      border-color: transparent;\n",
              "      border-bottom-color: var(--fill-color);\n",
              "      border-left-color: var(--fill-color);\n",
              "    }\n",
              "    20% {\n",
              "      border-color: transparent;\n",
              "      border-left-color: var(--fill-color);\n",
              "      border-top-color: var(--fill-color);\n",
              "    }\n",
              "    30% {\n",
              "      border-color: transparent;\n",
              "      border-left-color: var(--fill-color);\n",
              "      border-top-color: var(--fill-color);\n",
              "      border-right-color: var(--fill-color);\n",
              "    }\n",
              "    40% {\n",
              "      border-color: transparent;\n",
              "      border-right-color: var(--fill-color);\n",
              "      border-top-color: var(--fill-color);\n",
              "    }\n",
              "    60% {\n",
              "      border-color: transparent;\n",
              "      border-right-color: var(--fill-color);\n",
              "    }\n",
              "    80% {\n",
              "      border-color: transparent;\n",
              "      border-right-color: var(--fill-color);\n",
              "      border-bottom-color: var(--fill-color);\n",
              "    }\n",
              "    90% {\n",
              "      border-color: transparent;\n",
              "      border-bottom-color: var(--fill-color);\n",
              "    }\n",
              "  }\n",
              "</style>\n",
              "\n",
              "      <script>\n",
              "        async function quickchart(key) {\n",
              "          const quickchartButtonEl =\n",
              "            document.querySelector('#' + key + ' button');\n",
              "          quickchartButtonEl.disabled = true;  // To prevent multiple clicks.\n",
              "          quickchartButtonEl.classList.add('colab-df-spinner');\n",
              "          try {\n",
              "            const charts = await google.colab.kernel.invokeFunction(\n",
              "                'suggestCharts', [key], {});\n",
              "          } catch (error) {\n",
              "            console.error('Error during call to suggestCharts:', error);\n",
              "          }\n",
              "          quickchartButtonEl.classList.remove('colab-df-spinner');\n",
              "          quickchartButtonEl.classList.add('colab-df-quickchart-complete');\n",
              "        }\n",
              "        (() => {\n",
              "          let quickchartButtonEl =\n",
              "            document.querySelector('#df-a9893b28-acca-423b-921d-006d845da51d button');\n",
              "          quickchartButtonEl.style.display =\n",
              "            google.colab.kernel.accessAllowed ? 'block' : 'none';\n",
              "        })();\n",
              "      </script>\n",
              "    </div>\n",
              "\n",
              "    </div>\n",
              "  </div>\n"
            ],
            "application/vnd.google.colaboratory.intrinsic+json": {
              "type": "dataframe",
              "summary": "{\n  \"name\": \"data['immunoMICRO-TUNEL']\",\n  \"rows\": 5,\n  \"fields\": [\n    {\n      \"column\": \"Sample_Name\",\n      \"properties\": {\n        \"dtype\": \"string\",\n        \"num_unique_values\": 5,\n        \"samples\": [\n          \"F16_Mouse_Eye\",\n          \"F19_Mouse_Eye\",\n          \"F17_Mouse_Eye\"\n        ],\n        \"semantic_type\": \"\",\n        \"description\": \"\"\n      }\n    },\n    {\n      \"column\": \"Total\",\n      \"properties\": {\n        \"dtype\": \"number\",\n        \"std\": 15,\n        \"min\": 151,\n        \"max\": 193,\n        \"num_unique_values\": 5,\n        \"samples\": [\n          174,\n          151,\n          170\n        ],\n        \"semantic_type\": \"\",\n        \"description\": \"\"\n      }\n    },\n    {\n      \"column\": \"Total_EC\",\n      \"properties\": {\n        \"dtype\": \"number\",\n        \"std\": 19,\n        \"min\": 32,\n        \"max\": 76,\n        \"num_unique_values\": 5,\n        \"samples\": [\n          70,\n          32,\n          61\n        ],\n        \"semantic_type\": \"\",\n        \"description\": \"\"\n      }\n    },\n    {\n      \"column\": \"Total_Area\",\n      \"properties\": {\n        \"dtype\": \"number\",\n        \"std\": 0.05299019302732024,\n        \"min\": 1.051339039,\n        \"max\": 1.173785313,\n        \"num_unique_values\": 5,\n        \"samples\": [\n          1.054249396,\n          1.051339039,\n          1.074498926\n        ],\n        \"semantic_type\": \"\",\n        \"description\": \"\"\n      }\n    },\n    {\n      \"column\": \"Density\",\n      \"properties\": {\n        \"dtype\": \"number\",\n        \"std\": 13.070563949464123,\n        \"min\": 141.4227953,\n        \"max\": 171.2009863,\n        \"num_unique_values\": 5,\n        \"samples\": [\n          165.0463359,\n          143.6263607,\n          158.2132806\n        ],\n        \"semantic_type\": \"\",\n        \"description\": \"\"\n      }\n    },\n    {\n      \"column\": \"Density_EC\",\n      \"properties\": {\n        \"dtype\": \"number\",\n        \"std\": 17.87812463210308,\n        \"min\": 30.43737445,\n        \"max\": 67.41593244,\n        \"num_unique_values\": 5,\n        \"samples\": [\n          66.39795124,\n          30.43737445,\n          56.77064774\n        ],\n        \"semantic_type\": \"\",\n        \"description\": \"\"\n      }\n    }\n  ]\n}"
            }
          },
          "metadata": {},
          "execution_count": 20
        }
      ],
      "source": [
        "data['immunoMICRO-TUNEL'] = m.read_phenotype_data('568', 'LSDS-5_immunostaining_microscopy_TUNELtr_TRANSFORMED')\n",
        "print('number of samples: ', len(list(data['immunoMICRO-TUNEL']['Sample_Name'])))\n",
        "print('samples: ', list(data['immunoMICRO-TUNEL']['Sample_Name']))\n",
        "data['immunoMICRO-TUNEL'].head()"
      ]
    },
    {
      "cell_type": "code",
      "source": [
        "m.plotbox_and_stats(data_=data['immunoMICRO-TUNEL'], sample_key = 'Sample_Name', field='Density_EC', treatment=None, space=None, exclude_samples=[])"
      ],
      "metadata": {
        "id": "bqYh-kGxIWfs",
        "colab": {
          "base_uri": "https://localhost:8080/",
          "height": 589
        },
        "outputId": "5d507a42-5a24-44fb-b7db-8ee7a75e173a"
      },
      "execution_count": null,
      "outputs": [
        {
          "output_type": "stream",
          "name": "stdout",
          "text": [
            "field:  Density_EC\n",
            "excluding samples:  []\n",
            "{'Density_EC': {'t-test p-value': 0.01726}}\n",
            "n flight =  6\n",
            "n nonflight =  17\n"
          ]
        },
        {
          "output_type": "display_data",
          "data": {
            "text/plain": [
              "<Figure size 640x480 with 1 Axes>"
            ],
            "image/png": "[encoded data removed]"
          },
          "metadata": {}
        }
      ]
    },
    {
      "cell_type": "markdown",
      "metadata": {
        "id": "6v3fJsBE6kwA"
      },
      "source": [
        "## **Explore the PECAM data**\n",
        "Read in data for OSD-568 (LSDS-5_immunostaining_microscopy_PECAMtr TRANSFORMED.csv) and plot box plot of immunostaining microscopy PECAM Average field for flight and non-flight ssamples\n",
        "\n"
      ]
    },
    {
      "cell_type": "code",
      "execution_count": null,
      "metadata": {
        "id": "Zif5d_NO1t2U",
        "colab": {
          "base_uri": "https://localhost:8080/",
          "height": 260
        },
        "outputId": "500743b1-53d9-4535-c86c-4bb5df4b9869"
      },
      "outputs": [
        {
          "output_type": "stream",
          "name": "stdout",
          "text": [
            "number of samples:  11\n",
            "samples:  ['F15_Mouse_Eye', 'F16_Mouse_Eye', 'F17_Mouse_Eye', 'F18_Mouse_Eye', 'F19_Mouse_Eye', 'F20_Mouse_Eye', 'GC15_Mouse_Eye', 'GC16_Mouse_Eye', 'GC17_Mouse_Eye', 'GC18_Mouse_Eye', 'GC19_Mouse_Eye']\n"
          ]
        },
        {
          "output_type": "execute_result",
          "data": {
            "text/plain": [
              "     Sample_Name  Average\n",
              "0  F15_Mouse_Eye  45.0098\n",
              "1  F16_Mouse_Eye  53.9888\n",
              "2  F17_Mouse_Eye  37.0548\n",
              "3  F18_Mouse_Eye  67.0988\n",
              "4  F19_Mouse_Eye  49.7456"
            ],
            "text/html": [
              "\n",
              "  <div id=\"df-0ded671a-53a6-4eb9-83ea-f8182e216820\" class=\"colab-df-container\">\n",
              "    <div>\n",
              "<style scoped>\n",
              "    .dataframe tbody tr th:only-of-type {\n",
              "        vertical-align: middle;\n",
              "    }\n",
              "\n",
              "    .dataframe tbody tr th {\n",
              "        vertical-align: top;\n",
              "    }\n",
              "\n",
              "    .dataframe thead th {\n",
              "        text-align: right;\n",
              "    }\n",
              "</style>\n",
              "<table border=\"1\" class=\"dataframe\">\n",
              "  <thead>\n",
              "    <tr style=\"text-align: right;\">\n",
              "      <th></th>\n",
              "      <th>Sample_Name</th>\n",
              "      <th>Average</th>\n",
              "    </tr>\n",
              "  </thead>\n",
              "  <tbody>\n",
              "    <tr>\n",
              "      <th>0</th>\n",
              "      <td>F15_Mouse_Eye</td>\n",
              "      <td>45.0098</td>\n",
              "    </tr>\n",
              "    <tr>\n",
              "      <th>1</th>\n",
              "      <td>F16_Mouse_Eye</td>\n",
              "      <td>53.9888</td>\n",
              "    </tr>\n",
              "    <tr>\n",
              "      <th>2</th>\n",
              "      <td>F17_Mouse_Eye</td>\n",
              "      <td>37.0548</td>\n",
              "    </tr>\n",
              "    <tr>\n",
              "      <th>3</th>\n",
              "      <td>F18_Mouse_Eye</td>\n",
              "      <td>67.0988</td>\n",
              "    </tr>\n",
              "    <tr>\n",
              "      <th>4</th>\n",
              "      <td>F19_Mouse_Eye</td>\n",
              "      <td>49.7456</td>\n",
              "    </tr>\n",
              "  </tbody>\n",
              "</table>\n",
              "</div>\n",
              "    <div class=\"colab-df-buttons\">\n",
              "\n",
              "  <div class=\"colab-df-container\">\n",
              "    <button class=\"colab-df-convert\" onclick=\"convertToInteractive('df-0ded671a-53a6-4eb9-83ea-f8182e216820')\"\n",
              "            title=\"Convert this dataframe to an interactive table.\"\n",
              "            style=\"display:none;\">\n",
              "\n",
              "  <svg xmlns=\"http://www.w3.org/2000/svg\" height=\"24px\" viewBox=\"0 -960 960 960\">\n",
              "    <path d=\"M120-120v-720h720v720H120Zm60-500h600v-160H180v160Zm220 220h160v-160H400v160Zm0 220h160v-160H400v160ZM180-400h160v-160H180v160Zm440 0h160v-160H620v160ZM180-180h160v-160H180v160Zm440 0h160v-160H620v160Z\"/>\n",
              "  </svg>\n",
              "    </button>\n",
              "\n",
              "  <style>\n",
              "    .colab-df-container {\n",
              "      display:flex;\n",
              "      gap: 12px;\n",
              "    }\n",
              "\n",
              "    .colab-df-convert {\n",
              "      background-color: #E8F0FE;\n",
              "      border: none;\n",
              "      border-radius: 50%;\n",
              "      cursor: pointer;\n",
              "      display: none;\n",
              "      fill: #1967D2;\n",
              "      height: 32px;\n",
              "      padding: 0 0 0 0;\n",
              "      width: 32px;\n",
              "    }\n",
              "\n",
              "    .colab-df-convert:hover {\n",
              "      background-color: #E2EBFA;\n",
              "      box-shadow: 0px 1px 2px rgba(60, 64, 67, 0.3), 0px 1px 3px 1px rgba(60, 64, 67, 0.15);\n",
              "      fill: #174EA6;\n",
              "    }\n",
              "\n",
              "    .colab-df-buttons div {\n",
              "      margin-bottom: 4px;\n",
              "    }\n",
              "\n",
              "    [theme=dark] .colab-df-convert {\n",
              "      background-color: #3B4455;\n",
              "      fill: #D2E3FC;\n",
              "    }\n",
              "\n",
              "    [theme=dark] .colab-df-convert:hover {\n",
              "      background-color: #434B5C;\n",
              "      box-shadow: 0px 1px 3px 1px rgba(0, 0, 0, 0.15);\n",
              "      filter: drop-shadow(0px 1px 2px rgba(0, 0, 0, 0.3));\n",
              "      fill: #FFFFFF;\n",
              "    }\n",
              "  </style>\n",
              "\n",
              "    <script>\n",
              "      const buttonEl =\n",
              "        document.querySelector('#df-0ded671a-53a6-4eb9-83ea-f8182e216820 button.colab-df-convert');\n",
              "      buttonEl.style.display =\n",
              "        google.colab.kernel.accessAllowed ? 'block' : 'none';\n",
              "\n",
              "      async function convertToInteractive(key) {\n",
              "        const element = document.querySelector('#df-0ded671a-53a6-4eb9-83ea-f8182e216820');\n",
              "        const dataTable =\n",
              "          await google.colab.kernel.invokeFunction('convertToInteractive',\n",
              "                                                    [key], {});\n",
              "        if (!dataTable) return;\n",
              "\n",
              "        const docLinkHtml = 'Like what you see? Visit the ' +\n",
              "          '<a target=\"_blank\" href=https://colab.research.google.com/notebooks/data_table.ipynb>data table notebook</a>'\n",
              "          + ' to learn more about interactive tables.';\n",
              "        element.innerHTML = '';\n",
              "        dataTable['output_type'] = 'display_data';\n",
              "        await google.colab.output.renderOutput(dataTable, element);\n",
              "        const docLink = document.createElement('div');\n",
              "        docLink.innerHTML = docLinkHtml;\n",
              "        element.appendChild(docLink);\n",
              "      }\n",
              "    </script>\n",
              "  </div>\n",
              "\n",
              "\n",
              "    <div id=\"df-4ee5a9be-9f85-4b4f-aab8-f38edef8f625\">\n",
              "      <button class=\"colab-df-quickchart\" onclick=\"quickchart('df-4ee5a9be-9f85-4b4f-aab8-f38edef8f625')\"\n",
              "                title=\"Suggest charts\"\n",
              "                style=\"display:none;\">\n",
              "\n",
              "<svg xmlns=\"http://www.w3.org/2000/svg\" height=\"24px\"viewBox=\"0 0 24 24\"\n",
              "     width=\"24px\">\n",
              "    <g>\n",
              "        <path d=\"M19 3H5c-1.1 0-2 .9-2 2v14c0 1.1.9 2 2 2h14c1.1 0 2-.9 2-2V5c0-1.1-.9-2-2-2zM9 17H7v-7h2v7zm4 0h-2V7h2v10zm4 0h-2v-4h2v4z\"/>\n",
              "    </g>\n",
              "</svg>\n",
              "      </button>\n",
              "\n",
              "<style>\n",
              "  .colab-df-quickchart {\n",
              "      --bg-color: #E8F0FE;\n",
              "      --fill-color: #1967D2;\n",
              "      --hover-bg-color: #E2EBFA;\n",
              "      --hover-fill-color: #174EA6;\n",
              "      --disabled-fill-color: #AAA;\n",
              "      --disabled-bg-color: #DDD;\n",
              "  }\n",
              "\n",
              "  [theme=dark] .colab-df-quickchart {\n",
              "      --bg-color: #3B4455;\n",
              "      --fill-color: #D2E3FC;\n",
              "      --hover-bg-color: #434B5C;\n",
              "      --hover-fill-color: #FFFFFF;\n",
              "      --disabled-bg-color: #3B4455;\n",
              "      --disabled-fill-color: #666;\n",
              "  }\n",
              "\n",
              "  .colab-df-quickchart {\n",
              "    background-color: var(--bg-color);\n",
              "    border: none;\n",
              "    border-radius: 50%;\n",
              "    cursor: pointer;\n",
              "    display: none;\n",
              "    fill: var(--fill-color);\n",
              "    height: 32px;\n",
              "    padding: 0;\n",
              "    width: 32px;\n",
              "  }\n",
              "\n",
              "  .colab-df-quickchart:hover {\n",
              "    background-color: var(--hover-bg-color);\n",
              "    box-shadow: 0 1px 2px rgba(60, 64, 67, 0.3), 0 1px 3px 1px rgba(60, 64, 67, 0.15);\n",
              "    fill: var(--button-hover-fill-color);\n",
              "  }\n",
              "\n",
              "  .colab-df-quickchart-complete:disabled,\n",
              "  .colab-df-quickchart-complete:disabled:hover {\n",
              "    background-color: var(--disabled-bg-color);\n",
              "    fill: var(--disabled-fill-color);\n",
              "    box-shadow: none;\n",
              "  }\n",
              "\n",
              "  .colab-df-spinner {\n",
              "    border: 2px solid var(--fill-color);\n",
              "    border-color: transparent;\n",
              "    border-bottom-color: var(--fill-color);\n",
              "    animation:\n",
              "      spin 1s steps(1) infinite;\n",
              "  }\n",
              "\n",
              "  @keyframes spin {\n",
              "    0% {\n",
              "      border-color: transparent;\n",
              "      border-bottom-color: var(--fill-color);\n",
              "      border-left-color: var(--fill-color);\n",
              "    }\n",
              "    20% {\n",
              "      border-color: transparent;\n",
              "      border-left-color: var(--fill-color);\n",
              "      border-top-color: var(--fill-color);\n",
              "    }\n",
              "    30% {\n",
              "      border-color: transparent;\n",
              "      border-left-color: var(--fill-color);\n",
              "      border-top-color: var(--fill-color);\n",
              "      border-right-color: var(--fill-color);\n",
              "    }\n",
              "    40% {\n",
              "      border-color: transparent;\n",
              "      border-right-color: var(--fill-color);\n",
              "      border-top-color: var(--fill-color);\n",
              "    }\n",
              "    60% {\n",
              "      border-color: transparent;\n",
              "      border-right-color: var(--fill-color);\n",
              "    }\n",
              "    80% {\n",
              "      border-color: transparent;\n",
              "      border-right-color: var(--fill-color);\n",
              "      border-bottom-color: var(--fill-color);\n",
              "    }\n",
              "    90% {\n",
              "      border-color: transparent;\n",
              "      border-bottom-color: var(--fill-color);\n",
              "    }\n",
              "  }\n",
              "</style>\n",
              "\n",
              "      <script>\n",
              "        async function quickchart(key) {\n",
              "          const quickchartButtonEl =\n",
              "            document.querySelector('#' + key + ' button');\n",
              "          quickchartButtonEl.disabled = true;  // To prevent multiple clicks.\n",
              "          quickchartButtonEl.classList.add('colab-df-spinner');\n",
              "          try {\n",
              "            const charts = await google.colab.kernel.invokeFunction(\n",
              "                'suggestCharts', [key], {});\n",
              "          } catch (error) {\n",
              "            console.error('Error during call to suggestCharts:', error);\n",
              "          }\n",
              "          quickchartButtonEl.classList.remove('colab-df-spinner');\n",
              "          quickchartButtonEl.classList.add('colab-df-quickchart-complete');\n",
              "        }\n",
              "        (() => {\n",
              "          let quickchartButtonEl =\n",
              "            document.querySelector('#df-4ee5a9be-9f85-4b4f-aab8-f38edef8f625 button');\n",
              "          quickchartButtonEl.style.display =\n",
              "            google.colab.kernel.accessAllowed ? 'block' : 'none';\n",
              "        })();\n",
              "      </script>\n",
              "    </div>\n",
              "\n",
              "    </div>\n",
              "  </div>\n"
            ],
            "application/vnd.google.colaboratory.intrinsic+json": {
              "type": "dataframe",
              "summary": "{\n  \"name\": \"data['immunoMICRO-PECAM']\",\n  \"rows\": 5,\n  \"fields\": [\n    {\n      \"column\": \"Sample_Name\",\n      \"properties\": {\n        \"dtype\": \"string\",\n        \"num_unique_values\": 5,\n        \"samples\": [\n          \"F16_Mouse_Eye\",\n          \"F19_Mouse_Eye\",\n          \"F17_Mouse_Eye\"\n        ],\n        \"semantic_type\": \"\",\n        \"description\": \"\"\n      }\n    },\n    {\n      \"column\": \"Average\",\n      \"properties\": {\n        \"dtype\": \"number\",\n        \"std\": 11.170777237417276,\n        \"min\": 37.0548,\n        \"max\": 67.0988,\n        \"num_unique_values\": 5,\n        \"samples\": [\n          53.9888,\n          49.7456,\n          37.0548\n        ],\n        \"semantic_type\": \"\",\n        \"description\": \"\"\n      }\n    }\n  ]\n}"
            }
          },
          "metadata": {},
          "execution_count": 22
        }
      ],
      "source": [
        "data['immunoMICRO-PECAM'] = m.read_phenotype_data('568', 'LSDS-5_immunostaining_microscopy_PECAMtr_TRANSFORMED')\n",
        "print('number of samples: ', len(list(data['immunoMICRO-PECAM']['Sample_Name'])))\n",
        "print('samples: ', list(data['immunoMICRO-PECAM']['Sample_Name']))\n",
        "data['immunoMICRO-PECAM'].head()"
      ]
    },
    {
      "cell_type": "code",
      "execution_count": null,
      "metadata": {
        "id": "mK9BStXA6z4Y",
        "colab": {
          "base_uri": "https://localhost:8080/",
          "height": 578
        },
        "outputId": "47db42bc-a239-43be-c9e2-ccd08abd00df"
      },
      "outputs": [
        {
          "output_type": "stream",
          "name": "stdout",
          "text": [
            "field:  Average\n",
            "excluding samples:  []\n",
            "{'Average': {'t-test p-value': 0.02146}}\n",
            "n flight =  6\n",
            "n nonflight =  5\n"
          ]
        },
        {
          "output_type": "display_data",
          "data": {
            "text/plain": [
              "<Figure size 640x480 with 1 Axes>"
            ],
            "image/png": "[encoded data removed]"
          },
          "metadata": {}
        }
      ],
      "source": [
        "m.plotbox_and_stats(data_=data['immunoMICRO-PECAM'], sample_key = 'Sample_Name', field='Average', treatment=None, space=None, exclude_samples=[])"
      ]
    },
    {
      "cell_type": "markdown",
      "metadata": {
        "id": "8-UT5MXGV9Uw"
      },
      "source": [
        "**QUESTIONS**\n",
        "\n",
        "1. How many samples have measurements for immunostaining microscopy TUNELtr? For immunostaining microscopy PECAMtr?\n",
        "\n",
        "2. Which datasets have the largest distinction (smallest p-values) between flight and non-flight samples?\n",
        "\n",
        "3. What does it mean if a set of samples (either spaceflight or ground control) has, on average, higher values for TUNEL? For PECAM?"
      ]
    },
    {
      "cell_type": "markdown",
      "metadata": {
        "id": "9qqcxLav6U6o"
      },
      "source": [
        "**Double click here to enter your answers to the questions above.**\n",
        "\n",
        "1.23 for PECAM, 11 for TUNEL\n",
        "\n",
        "2.TUNEL shows larger distribution between flight and non flight\n",
        "\n",
        "3. Higher TUNEL indicates more apoptotic cells in the tissue, higher PECAM indicates grater endothelial cell marker presence / vascular changes."
      ]
    },
    {
      "cell_type": "markdown",
      "metadata": {
        "id": "LmNxaFUbABYs"
      },
      "source": [
        "# **OSD-583 Data Exploration**"
      ]
    },
    {
      "cell_type": "markdown",
      "metadata": {
        "id": "PjqypwuHo_fI"
      },
      "source": [
        "Tonometry is the procedure eye care professionals perform to determine the intraocular pressure (IOP), the fluid pressure inside the eye. It is an important test in the evaluation of patients at risk from glaucoma. Most tonometers are calibrated to measure pressure in millimeters of mercury (mmHg), with the normal eye pressure range between 10 and 21 mmHg (13–28 hPa). Rebound tonometers determine intraocular pressure by bouncing a small plastic tipped metal probe against the cornea. As the probe bounces against the cornea and back into the device, it creates an induction current from which the intraocular pressure is calculated. The device is simple and easy to use and self-use versions are available. It is portable, does not require the use of eye drops and is particularly suitable for children and non-cooperative patients like mice.\n",
        "\n",
        "![](https://www.phenogenomics.cz/files/2021/08/picture-2.jpg)\n",
        "\n",
        "[The OSD-583 dataset ](https://osdr.nasa.gov/bio/repo/data/studies/OSD-583) provides measurements for [intra-ocular pressure](https://en.wikipedia.org/wiki/Intraocular_pressure) (IOP). Repeated intraocular pressure (IOP) measurements were performed before the flight launch and re-measured before the mice were euthanized after splashdown. Measurements of IOP using the rebound tonometer appeared to be well tolerated by the mice. The animals exhibited no signs of irritation or discomfort during the procedure. Sequential measurements were made to obtain an average of the counts as a single IOP readout for each mouse. This process was repeated three times for each eye.\n"
      ]
    },
    {
      "cell_type": "markdown",
      "metadata": {
        "id": "vdGKLF1p0mMT"
      },
      "source": [
        "\n",
        "\n",
        "\n",
        "Read in tonometry transformed data\n"
      ]
    },
    {
      "cell_type": "code",
      "execution_count": null,
      "metadata": {
        "id": "SARBFRrB-oG1",
        "colab": {
          "base_uri": "https://localhost:8080/",
          "height": 295
        },
        "outputId": "7a70cc31-30a7-4ecb-bb50-c7a94fb7f1e9"
      },
      "outputs": [
        {
          "output_type": "stream",
          "name": "stdout",
          "text": [
            "num samples:  100\n",
            "samples:  ['F1_Mouse_Eye', 'F2_Mouse_Eye', 'F3_Mouse_Eye', 'F4_Mouse_Eye', 'F5_Mouse_Eye', 'F6_Mouse_Eye', 'F7_Mouse_Eye', 'F8_Mouse_Eye', 'F9_Mouse_Eye', 'F10_Mouse_Eye', 'F11_Mouse_Eye', 'F12_Mouse_Eye', 'F13_Mouse_Eye', 'F14_Mouse_Eye', 'F15_Mouse_Eye', 'F16_Mouse_Eye', 'F17_Mouse_Eye', 'F18_Mouse_Eye', 'F19_Mouse_Eye', 'F20_Mouse_Eye', 'FViv1_CC1_Mouse_Eye', 'FViv2_CC1_Mouse_Eye', 'FViv3_CC1_Mouse_Eye', 'FViv4_CC1_Mouse_Eye', 'FViv5_CC1_Mouse_Eye', 'FViv6_CC1_Mouse_Eye', 'FViv7_CC1_Mouse_Eye', 'FViv8_CC1_Mouse_Eye', 'FViv9_CC1_Mouse_Eye', 'FViv10_CC1_Mouse_Eye', 'FViv11_CC1_Mouse_Eye', 'FViv12_CC1_Mouse_Eye', 'FViv13_CC1_Mouse_Eye', 'FViv14_CC1_Mouse_Eye', 'FViv15_CC1_Mouse_Eye', 'FViv16_CC1_Mouse_Eye', 'FViv17_CC1_Mouse_Eye', 'FViv18_CC1_Mouse_Eye', 'FViv19_CC1_Mouse_Eye', 'FViv20_CC1_Mouse_Eye', 'GC1_Mouse_Eye', 'GC2_Mouse_Eye', 'GC3_Mouse_Eye', 'GC4_Mouse_Eye', 'GC5_Mouse_Eye', 'GC6_Mouse_Eye', 'GC7_Mouse_Eye', 'GC8_Mouse_Eye', 'GC9_Mouse_Eye', 'GC10_Mouse_Eye', 'GC11_Mouse_Eye', 'GC12_Mouse_Eye', 'GC13_Mouse_Eye', 'GC14_Mouse_Eye', 'GC15_Mouse_Eye', 'GC16_Mouse_Eye', 'GC17_Mouse_Eye', 'GC18_Mouse_Eye', 'GC19_Mouse_Eye', 'GC20_Mouse_Eye', 'Viv1_Mouse_Eye', 'Viv2_Mouse_Eye', 'Viv3_Mouse_Eye', 'Viv4_Mouse_Eye', 'Viv5_Mouse_Eye', 'Viv6_Mouse_Eye', 'Viv7_Mouse_Eye', 'Viv8_Mouse_Eye', 'Viv9_Mouse_Eye', 'Viv10_Mouse_Eye', 'Viv11_Mouse_Eye', 'Viv12_Mouse_Eye', 'Viv13_Mouse_Eye', 'Viv14_Mouse_Eye', 'Viv15_Mouse_Eye', 'Viv16_Mouse_Eye', 'Viv17_Mouse_Eye', 'Viv18_Mouse_Eye', 'Viv19_Mouse_Eye', 'Viv20_Mouse_Eye', 'CC2_1_Mouse_Eye', 'CC2_2_Mouse_Eye', 'CC2_3_Mouse_Eye', 'CC2_4_Mouse_Eye', 'CC2_5_Mouse_Eye', 'CC2_6_Mouse_Eye', 'CC2_7_Mouse_Eye', 'CC2_8_Mouse_Eye', 'CC2_9_Mouse_Eye', 'CC2_10_Mouse_Eye', 'CC2_11_Mouse_Eye', 'CC2_12_Mouse_Eye', 'CC2_13_Mouse_Eye', 'CC2_14_Mouse_Eye', 'CC2_15_Mouse_Eye', 'CC2_16_Mouse_Eye', 'CC2_17_Mouse_Eye', 'CC2_18_Mouse_Eye', 'CC2_19_Mouse_Eye', 'CC2_20_Mouse_Eye']\n"
          ]
        },
        {
          "output_type": "execute_result",
          "data": {
            "text/plain": [
              "  Source Name   Sample Name Factor Value: Spaceflight  Left_1  Left_2  Left_3  \\\n",
              "0          F1  F1_Mouse_Eye              Space Flight      19      16      18   \n",
              "1          F2  F2_Mouse_Eye              Space Flight      17      16      16   \n",
              "2          F3  F3_Mouse_Eye              Space Flight      16      18      15   \n",
              "3          F4  F4_Mouse_Eye              Space Flight      18      15      16   \n",
              "4          F5  F5_Mouse_Eye              Space Flight      18      18      16   \n",
              "\n",
              "    Avg_Left  Right_1  Right_2  Right_3  Avg_Right time_Start Time_End  \n",
              "0  17.666667       18       18       15  17.000000       2:46     2:48  \n",
              "1  16.333333       16       16       15  15.666667       2:55     2:58  \n",
              "2  16.333333       17       19       17  17.666667       2:32     2:34  \n",
              "3  16.333333       18       16       15  16.333333       2:15     2:17  \n",
              "4  17.333333       14       16       14  14.666667       2:20     2:22  "
            ],
            "text/html": [
              "\n",
              "  <div id=\"df-5114f726-acc2-4ccd-b30b-3b8aa4f55f8f\" class=\"colab-df-container\">\n",
              "    <div>\n",
              "<style scoped>\n",
              "    .dataframe tbody tr th:only-of-type {\n",
              "        vertical-align: middle;\n",
              "    }\n",
              "\n",
              "    .dataframe tbody tr th {\n",
              "        vertical-align: top;\n",
              "    }\n",
              "\n",
              "    .dataframe thead th {\n",
              "        text-align: right;\n",
              "    }\n",
              "</style>\n",
              "<table border=\"1\" class=\"dataframe\">\n",
              "  <thead>\n",
              "    <tr style=\"text-align: right;\">\n",
              "      <th></th>\n",
              "      <th>Source Name</th>\n",
              "      <th>Sample Name</th>\n",
              "      <th>Factor Value: Spaceflight</th>\n",
              "      <th>Left_1</th>\n",
              "      <th>Left_2</th>\n",
              "      <th>Left_3</th>\n",
              "      <th>Avg_Left</th>\n",
              "      <th>Right_1</th>\n",
              "      <th>Right_2</th>\n",
              "      <th>Right_3</th>\n",
              "      <th>Avg_Right</th>\n",
              "      <th>time_Start</th>\n",
              "      <th>Time_End</th>\n",
              "    </tr>\n",
              "  </thead>\n",
              "  <tbody>\n",
              "    <tr>\n",
              "      <th>0</th>\n",
              "      <td>F1</td>\n",
              "      <td>F1_Mouse_Eye</td>\n",
              "      <td>Space Flight</td>\n",
              "      <td>19</td>\n",
              "      <td>16</td>\n",
              "      <td>18</td>\n",
              "      <td>17.666667</td>\n",
              "      <td>18</td>\n",
              "      <td>18</td>\n",
              "      <td>15</td>\n",
              "      <td>17.000000</td>\n",
              "      <td>2:46</td>\n",
              "      <td>2:48</td>\n",
              "    </tr>\n",
              "    <tr>\n",
              "      <th>1</th>\n",
              "      <td>F2</td>\n",
              "      <td>F2_Mouse_Eye</td>\n",
              "      <td>Space Flight</td>\n",
              "      <td>17</td>\n",
              "      <td>16</td>\n",
              "      <td>16</td>\n",
              "      <td>16.333333</td>\n",
              "      <td>16</td>\n",
              "      <td>16</td>\n",
              "      <td>15</td>\n",
              "      <td>15.666667</td>\n",
              "      <td>2:55</td>\n",
              "      <td>2:58</td>\n",
              "    </tr>\n",
              "    <tr>\n",
              "      <th>2</th>\n",
              "      <td>F3</td>\n",
              "      <td>F3_Mouse_Eye</td>\n",
              "      <td>Space Flight</td>\n",
              "      <td>16</td>\n",
              "      <td>18</td>\n",
              "      <td>15</td>\n",
              "      <td>16.333333</td>\n",
              "      <td>17</td>\n",
              "      <td>19</td>\n",
              "      <td>17</td>\n",
              "      <td>17.666667</td>\n",
              "      <td>2:32</td>\n",
              "      <td>2:34</td>\n",
              "    </tr>\n",
              "    <tr>\n",
              "      <th>3</th>\n",
              "      <td>F4</td>\n",
              "      <td>F4_Mouse_Eye</td>\n",
              "      <td>Space Flight</td>\n",
              "      <td>18</td>\n",
              "      <td>15</td>\n",
              "      <td>16</td>\n",
              "      <td>16.333333</td>\n",
              "      <td>18</td>\n",
              "      <td>16</td>\n",
              "      <td>15</td>\n",
              "      <td>16.333333</td>\n",
              "      <td>2:15</td>\n",
              "      <td>2:17</td>\n",
              "    </tr>\n",
              "    <tr>\n",
              "      <th>4</th>\n",
              "      <td>F5</td>\n",
              "      <td>F5_Mouse_Eye</td>\n",
              "      <td>Space Flight</td>\n",
              "      <td>18</td>\n",
              "      <td>18</td>\n",
              "      <td>16</td>\n",
              "      <td>17.333333</td>\n",
              "      <td>14</td>\n",
              "      <td>16</td>\n",
              "      <td>14</td>\n",
              "      <td>14.666667</td>\n",
              "      <td>2:20</td>\n",
              "      <td>2:22</td>\n",
              "    </tr>\n",
              "  </tbody>\n",
              "</table>\n",
              "</div>\n",
              "    <div class=\"colab-df-buttons\">\n",
              "\n",
              "  <div class=\"colab-df-container\">\n",
              "    <button class=\"colab-df-convert\" onclick=\"convertToInteractive('df-5114f726-acc2-4ccd-b30b-3b8aa4f55f8f')\"\n",
              "            title=\"Convert this dataframe to an interactive table.\"\n",
              "            style=\"display:none;\">\n",
              "\n",
              "  <svg xmlns=\"http://www.w3.org/2000/svg\" height=\"24px\" viewBox=\"0 -960 960 960\">\n",
              "    <path d=\"M120-120v-720h720v720H120Zm60-500h600v-160H180v160Zm220 220h160v-160H400v160Zm0 220h160v-160H400v160ZM180-400h160v-160H180v160Zm440 0h160v-160H620v160ZM180-180h160v-160H180v160Zm440 0h160v-160H620v160Z\"/>\n",
              "  </svg>\n",
              "    </button>\n",
              "\n",
              "  <style>\n",
              "    .colab-df-container {\n",
              "      display:flex;\n",
              "      gap: 12px;\n",
              "    }\n",
              "\n",
              "    .colab-df-convert {\n",
              "      background-color: #E8F0FE;\n",
              "      border: none;\n",
              "      border-radius: 50%;\n",
              "      cursor: pointer;\n",
              "      display: none;\n",
              "      fill: #1967D2;\n",
              "      height: 32px;\n",
              "      padding: 0 0 0 0;\n",
              "      width: 32px;\n",
              "    }\n",
              "\n",
              "    .colab-df-convert:hover {\n",
              "      background-color: #E2EBFA;\n",
              "      box-shadow: 0px 1px 2px rgba(60, 64, 67, 0.3), 0px 1px 3px 1px rgba(60, 64, 67, 0.15);\n",
              "      fill: #174EA6;\n",
              "    }\n",
              "\n",
              "    .colab-df-buttons div {\n",
              "      margin-bottom: 4px;\n",
              "    }\n",
              "\n",
              "    [theme=dark] .colab-df-convert {\n",
              "      background-color: #3B4455;\n",
              "      fill: #D2E3FC;\n",
              "    }\n",
              "\n",
              "    [theme=dark] .colab-df-convert:hover {\n",
              "      background-color: #434B5C;\n",
              "      box-shadow: 0px 1px 3px 1px rgba(0, 0, 0, 0.15);\n",
              "      filter: drop-shadow(0px 1px 2px rgba(0, 0, 0, 0.3));\n",
              "      fill: #FFFFFF;\n",
              "    }\n",
              "  </style>\n",
              "\n",
              "    <script>\n",
              "      const buttonEl =\n",
              "        document.querySelector('#df-5114f726-acc2-4ccd-b30b-3b8aa4f55f8f button.colab-df-convert');\n",
              "      buttonEl.style.display =\n",
              "        google.colab.kernel.accessAllowed ? 'block' : 'none';\n",
              "\n",
              "      async function convertToInteractive(key) {\n",
              "        const element = document.querySelector('#df-5114f726-acc2-4ccd-b30b-3b8aa4f55f8f');\n",
              "        const dataTable =\n",
              "          await google.colab.kernel.invokeFunction('convertToInteractive',\n",
              "                                                    [key], {});\n",
              "        if (!dataTable) return;\n",
              "\n",
              "        const docLinkHtml = 'Like what you see? Visit the ' +\n",
              "          '<a target=\"_blank\" href=https://colab.research.google.com/notebooks/data_table.ipynb>data table notebook</a>'\n",
              "          + ' to learn more about interactive tables.';\n",
              "        element.innerHTML = '';\n",
              "        dataTable['output_type'] = 'display_data';\n",
              "        await google.colab.output.renderOutput(dataTable, element);\n",
              "        const docLink = document.createElement('div');\n",
              "        docLink.innerHTML = docLinkHtml;\n",
              "        element.appendChild(docLink);\n",
              "      }\n",
              "    </script>\n",
              "  </div>\n",
              "\n",
              "\n",
              "    <div id=\"df-e2142fd0-e8a5-41a3-a33f-c053372044be\">\n",
              "      <button class=\"colab-df-quickchart\" onclick=\"quickchart('df-e2142fd0-e8a5-41a3-a33f-c053372044be')\"\n",
              "                title=\"Suggest charts\"\n",
              "                style=\"display:none;\">\n",
              "\n",
              "<svg xmlns=\"http://www.w3.org/2000/svg\" height=\"24px\"viewBox=\"0 0 24 24\"\n",
              "     width=\"24px\">\n",
              "    <g>\n",
              "        <path d=\"M19 3H5c-1.1 0-2 .9-2 2v14c0 1.1.9 2 2 2h14c1.1 0 2-.9 2-2V5c0-1.1-.9-2-2-2zM9 17H7v-7h2v7zm4 0h-2V7h2v10zm4 0h-2v-4h2v4z\"/>\n",
              "    </g>\n",
              "</svg>\n",
              "      </button>\n",
              "\n",
              "<style>\n",
              "  .colab-df-quickchart {\n",
              "      --bg-color: #E8F0FE;\n",
              "      --fill-color: #1967D2;\n",
              "      --hover-bg-color: #E2EBFA;\n",
              "      --hover-fill-color: #174EA6;\n",
              "      --disabled-fill-color: #AAA;\n",
              "      --disabled-bg-color: #DDD;\n",
              "  }\n",
              "\n",
              "  [theme=dark] .colab-df-quickchart {\n",
              "      --bg-color: #3B4455;\n",
              "      --fill-color: #D2E3FC;\n",
              "      --hover-bg-color: #434B5C;\n",
              "      --hover-fill-color: #FFFFFF;\n",
              "      --disabled-bg-color: #3B4455;\n",
              "      --disabled-fill-color: #666;\n",
              "  }\n",
              "\n",
              "  .colab-df-quickchart {\n",
              "    background-color: var(--bg-color);\n",
              "    border: none;\n",
              "    border-radius: 50%;\n",
              "    cursor: pointer;\n",
              "    display: none;\n",
              "    fill: var(--fill-color);\n",
              "    height: 32px;\n",
              "    padding: 0;\n",
              "    width: 32px;\n",
              "  }\n",
              "\n",
              "  .colab-df-quickchart:hover {\n",
              "    background-color: var(--hover-bg-color);\n",
              "    box-shadow: 0 1px 2px rgba(60, 64, 67, 0.3), 0 1px 3px 1px rgba(60, 64, 67, 0.15);\n",
              "    fill: var(--button-hover-fill-color);\n",
              "  }\n",
              "\n",
              "  .colab-df-quickchart-complete:disabled,\n",
              "  .colab-df-quickchart-complete:disabled:hover {\n",
              "    background-color: var(--disabled-bg-color);\n",
              "    fill: var(--disabled-fill-color);\n",
              "    box-shadow: none;\n",
              "  }\n",
              "\n",
              "  .colab-df-spinner {\n",
              "    border: 2px solid var(--fill-color);\n",
              "    border-color: transparent;\n",
              "    border-bottom-color: var(--fill-color);\n",
              "    animation:\n",
              "      spin 1s steps(1) infinite;\n",
              "  }\n",
              "\n",
              "  @keyframes spin {\n",
              "    0% {\n",
              "      border-color: transparent;\n",
              "      border-bottom-color: var(--fill-color);\n",
              "      border-left-color: var(--fill-color);\n",
              "    }\n",
              "    20% {\n",
              "      border-color: transparent;\n",
              "      border-left-color: var(--fill-color);\n",
              "      border-top-color: var(--fill-color);\n",
              "    }\n",
              "    30% {\n",
              "      border-color: transparent;\n",
              "      border-left-color: var(--fill-color);\n",
              "      border-top-color: var(--fill-color);\n",
              "      border-right-color: var(--fill-color);\n",
              "    }\n",
              "    40% {\n",
              "      border-color: transparent;\n",
              "      border-right-color: var(--fill-color);\n",
              "      border-top-color: var(--fill-color);\n",
              "    }\n",
              "    60% {\n",
              "      border-color: transparent;\n",
              "      border-right-color: var(--fill-color);\n",
              "    }\n",
              "    80% {\n",
              "      border-color: transparent;\n",
              "      border-right-color: var(--fill-color);\n",
              "      border-bottom-color: var(--fill-color);\n",
              "    }\n",
              "    90% {\n",
              "      border-color: transparent;\n",
              "      border-bottom-color: var(--fill-color);\n",
              "    }\n",
              "  }\n",
              "</style>\n",
              "\n",
              "      <script>\n",
              "        async function quickchart(key) {\n",
              "          const quickchartButtonEl =\n",
              "            document.querySelector('#' + key + ' button');\n",
              "          quickchartButtonEl.disabled = true;  // To prevent multiple clicks.\n",
              "          quickchartButtonEl.classList.add('colab-df-spinner');\n",
              "          try {\n",
              "            const charts = await google.colab.kernel.invokeFunction(\n",
              "                'suggestCharts', [key], {});\n",
              "          } catch (error) {\n",
              "            console.error('Error during call to suggestCharts:', error);\n",
              "          }\n",
              "          quickchartButtonEl.classList.remove('colab-df-spinner');\n",
              "          quickchartButtonEl.classList.add('colab-df-quickchart-complete');\n",
              "        }\n",
              "        (() => {\n",
              "          let quickchartButtonEl =\n",
              "            document.querySelector('#df-e2142fd0-e8a5-41a3-a33f-c053372044be button');\n",
              "          quickchartButtonEl.style.display =\n",
              "            google.colab.kernel.accessAllowed ? 'block' : 'none';\n",
              "        })();\n",
              "      </script>\n",
              "    </div>\n",
              "\n",
              "    </div>\n",
              "  </div>\n"
            ],
            "application/vnd.google.colaboratory.intrinsic+json": {
              "type": "dataframe",
              "summary": "{\n  \"name\": \"data['iop']\",\n  \"rows\": 5,\n  \"fields\": [\n    {\n      \"column\": \"Source Name\",\n      \"properties\": {\n        \"dtype\": \"string\",\n        \"num_unique_values\": 5,\n        \"samples\": [\n          \"F2\",\n          \"F5\",\n          \"F3\"\n        ],\n        \"semantic_type\": \"\",\n        \"description\": \"\"\n      }\n    },\n    {\n      \"column\": \"Sample Name\",\n      \"properties\": {\n        \"dtype\": \"string\",\n        \"num_unique_values\": 5,\n        \"samples\": [\n          \"F2_Mouse_Eye\",\n          \"F5_Mouse_Eye\",\n          \"F3_Mouse_Eye\"\n        ],\n        \"semantic_type\": \"\",\n        \"description\": \"\"\n      }\n    },\n    {\n      \"column\": \"Factor Value: Spaceflight\",\n      \"properties\": {\n        \"dtype\": \"category\",\n        \"num_unique_values\": 1,\n        \"samples\": [\n          \"Space Flight\"\n        ],\n        \"semantic_type\": \"\",\n        \"description\": \"\"\n      }\n    },\n    {\n      \"column\": \"Left_1\",\n      \"properties\": {\n        \"dtype\": \"number\",\n        \"std\": 1,\n        \"min\": 16,\n        \"max\": 19,\n        \"num_unique_values\": 4,\n        \"samples\": [\n          17\n        ],\n        \"semantic_type\": \"\",\n        \"description\": \"\"\n      }\n    },\n    {\n      \"column\": \"Left_2\",\n      \"properties\": {\n        \"dtype\": \"number\",\n        \"std\": 1,\n        \"min\": 15,\n        \"max\": 18,\n        \"num_unique_values\": 3,\n        \"samples\": [\n          16\n        ],\n        \"semantic_type\": \"\",\n        \"description\": \"\"\n      }\n    },\n    {\n      \"column\": \"Left_3\",\n      \"properties\": {\n        \"dtype\": \"number\",\n        \"std\": 1,\n        \"min\": 15,\n        \"max\": 18,\n        \"num_unique_values\": 3,\n        \"samples\": [\n          18\n        ],\n        \"semantic_type\": \"\",\n        \"description\": \"\"\n      }\n    },\n    {\n      \"column\": \"Avg_Left\",\n      \"properties\": {\n        \"dtype\": \"number\",\n        \"std\": 0.649786291876885,\n        \"min\": 16.33333333,\n        \"max\": 17.66666667,\n        \"num_unique_values\": 3,\n        \"samples\": [\n          17.66666667\n        ],\n        \"semantic_type\": \"\",\n        \"description\": \"\"\n      }\n    },\n    {\n      \"column\": \"Right_1\",\n      \"properties\": {\n        \"dtype\": \"number\",\n        \"std\": 1,\n        \"min\": 14,\n        \"max\": 18,\n        \"num_unique_values\": 4,\n        \"samples\": [\n          16\n        ],\n        \"semantic_type\": \"\",\n        \"description\": \"\"\n      }\n    },\n    {\n      \"column\": \"Right_2\",\n      \"properties\": {\n        \"dtype\": \"number\",\n        \"std\": 1,\n        \"min\": 16,\n        \"max\": 19,\n        \"num_unique_values\": 3,\n        \"samples\": [\n          18\n        ],\n        \"semantic_type\": \"\",\n        \"description\": \"\"\n      }\n    },\n    {\n      \"column\": \"Right_3\",\n      \"properties\": {\n        \"dtype\": \"number\",\n        \"std\": 1,\n        \"min\": 14,\n        \"max\": 17,\n        \"num_unique_values\": 3,\n        \"samples\": [\n          15\n        ],\n        \"semantic_type\": \"\",\n        \"description\": \"\"\n      }\n    },\n    {\n      \"column\": \"Avg_Right\",\n      \"properties\": {\n        \"dtype\": \"number\",\n        \"std\": 1.1642832791512177,\n        \"min\": 14.66666667,\n        \"max\": 17.66666667,\n        \"num_unique_values\": 5,\n        \"samples\": [\n          15.66666667\n        ],\n        \"semantic_type\": \"\",\n        \"description\": \"\"\n      }\n    },\n    {\n      \"column\": \"time_Start\",\n      \"properties\": {\n        \"dtype\": \"object\",\n        \"num_unique_values\": 5,\n        \"samples\": [\n          \"2:55\"\n        ],\n        \"semantic_type\": \"\",\n        \"description\": \"\"\n      }\n    },\n    {\n      \"column\": \"Time_End\",\n      \"properties\": {\n        \"dtype\": \"object\",\n        \"num_unique_values\": 5,\n        \"samples\": [\n          \"2:58\"\n        ],\n        \"semantic_type\": \"\",\n        \"description\": \"\"\n      }\n    }\n  ]\n}"
            }
          },
          "metadata": {},
          "execution_count": 24
        }
      ],
      "source": [
        "data['iop'] = m.read_phenotype_data('583', 'LSDS-16_tonometry_maoTRANSFORMED')\n",
        "print('num samples: ', str(len(list(data['iop']['Sample Name']))))\n",
        "print('samples: ', list(data['iop']['Sample Name']))\n",
        "data['iop'].head()"
      ]
    },
    {
      "cell_type": "markdown",
      "metadata": {
        "id": "4ljH_JI37ZrO"
      },
      "source": [
        "*We will be measuring the difference in distributions of the `Avg_Left` and `Avg_Right` samples measurements between flight and non-flight samples.*"
      ]
    },
    {
      "cell_type": "markdown",
      "metadata": {
        "id": "f0X4e7Md7PKJ"
      },
      "source": [
        "## **Explore the Avg_Left tonometry**\n",
        "\n",
        "Plot a box plot for the Avg_Left field of the tonometry data for ground and spaceflight samples\n"
      ]
    },
    {
      "cell_type": "code",
      "execution_count": null,
      "metadata": {
        "id": "GP1PslRg9y4i",
        "colab": {
          "base_uri": "https://localhost:8080/",
          "height": 579
        },
        "outputId": "a9bae5ac-aa20-4b9e-9db8-e52b025ff0f8"
      },
      "outputs": [
        {
          "output_type": "stream",
          "name": "stdout",
          "text": [
            "field:  Avg_Left\n",
            "excluding samples:  []\n",
            "{'Avg_Left': {'t-test p-value': 0.04627}}\n",
            "n flight =  20\n",
            "n nonflight =  80\n"
          ]
        },
        {
          "output_type": "display_data",
          "data": {
            "text/plain": [
              "<Figure size 640x480 with 1 Axes>"
            ],
            "image/png": "[encoded data removed]"
          },
          "metadata": {}
        }
      ],
      "source": [
        "m.plotbox_and_stats(data_=data['iop'], sample_key = 'Source Name', field='Avg_Left', treatment='Factor Value: Spaceflight', space=\"Space Flight\", exclude_samples=[])"
      ]
    },
    {
      "cell_type": "markdown",
      "metadata": {
        "id": "W0GuGDW17-4o"
      },
      "source": [
        "## **Explore the Avg_Right tonometry**\n",
        "\n",
        "Plot a box plot for the Avg_Right field of the tonometry data for ground and spaceflight samples\n"
      ]
    },
    {
      "cell_type": "code",
      "execution_count": null,
      "metadata": {
        "id": "G6sLFY5hbtTr",
        "colab": {
          "base_uri": "https://localhost:8080/",
          "height": 584
        },
        "outputId": "4f4f10c2-f526-465c-a2ec-9b34279c9e39"
      },
      "outputs": [
        {
          "output_type": "stream",
          "name": "stdout",
          "text": [
            "field:  Avg_Right\n",
            "excluding samples:  []\n",
            "{'Avg_Right': {'t-test p-value': 0.00054}}\n",
            "n flight =  20\n",
            "n nonflight =  80\n"
          ]
        },
        {
          "output_type": "display_data",
          "data": {
            "text/plain": [
              "<Figure size 640x480 with 1 Axes>"
            ],
            "image/png": "[encoded data removed]"
          },
          "metadata": {}
        }
      ],
      "source": [
        "m.plotbox_and_stats(data_=data['iop'], sample_key = 'Source Name', field='Avg_Right', treatment='Factor Value: Spaceflight', space=\"Space Flight\", exclude_samples=[])"
      ]
    },
    {
      "cell_type": "markdown",
      "metadata": {
        "id": "GDoqs9v0Zgkq"
      },
      "source": [
        "**QUESTIONS**\n",
        "\n",
        "1. How many samples are in the flight group and the non-flight group?\n",
        "\n",
        "2. Are the `Avg_Left` and `Avg_Right` distributions comparably dissimilar between flight and non-flight samples?\n",
        "\n",
        "3. How might you use both `Avg_Left` and `Avg_Right` values to create a single metric for machine learning modeling?"
      ]
    },
    {
      "cell_type": "markdown",
      "metadata": {
        "id": "qo4kDh3wC8et"
      },
      "source": [
        "**Double click here to enter your answers to the questions above.**\n",
        "\n",
        "1. 20 flight, 80 non flight\n",
        "\n",
        "2. Avg Right has far stronger distinction, distributions are not equally dissimilar, right eye shows clearer effect of spaceflight.\n",
        "\n",
        "3. Compute avg of both eyes, feature engineer using both as separate features -> compute difference to capture assimetry, or normalize."
      ]
    }
  ],
  "metadata": {
    "colab": {
      "provenance": [],
      "toc_visible": true
    },
    "kernelspec": {
      "display_name": "Python 3",
      "name": "python3"
    },
    "language_info": {
      "name": "python"
    }
  },
  "nbformat": 4,
  "nbformat_minor": 0
}